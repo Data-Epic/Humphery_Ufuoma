{
 "cells": [
  {
   "cell_type": "code",
   "execution_count": 6,
   "id": "eb6d5ef4",
   "metadata": {},
   "outputs": [],
   "source": [
    "import polars as pl\n",
    "import numpy as np\n",
    "import seaborn as sns\n",
    "import warnings\n",
    "warnings.filterwarnings(\"ignore\")\n",
    "import matplotlib.pyplot as plt"
   ]
  },
  {
   "cell_type": "code",
   "execution_count": 7,
   "id": "087b2c67",
   "metadata": {},
   "outputs": [],
   "source": [
    "flight_data = pl.scan_csv(\"flights.csv\")\n",
    "airport_data = pl.scan_csv(\"airports.csv\")\n",
    "airline_data = pl.scan_csv(\"airlines.csv\")"
   ]
  },
  {
   "cell_type": "markdown",
   "id": "ecc36ff5",
   "metadata": {},
   "source": [
    "### Exploratory Data Analysis"
   ]
  },
  {
   "cell_type": "code",
   "execution_count": 5,
   "id": "f02fbd27",
   "metadata": {},
   "outputs": [
    {
     "data": {
      "text/html": [
       "<div><style>\n",
       ".dataframe > thead > tr,\n",
       ".dataframe > tbody > tr {\n",
       "  text-align: right;\n",
       "  white-space: pre-wrap;\n",
       "}\n",
       "</style>\n",
       "<small>shape: (50, 7)</small><table border=\"1\" class=\"dataframe\"><thead><tr><th>IATA_CODE</th><th>AIRPORT</th><th>CITY</th><th>STATE</th><th>COUNTRY</th><th>LATITUDE</th><th>LONGITUDE</th></tr><tr><td>str</td><td>str</td><td>str</td><td>str</td><td>str</td><td>f64</td><td>f64</td></tr></thead><tbody><tr><td>&quot;ABE&quot;</td><td>&quot;Lehigh Valley …</td><td>&quot;Allentown&quot;</td><td>&quot;PA&quot;</td><td>&quot;USA&quot;</td><td>40.65236</td><td>-75.4404</td></tr><tr><td>&quot;ABI&quot;</td><td>&quot;Abilene Region…</td><td>&quot;Abilene&quot;</td><td>&quot;TX&quot;</td><td>&quot;USA&quot;</td><td>32.41132</td><td>-99.6819</td></tr><tr><td>&quot;ABQ&quot;</td><td>&quot;Albuquerque In…</td><td>&quot;Albuquerque&quot;</td><td>&quot;NM&quot;</td><td>&quot;USA&quot;</td><td>35.04022</td><td>-106.60919</td></tr><tr><td>&quot;ABR&quot;</td><td>&quot;Aberdeen Regio…</td><td>&quot;Aberdeen&quot;</td><td>&quot;SD&quot;</td><td>&quot;USA&quot;</td><td>45.44906</td><td>-98.42183</td></tr><tr><td>&quot;ABY&quot;</td><td>&quot;Southwest Geor…</td><td>&quot;Albany&quot;</td><td>&quot;GA&quot;</td><td>&quot;USA&quot;</td><td>31.53552</td><td>-84.19447</td></tr><tr><td>&quot;ACK&quot;</td><td>&quot;Nantucket Memo…</td><td>&quot;Nantucket&quot;</td><td>&quot;MA&quot;</td><td>&quot;USA&quot;</td><td>41.25305</td><td>-70.06018</td></tr><tr><td>&quot;ACT&quot;</td><td>&quot;Waco Regional …</td><td>&quot;Waco&quot;</td><td>&quot;TX&quot;</td><td>&quot;USA&quot;</td><td>31.61129</td><td>-97.23052</td></tr><tr><td>&quot;ACV&quot;</td><td>&quot;Arcata Airport…</td><td>&quot;Arcata/Eureka&quot;</td><td>&quot;CA&quot;</td><td>&quot;USA&quot;</td><td>40.97812</td><td>-124.10862</td></tr><tr><td>&quot;ACY&quot;</td><td>&quot;Atlantic City …</td><td>&quot;Atlantic City&quot;</td><td>&quot;NJ&quot;</td><td>&quot;USA&quot;</td><td>39.45758</td><td>-74.57717</td></tr><tr><td>&quot;ADK&quot;</td><td>&quot;Adak Airport&quot;</td><td>&quot;Adak&quot;</td><td>&quot;AK&quot;</td><td>&quot;USA&quot;</td><td>51.87796</td><td>-176.64603</td></tr><tr><td>&quot;ADQ&quot;</td><td>&quot;Kodiak Airport…</td><td>&quot;Kodiak&quot;</td><td>&quot;AK&quot;</td><td>&quot;USA&quot;</td><td>57.74997</td><td>-152.49386</td></tr><tr><td>&quot;AEX&quot;</td><td>&quot;Alexandria Int…</td><td>&quot;Alexandria&quot;</td><td>&quot;LA&quot;</td><td>&quot;USA&quot;</td><td>31.32737</td><td>-92.54856</td></tr><tr><td>&hellip;</td><td>&hellip;</td><td>&hellip;</td><td>&hellip;</td><td>&hellip;</td><td>&hellip;</td><td>&hellip;</td></tr><tr><td>&quot;BOI&quot;</td><td>&quot;Boise Airport …</td><td>&quot;Boise&quot;</td><td>&quot;ID&quot;</td><td>&quot;USA&quot;</td><td>43.56444</td><td>-116.22278</td></tr><tr><td>&quot;BOS&quot;</td><td>&quot;Gen. Edward La…</td><td>&quot;Boston&quot;</td><td>&quot;MA&quot;</td><td>&quot;USA&quot;</td><td>42.36435</td><td>-71.00518</td></tr><tr><td>&quot;BPT&quot;</td><td>&quot;Jack Brooks Re…</td><td>&quot;Beaumont/Port …</td><td>&quot;TX&quot;</td><td>&quot;USA&quot;</td><td>29.95083</td><td>-94.02069</td></tr><tr><td>&quot;BQK&quot;</td><td>&quot;Brunswick Gold…</td><td>&quot;Brunswick&quot;</td><td>&quot;GA&quot;</td><td>&quot;USA&quot;</td><td>31.25903</td><td>-81.46631</td></tr><tr><td>&quot;BQN&quot;</td><td>&quot;Rafael Hernánd…</td><td>&quot;Aguadilla&quot;</td><td>&quot;PR&quot;</td><td>&quot;USA&quot;</td><td>18.49486</td><td>-67.12944</td></tr><tr><td>&quot;BRD&quot;</td><td>&quot;Brainerd Lakes…</td><td>&quot;Brainerd&quot;</td><td>&quot;MN&quot;</td><td>&quot;USA&quot;</td><td>46.39786</td><td>-94.13723</td></tr><tr><td>&quot;BRO&quot;</td><td>&quot;Brownsville/So…</td><td>&quot;Brownsville&quot;</td><td>&quot;TX&quot;</td><td>&quot;USA&quot;</td><td>25.90683</td><td>-97.42586</td></tr><tr><td>&quot;BRW&quot;</td><td>&quot;Wiley Post-Wil…</td><td>&quot;Barrow&quot;</td><td>&quot;AK&quot;</td><td>&quot;USA&quot;</td><td>71.28545</td><td>-156.766</td></tr><tr><td>&quot;BTM&quot;</td><td>&quot;Bert Mooney Ai…</td><td>&quot;Butte&quot;</td><td>&quot;MT&quot;</td><td>&quot;USA&quot;</td><td>45.9548</td><td>-112.49746</td></tr><tr><td>&quot;BTR&quot;</td><td>&quot;Baton Rouge Me…</td><td>&quot;Baton Rouge&quot;</td><td>&quot;LA&quot;</td><td>&quot;USA&quot;</td><td>30.53316</td><td>-91.14963</td></tr><tr><td>&quot;BTV&quot;</td><td>&quot;Burlington Int…</td><td>&quot;Burlington&quot;</td><td>&quot;VT&quot;</td><td>&quot;USA&quot;</td><td>44.473</td><td>-73.15031</td></tr><tr><td>&quot;BUF&quot;</td><td>&quot;Buffalo Niagar…</td><td>&quot;Buffalo&quot;</td><td>&quot;NY&quot;</td><td>&quot;USA&quot;</td><td>42.94052</td><td>-78.73217</td></tr></tbody></table></div>"
      ],
      "text/plain": [
       "shape: (50, 7)\n",
       "┌───────────┬───────────────────────────────────┬─────────────┬───────┬─────────┬──────────┬────────────┐\n",
       "│ IATA_CODE ┆ AIRPORT                           ┆ CITY        ┆ STATE ┆ COUNTRY ┆ LATITUDE ┆ LONGITUDE  │\n",
       "│ ---       ┆ ---                               ┆ ---         ┆ ---   ┆ ---     ┆ ---      ┆ ---        │\n",
       "│ str       ┆ str                               ┆ str         ┆ str   ┆ str     ┆ f64      ┆ f64        │\n",
       "╞═══════════╪═══════════════════════════════════╪═════════════╪═══════╪═════════╪══════════╪════════════╡\n",
       "│ ABE       ┆ Lehigh Valley International Airp… ┆ Allentown   ┆ PA    ┆ USA     ┆ 40.65236 ┆ -75.4404   │\n",
       "│ ABI       ┆ Abilene Regional Airport          ┆ Abilene     ┆ TX    ┆ USA     ┆ 32.41132 ┆ -99.6819   │\n",
       "│ ABQ       ┆ Albuquerque International Sunpor… ┆ Albuquerque ┆ NM    ┆ USA     ┆ 35.04022 ┆ -106.60919 │\n",
       "│ ABR       ┆ Aberdeen Regional Airport         ┆ Aberdeen    ┆ SD    ┆ USA     ┆ 45.44906 ┆ -98.42183  │\n",
       "│ …         ┆ …                                 ┆ …           ┆ …     ┆ …       ┆ …        ┆ …          │\n",
       "│ BTM       ┆ Bert Mooney Airport               ┆ Butte       ┆ MT    ┆ USA     ┆ 45.9548  ┆ -112.49746 │\n",
       "│ BTR       ┆ Baton Rouge Metropolitan Airport  ┆ Baton Rouge ┆ LA    ┆ USA     ┆ 30.53316 ┆ -91.14963  │\n",
       "│ BTV       ┆ Burlington International Airport  ┆ Burlington  ┆ VT    ┆ USA     ┆ 44.473   ┆ -73.15031  │\n",
       "│ BUF       ┆ Buffalo Niagara International Ai… ┆ Buffalo     ┆ NY    ┆ USA     ┆ 42.94052 ┆ -78.73217  │\n",
       "└───────────┴───────────────────────────────────┴─────────────┴───────┴─────────┴──────────┴────────────┘"
      ]
     },
     "execution_count": 5,
     "metadata": {},
     "output_type": "execute_result"
    }
   ],
   "source": [
    "airport_data.collect()[:50]"
   ]
  },
  {
   "cell_type": "code",
   "execution_count": 3,
   "id": "4c0d363a",
   "metadata": {},
   "outputs": [
    {
     "data": {
      "text/html": [
       "<div><style>\n",
       ".dataframe > thead > tr,\n",
       ".dataframe > tbody > tr {\n",
       "  text-align: right;\n",
       "  white-space: pre-wrap;\n",
       "}\n",
       "</style>\n",
       "<small>shape: (14, 2)</small><table border=\"1\" class=\"dataframe\"><thead><tr><th>IATA_CODE</th><th>AIRLINE</th></tr><tr><td>str</td><td>str</td></tr></thead><tbody><tr><td>&quot;UA&quot;</td><td>&quot;United Air Lin…</td></tr><tr><td>&quot;AA&quot;</td><td>&quot;American Airli…</td></tr><tr><td>&quot;US&quot;</td><td>&quot;US Airways Inc…</td></tr><tr><td>&quot;F9&quot;</td><td>&quot;Frontier Airli…</td></tr><tr><td>&quot;B6&quot;</td><td>&quot;JetBlue Airway…</td></tr><tr><td>&quot;OO&quot;</td><td>&quot;Skywest Airlin…</td></tr><tr><td>&quot;AS&quot;</td><td>&quot;Alaska Airline…</td></tr><tr><td>&quot;NK&quot;</td><td>&quot;Spirit Air Lin…</td></tr><tr><td>&quot;WN&quot;</td><td>&quot;Southwest Airl…</td></tr><tr><td>&quot;DL&quot;</td><td>&quot;Delta Air Line…</td></tr><tr><td>&quot;EV&quot;</td><td>&quot;Atlantic South…</td></tr><tr><td>&quot;HA&quot;</td><td>&quot;Hawaiian Airli…</td></tr><tr><td>&quot;MQ&quot;</td><td>&quot;American Eagle…</td></tr><tr><td>&quot;VX&quot;</td><td>&quot;Virgin America…</td></tr></tbody></table></div>"
      ],
      "text/plain": [
       "shape: (14, 2)\n",
       "┌───────────┬──────────────────────────────┐\n",
       "│ IATA_CODE ┆ AIRLINE                      │\n",
       "│ ---       ┆ ---                          │\n",
       "│ str       ┆ str                          │\n",
       "╞═══════════╪══════════════════════════════╡\n",
       "│ UA        ┆ United Air Lines Inc.        │\n",
       "│ AA        ┆ American Airlines Inc.       │\n",
       "│ US        ┆ US Airways Inc.              │\n",
       "│ F9        ┆ Frontier Airlines Inc.       │\n",
       "│ …         ┆ …                            │\n",
       "│ EV        ┆ Atlantic Southeast Airlines  │\n",
       "│ HA        ┆ Hawaiian Airlines Inc.       │\n",
       "│ MQ        ┆ American Eagle Airlines Inc. │\n",
       "│ VX        ┆ Virgin America               │\n",
       "└───────────┴──────────────────────────────┘"
      ]
     },
     "execution_count": 3,
     "metadata": {},
     "output_type": "execute_result"
    }
   ],
   "source": [
    "airline_data.collect()"
   ]
  },
  {
   "cell_type": "code",
   "execution_count": 5,
   "id": "063d36fb",
   "metadata": {},
   "outputs": [
    {
     "data": {
      "text/html": [
       "<div><style>\n",
       ".dataframe > thead > tr,\n",
       ".dataframe > tbody > tr {\n",
       "  text-align: right;\n",
       "  white-space: pre-wrap;\n",
       "}\n",
       "</style>\n",
       "<small>shape: (5, 31)</small><table border=\"1\" class=\"dataframe\"><thead><tr><th>YEAR</th><th>MONTH</th><th>DAY</th><th>DAY_OF_WEEK</th><th>AIRLINE</th><th>FLIGHT_NUMBER</th><th>TAIL_NUMBER</th><th>ORIGIN_AIRPORT</th><th>DESTINATION_AIRPORT</th><th>SCHEDULED_DEPARTURE</th><th>DEPARTURE_TIME</th><th>DEPARTURE_DELAY</th><th>TAXI_OUT</th><th>WHEELS_OFF</th><th>SCHEDULED_TIME</th><th>ELAPSED_TIME</th><th>AIR_TIME</th><th>DISTANCE</th><th>WHEELS_ON</th><th>TAXI_IN</th><th>SCHEDULED_ARRIVAL</th><th>ARRIVAL_TIME</th><th>ARRIVAL_DELAY</th><th>DIVERTED</th><th>CANCELLED</th><th>CANCELLATION_REASON</th><th>AIR_SYSTEM_DELAY</th><th>SECURITY_DELAY</th><th>AIRLINE_DELAY</th><th>LATE_AIRCRAFT_DELAY</th><th>WEATHER_DELAY</th></tr><tr><td>i64</td><td>i64</td><td>i64</td><td>i64</td><td>str</td><td>i64</td><td>str</td><td>str</td><td>str</td><td>i64</td><td>i64</td><td>i64</td><td>i64</td><td>i64</td><td>i64</td><td>i64</td><td>i64</td><td>i64</td><td>i64</td><td>i64</td><td>i64</td><td>i64</td><td>i64</td><td>i64</td><td>i64</td><td>str</td><td>i64</td><td>i64</td><td>i64</td><td>i64</td><td>i64</td></tr></thead><tbody><tr><td>2015</td><td>1</td><td>1</td><td>4</td><td>&quot;AS&quot;</td><td>98</td><td>&quot;N407AS&quot;</td><td>&quot;ANC&quot;</td><td>&quot;SEA&quot;</td><td>5</td><td>2354</td><td>-11</td><td>21</td><td>15</td><td>205</td><td>194</td><td>169</td><td>1448</td><td>404</td><td>4</td><td>430</td><td>408</td><td>-22</td><td>0</td><td>0</td><td>null</td><td>null</td><td>null</td><td>null</td><td>null</td><td>null</td></tr><tr><td>2015</td><td>1</td><td>1</td><td>4</td><td>&quot;AA&quot;</td><td>2336</td><td>&quot;N3KUAA&quot;</td><td>&quot;LAX&quot;</td><td>&quot;PBI&quot;</td><td>10</td><td>2</td><td>-8</td><td>12</td><td>14</td><td>280</td><td>279</td><td>263</td><td>2330</td><td>737</td><td>4</td><td>750</td><td>741</td><td>-9</td><td>0</td><td>0</td><td>null</td><td>null</td><td>null</td><td>null</td><td>null</td><td>null</td></tr><tr><td>2015</td><td>1</td><td>1</td><td>4</td><td>&quot;US&quot;</td><td>840</td><td>&quot;N171US&quot;</td><td>&quot;SFO&quot;</td><td>&quot;CLT&quot;</td><td>20</td><td>18</td><td>-2</td><td>16</td><td>34</td><td>286</td><td>293</td><td>266</td><td>2296</td><td>800</td><td>11</td><td>806</td><td>811</td><td>5</td><td>0</td><td>0</td><td>null</td><td>null</td><td>null</td><td>null</td><td>null</td><td>null</td></tr><tr><td>2015</td><td>1</td><td>1</td><td>4</td><td>&quot;AA&quot;</td><td>258</td><td>&quot;N3HYAA&quot;</td><td>&quot;LAX&quot;</td><td>&quot;MIA&quot;</td><td>20</td><td>15</td><td>-5</td><td>15</td><td>30</td><td>285</td><td>281</td><td>258</td><td>2342</td><td>748</td><td>8</td><td>805</td><td>756</td><td>-9</td><td>0</td><td>0</td><td>null</td><td>null</td><td>null</td><td>null</td><td>null</td><td>null</td></tr><tr><td>2015</td><td>1</td><td>1</td><td>4</td><td>&quot;AS&quot;</td><td>135</td><td>&quot;N527AS&quot;</td><td>&quot;SEA&quot;</td><td>&quot;ANC&quot;</td><td>25</td><td>24</td><td>-1</td><td>11</td><td>35</td><td>235</td><td>215</td><td>199</td><td>1448</td><td>254</td><td>5</td><td>320</td><td>259</td><td>-21</td><td>0</td><td>0</td><td>null</td><td>null</td><td>null</td><td>null</td><td>null</td><td>null</td></tr></tbody></table></div>"
      ],
      "text/plain": [
       "shape: (5, 31)\n",
       "┌──────┬───────┬─────┬─────────────┬───┬────────────────┬───────────────┬─────────────────────┬───────────────┐\n",
       "│ YEAR ┆ MONTH ┆ DAY ┆ DAY_OF_WEEK ┆ … ┆ SECURITY_DELAY ┆ AIRLINE_DELAY ┆ LATE_AIRCRAFT_DELAY ┆ WEATHER_DELAY │\n",
       "│ ---  ┆ ---   ┆ --- ┆ ---         ┆   ┆ ---            ┆ ---           ┆ ---                 ┆ ---           │\n",
       "│ i64  ┆ i64   ┆ i64 ┆ i64         ┆   ┆ i64            ┆ i64           ┆ i64                 ┆ i64           │\n",
       "╞══════╪═══════╪═════╪═════════════╪═══╪════════════════╪═══════════════╪═════════════════════╪═══════════════╡\n",
       "│ 2015 ┆ 1     ┆ 1   ┆ 4           ┆ … ┆ null           ┆ null          ┆ null                ┆ null          │\n",
       "│ 2015 ┆ 1     ┆ 1   ┆ 4           ┆ … ┆ null           ┆ null          ┆ null                ┆ null          │\n",
       "│ 2015 ┆ 1     ┆ 1   ┆ 4           ┆ … ┆ null           ┆ null          ┆ null                ┆ null          │\n",
       "│ 2015 ┆ 1     ┆ 1   ┆ 4           ┆ … ┆ null           ┆ null          ┆ null                ┆ null          │\n",
       "│ 2015 ┆ 1     ┆ 1   ┆ 4           ┆ … ┆ null           ┆ null          ┆ null                ┆ null          │\n",
       "└──────┴───────┴─────┴─────────────┴───┴────────────────┴───────────────┴─────────────────────┴───────────────┘"
      ]
     },
     "execution_count": 5,
     "metadata": {},
     "output_type": "execute_result"
    }
   ],
   "source": [
    "flight_data.collect().head()"
   ]
  },
  {
   "cell_type": "code",
   "execution_count": 7,
   "id": "90060909",
   "metadata": {},
   "outputs": [
    {
     "data": {
      "text/plain": [
       "OrderedDict([('YEAR', Int64),\n",
       "             ('MONTH', Int64),\n",
       "             ('DAY', Int64),\n",
       "             ('DAY_OF_WEEK', Int64),\n",
       "             ('AIRLINE', String),\n",
       "             ('FLIGHT_NUMBER', Int64),\n",
       "             ('TAIL_NUMBER', String),\n",
       "             ('ORIGIN_AIRPORT', String),\n",
       "             ('DESTINATION_AIRPORT', String),\n",
       "             ('SCHEDULED_DEPARTURE', Int64),\n",
       "             ('DEPARTURE_TIME', Int64),\n",
       "             ('DEPARTURE_DELAY', Int64),\n",
       "             ('TAXI_OUT', Int64),\n",
       "             ('WHEELS_OFF', Int64),\n",
       "             ('SCHEDULED_TIME', Int64),\n",
       "             ('ELAPSED_TIME', Int64),\n",
       "             ('AIR_TIME', Int64),\n",
       "             ('DISTANCE', Int64),\n",
       "             ('WHEELS_ON', Int64),\n",
       "             ('TAXI_IN', Int64),\n",
       "             ('SCHEDULED_ARRIVAL', Int64),\n",
       "             ('ARRIVAL_TIME', Int64),\n",
       "             ('ARRIVAL_DELAY', Int64),\n",
       "             ('DIVERTED', Int64),\n",
       "             ('CANCELLED', Int64),\n",
       "             ('CANCELLATION_REASON', String),\n",
       "             ('AIR_SYSTEM_DELAY', Int64),\n",
       "             ('SECURITY_DELAY', Int64),\n",
       "             ('AIRLINE_DELAY', Int64),\n",
       "             ('LATE_AIRCRAFT_DELAY', Int64),\n",
       "             ('WEATHER_DELAY', Int64)])"
      ]
     },
     "execution_count": 7,
     "metadata": {},
     "output_type": "execute_result"
    }
   ],
   "source": [
    "flight_data.schema"
   ]
  },
  {
   "cell_type": "code",
   "execution_count": 8,
   "id": "3aa5c061",
   "metadata": {},
   "outputs": [],
   "source": [
    "flight_df = flight_data.collect()"
   ]
  },
  {
   "cell_type": "code",
   "execution_count": 51,
   "id": "86a42ab1",
   "metadata": {},
   "outputs": [
    {
     "data": {
      "text/plain": [
       "array([      0,       0,       0,       0,       0,       0,   14721,\n",
       "             0,       0,       0,   86153,   86153,   89047,   89047,\n",
       "             6,  105071,  105071,       0,   92513,   92513,       0,\n",
       "         92513,  105071,       0,       0, 5729195, 4755640, 4755640,\n",
       "       4755640, 4755640, 4755640], dtype=uint32)"
      ]
     },
     "execution_count": 51,
     "metadata": {},
     "output_type": "execute_result"
    }
   ],
   "source": [
    "flight_df.null_count().to_numpy().reshape(-1)"
   ]
  },
  {
   "cell_type": "code",
   "execution_count": 100,
   "id": "ac0dea9f",
   "metadata": {},
   "outputs": [
    {
     "data": {
      "image/png": "[encoded data removed]",
      "text/plain": [
       "<Figure size 864x720 with 1 Axes>"
      ]
     },
     "metadata": {
      "needs_background": "light"
     },
     "output_type": "display_data"
    }
   ],
   "source": [
    "plt.figure(figsize=(12,10))\n",
    "\n",
    "plt.bar([col for col in flight_df.columns],flight_df.null_count().to_numpy().reshape(-1),color='k')\n",
    "plt.xticks(rotation=90)\n",
    "plt.tight_layout()\n",
    "\n",
    "plt.show()"
   ]
  },
  {
   "cell_type": "code",
   "execution_count": 83,
   "id": "ae75eb6b",
   "metadata": {},
   "outputs": [
    {
     "data": {
      "text/plain": [
       "array([[ 0.  ,  0.  ,  0.  ,  0.  ,  0.  ,  0.  ,  0.25,  0.  ,  0.  ,\n",
       "         0.  ,  1.48,  1.48,  1.53,  1.53,  0.  ,  1.81,  1.81,  0.  ,\n",
       "         1.59,  1.59,  0.  ,  1.59,  1.81,  0.  ,  0.  , 98.46, 81.72,\n",
       "        81.72, 81.72, 81.72, 81.72]])"
      ]
     },
     "execution_count": 83,
     "metadata": {},
     "output_type": "execute_result"
    }
   ],
   "source": [
    "np.round(flight_df.null_count().select((pl.col('*')/5819079) *100).to_numpy(),2)"
   ]
  },
  {
   "cell_type": "code",
   "execution_count": 109,
   "id": "14c97823",
   "metadata": {},
   "outputs": [
    {
     "data": {
      "image/png": "[encoded data removed]",
      "text/plain": [
       "<Figure size 864x720 with 1 Axes>"
      ]
     },
     "metadata": {
      "needs_background": "light"
     },
     "output_type": "display_data"
    }
   ],
   "source": [
    "plt.figure(figsize=(12,10))\n",
    "\n",
    "plt.barh([col for col in flight_df.columns],flight_df.null_count().select((pl.col('*')/5819079) *100).to_numpy().reshape(-1),color='k')\n",
    "plt.xticks(rotation=90)\n",
    "plt.tight_layout()\n",
    "\n",
    "# Add labels to the bars\n",
    "for i, value in enumerate(np.round(flight_df.null_count().select((pl.col('*')/5819079) *100).to_numpy(),2).reshape(-1)):\n",
    "    plt.text(value+0.9, i, str(value), rotation=0)\n",
    "\n",
    "plt.show()"
   ]
  },
  {
   "cell_type": "code",
   "execution_count": 7,
   "id": "42a03bf1",
   "metadata": {},
   "outputs": [],
   "source": [
    "columns_high_null = ['WEATHER_DELAY','LATE_AIRCRAFT_DELAY','AIRLINE_DELAY','SECURITY_DELAY','AIR_SYSTEM_DELAY','CANCELLATION_REASON']\n",
    "\n",
    "flight_df_ = flight_df.with_columns(pl.col(columns_high_null).fill_null(0))"
   ]
  },
  {
   "cell_type": "markdown",
   "id": "c5aec5dc",
   "metadata": {},
   "source": [
    "NaN columns are filled with 0, they were not dropped cause the NaN values are Missing at Random, meaning their missing values were due to the fact another feature was present or absent"
   ]
  },
  {
   "cell_type": "code",
   "execution_count": 140,
   "id": "6d1c8ab1",
   "metadata": {},
   "outputs": [
    {
     "data": {
      "text/html": [
       "<div><style>\n",
       ".dataframe > thead > tr,\n",
       ".dataframe > tbody > tr {\n",
       "  text-align: right;\n",
       "  white-space: pre-wrap;\n",
       "}\n",
       "</style>\n",
       "<small>shape: (2, 2)</small><table border=\"1\" class=\"dataframe\"><thead><tr><th>CANCELLED</th><th>count</th></tr><tr><td>i64</td><td>u32</td></tr></thead><tbody><tr><td>1</td><td>89884</td></tr><tr><td>0</td><td>5729195</td></tr></tbody></table></div>"
      ],
      "text/plain": [
       "shape: (2, 2)\n",
       "┌───────────┬─────────┐\n",
       "│ CANCELLED ┆ count   │\n",
       "│ ---       ┆ ---     │\n",
       "│ i64       ┆ u32     │\n",
       "╞═══════════╪═════════╡\n",
       "│ 1         ┆ 89884   │\n",
       "│ 0         ┆ 5729195 │\n",
       "└───────────┴─────────┘"
      ]
     },
     "execution_count": 140,
     "metadata": {},
     "output_type": "execute_result"
    }
   ],
   "source": [
    "flight_df['CANCELLED'].value_counts()"
   ]
  },
  {
   "cell_type": "code",
   "execution_count": 143,
   "id": "19d11fff",
   "metadata": {},
   "outputs": [
    {
     "name": "stdout",
     "output_type": "stream",
     "text": [
      "YEAR unique values: shape: (1, 1)\n",
      "┌──────┐\n",
      "│ YEAR │\n",
      "│ ---  │\n",
      "│ i64  │\n",
      "╞══════╡\n",
      "│ 2015 │\n",
      "└──────┘\n",
      "MONTH unique values: shape: (12, 1)\n",
      "┌───────┐\n",
      "│ MONTH │\n",
      "│ ---   │\n",
      "│ i64   │\n",
      "╞═══════╡\n",
      "│ 1     │\n",
      "│ 2     │\n",
      "│ 3     │\n",
      "│ 4     │\n",
      "│ …     │\n",
      "│ 9     │\n",
      "│ 10    │\n",
      "│ 11    │\n",
      "│ 12    │\n",
      "└───────┘\n",
      "DAY unique values: shape: (31, 1)\n",
      "┌─────┐\n",
      "│ DAY │\n",
      "│ --- │\n",
      "│ i64 │\n",
      "╞═════╡\n",
      "│ 1   │\n",
      "│ 2   │\n",
      "│ 3   │\n",
      "│ 4   │\n",
      "│ …   │\n",
      "│ 28  │\n",
      "│ 29  │\n",
      "│ 30  │\n",
      "│ 31  │\n",
      "└─────┘\n",
      "DAY_OF_WEEK unique values: shape: (7, 1)\n",
      "┌─────────────┐\n",
      "│ DAY_OF_WEEK │\n",
      "│ ---         │\n",
      "│ i64         │\n",
      "╞═════════════╡\n",
      "│ 4           │\n",
      "│ 5           │\n",
      "│ 6           │\n",
      "│ 7           │\n",
      "│ 1           │\n",
      "│ 2           │\n",
      "│ 3           │\n",
      "└─────────────┘\n",
      "AIRLINE unique values: shape: (14, 1)\n",
      "┌─────────┐\n",
      "│ AIRLINE │\n",
      "│ ---     │\n",
      "│ str     │\n",
      "╞═════════╡\n",
      "│ AS      │\n",
      "│ AA      │\n",
      "│ US      │\n",
      "│ DL      │\n",
      "│ …       │\n",
      "│ MQ      │\n",
      "│ F9      │\n",
      "│ WN      │\n",
      "│ VX      │\n",
      "└─────────┘\n",
      "FLIGHT_NUMBER unique values: shape: (6_952, 1)\n",
      "┌───────────────┐\n",
      "│ FLIGHT_NUMBER │\n",
      "│ ---           │\n",
      "│ i64           │\n",
      "╞═══════════════╡\n",
      "│ 98            │\n",
      "│ 2336          │\n",
      "│ 840           │\n",
      "│ 258           │\n",
      "│ …             │\n",
      "│ 6828          │\n",
      "│ 6777          │\n",
      "│ 6895          │\n",
      "│ 6887          │\n",
      "└───────────────┘\n",
      "TAIL_NUMBER unique values: shape: (4_898, 1)\n",
      "┌─────────────┐\n",
      "│ TAIL_NUMBER │\n",
      "│ ---         │\n",
      "│ str         │\n",
      "╞═════════════╡\n",
      "│ N407AS      │\n",
      "│ N3KUAA      │\n",
      "│ N171US      │\n",
      "│ N3HYAA      │\n",
      "│ …           │\n",
      "│ N7LUAA      │\n",
      "│ N7LEAA      │\n",
      "│ N850DN      │\n",
      "│ N8676A      │\n",
      "└─────────────┘\n",
      "ORIGIN_AIRPORT unique values: shape: (628, 1)\n",
      "┌────────────────┐\n",
      "│ ORIGIN_AIRPORT │\n",
      "│ ---            │\n",
      "│ str            │\n",
      "╞════════════════╡\n",
      "│ ANC            │\n",
      "│ LAX            │\n",
      "│ SFO            │\n",
      "│ SEA            │\n",
      "│ …              │\n",
      "│ 12265          │\n",
      "│ 14222          │\n",
      "│ 14025          │\n",
      "│ 13502          │\n",
      "└────────────────┘\n",
      "DESTINATION_AIRPORT unique values: shape: (629, 1)\n",
      "┌─────────────────────┐\n",
      "│ DESTINATION_AIRPORT │\n",
      "│ ---                 │\n",
      "│ str                 │\n",
      "╞═════════════════════╡\n",
      "│ SEA                 │\n",
      "│ PBI                 │\n",
      "│ CLT                 │\n",
      "│ MIA                 │\n",
      "│ …                   │\n",
      "│ 14222               │\n",
      "│ 14025               │\n",
      "│ 13502               │\n",
      "│ 10666               │\n",
      "└─────────────────────┘\n",
      "SCHEDULED_DEPARTURE unique values: shape: (1_321, 1)\n",
      "┌─────────────────────┐\n",
      "│ SCHEDULED_DEPARTURE │\n",
      "│ ---                 │\n",
      "│ i64                 │\n",
      "╞═════════════════════╡\n",
      "│ 5                   │\n",
      "│ 10                  │\n",
      "│ 20                  │\n",
      "│ 25                  │\n",
      "│ …                   │\n",
      "│ 316                 │\n",
      "│ 421                 │\n",
      "│ 337                 │\n",
      "│ 409                 │\n",
      "└─────────────────────┘\n",
      "DEPARTURE_TIME unique values: shape: (1_441, 1)\n",
      "┌────────────────┐\n",
      "│ DEPARTURE_TIME │\n",
      "│ ---            │\n",
      "│ i64            │\n",
      "╞════════════════╡\n",
      "│ 2354           │\n",
      "│ 2              │\n",
      "│ 18             │\n",
      "│ 15             │\n",
      "│ …              │\n",
      "│ 443            │\n",
      "│ 346            │\n",
      "│ 403            │\n",
      "│ 354            │\n",
      "└────────────────┘\n",
      "DEPARTURE_DELAY unique values: shape: (1_217, 1)\n",
      "┌─────────────────┐\n",
      "│ DEPARTURE_DELAY │\n",
      "│ ---             │\n",
      "│ i64             │\n",
      "╞═════════════════╡\n",
      "│ -11             │\n",
      "│ -8              │\n",
      "│ -2              │\n",
      "│ -5              │\n",
      "│ …               │\n",
      "│ 1378            │\n",
      "│ 888             │\n",
      "│ 1194            │\n",
      "│ 1649            │\n",
      "└─────────────────┘\n",
      "TAXI_OUT unique values: shape: (185, 1)\n",
      "┌──────────┐\n",
      "│ TAXI_OUT │\n",
      "│ ---      │\n",
      "│ i64      │\n",
      "╞══════════╡\n",
      "│ 21       │\n",
      "│ 12       │\n",
      "│ 16       │\n",
      "│ 15       │\n",
      "│ …        │\n",
      "│ 157      │\n",
      "│ 173      │\n",
      "│ 172      │\n",
      "│ 163      │\n",
      "└──────────┘\n",
      "WHEELS_OFF unique values: shape: (1_441, 1)\n",
      "┌────────────┐\n",
      "│ WHEELS_OFF │\n",
      "│ ---        │\n",
      "│ i64        │\n",
      "╞════════════╡\n",
      "│ 15         │\n",
      "│ 14         │\n",
      "│ 34         │\n",
      "│ 30         │\n",
      "│ …          │\n",
      "│ 351        │\n",
      "│ 356        │\n",
      "│ 346        │\n",
      "│ 407        │\n",
      "└────────────┘\n",
      "SCHEDULED_TIME unique values: shape: (551, 1)\n",
      "┌────────────────┐\n",
      "│ SCHEDULED_TIME │\n",
      "│ ---            │\n",
      "│ i64            │\n",
      "╞════════════════╡\n",
      "│ 205            │\n",
      "│ 280            │\n",
      "│ 286            │\n",
      "│ 285            │\n",
      "│ …              │\n",
      "│ 646            │\n",
      "│ 683            │\n",
      "│ 456            │\n",
      "│ 705            │\n",
      "└────────────────┘\n",
      "ELAPSED_TIME unique values: shape: (713, 1)\n",
      "┌──────────────┐\n",
      "│ ELAPSED_TIME │\n",
      "│ ---          │\n",
      "│ i64          │\n",
      "╞══════════════╡\n",
      "│ 194          │\n",
      "│ 279          │\n",
      "│ 293          │\n",
      "│ 281          │\n",
      "│ …            │\n",
      "│ 692          │\n",
      "│ 730          │\n",
      "│ 693          │\n",
      "│ 721          │\n",
      "└──────────────┘\n",
      "AIR_TIME unique values: shape: (676, 1)\n",
      "┌──────────┐\n",
      "│ AIR_TIME │\n",
      "│ ---      │\n",
      "│ i64      │\n",
      "╞══════════╡\n",
      "│ 169      │\n",
      "│ 263      │\n",
      "│ 266      │\n",
      "│ 258      │\n",
      "│ …        │\n",
      "│ 651      │\n",
      "│ 678      │\n",
      "│ 674      │\n",
      "│ 672      │\n",
      "└──────────┘\n",
      "DISTANCE unique values: shape: (1_363, 1)\n",
      "┌──────────┐\n",
      "│ DISTANCE │\n",
      "│ ---      │\n",
      "│ i64      │\n",
      "╞══════════╡\n",
      "│ 1448     │\n",
      "│ 2330     │\n",
      "│ 2296     │\n",
      "│ 2342     │\n",
      "│ …        │\n",
      "│ 279      │\n",
      "│ 876      │\n",
      "│ 1100     │\n",
      "│ 1672     │\n",
      "└──────────┘\n",
      "WHEELS_ON unique values: shape: (1_441, 1)\n",
      "┌───────────┐\n",
      "│ WHEELS_ON │\n",
      "│ ---       │\n",
      "│ i64       │\n",
      "╞═══════════╡\n",
      "│ 404       │\n",
      "│ 737       │\n",
      "│ 800       │\n",
      "│ 748       │\n",
      "│ …         │\n",
      "│ 301       │\n",
      "│ 318       │\n",
      "│ 324       │\n",
      "│ 322       │\n",
      "└───────────┘\n",
      "TAXI_IN unique values: shape: (186, 1)\n",
      "┌─────────┐\n",
      "│ TAXI_IN │\n",
      "│ ---     │\n",
      "│ i64     │\n",
      "╞═════════╡\n",
      "│ 4       │\n",
      "│ 11      │\n",
      "│ 8       │\n",
      "│ 5       │\n",
      "│ …       │\n",
      "│ 161     │\n",
      "│ 171     │\n",
      "│ 165     │\n",
      "│ 248     │\n",
      "└─────────┘\n",
      "SCHEDULED_ARRIVAL unique values: shape: (1_435, 1)\n",
      "┌───────────────────┐\n",
      "│ SCHEDULED_ARRIVAL │\n",
      "│ ---               │\n",
      "│ i64               │\n",
      "╞═══════════════════╡\n",
      "│ 430               │\n",
      "│ 750               │\n",
      "│ 806               │\n",
      "│ 805               │\n",
      "│ …                 │\n",
      "│ 327               │\n",
      "│ 324               │\n",
      "│ 332               │\n",
      "│ 241               │\n",
      "└───────────────────┘\n",
      "ARRIVAL_TIME unique values: shape: (1_441, 1)\n",
      "┌──────────────┐\n",
      "│ ARRIVAL_TIME │\n",
      "│ ---          │\n",
      "│ i64          │\n",
      "╞══════════════╡\n",
      "│ 408          │\n",
      "│ 741          │\n",
      "│ 811          │\n",
      "│ 756          │\n",
      "│ …            │\n",
      "│ 418          │\n",
      "│ 328          │\n",
      "│ 317          │\n",
      "│ 357          │\n",
      "└──────────────┘\n",
      "ARRIVAL_DELAY unique values: shape: (1_240, 1)\n",
      "┌───────────────┐\n",
      "│ ARRIVAL_DELAY │\n",
      "│ ---           │\n",
      "│ i64           │\n",
      "╞═══════════════╡\n",
      "│ -22           │\n",
      "│ -9            │\n",
      "│ 5             │\n",
      "│ -21           │\n",
      "│ …             │\n",
      "│ 1265          │\n",
      "│ 1115          │\n",
      "│ 1372          │\n",
      "│ 1076          │\n",
      "└───────────────┘\n",
      "DIVERTED unique values: shape: (2, 1)\n",
      "┌──────────┐\n",
      "│ DIVERTED │\n",
      "│ ---      │\n",
      "│ i64      │\n",
      "╞══════════╡\n",
      "│ 0        │\n",
      "│ 1        │\n",
      "└──────────┘\n",
      "CANCELLED unique values: shape: (2, 1)\n",
      "┌───────────┐\n",
      "│ CANCELLED │\n",
      "│ ---       │\n",
      "│ i64       │\n",
      "╞═══════════╡\n",
      "│ 0         │\n",
      "│ 1         │\n",
      "└───────────┘\n",
      "CANCELLATION_REASON unique values: shape: (5, 1)\n",
      "┌─────────────────────┐\n",
      "│ CANCELLATION_REASON │\n",
      "│ ---                 │\n",
      "│ str                 │\n",
      "╞═════════════════════╡\n",
      "│ 0                   │\n",
      "│ A                   │\n",
      "│ B                   │\n",
      "│ C                   │\n",
      "│ D                   │\n",
      "└─────────────────────┘\n",
      "AIR_SYSTEM_DELAY unique values: shape: (570, 1)\n",
      "┌──────────────────┐\n",
      "│ AIR_SYSTEM_DELAY │\n",
      "│ ---              │\n",
      "│ i64              │\n",
      "╞══════════════════╡\n",
      "│ 0                │\n",
      "│ 25               │\n",
      "│ 43               │\n",
      "│ 20               │\n",
      "│ …                │\n",
      "│ 462              │\n",
      "│ 545              │\n",
      "│ 450              │\n",
      "│ 477              │\n",
      "└──────────────────┘\n",
      "SECURITY_DELAY unique values: shape: (154, 1)\n",
      "┌────────────────┐\n",
      "│ SECURITY_DELAY │\n",
      "│ ---            │\n",
      "│ i64            │\n",
      "╞════════════════╡\n",
      "│ 0              │\n",
      "│ 46             │\n",
      "│ 107            │\n",
      "│ 11             │\n",
      "│ …              │\n",
      "│ 87             │\n",
      "│ 364            │\n",
      "│ 144            │\n",
      "│ 105            │\n",
      "└────────────────┘\n",
      "AIRLINE_DELAY unique values: shape: (1_067, 1)\n",
      "┌───────────────┐\n",
      "│ AIRLINE_DELAY │\n",
      "│ ---           │\n",
      "│ i64           │\n",
      "╞═══════════════╡\n",
      "│ 0             │\n",
      "│ 15            │\n",
      "│ 85            │\n",
      "│ 72            │\n",
      "│ …             │\n",
      "│ 752           │\n",
      "│ 879           │\n",
      "│ 1185          │\n",
      "│ 1636          │\n",
      "└───────────────┘\n",
      "LATE_AIRCRAFT_DELAY unique values: shape: (695, 1)\n",
      "┌─────────────────────┐\n",
      "│ LATE_AIRCRAFT_DELAY │\n",
      "│ ---                 │\n",
      "│ i64                 │\n",
      "╞═════════════════════╡\n",
      "│ 0                   │\n",
      "│ 88                  │\n",
      "│ 31                  │\n",
      "│ 306                 │\n",
      "│ …                   │\n",
      "│ 751                 │\n",
      "│ 605                 │\n",
      "│ 904                 │\n",
      "│ 558                 │\n",
      "└─────────────────────┘\n",
      "WEATHER_DELAY unique values: shape: (632, 1)\n",
      "┌───────────────┐\n",
      "│ WEATHER_DELAY │\n",
      "│ ---           │\n",
      "│ i64           │\n",
      "╞═══════════════╡\n",
      "│ 0             │\n",
      "│ 102           │\n",
      "│ 128           │\n",
      "│ 213           │\n",
      "│ …             │\n",
      "│ 566           │\n",
      "│ 435           │\n",
      "│ 506           │\n",
      "│ 793           │\n",
      "└───────────────┘\n"
     ]
    }
   ],
   "source": [
    "for col in flight_df_.columns:\n",
    "    print(f'{col} unique values: {flight_df_.select(pl.col(col)).unique(maintain_order=True)}')"
   ]
  },
  {
   "cell_type": "code",
   "execution_count": 4,
   "id": "c447edbb",
   "metadata": {},
   "outputs": [],
   "source": [
    "flight_df_ = flight_df"
   ]
  },
  {
   "cell_type": "code",
   "execution_count": 5,
   "id": "425d59ce",
   "metadata": {},
   "outputs": [],
   "source": [
    "cols = flight_df_.columns\n",
    "numerical_cols = [col for col in cols if flight_df_[col].dtype in [pl.Float64, pl.Int64]]\n",
    "categorical_cols = [col for col in cols if flight_df_[col].dtype in [pl.String]]"
   ]
  },
  {
   "cell_type": "code",
   "execution_count": 147,
   "id": "51161dbb",
   "metadata": {},
   "outputs": [
    {
     "name": "stdout",
     "output_type": "stream",
     "text": [
      "OrderedDict([('IATA_CODE', String), ('AIRLINE', String)])\n",
      "OrderedDict([('IATA_CODE', String), ('AIRPORT', String), ('CITY', String), ('STATE', String), ('COUNTRY', String), ('LATITUDE', Float64), ('LONGITUDE', Float64)])\n"
     ]
    }
   ],
   "source": [
    "# print(airline_data.schema)\n",
    "# print(airport_data.schema)\n",
    "\n",
    "# airline_airport = airport_data.collect().join(airline_data.collect(),on='IATA_CODE',how='left')\n",
    "# airport_data.collect()\n",
    "# airline_airport\n",
    "\n",
    "# df_missing = (\n",
    "#     airport_data.collect()\n",
    "#     .filter(\n",
    "#         pl.any_horizontal(pl.all().is_null())\n",
    "#     )\n",
    "# )\n",
    "\n",
    "# columns_with_null = [col for col in df.columns if flight_df[col].null_count() > 0]\n",
    "# flight_df.select(pl.col(columns_with_null))"
   ]
  },
  {
   "cell_type": "code",
   "execution_count": 54,
   "id": "7a113bfd",
   "metadata": {},
   "outputs": [
    {
     "data": {
      "text/html": [
       "<div><style>\n",
       ".dataframe > thead > tr,\n",
       ".dataframe > tbody > tr {\n",
       "  text-align: right;\n",
       "  white-space: pre-wrap;\n",
       "}\n",
       "</style>\n",
       "<small>shape: (9, 27)</small><table border=\"1\" class=\"dataframe\"><thead><tr><th>describe</th><th>YEAR</th><th>MONTH</th><th>DAY</th><th>DAY_OF_WEEK</th><th>FLIGHT_NUMBER</th><th>SCHEDULED_DEPARTURE</th><th>DEPARTURE_TIME</th><th>DEPARTURE_DELAY</th><th>TAXI_OUT</th><th>WHEELS_OFF</th><th>SCHEDULED_TIME</th><th>ELAPSED_TIME</th><th>AIR_TIME</th><th>DISTANCE</th><th>WHEELS_ON</th><th>TAXI_IN</th><th>SCHEDULED_ARRIVAL</th><th>ARRIVAL_TIME</th><th>ARRIVAL_DELAY</th><th>DIVERTED</th><th>CANCELLED</th><th>AIR_SYSTEM_DELAY</th><th>SECURITY_DELAY</th><th>AIRLINE_DELAY</th><th>LATE_AIRCRAFT_DELAY</th><th>WEATHER_DELAY</th></tr><tr><td>str</td><td>f64</td><td>f64</td><td>f64</td><td>f64</td><td>f64</td><td>f64</td><td>f64</td><td>f64</td><td>f64</td><td>f64</td><td>f64</td><td>f64</td><td>f64</td><td>f64</td><td>f64</td><td>f64</td><td>f64</td><td>f64</td><td>f64</td><td>f64</td><td>f64</td><td>f64</td><td>f64</td><td>f64</td><td>f64</td><td>f64</td></tr></thead><tbody><tr><td>&quot;count&quot;</td><td>5.819079e6</td><td>5.819079e6</td><td>5.819079e6</td><td>5.819079e6</td><td>5.819079e6</td><td>5.819079e6</td><td>5.819079e6</td><td>5.819079e6</td><td>5.819079e6</td><td>5.819079e6</td><td>5.819079e6</td><td>5.819079e6</td><td>5.819079e6</td><td>5.819079e6</td><td>5.819079e6</td><td>5.819079e6</td><td>5.819079e6</td><td>5.819079e6</td><td>5.819079e6</td><td>5.819079e6</td><td>5.819079e6</td><td>5.819079e6</td><td>5.819079e6</td><td>5.819079e6</td><td>5.819079e6</td><td>5.819079e6</td></tr><tr><td>&quot;null_count&quot;</td><td>0.0</td><td>0.0</td><td>0.0</td><td>0.0</td><td>0.0</td><td>0.0</td><td>0.0</td><td>0.0</td><td>0.0</td><td>0.0</td><td>0.0</td><td>0.0</td><td>0.0</td><td>0.0</td><td>0.0</td><td>0.0</td><td>0.0</td><td>0.0</td><td>0.0</td><td>0.0</td><td>0.0</td><td>0.0</td><td>0.0</td><td>0.0</td><td>0.0</td><td>0.0</td></tr><tr><td>&quot;mean&quot;</td><td>2015.0</td><td>6.524085</td><td>15.704594</td><td>3.926941</td><td>2173.092742</td><td>1329.60247</td><td>1315.436385</td><td>9.231431</td><td>15.825724</td><td>1336.402608</td><td>141.685745</td><td>134.532365</td><td>111.462029</td><td>822.356495</td><td>1448.074877</td><td>7.316768</td><td>1493.808249</td><td>1453.017606</td><td>4.327482</td><td>0.00261</td><td>0.015446</td><td>2.463579</td><td>0.013917</td><td>3.466692</td><td>4.28967</td><td>0.53277</td></tr><tr><td>&quot;std&quot;</td><td>0.0</td><td>3.405137</td><td>8.783425</td><td>1.988845</td><td>1757.063999</td><td>483.751821</td><td>518.450696</td><td>36.822816</td><td>9.045025</td><td>521.510113</td><td>75.210681</td><td>75.767087</td><td>73.154215</td><td>607.784287</td><td>549.746305</td><td>5.670329</td><td>507.164696</td><td>553.81946</td><td>38.919559</td><td>0.05102</td><td>0.12332</td><td>13.055845</td><td>0.916786</td><td>21.854996</td><td>20.574213</td><td>8.807465</td></tr><tr><td>&quot;min&quot;</td><td>2015.0</td><td>1.0</td><td>1.0</td><td>1.0</td><td>1.0</td><td>1.0</td><td>0.0</td><td>-82.0</td><td>0.0</td><td>0.0</td><td>0.0</td><td>0.0</td><td>0.0</td><td>21.0</td><td>0.0</td><td>0.0</td><td>1.0</td><td>0.0</td><td>-87.0</td><td>0.0</td><td>0.0</td><td>0.0</td><td>0.0</td><td>0.0</td><td>0.0</td><td>0.0</td></tr><tr><td>&quot;25%&quot;</td><td>2015.0</td><td>4.0</td><td>8.0</td><td>2.0</td><td>730.0</td><td>917.0</td><td>908.0</td><td>-5.0</td><td>11.0</td><td>924.0</td><td>85.0</td><td>81.0</td><td>59.0</td><td>373.0</td><td>1042.0</td><td>4.0</td><td>1110.0</td><td>1046.0</td><td>-13.0</td><td>0.0</td><td>0.0</td><td>0.0</td><td>0.0</td><td>0.0</td><td>0.0</td><td>0.0</td></tr><tr><td>&quot;50%&quot;</td><td>2015.0</td><td>7.0</td><td>16.0</td><td>4.0</td><td>1690.0</td><td>1325.0</td><td>1323.0</td><td>-1.0</td><td>14.0</td><td>1335.0</td><td>123.0</td><td>117.0</td><td>93.0</td><td>647.0</td><td>1500.0</td><td>6.0</td><td>1520.0</td><td>1504.0</td><td>-5.0</td><td>0.0</td><td>0.0</td><td>0.0</td><td>0.0</td><td>0.0</td><td>0.0</td><td>0.0</td></tr><tr><td>&quot;75%&quot;</td><td>2015.0</td><td>9.0</td><td>23.0</td><td>6.0</td><td>3230.0</td><td>1730.0</td><td>1736.0</td><td>7.0</td><td>19.0</td><td>1750.0</td><td>173.0</td><td>167.0</td><td>143.0</td><td>1062.0</td><td>1908.0</td><td>9.0</td><td>1918.0</td><td>1913.0</td><td>7.0</td><td>0.0</td><td>0.0</td><td>0.0</td><td>0.0</td><td>0.0</td><td>0.0</td><td>0.0</td></tr><tr><td>&quot;max&quot;</td><td>2015.0</td><td>12.0</td><td>31.0</td><td>7.0</td><td>9855.0</td><td>2359.0</td><td>2400.0</td><td>1988.0</td><td>225.0</td><td>2400.0</td><td>718.0</td><td>766.0</td><td>690.0</td><td>4983.0</td><td>2400.0</td><td>248.0</td><td>2400.0</td><td>2400.0</td><td>1971.0</td><td>1.0</td><td>1.0</td><td>1134.0</td><td>573.0</td><td>1971.0</td><td>1331.0</td><td>1211.0</td></tr></tbody></table></div>"
      ],
      "text/plain": [
       "shape: (9, 27)\n",
       "┌────────────┬────────────┬────────────┬────────────┬───┬───────────────┬───────────────┬───────────────┬──────────────┐\n",
       "│ describe   ┆ YEAR       ┆ MONTH      ┆ DAY        ┆ … ┆ SECURITY_DELA ┆ AIRLINE_DELAY ┆ LATE_AIRCRAFT ┆ WEATHER_DELA │\n",
       "│ ---        ┆ ---        ┆ ---        ┆ ---        ┆   ┆ Y             ┆ ---           ┆ _DELAY        ┆ Y            │\n",
       "│ str        ┆ f64        ┆ f64        ┆ f64        ┆   ┆ ---           ┆ f64           ┆ ---           ┆ ---          │\n",
       "│            ┆            ┆            ┆            ┆   ┆ f64           ┆               ┆ f64           ┆ f64          │\n",
       "╞════════════╪════════════╪════════════╪════════════╪═══╪═══════════════╪═══════════════╪═══════════════╪══════════════╡\n",
       "│ count      ┆ 5.819079e6 ┆ 5.819079e6 ┆ 5.819079e6 ┆ … ┆ 5.819079e6    ┆ 5.819079e6    ┆ 5.819079e6    ┆ 5.819079e6   │\n",
       "│ null_count ┆ 0.0        ┆ 0.0        ┆ 0.0        ┆ … ┆ 0.0           ┆ 0.0           ┆ 0.0           ┆ 0.0          │\n",
       "│ mean       ┆ 2015.0     ┆ 6.524085   ┆ 15.704594  ┆ … ┆ 0.013917      ┆ 3.466692      ┆ 4.28967       ┆ 0.53277      │\n",
       "│ std        ┆ 0.0        ┆ 3.405137   ┆ 8.783425   ┆ … ┆ 0.916786      ┆ 21.854996     ┆ 20.574213     ┆ 8.807465     │\n",
       "│ min        ┆ 2015.0     ┆ 1.0        ┆ 1.0        ┆ … ┆ 0.0           ┆ 0.0           ┆ 0.0           ┆ 0.0          │\n",
       "│ 25%        ┆ 2015.0     ┆ 4.0        ┆ 8.0        ┆ … ┆ 0.0           ┆ 0.0           ┆ 0.0           ┆ 0.0          │\n",
       "│ 50%        ┆ 2015.0     ┆ 7.0        ┆ 16.0       ┆ … ┆ 0.0           ┆ 0.0           ┆ 0.0           ┆ 0.0          │\n",
       "│ 75%        ┆ 2015.0     ┆ 9.0        ┆ 23.0       ┆ … ┆ 0.0           ┆ 0.0           ┆ 0.0           ┆ 0.0          │\n",
       "│ max        ┆ 2015.0     ┆ 12.0       ┆ 31.0       ┆ … ┆ 573.0         ┆ 1971.0        ┆ 1331.0        ┆ 1211.0       │\n",
       "└────────────┴────────────┴────────────┴────────────┴───┴───────────────┴───────────────┴───────────────┴──────────────┘"
      ]
     },
     "execution_count": 54,
     "metadata": {},
     "output_type": "execute_result"
    }
   ],
   "source": [
    "#UNiVARIATE ANALYSIS\n",
    "\n",
    "flight_df_[numerical_cols].describe()"
   ]
  },
  {
   "cell_type": "markdown",
   "id": "a90e113c",
   "metadata": {},
   "source": [
    "Note: Only one Year in data, we won't be able to gain insights from that\n",
    "      Month range from 1-12, all months accounted for\n",
    "      Days range from 1 -31, \n",
    "      Time columns will be converted to time "
   ]
  },
  {
   "cell_type": "code",
   "execution_count": 118,
   "id": "4fa1feb3",
   "metadata": {},
   "outputs": [
    {
     "data": {
      "text/html": [
       "<div><style>\n",
       ".dataframe > thead > tr,\n",
       ".dataframe > tbody > tr {\n",
       "  text-align: right;\n",
       "  white-space: pre-wrap;\n",
       "}\n",
       "</style>\n",
       "<small>shape: (1, 31)</small><table border=\"1\" class=\"dataframe\"><thead><tr><th>YEAR</th><th>MONTH</th><th>DAY</th><th>DAY_OF_WEEK</th><th>AIRLINE</th><th>FLIGHT_NUMBER</th><th>TAIL_NUMBER</th><th>ORIGIN_AIRPORT</th><th>DESTINATION_AIRPORT</th><th>SCHEDULED_DEPARTURE</th><th>DEPARTURE_TIME</th><th>DEPARTURE_DELAY</th><th>TAXI_OUT</th><th>WHEELS_OFF</th><th>SCHEDULED_TIME</th><th>ELAPSED_TIME</th><th>AIR_TIME</th><th>DISTANCE</th><th>WHEELS_ON</th><th>TAXI_IN</th><th>SCHEDULED_ARRIVAL</th><th>ARRIVAL_TIME</th><th>ARRIVAL_DELAY</th><th>DIVERTED</th><th>CANCELLED</th><th>CANCELLATION_REASON</th><th>AIR_SYSTEM_DELAY</th><th>SECURITY_DELAY</th><th>AIRLINE_DELAY</th><th>LATE_AIRCRAFT_DELAY</th><th>WEATHER_DELAY</th></tr><tr><td>u32</td><td>u32</td><td>u32</td><td>u32</td><td>u32</td><td>u32</td><td>u32</td><td>u32</td><td>u32</td><td>u32</td><td>u32</td><td>u32</td><td>u32</td><td>u32</td><td>u32</td><td>u32</td><td>u32</td><td>u32</td><td>u32</td><td>u32</td><td>u32</td><td>u32</td><td>u32</td><td>u32</td><td>u32</td><td>u32</td><td>u32</td><td>u32</td><td>u32</td><td>u32</td><td>u32</td></tr></thead><tbody><tr><td>0</td><td>0</td><td>0</td><td>0</td><td>0</td><td>0</td><td>14721</td><td>0</td><td>0</td><td>0</td><td>86153</td><td>86153</td><td>89047</td><td>89047</td><td>6</td><td>105071</td><td>105071</td><td>0</td><td>92513</td><td>92513</td><td>0</td><td>92513</td><td>105071</td><td>0</td><td>0</td><td>0</td><td>0</td><td>0</td><td>0</td><td>0</td><td>0</td></tr></tbody></table></div>"
      ],
      "text/plain": [
       "shape: (1, 31)\n",
       "┌──────┬───────┬─────┬─────────────┬───┬────────────────┬───────────────┬─────────────────────┬───────────────┐\n",
       "│ YEAR ┆ MONTH ┆ DAY ┆ DAY_OF_WEEK ┆ … ┆ SECURITY_DELAY ┆ AIRLINE_DELAY ┆ LATE_AIRCRAFT_DELAY ┆ WEATHER_DELAY │\n",
       "│ ---  ┆ ---   ┆ --- ┆ ---         ┆   ┆ ---            ┆ ---           ┆ ---                 ┆ ---           │\n",
       "│ u32  ┆ u32   ┆ u32 ┆ u32         ┆   ┆ u32            ┆ u32           ┆ u32                 ┆ u32           │\n",
       "╞══════╪═══════╪═════╪═════════════╪═══╪════════════════╪═══════════════╪═════════════════════╪═══════════════╡\n",
       "│ 0    ┆ 0     ┆ 0   ┆ 0           ┆ … ┆ 0              ┆ 0             ┆ 0                   ┆ 0             │\n",
       "└──────┴───────┴─────┴─────────────┴───┴────────────────┴───────────────┴─────────────────────┴───────────────┘"
      ]
     },
     "execution_count": 118,
     "metadata": {},
     "output_type": "execute_result"
    }
   ],
   "source": [
    "flight_df_.null_count()"
   ]
  },
  {
   "cell_type": "code",
   "execution_count": 56,
   "id": "8d92ec8a",
   "metadata": {
    "scrolled": true
   },
   "outputs": [
    {
     "data": {
      "text/plain": [
       "['YEAR',\n",
       " 'MONTH',\n",
       " 'DAY',\n",
       " 'DAY_OF_WEEK',\n",
       " 'AIRLINE',\n",
       " 'FLIGHT_NUMBER',\n",
       " 'TAIL_NUMBER',\n",
       " 'ORIGIN_AIRPORT',\n",
       " 'DESTINATION_AIRPORT',\n",
       " 'SCHEDULED_DEPARTURE',\n",
       " 'DEPARTURE_TIME',\n",
       " 'DEPARTURE_DELAY',\n",
       " 'TAXI_OUT',\n",
       " 'WHEELS_OFF',\n",
       " 'SCHEDULED_TIME',\n",
       " 'ELAPSED_TIME',\n",
       " 'AIR_TIME',\n",
       " 'DISTANCE',\n",
       " 'WHEELS_ON',\n",
       " 'TAXI_IN',\n",
       " 'SCHEDULED_ARRIVAL',\n",
       " 'ARRIVAL_TIME',\n",
       " 'ARRIVAL_DELAY',\n",
       " 'DIVERTED',\n",
       " 'CANCELLED',\n",
       " 'CANCELLATION_REASON',\n",
       " 'AIR_SYSTEM_DELAY',\n",
       " 'SECURITY_DELAY',\n",
       " 'AIRLINE_DELAY',\n",
       " 'LATE_AIRCRAFT_DELAY',\n",
       " 'WEATHER_DELAY']"
      ]
     },
     "execution_count": 56,
     "metadata": {},
     "output_type": "execute_result"
    }
   ],
   "source": [
    "cols"
   ]
  },
  {
   "cell_type": "code",
   "execution_count": 6,
   "id": "a89e1745",
   "metadata": {},
   "outputs": [],
   "source": [
    "#dealing with columns that measure time(casting to right format)\n",
    "\n",
    "TIME_COLUMNS = ['SCHEDULED_DEPARTURE','DEPARTURE_TIME','DEPARTURE_DELAY','TAXI_OUT','WHEELS_OFF','SCHEDULED_TIME',\n",
    "                'ELAPSED_TIME','AIR_TIME','DISTANCE','WHEELS_ON','TAXI_IN','SCHEDULED_ARRIVAL','ARRIVAL_TIME',\n",
    "                'ARRIVAL_DELAY','AIR_SYSTEM_DELAY','SECURITY_DELAY','AIRLINE_DELAY','LATE_AIRCRAFT_DELAY','WEATHER_DELAY']"
   ]
  },
  {
   "cell_type": "code",
   "execution_count": 142,
   "id": "f7e053f2",
   "metadata": {},
   "outputs": [
    {
     "data": {
      "text/plain": [
       "'12'"
      ]
     },
     "execution_count": 142,
     "metadata": {},
     "output_type": "execute_result"
    }
   ],
   "source": [
    "x='1234'\n",
    "x[:2]"
   ]
  },
  {
   "cell_type": "code",
   "execution_count": 7,
   "id": "81df1e15",
   "metadata": {},
   "outputs": [],
   "source": [
    "from datetime import datetime\n",
    "\n",
    "def time(x):\n",
    "    if len(x) ==4 :\n",
    "        hours = x[:2]\n",
    "        minutes = x[2:]\n",
    "    elif 2 < len(x) < 4:\n",
    "        hours = x[:2]\n",
    "        minutes = '0'+ x[2:]\n",
    "    else:\n",
    "        if int(x) < 10:\n",
    "            minutes = '0'+ x\n",
    "        else:\n",
    "            minutes = x\n",
    "        hours = '00'\n",
    "    if abs(int(hours)) >= 24:\n",
    "        hours = str(int(hours) - 24)                      \n",
    "    return hours\n",
    "\n",
    "def zero_pad(x,N):\n",
    "    return x.ljust(N,'0')\n",
    "\n",
    "def time_casting(data,cols):\n",
    "    df_ = data.clone()\n",
    "    for col in cols:\n",
    "#         df_=df_.select(pl.col(col).cast(pl.String).map_elements(lambda x:)\n",
    "        df_ = df_.select(pl.col(col).cast(pl.String).map_elements(lambda x: time(x)))\n",
    "    return df_      "
   ]
  },
  {
   "cell_type": "code",
   "execution_count": 444,
   "id": "80da3541",
   "metadata": {},
   "outputs": [
    {
     "data": {
      "text/plain": [
       "['SCHEDULED_DEPARTURE',\n",
       " 'DEPARTURE_TIME',\n",
       " 'DEPARTURE_DELAY',\n",
       " 'TAXI_OUT',\n",
       " 'WHEELS_OFF',\n",
       " 'SCHEDULED_TIME',\n",
       " 'ELAPSED_TIME',\n",
       " 'AIR_TIME',\n",
       " 'DISTANCE',\n",
       " 'WHEELS_ON',\n",
       " 'TAXI_IN',\n",
       " 'SCHEDULED_ARRIVAL',\n",
       " 'ARRIVAL_TIME',\n",
       " 'ARRIVAL_DELAY',\n",
       " 'AIR_SYSTEM_DELAY',\n",
       " 'SECURITY_DELAY',\n",
       " 'AIRLINE_DELAY',\n",
       " 'LATE_AIRCRAFT_DELAY',\n",
       " 'WEATHER_DELAY']"
      ]
     },
     "execution_count": 444,
     "metadata": {},
     "output_type": "execute_result"
    }
   ],
   "source": [
    "TIME_COLUMNS"
   ]
  },
  {
   "cell_type": "code",
   "execution_count": 8,
   "id": "d806d77d",
   "metadata": {},
   "outputs": [],
   "source": [
    "result_df = flight_df_.with_columns(time_casting(flight_df_,['SCHEDULED_DEPARTURE']))\n",
    "result_df = result_df.with_columns(time_casting(result_df,['DEPARTURE_TIME']))"
   ]
  },
  {
   "cell_type": "code",
   "execution_count": 424,
   "id": "809966a8",
   "metadata": {},
   "outputs": [
    {
     "data": {
      "text/html": [
       "<div><style>\n",
       ".dataframe > thead > tr,\n",
       ".dataframe > tbody > tr {\n",
       "  text-align: right;\n",
       "  white-space: pre-wrap;\n",
       "}\n",
       "</style>\n",
       "<small>shape: (5_819_079, 31)</small><table border=\"1\" class=\"dataframe\"><thead><tr><th>YEAR</th><th>MONTH</th><th>DAY</th><th>DAY_OF_WEEK</th><th>AIRLINE</th><th>FLIGHT_NUMBER</th><th>TAIL_NUMBER</th><th>ORIGIN_AIRPORT</th><th>DESTINATION_AIRPORT</th><th>SCHEDULED_DEPARTURE</th><th>DEPARTURE_TIME</th><th>DEPARTURE_DELAY</th><th>TAXI_OUT</th><th>WHEELS_OFF</th><th>SCHEDULED_TIME</th><th>ELAPSED_TIME</th><th>AIR_TIME</th><th>DISTANCE</th><th>WHEELS_ON</th><th>TAXI_IN</th><th>SCHEDULED_ARRIVAL</th><th>ARRIVAL_TIME</th><th>ARRIVAL_DELAY</th><th>DIVERTED</th><th>CANCELLED</th><th>CANCELLATION_REASON</th><th>AIR_SYSTEM_DELAY</th><th>SECURITY_DELAY</th><th>AIRLINE_DELAY</th><th>LATE_AIRCRAFT_DELAY</th><th>WEATHER_DELAY</th></tr><tr><td>i64</td><td>i64</td><td>i64</td><td>i64</td><td>str</td><td>i64</td><td>str</td><td>str</td><td>str</td><td>str</td><td>str</td><td>i64</td><td>i64</td><td>i64</td><td>i64</td><td>i64</td><td>i64</td><td>i64</td><td>i64</td><td>i64</td><td>i64</td><td>i64</td><td>i64</td><td>i64</td><td>i64</td><td>str</td><td>i64</td><td>i64</td><td>i64</td><td>i64</td><td>i64</td></tr></thead><tbody><tr><td>2015</td><td>1</td><td>1</td><td>4</td><td>&quot;AS&quot;</td><td>98</td><td>&quot;N407AS&quot;</td><td>&quot;ANC&quot;</td><td>&quot;SEA&quot;</td><td>&quot;00&quot;</td><td>&quot;23&quot;</td><td>-11</td><td>21</td><td>15</td><td>205</td><td>194</td><td>169</td><td>1448</td><td>404</td><td>4</td><td>430</td><td>408</td><td>-22</td><td>0</td><td>0</td><td>&quot;0&quot;</td><td>0</td><td>0</td><td>0</td><td>0</td><td>0</td></tr><tr><td>2015</td><td>1</td><td>1</td><td>4</td><td>&quot;AA&quot;</td><td>2336</td><td>&quot;N3KUAA&quot;</td><td>&quot;LAX&quot;</td><td>&quot;PBI&quot;</td><td>&quot;00&quot;</td><td>&quot;00&quot;</td><td>-8</td><td>12</td><td>14</td><td>280</td><td>279</td><td>263</td><td>2330</td><td>737</td><td>4</td><td>750</td><td>741</td><td>-9</td><td>0</td><td>0</td><td>&quot;0&quot;</td><td>0</td><td>0</td><td>0</td><td>0</td><td>0</td></tr><tr><td>2015</td><td>1</td><td>1</td><td>4</td><td>&quot;US&quot;</td><td>840</td><td>&quot;N171US&quot;</td><td>&quot;SFO&quot;</td><td>&quot;CLT&quot;</td><td>&quot;00&quot;</td><td>&quot;00&quot;</td><td>-2</td><td>16</td><td>34</td><td>286</td><td>293</td><td>266</td><td>2296</td><td>800</td><td>11</td><td>806</td><td>811</td><td>5</td><td>0</td><td>0</td><td>&quot;0&quot;</td><td>0</td><td>0</td><td>0</td><td>0</td><td>0</td></tr><tr><td>2015</td><td>1</td><td>1</td><td>4</td><td>&quot;AA&quot;</td><td>258</td><td>&quot;N3HYAA&quot;</td><td>&quot;LAX&quot;</td><td>&quot;MIA&quot;</td><td>&quot;00&quot;</td><td>&quot;00&quot;</td><td>-5</td><td>15</td><td>30</td><td>285</td><td>281</td><td>258</td><td>2342</td><td>748</td><td>8</td><td>805</td><td>756</td><td>-9</td><td>0</td><td>0</td><td>&quot;0&quot;</td><td>0</td><td>0</td><td>0</td><td>0</td><td>0</td></tr><tr><td>2015</td><td>1</td><td>1</td><td>4</td><td>&quot;AS&quot;</td><td>135</td><td>&quot;N527AS&quot;</td><td>&quot;SEA&quot;</td><td>&quot;ANC&quot;</td><td>&quot;00&quot;</td><td>&quot;00&quot;</td><td>-1</td><td>11</td><td>35</td><td>235</td><td>215</td><td>199</td><td>1448</td><td>254</td><td>5</td><td>320</td><td>259</td><td>-21</td><td>0</td><td>0</td><td>&quot;0&quot;</td><td>0</td><td>0</td><td>0</td><td>0</td><td>0</td></tr><tr><td>2015</td><td>1</td><td>1</td><td>4</td><td>&quot;DL&quot;</td><td>806</td><td>&quot;N3730B&quot;</td><td>&quot;SFO&quot;</td><td>&quot;MSP&quot;</td><td>&quot;00&quot;</td><td>&quot;00&quot;</td><td>-5</td><td>18</td><td>38</td><td>217</td><td>230</td><td>206</td><td>1589</td><td>604</td><td>6</td><td>602</td><td>610</td><td>8</td><td>0</td><td>0</td><td>&quot;0&quot;</td><td>0</td><td>0</td><td>0</td><td>0</td><td>0</td></tr><tr><td>2015</td><td>1</td><td>1</td><td>4</td><td>&quot;NK&quot;</td><td>612</td><td>&quot;N635NK&quot;</td><td>&quot;LAS&quot;</td><td>&quot;MSP&quot;</td><td>&quot;00&quot;</td><td>&quot;00&quot;</td><td>-6</td><td>11</td><td>30</td><td>181</td><td>170</td><td>154</td><td>1299</td><td>504</td><td>5</td><td>526</td><td>509</td><td>-17</td><td>0</td><td>0</td><td>&quot;0&quot;</td><td>0</td><td>0</td><td>0</td><td>0</td><td>0</td></tr><tr><td>2015</td><td>1</td><td>1</td><td>4</td><td>&quot;US&quot;</td><td>2013</td><td>&quot;N584UW&quot;</td><td>&quot;LAX&quot;</td><td>&quot;CLT&quot;</td><td>&quot;00&quot;</td><td>&quot;00&quot;</td><td>14</td><td>13</td><td>57</td><td>273</td><td>249</td><td>228</td><td>2125</td><td>745</td><td>8</td><td>803</td><td>753</td><td>-10</td><td>0</td><td>0</td><td>&quot;0&quot;</td><td>0</td><td>0</td><td>0</td><td>0</td><td>0</td></tr><tr><td>2015</td><td>1</td><td>1</td><td>4</td><td>&quot;AA&quot;</td><td>1112</td><td>&quot;N3LAAA&quot;</td><td>&quot;SFO&quot;</td><td>&quot;DFW&quot;</td><td>&quot;00&quot;</td><td>&quot;00&quot;</td><td>-11</td><td>17</td><td>36</td><td>195</td><td>193</td><td>173</td><td>1464</td><td>529</td><td>3</td><td>545</td><td>532</td><td>-13</td><td>0</td><td>0</td><td>&quot;0&quot;</td><td>0</td><td>0</td><td>0</td><td>0</td><td>0</td></tr><tr><td>2015</td><td>1</td><td>1</td><td>4</td><td>&quot;DL&quot;</td><td>1173</td><td>&quot;N826DN&quot;</td><td>&quot;LAS&quot;</td><td>&quot;ATL&quot;</td><td>&quot;00&quot;</td><td>&quot;00&quot;</td><td>3</td><td>12</td><td>45</td><td>221</td><td>203</td><td>186</td><td>1747</td><td>651</td><td>5</td><td>711</td><td>656</td><td>-15</td><td>0</td><td>0</td><td>&quot;0&quot;</td><td>0</td><td>0</td><td>0</td><td>0</td><td>0</td></tr><tr><td>2015</td><td>1</td><td>1</td><td>4</td><td>&quot;DL&quot;</td><td>2336</td><td>&quot;N958DN&quot;</td><td>&quot;DEN&quot;</td><td>&quot;ATL&quot;</td><td>&quot;00&quot;</td><td>&quot;00&quot;</td><td>-6</td><td>12</td><td>36</td><td>173</td><td>149</td><td>133</td><td>1199</td><td>449</td><td>4</td><td>523</td><td>453</td><td>-30</td><td>0</td><td>0</td><td>&quot;0&quot;</td><td>0</td><td>0</td><td>0</td><td>0</td><td>0</td></tr><tr><td>2015</td><td>1</td><td>1</td><td>4</td><td>&quot;AA&quot;</td><td>1674</td><td>&quot;N853AA&quot;</td><td>&quot;LAS&quot;</td><td>&quot;MIA&quot;</td><td>&quot;00&quot;</td><td>&quot;00&quot;</td><td>-8</td><td>21</td><td>48</td><td>268</td><td>266</td><td>238</td><td>2174</td><td>746</td><td>7</td><td>803</td><td>753</td><td>-10</td><td>0</td><td>0</td><td>&quot;0&quot;</td><td>0</td><td>0</td><td>0</td><td>0</td><td>0</td></tr><tr><td>&hellip;</td><td>&hellip;</td><td>&hellip;</td><td>&hellip;</td><td>&hellip;</td><td>&hellip;</td><td>&hellip;</td><td>&hellip;</td><td>&hellip;</td><td>&hellip;</td><td>&hellip;</td><td>&hellip;</td><td>&hellip;</td><td>&hellip;</td><td>&hellip;</td><td>&hellip;</td><td>&hellip;</td><td>&hellip;</td><td>&hellip;</td><td>&hellip;</td><td>&hellip;</td><td>&hellip;</td><td>&hellip;</td><td>&hellip;</td><td>&hellip;</td><td>&hellip;</td><td>&hellip;</td><td>&hellip;</td><td>&hellip;</td><td>&hellip;</td><td>&hellip;</td></tr><tr><td>2015</td><td>12</td><td>31</td><td>4</td><td>&quot;AA&quot;</td><td>2342</td><td>&quot;N3DLAA&quot;</td><td>&quot;DEN&quot;</td><td>&quot;MIA&quot;</td><td>&quot;23&quot;</td><td>&quot;23&quot;</td><td>-8</td><td>18</td><td>9</td><td>224</td><td>214</td><td>190</td><td>1709</td><td>519</td><td>6</td><td>543</td><td>525</td><td>-18</td><td>0</td><td>0</td><td>&quot;0&quot;</td><td>0</td><td>0</td><td>0</td><td>0</td><td>0</td></tr><tr><td>2015</td><td>12</td><td>31</td><td>4</td><td>&quot;AA&quot;</td><td>219</td><td>&quot;N3LYAA&quot;</td><td>&quot;LAX&quot;</td><td>&quot;ORD&quot;</td><td>&quot;23&quot;</td><td>&quot;23&quot;</td><td>-1</td><td>23</td><td>21</td><td>244</td><td>226</td><td>198</td><td>1744</td><td>539</td><td>5</td><td>603</td><td>544</td><td>-19</td><td>0</td><td>0</td><td>&quot;0&quot;</td><td>0</td><td>0</td><td>0</td><td>0</td><td>0</td></tr><tr><td>2015</td><td>12</td><td>31</td><td>4</td><td>&quot;B6&quot;</td><td>1248</td><td>&quot;N948JB&quot;</td><td>&quot;LAS&quot;</td><td>&quot;JFK&quot;</td><td>&quot;23&quot;</td><td>&quot;23&quot;</td><td>159</td><td>34</td><td>312</td><td>282</td><td>282</td><td>243</td><td>2248</td><td>1015</td><td>5</td><td>741</td><td>1020</td><td>159</td><td>0</td><td>0</td><td>&quot;0&quot;</td><td>0</td><td>0</td><td>159</td><td>0</td><td>0</td></tr><tr><td>2015</td><td>12</td><td>31</td><td>4</td><td>&quot;B6&quot;</td><td>80</td><td>&quot;N584JB&quot;</td><td>&quot;RNO&quot;</td><td>&quot;JFK&quot;</td><td>&quot;23&quot;</td><td>&quot;23&quot;</td><td>0</td><td>12</td><td>11</td><td>306</td><td>285</td><td>268</td><td>2411</td><td>739</td><td>5</td><td>805</td><td>744</td><td>-21</td><td>0</td><td>0</td><td>&quot;0&quot;</td><td>0</td><td>0</td><td>0</td><td>0</td><td>0</td></tr><tr><td>2015</td><td>12</td><td>31</td><td>4</td><td>&quot;B6&quot;</td><td>802</td><td>&quot;N589JB&quot;</td><td>&quot;SLC&quot;</td><td>&quot;MCO&quot;</td><td>&quot;23&quot;</td><td>&quot;00&quot;</td><td>16</td><td>14</td><td>29</td><td>249</td><td>250</td><td>211</td><td>1931</td><td>600</td><td>25</td><td>608</td><td>625</td><td>17</td><td>0</td><td>0</td><td>&quot;0&quot;</td><td>1</td><td>0</td><td>16</td><td>0</td><td>0</td></tr><tr><td>2015</td><td>12</td><td>31</td><td>4</td><td>&quot;B6&quot;</td><td>98</td><td>&quot;N607JB&quot;</td><td>&quot;DEN&quot;</td><td>&quot;JFK&quot;</td><td>&quot;23&quot;</td><td>&quot;00&quot;</td><td>7</td><td>13</td><td>19</td><td>211</td><td>193</td><td>173</td><td>1626</td><td>512</td><td>7</td><td>530</td><td>519</td><td>-11</td><td>0</td><td>0</td><td>&quot;0&quot;</td><td>0</td><td>0</td><td>0</td><td>0</td><td>0</td></tr><tr><td>2015</td><td>12</td><td>31</td><td>4</td><td>&quot;B6&quot;</td><td>66</td><td>&quot;N655JB&quot;</td><td>&quot;ABQ&quot;</td><td>&quot;JFK&quot;</td><td>&quot;23&quot;</td><td>&quot;00&quot;</td><td>16</td><td>9</td><td>24</td><td>227</td><td>214</td><td>190</td><td>1826</td><td>534</td><td>15</td><td>546</td><td>549</td><td>3</td><td>0</td><td>0</td><td>&quot;0&quot;</td><td>0</td><td>0</td><td>0</td><td>0</td><td>0</td></tr><tr><td>2015</td><td>12</td><td>31</td><td>4</td><td>&quot;B6&quot;</td><td>688</td><td>&quot;N657JB&quot;</td><td>&quot;LAX&quot;</td><td>&quot;BOS&quot;</td><td>&quot;23&quot;</td><td>&quot;23&quot;</td><td>-4</td><td>22</td><td>17</td><td>320</td><td>298</td><td>272</td><td>2611</td><td>749</td><td>4</td><td>819</td><td>753</td><td>-26</td><td>0</td><td>0</td><td>&quot;0&quot;</td><td>0</td><td>0</td><td>0</td><td>0</td><td>0</td></tr><tr><td>2015</td><td>12</td><td>31</td><td>4</td><td>&quot;B6&quot;</td><td>745</td><td>&quot;N828JB&quot;</td><td>&quot;JFK&quot;</td><td>&quot;PSE&quot;</td><td>&quot;23&quot;</td><td>&quot;23&quot;</td><td>-4</td><td>17</td><td>12</td><td>227</td><td>215</td><td>195</td><td>1617</td><td>427</td><td>3</td><td>446</td><td>430</td><td>-16</td><td>0</td><td>0</td><td>&quot;0&quot;</td><td>0</td><td>0</td><td>0</td><td>0</td><td>0</td></tr><tr><td>2015</td><td>12</td><td>31</td><td>4</td><td>&quot;B6&quot;</td><td>1503</td><td>&quot;N913JB&quot;</td><td>&quot;JFK&quot;</td><td>&quot;SJU&quot;</td><td>&quot;23&quot;</td><td>&quot;23&quot;</td><td>-9</td><td>17</td><td>7</td><td>221</td><td>222</td><td>197</td><td>1598</td><td>424</td><td>8</td><td>440</td><td>432</td><td>-8</td><td>0</td><td>0</td><td>&quot;0&quot;</td><td>0</td><td>0</td><td>0</td><td>0</td><td>0</td></tr><tr><td>2015</td><td>12</td><td>31</td><td>4</td><td>&quot;B6&quot;</td><td>333</td><td>&quot;N527JB&quot;</td><td>&quot;MCO&quot;</td><td>&quot;SJU&quot;</td><td>&quot;23&quot;</td><td>&quot;23&quot;</td><td>-6</td><td>10</td><td>3</td><td>161</td><td>157</td><td>144</td><td>1189</td><td>327</td><td>3</td><td>340</td><td>330</td><td>-10</td><td>0</td><td>0</td><td>&quot;0&quot;</td><td>0</td><td>0</td><td>0</td><td>0</td><td>0</td></tr><tr><td>2015</td><td>12</td><td>31</td><td>4</td><td>&quot;B6&quot;</td><td>839</td><td>&quot;N534JB&quot;</td><td>&quot;JFK&quot;</td><td>&quot;BQN&quot;</td><td>&quot;23&quot;</td><td>&quot;00&quot;</td><td>15</td><td>14</td><td>28</td><td>221</td><td>208</td><td>189</td><td>1576</td><td>437</td><td>5</td><td>440</td><td>442</td><td>2</td><td>0</td><td>0</td><td>&quot;0&quot;</td><td>0</td><td>0</td><td>0</td><td>0</td><td>0</td></tr></tbody></table></div>"
      ],
      "text/plain": [
       "shape: (5_819_079, 31)\n",
       "┌──────┬───────┬─────┬─────────────┬───┬────────────────┬───────────────┬─────────────────────┬───────────────┐\n",
       "│ YEAR ┆ MONTH ┆ DAY ┆ DAY_OF_WEEK ┆ … ┆ SECURITY_DELAY ┆ AIRLINE_DELAY ┆ LATE_AIRCRAFT_DELAY ┆ WEATHER_DELAY │\n",
       "│ ---  ┆ ---   ┆ --- ┆ ---         ┆   ┆ ---            ┆ ---           ┆ ---                 ┆ ---           │\n",
       "│ i64  ┆ i64   ┆ i64 ┆ i64         ┆   ┆ i64            ┆ i64           ┆ i64                 ┆ i64           │\n",
       "╞══════╪═══════╪═════╪═════════════╪═══╪════════════════╪═══════════════╪═════════════════════╪═══════════════╡\n",
       "│ 2015 ┆ 1     ┆ 1   ┆ 4           ┆ … ┆ 0              ┆ 0             ┆ 0                   ┆ 0             │\n",
       "│ 2015 ┆ 1     ┆ 1   ┆ 4           ┆ … ┆ 0              ┆ 0             ┆ 0                   ┆ 0             │\n",
       "│ 2015 ┆ 1     ┆ 1   ┆ 4           ┆ … ┆ 0              ┆ 0             ┆ 0                   ┆ 0             │\n",
       "│ 2015 ┆ 1     ┆ 1   ┆ 4           ┆ … ┆ 0              ┆ 0             ┆ 0                   ┆ 0             │\n",
       "│ …    ┆ …     ┆ …   ┆ …           ┆ … ┆ …              ┆ …             ┆ …                   ┆ …             │\n",
       "│ 2015 ┆ 12    ┆ 31  ┆ 4           ┆ … ┆ 0              ┆ 0             ┆ 0                   ┆ 0             │\n",
       "│ 2015 ┆ 12    ┆ 31  ┆ 4           ┆ … ┆ 0              ┆ 0             ┆ 0                   ┆ 0             │\n",
       "│ 2015 ┆ 12    ┆ 31  ┆ 4           ┆ … ┆ 0              ┆ 0             ┆ 0                   ┆ 0             │\n",
       "│ 2015 ┆ 12    ┆ 31  ┆ 4           ┆ … ┆ 0              ┆ 0             ┆ 0                   ┆ 0             │\n",
       "└──────┴───────┴─────┴─────────────┴───┴────────────────┴───────────────┴─────────────────────┴───────────────┘"
      ]
     },
     "execution_count": 424,
     "metadata": {},
     "output_type": "execute_result"
    }
   ],
   "source": [
    "result_df"
   ]
  },
  {
   "cell_type": "code",
   "execution_count": 11,
   "id": "9c0c2282",
   "metadata": {},
   "outputs": [
    {
     "data": {
      "text/html": [
       "<div><style>\n",
       ".dataframe > thead > tr,\n",
       ".dataframe > tbody > tr {\n",
       "  text-align: right;\n",
       "  white-space: pre-wrap;\n",
       "}\n",
       "</style>\n",
       "<small>shape: (322, 7)</small><table border=\"1\" class=\"dataframe\"><thead><tr><th>IATA_CODE</th><th>AIRPORT</th><th>CITY</th><th>STATE</th><th>COUNTRY</th><th>LATITUDE</th><th>LONGITUDE</th></tr><tr><td>str</td><td>str</td><td>str</td><td>str</td><td>str</td><td>f64</td><td>f64</td></tr></thead><tbody><tr><td>&quot;ABE&quot;</td><td>&quot;Lehigh Valley …</td><td>&quot;Allentown&quot;</td><td>&quot;PA&quot;</td><td>&quot;USA&quot;</td><td>40.65236</td><td>-75.4404</td></tr><tr><td>&quot;ABI&quot;</td><td>&quot;Abilene Region…</td><td>&quot;Abilene&quot;</td><td>&quot;TX&quot;</td><td>&quot;USA&quot;</td><td>32.41132</td><td>-99.6819</td></tr><tr><td>&quot;ABQ&quot;</td><td>&quot;Albuquerque In…</td><td>&quot;Albuquerque&quot;</td><td>&quot;NM&quot;</td><td>&quot;USA&quot;</td><td>35.04022</td><td>-106.60919</td></tr><tr><td>&quot;ABR&quot;</td><td>&quot;Aberdeen Regio…</td><td>&quot;Aberdeen&quot;</td><td>&quot;SD&quot;</td><td>&quot;USA&quot;</td><td>45.44906</td><td>-98.42183</td></tr><tr><td>&quot;ABY&quot;</td><td>&quot;Southwest Geor…</td><td>&quot;Albany&quot;</td><td>&quot;GA&quot;</td><td>&quot;USA&quot;</td><td>31.53552</td><td>-84.19447</td></tr><tr><td>&quot;ACK&quot;</td><td>&quot;Nantucket Memo…</td><td>&quot;Nantucket&quot;</td><td>&quot;MA&quot;</td><td>&quot;USA&quot;</td><td>41.25305</td><td>-70.06018</td></tr><tr><td>&quot;ACT&quot;</td><td>&quot;Waco Regional …</td><td>&quot;Waco&quot;</td><td>&quot;TX&quot;</td><td>&quot;USA&quot;</td><td>31.61129</td><td>-97.23052</td></tr><tr><td>&quot;ACV&quot;</td><td>&quot;Arcata Airport…</td><td>&quot;Arcata/Eureka&quot;</td><td>&quot;CA&quot;</td><td>&quot;USA&quot;</td><td>40.97812</td><td>-124.10862</td></tr><tr><td>&quot;ACY&quot;</td><td>&quot;Atlantic City …</td><td>&quot;Atlantic City&quot;</td><td>&quot;NJ&quot;</td><td>&quot;USA&quot;</td><td>39.45758</td><td>-74.57717</td></tr><tr><td>&quot;ADK&quot;</td><td>&quot;Adak Airport&quot;</td><td>&quot;Adak&quot;</td><td>&quot;AK&quot;</td><td>&quot;USA&quot;</td><td>51.87796</td><td>-176.64603</td></tr><tr><td>&quot;ADQ&quot;</td><td>&quot;Kodiak Airport…</td><td>&quot;Kodiak&quot;</td><td>&quot;AK&quot;</td><td>&quot;USA&quot;</td><td>57.74997</td><td>-152.49386</td></tr><tr><td>&quot;AEX&quot;</td><td>&quot;Alexandria Int…</td><td>&quot;Alexandria&quot;</td><td>&quot;LA&quot;</td><td>&quot;USA&quot;</td><td>31.32737</td><td>-92.54856</td></tr><tr><td>&hellip;</td><td>&hellip;</td><td>&hellip;</td><td>&hellip;</td><td>&hellip;</td><td>&hellip;</td><td>&hellip;</td></tr><tr><td>&quot;TXK&quot;</td><td>&quot;Texarkana Regi…</td><td>&quot;Texarkana&quot;</td><td>&quot;AR&quot;</td><td>&quot;USA&quot;</td><td>33.45371</td><td>-93.99102</td></tr><tr><td>&quot;TYR&quot;</td><td>&quot;Tyler Pounds R…</td><td>&quot;Tyler&quot;</td><td>&quot;TX&quot;</td><td>&quot;USA&quot;</td><td>32.35414</td><td>-95.40239</td></tr><tr><td>&quot;TYS&quot;</td><td>&quot;McGhee Tyson A…</td><td>&quot;Knoxville&quot;</td><td>&quot;TN&quot;</td><td>&quot;USA&quot;</td><td>35.81249</td><td>-83.99286</td></tr><tr><td>&quot;UST&quot;</td><td>&quot;Northeast Flor…</td><td>&quot;St. Augustine&quot;</td><td>&quot;FL&quot;</td><td>&quot;USA&quot;</td><td>null</td><td>null</td></tr><tr><td>&quot;VEL&quot;</td><td>&quot;Valdez Airport…</td><td>&quot;Vernal&quot;</td><td>&quot;UT&quot;</td><td>&quot;USA&quot;</td><td>40.4409</td><td>-109.50992</td></tr><tr><td>&quot;VLD&quot;</td><td>&quot;Valdosta Regio…</td><td>&quot;Valdosta&quot;</td><td>&quot;GA&quot;</td><td>&quot;USA&quot;</td><td>30.7825</td><td>-83.27672</td></tr><tr><td>&quot;VPS&quot;</td><td>&quot;Destin-Fort Wa…</td><td>&quot;Valparaiso&quot;</td><td>&quot;FL&quot;</td><td>&quot;USA&quot;</td><td>30.48325</td><td>-86.5254</td></tr><tr><td>&quot;WRG&quot;</td><td>&quot;Wrangell Airpo…</td><td>&quot;Wrangell&quot;</td><td>&quot;AK&quot;</td><td>&quot;USA&quot;</td><td>56.48433</td><td>-132.36982</td></tr><tr><td>&quot;WYS&quot;</td><td>&quot;Westerly State…</td><td>&quot;West Yellowsto…</td><td>&quot;MT&quot;</td><td>&quot;USA&quot;</td><td>44.6884</td><td>-111.11764</td></tr><tr><td>&quot;XNA&quot;</td><td>&quot;Northwest Arka…</td><td>&quot;Fayetteville/S…</td><td>&quot;AR&quot;</td><td>&quot;USA&quot;</td><td>36.28187</td><td>-94.30681</td></tr><tr><td>&quot;YAK&quot;</td><td>&quot;Yakutat Airpor…</td><td>&quot;Yakutat&quot;</td><td>&quot;AK&quot;</td><td>&quot;USA&quot;</td><td>59.50336</td><td>-139.66023</td></tr><tr><td>&quot;YUM&quot;</td><td>&quot;Yuma Internati…</td><td>&quot;Yuma&quot;</td><td>&quot;AZ&quot;</td><td>&quot;USA&quot;</td><td>32.65658</td><td>-114.60597</td></tr></tbody></table></div>"
      ],
      "text/plain": [
       "shape: (322, 7)\n",
       "┌───────────┬────────────────────────────────┬───────────────────────────────┬───────┬─────────┬──────────┬────────────┐\n",
       "│ IATA_CODE ┆ AIRPORT                        ┆ CITY                          ┆ STATE ┆ COUNTRY ┆ LATITUDE ┆ LONGITUDE  │\n",
       "│ ---       ┆ ---                            ┆ ---                           ┆ ---   ┆ ---     ┆ ---      ┆ ---        │\n",
       "│ str       ┆ str                            ┆ str                           ┆ str   ┆ str     ┆ f64      ┆ f64        │\n",
       "╞═══════════╪════════════════════════════════╪═══════════════════════════════╪═══════╪═════════╪══════════╪════════════╡\n",
       "│ ABE       ┆ Lehigh Valley International    ┆ Allentown                     ┆ PA    ┆ USA     ┆ 40.65236 ┆ -75.4404   │\n",
       "│           ┆ Airp…                          ┆                               ┆       ┆         ┆          ┆            │\n",
       "│ ABI       ┆ Abilene Regional Airport       ┆ Abilene                       ┆ TX    ┆ USA     ┆ 32.41132 ┆ -99.6819   │\n",
       "│ ABQ       ┆ Albuquerque International      ┆ Albuquerque                   ┆ NM    ┆ USA     ┆ 35.04022 ┆ -106.60919 │\n",
       "│           ┆ Sunpor…                        ┆                               ┆       ┆         ┆          ┆            │\n",
       "│ ABR       ┆ Aberdeen Regional Airport      ┆ Aberdeen                      ┆ SD    ┆ USA     ┆ 45.44906 ┆ -98.42183  │\n",
       "│ …         ┆ …                              ┆ …                             ┆ …     ┆ …       ┆ …        ┆ …          │\n",
       "│ WYS       ┆ Westerly State Airport         ┆ West Yellowstone              ┆ MT    ┆ USA     ┆ 44.6884  ┆ -111.11764 │\n",
       "│ XNA       ┆ Northwest Arkansas Regional    ┆ Fayetteville/Springdale/Roger ┆ AR    ┆ USA     ┆ 36.28187 ┆ -94.30681  │\n",
       "│           ┆ Airp…                          ┆ s                             ┆       ┆         ┆          ┆            │\n",
       "│ YAK       ┆ Yakutat Airport                ┆ Yakutat                       ┆ AK    ┆ USA     ┆ 59.50336 ┆ -139.66023 │\n",
       "│ YUM       ┆ Yuma International Airport     ┆ Yuma                          ┆ AZ    ┆ USA     ┆ 32.65658 ┆ -114.60597 │\n",
       "└───────────┴────────────────────────────────┴───────────────────────────────┴───────┴─────────┴──────────┴────────────┘"
      ]
     },
     "execution_count": 11,
     "metadata": {},
     "output_type": "execute_result"
    }
   ],
   "source": [
    "airport_data.collect()"
   ]
  },
  {
   "cell_type": "code",
   "execution_count": 9,
   "id": "9b86962a",
   "metadata": {
    "scrolled": true
   },
   "outputs": [
    {
     "data": {
      "text/html": [
       "<div><style>\n",
       ".dataframe > thead > tr,\n",
       ".dataframe > tbody > tr {\n",
       "  text-align: right;\n",
       "  white-space: pre-wrap;\n",
       "}\n",
       "</style>\n",
       "<small>shape: (5_819_079, 37)</small><table border=\"1\" class=\"dataframe\"><thead><tr><th>YEAR</th><th>MONTH</th><th>DAY</th><th>DAY_OF_WEEK</th><th>AIRLINE</th><th>FLIGHT_NUMBER</th><th>TAIL_NUMBER</th><th>ORIGIN_AIRPORT</th><th>DESTINATION_AIRPORT</th><th>SCHEDULED_DEPARTURE</th><th>DEPARTURE_TIME</th><th>DEPARTURE_DELAY</th><th>TAXI_OUT</th><th>WHEELS_OFF</th><th>SCHEDULED_TIME</th><th>ELAPSED_TIME</th><th>AIR_TIME</th><th>DISTANCE</th><th>WHEELS_ON</th><th>TAXI_IN</th><th>SCHEDULED_ARRIVAL</th><th>ARRIVAL_TIME</th><th>ARRIVAL_DELAY</th><th>DIVERTED</th><th>CANCELLED</th><th>CANCELLATION_REASON</th><th>AIR_SYSTEM_DELAY</th><th>SECURITY_DELAY</th><th>AIRLINE_DELAY</th><th>LATE_AIRCRAFT_DELAY</th><th>WEATHER_DELAY</th><th>AIRPORT</th><th>CITY</th><th>STATE</th><th>COUNTRY</th><th>LATITUDE</th><th>LONGITUDE</th></tr><tr><td>i64</td><td>i64</td><td>i64</td><td>i64</td><td>str</td><td>i64</td><td>str</td><td>str</td><td>str</td><td>str</td><td>str</td><td>i64</td><td>i64</td><td>i64</td><td>i64</td><td>i64</td><td>i64</td><td>i64</td><td>i64</td><td>i64</td><td>i64</td><td>i64</td><td>i64</td><td>i64</td><td>i64</td><td>str</td><td>i64</td><td>i64</td><td>i64</td><td>i64</td><td>i64</td><td>str</td><td>str</td><td>str</td><td>str</td><td>f64</td><td>f64</td></tr></thead><tbody><tr><td>2015</td><td>1</td><td>1</td><td>4</td><td>&quot;AS&quot;</td><td>98</td><td>&quot;N407AS&quot;</td><td>&quot;ANC&quot;</td><td>&quot;SEA&quot;</td><td>&quot;00&quot;</td><td>&quot;23&quot;</td><td>-11</td><td>21</td><td>15</td><td>205</td><td>194</td><td>169</td><td>1448</td><td>404</td><td>4</td><td>430</td><td>408</td><td>-22</td><td>0</td><td>0</td><td>null</td><td>null</td><td>null</td><td>null</td><td>null</td><td>null</td><td>&quot;Ted Stevens An…</td><td>&quot;Anchorage&quot;</td><td>&quot;AK&quot;</td><td>&quot;USA&quot;</td><td>61.17432</td><td>-149.99619</td></tr><tr><td>2015</td><td>1</td><td>1</td><td>4</td><td>&quot;AA&quot;</td><td>2336</td><td>&quot;N3KUAA&quot;</td><td>&quot;LAX&quot;</td><td>&quot;PBI&quot;</td><td>&quot;00&quot;</td><td>&quot;00&quot;</td><td>-8</td><td>12</td><td>14</td><td>280</td><td>279</td><td>263</td><td>2330</td><td>737</td><td>4</td><td>750</td><td>741</td><td>-9</td><td>0</td><td>0</td><td>null</td><td>null</td><td>null</td><td>null</td><td>null</td><td>null</td><td>&quot;Los Angeles In…</td><td>&quot;Los Angeles&quot;</td><td>&quot;CA&quot;</td><td>&quot;USA&quot;</td><td>33.94254</td><td>-118.40807</td></tr><tr><td>2015</td><td>1</td><td>1</td><td>4</td><td>&quot;US&quot;</td><td>840</td><td>&quot;N171US&quot;</td><td>&quot;SFO&quot;</td><td>&quot;CLT&quot;</td><td>&quot;00&quot;</td><td>&quot;00&quot;</td><td>-2</td><td>16</td><td>34</td><td>286</td><td>293</td><td>266</td><td>2296</td><td>800</td><td>11</td><td>806</td><td>811</td><td>5</td><td>0</td><td>0</td><td>null</td><td>null</td><td>null</td><td>null</td><td>null</td><td>null</td><td>&quot;San Francisco …</td><td>&quot;San Francisco&quot;</td><td>&quot;CA&quot;</td><td>&quot;USA&quot;</td><td>37.619</td><td>-122.37484</td></tr><tr><td>2015</td><td>1</td><td>1</td><td>4</td><td>&quot;AA&quot;</td><td>258</td><td>&quot;N3HYAA&quot;</td><td>&quot;LAX&quot;</td><td>&quot;MIA&quot;</td><td>&quot;00&quot;</td><td>&quot;00&quot;</td><td>-5</td><td>15</td><td>30</td><td>285</td><td>281</td><td>258</td><td>2342</td><td>748</td><td>8</td><td>805</td><td>756</td><td>-9</td><td>0</td><td>0</td><td>null</td><td>null</td><td>null</td><td>null</td><td>null</td><td>null</td><td>&quot;Los Angeles In…</td><td>&quot;Los Angeles&quot;</td><td>&quot;CA&quot;</td><td>&quot;USA&quot;</td><td>33.94254</td><td>-118.40807</td></tr><tr><td>2015</td><td>1</td><td>1</td><td>4</td><td>&quot;AS&quot;</td><td>135</td><td>&quot;N527AS&quot;</td><td>&quot;SEA&quot;</td><td>&quot;ANC&quot;</td><td>&quot;00&quot;</td><td>&quot;00&quot;</td><td>-1</td><td>11</td><td>35</td><td>235</td><td>215</td><td>199</td><td>1448</td><td>254</td><td>5</td><td>320</td><td>259</td><td>-21</td><td>0</td><td>0</td><td>null</td><td>null</td><td>null</td><td>null</td><td>null</td><td>null</td><td>&quot;Seattle-Tacoma…</td><td>&quot;Seattle&quot;</td><td>&quot;WA&quot;</td><td>&quot;USA&quot;</td><td>47.44898</td><td>-122.30931</td></tr><tr><td>2015</td><td>1</td><td>1</td><td>4</td><td>&quot;DL&quot;</td><td>806</td><td>&quot;N3730B&quot;</td><td>&quot;SFO&quot;</td><td>&quot;MSP&quot;</td><td>&quot;00&quot;</td><td>&quot;00&quot;</td><td>-5</td><td>18</td><td>38</td><td>217</td><td>230</td><td>206</td><td>1589</td><td>604</td><td>6</td><td>602</td><td>610</td><td>8</td><td>0</td><td>0</td><td>null</td><td>null</td><td>null</td><td>null</td><td>null</td><td>null</td><td>&quot;San Francisco …</td><td>&quot;San Francisco&quot;</td><td>&quot;CA&quot;</td><td>&quot;USA&quot;</td><td>37.619</td><td>-122.37484</td></tr><tr><td>2015</td><td>1</td><td>1</td><td>4</td><td>&quot;NK&quot;</td><td>612</td><td>&quot;N635NK&quot;</td><td>&quot;LAS&quot;</td><td>&quot;MSP&quot;</td><td>&quot;00&quot;</td><td>&quot;00&quot;</td><td>-6</td><td>11</td><td>30</td><td>181</td><td>170</td><td>154</td><td>1299</td><td>504</td><td>5</td><td>526</td><td>509</td><td>-17</td><td>0</td><td>0</td><td>null</td><td>null</td><td>null</td><td>null</td><td>null</td><td>null</td><td>&quot;McCarran Inter…</td><td>&quot;Las Vegas&quot;</td><td>&quot;NV&quot;</td><td>&quot;USA&quot;</td><td>36.08036</td><td>-115.15233</td></tr><tr><td>2015</td><td>1</td><td>1</td><td>4</td><td>&quot;US&quot;</td><td>2013</td><td>&quot;N584UW&quot;</td><td>&quot;LAX&quot;</td><td>&quot;CLT&quot;</td><td>&quot;00&quot;</td><td>&quot;00&quot;</td><td>14</td><td>13</td><td>57</td><td>273</td><td>249</td><td>228</td><td>2125</td><td>745</td><td>8</td><td>803</td><td>753</td><td>-10</td><td>0</td><td>0</td><td>null</td><td>null</td><td>null</td><td>null</td><td>null</td><td>null</td><td>&quot;Los Angeles In…</td><td>&quot;Los Angeles&quot;</td><td>&quot;CA&quot;</td><td>&quot;USA&quot;</td><td>33.94254</td><td>-118.40807</td></tr><tr><td>2015</td><td>1</td><td>1</td><td>4</td><td>&quot;AA&quot;</td><td>1112</td><td>&quot;N3LAAA&quot;</td><td>&quot;SFO&quot;</td><td>&quot;DFW&quot;</td><td>&quot;00&quot;</td><td>&quot;00&quot;</td><td>-11</td><td>17</td><td>36</td><td>195</td><td>193</td><td>173</td><td>1464</td><td>529</td><td>3</td><td>545</td><td>532</td><td>-13</td><td>0</td><td>0</td><td>null</td><td>null</td><td>null</td><td>null</td><td>null</td><td>null</td><td>&quot;San Francisco …</td><td>&quot;San Francisco&quot;</td><td>&quot;CA&quot;</td><td>&quot;USA&quot;</td><td>37.619</td><td>-122.37484</td></tr><tr><td>2015</td><td>1</td><td>1</td><td>4</td><td>&quot;DL&quot;</td><td>1173</td><td>&quot;N826DN&quot;</td><td>&quot;LAS&quot;</td><td>&quot;ATL&quot;</td><td>&quot;00&quot;</td><td>&quot;00&quot;</td><td>3</td><td>12</td><td>45</td><td>221</td><td>203</td><td>186</td><td>1747</td><td>651</td><td>5</td><td>711</td><td>656</td><td>-15</td><td>0</td><td>0</td><td>null</td><td>null</td><td>null</td><td>null</td><td>null</td><td>null</td><td>&quot;McCarran Inter…</td><td>&quot;Las Vegas&quot;</td><td>&quot;NV&quot;</td><td>&quot;USA&quot;</td><td>36.08036</td><td>-115.15233</td></tr><tr><td>2015</td><td>1</td><td>1</td><td>4</td><td>&quot;DL&quot;</td><td>2336</td><td>&quot;N958DN&quot;</td><td>&quot;DEN&quot;</td><td>&quot;ATL&quot;</td><td>&quot;00&quot;</td><td>&quot;00&quot;</td><td>-6</td><td>12</td><td>36</td><td>173</td><td>149</td><td>133</td><td>1199</td><td>449</td><td>4</td><td>523</td><td>453</td><td>-30</td><td>0</td><td>0</td><td>null</td><td>null</td><td>null</td><td>null</td><td>null</td><td>null</td><td>&quot;Denver Interna…</td><td>&quot;Denver&quot;</td><td>&quot;CO&quot;</td><td>&quot;USA&quot;</td><td>39.85841</td><td>-104.667</td></tr><tr><td>2015</td><td>1</td><td>1</td><td>4</td><td>&quot;AA&quot;</td><td>1674</td><td>&quot;N853AA&quot;</td><td>&quot;LAS&quot;</td><td>&quot;MIA&quot;</td><td>&quot;00&quot;</td><td>&quot;00&quot;</td><td>-8</td><td>21</td><td>48</td><td>268</td><td>266</td><td>238</td><td>2174</td><td>746</td><td>7</td><td>803</td><td>753</td><td>-10</td><td>0</td><td>0</td><td>null</td><td>null</td><td>null</td><td>null</td><td>null</td><td>null</td><td>&quot;McCarran Inter…</td><td>&quot;Las Vegas&quot;</td><td>&quot;NV&quot;</td><td>&quot;USA&quot;</td><td>36.08036</td><td>-115.15233</td></tr><tr><td>&hellip;</td><td>&hellip;</td><td>&hellip;</td><td>&hellip;</td><td>&hellip;</td><td>&hellip;</td><td>&hellip;</td><td>&hellip;</td><td>&hellip;</td><td>&hellip;</td><td>&hellip;</td><td>&hellip;</td><td>&hellip;</td><td>&hellip;</td><td>&hellip;</td><td>&hellip;</td><td>&hellip;</td><td>&hellip;</td><td>&hellip;</td><td>&hellip;</td><td>&hellip;</td><td>&hellip;</td><td>&hellip;</td><td>&hellip;</td><td>&hellip;</td><td>&hellip;</td><td>&hellip;</td><td>&hellip;</td><td>&hellip;</td><td>&hellip;</td><td>&hellip;</td><td>&hellip;</td><td>&hellip;</td><td>&hellip;</td><td>&hellip;</td><td>&hellip;</td><td>&hellip;</td></tr><tr><td>2015</td><td>12</td><td>31</td><td>4</td><td>&quot;AA&quot;</td><td>2342</td><td>&quot;N3DLAA&quot;</td><td>&quot;DEN&quot;</td><td>&quot;MIA&quot;</td><td>&quot;23&quot;</td><td>&quot;23&quot;</td><td>-8</td><td>18</td><td>9</td><td>224</td><td>214</td><td>190</td><td>1709</td><td>519</td><td>6</td><td>543</td><td>525</td><td>-18</td><td>0</td><td>0</td><td>null</td><td>null</td><td>null</td><td>null</td><td>null</td><td>null</td><td>&quot;Denver Interna…</td><td>&quot;Denver&quot;</td><td>&quot;CO&quot;</td><td>&quot;USA&quot;</td><td>39.85841</td><td>-104.667</td></tr><tr><td>2015</td><td>12</td><td>31</td><td>4</td><td>&quot;AA&quot;</td><td>219</td><td>&quot;N3LYAA&quot;</td><td>&quot;LAX&quot;</td><td>&quot;ORD&quot;</td><td>&quot;23&quot;</td><td>&quot;23&quot;</td><td>-1</td><td>23</td><td>21</td><td>244</td><td>226</td><td>198</td><td>1744</td><td>539</td><td>5</td><td>603</td><td>544</td><td>-19</td><td>0</td><td>0</td><td>null</td><td>null</td><td>null</td><td>null</td><td>null</td><td>null</td><td>&quot;Los Angeles In…</td><td>&quot;Los Angeles&quot;</td><td>&quot;CA&quot;</td><td>&quot;USA&quot;</td><td>33.94254</td><td>-118.40807</td></tr><tr><td>2015</td><td>12</td><td>31</td><td>4</td><td>&quot;B6&quot;</td><td>1248</td><td>&quot;N948JB&quot;</td><td>&quot;LAS&quot;</td><td>&quot;JFK&quot;</td><td>&quot;23&quot;</td><td>&quot;23&quot;</td><td>159</td><td>34</td><td>312</td><td>282</td><td>282</td><td>243</td><td>2248</td><td>1015</td><td>5</td><td>741</td><td>1020</td><td>159</td><td>0</td><td>0</td><td>null</td><td>0</td><td>0</td><td>159</td><td>0</td><td>0</td><td>&quot;McCarran Inter…</td><td>&quot;Las Vegas&quot;</td><td>&quot;NV&quot;</td><td>&quot;USA&quot;</td><td>36.08036</td><td>-115.15233</td></tr><tr><td>2015</td><td>12</td><td>31</td><td>4</td><td>&quot;B6&quot;</td><td>80</td><td>&quot;N584JB&quot;</td><td>&quot;RNO&quot;</td><td>&quot;JFK&quot;</td><td>&quot;23&quot;</td><td>&quot;23&quot;</td><td>0</td><td>12</td><td>11</td><td>306</td><td>285</td><td>268</td><td>2411</td><td>739</td><td>5</td><td>805</td><td>744</td><td>-21</td><td>0</td><td>0</td><td>null</td><td>null</td><td>null</td><td>null</td><td>null</td><td>null</td><td>&quot;Reno/Tahoe Int…</td><td>&quot;Reno&quot;</td><td>&quot;NV&quot;</td><td>&quot;USA&quot;</td><td>39.49858</td><td>-119.76806</td></tr><tr><td>2015</td><td>12</td><td>31</td><td>4</td><td>&quot;B6&quot;</td><td>802</td><td>&quot;N589JB&quot;</td><td>&quot;SLC&quot;</td><td>&quot;MCO&quot;</td><td>&quot;23&quot;</td><td>&quot;00&quot;</td><td>16</td><td>14</td><td>29</td><td>249</td><td>250</td><td>211</td><td>1931</td><td>600</td><td>25</td><td>608</td><td>625</td><td>17</td><td>0</td><td>0</td><td>null</td><td>1</td><td>0</td><td>16</td><td>0</td><td>0</td><td>&quot;Salt Lake City…</td><td>&quot;Salt Lake City…</td><td>&quot;UT&quot;</td><td>&quot;USA&quot;</td><td>40.78839</td><td>-111.97777</td></tr><tr><td>2015</td><td>12</td><td>31</td><td>4</td><td>&quot;B6&quot;</td><td>98</td><td>&quot;N607JB&quot;</td><td>&quot;DEN&quot;</td><td>&quot;JFK&quot;</td><td>&quot;23&quot;</td><td>&quot;00&quot;</td><td>7</td><td>13</td><td>19</td><td>211</td><td>193</td><td>173</td><td>1626</td><td>512</td><td>7</td><td>530</td><td>519</td><td>-11</td><td>0</td><td>0</td><td>null</td><td>null</td><td>null</td><td>null</td><td>null</td><td>null</td><td>&quot;Denver Interna…</td><td>&quot;Denver&quot;</td><td>&quot;CO&quot;</td><td>&quot;USA&quot;</td><td>39.85841</td><td>-104.667</td></tr><tr><td>2015</td><td>12</td><td>31</td><td>4</td><td>&quot;B6&quot;</td><td>66</td><td>&quot;N655JB&quot;</td><td>&quot;ABQ&quot;</td><td>&quot;JFK&quot;</td><td>&quot;23&quot;</td><td>&quot;00&quot;</td><td>16</td><td>9</td><td>24</td><td>227</td><td>214</td><td>190</td><td>1826</td><td>534</td><td>15</td><td>546</td><td>549</td><td>3</td><td>0</td><td>0</td><td>null</td><td>null</td><td>null</td><td>null</td><td>null</td><td>null</td><td>&quot;Albuquerque In…</td><td>&quot;Albuquerque&quot;</td><td>&quot;NM&quot;</td><td>&quot;USA&quot;</td><td>35.04022</td><td>-106.60919</td></tr><tr><td>2015</td><td>12</td><td>31</td><td>4</td><td>&quot;B6&quot;</td><td>688</td><td>&quot;N657JB&quot;</td><td>&quot;LAX&quot;</td><td>&quot;BOS&quot;</td><td>&quot;23&quot;</td><td>&quot;23&quot;</td><td>-4</td><td>22</td><td>17</td><td>320</td><td>298</td><td>272</td><td>2611</td><td>749</td><td>4</td><td>819</td><td>753</td><td>-26</td><td>0</td><td>0</td><td>null</td><td>null</td><td>null</td><td>null</td><td>null</td><td>null</td><td>&quot;Los Angeles In…</td><td>&quot;Los Angeles&quot;</td><td>&quot;CA&quot;</td><td>&quot;USA&quot;</td><td>33.94254</td><td>-118.40807</td></tr><tr><td>2015</td><td>12</td><td>31</td><td>4</td><td>&quot;B6&quot;</td><td>745</td><td>&quot;N828JB&quot;</td><td>&quot;JFK&quot;</td><td>&quot;PSE&quot;</td><td>&quot;23&quot;</td><td>&quot;23&quot;</td><td>-4</td><td>17</td><td>12</td><td>227</td><td>215</td><td>195</td><td>1617</td><td>427</td><td>3</td><td>446</td><td>430</td><td>-16</td><td>0</td><td>0</td><td>null</td><td>null</td><td>null</td><td>null</td><td>null</td><td>null</td><td>&quot;John F. Kenned…</td><td>&quot;New York&quot;</td><td>&quot;NY&quot;</td><td>&quot;USA&quot;</td><td>40.63975</td><td>-73.77893</td></tr><tr><td>2015</td><td>12</td><td>31</td><td>4</td><td>&quot;B6&quot;</td><td>1503</td><td>&quot;N913JB&quot;</td><td>&quot;JFK&quot;</td><td>&quot;SJU&quot;</td><td>&quot;23&quot;</td><td>&quot;23&quot;</td><td>-9</td><td>17</td><td>7</td><td>221</td><td>222</td><td>197</td><td>1598</td><td>424</td><td>8</td><td>440</td><td>432</td><td>-8</td><td>0</td><td>0</td><td>null</td><td>null</td><td>null</td><td>null</td><td>null</td><td>null</td><td>&quot;John F. Kenned…</td><td>&quot;New York&quot;</td><td>&quot;NY&quot;</td><td>&quot;USA&quot;</td><td>40.63975</td><td>-73.77893</td></tr><tr><td>2015</td><td>12</td><td>31</td><td>4</td><td>&quot;B6&quot;</td><td>333</td><td>&quot;N527JB&quot;</td><td>&quot;MCO&quot;</td><td>&quot;SJU&quot;</td><td>&quot;23&quot;</td><td>&quot;23&quot;</td><td>-6</td><td>10</td><td>3</td><td>161</td><td>157</td><td>144</td><td>1189</td><td>327</td><td>3</td><td>340</td><td>330</td><td>-10</td><td>0</td><td>0</td><td>null</td><td>null</td><td>null</td><td>null</td><td>null</td><td>null</td><td>&quot;Orlando Intern…</td><td>&quot;Orlando&quot;</td><td>&quot;FL&quot;</td><td>&quot;USA&quot;</td><td>28.42889</td><td>-81.31603</td></tr><tr><td>2015</td><td>12</td><td>31</td><td>4</td><td>&quot;B6&quot;</td><td>839</td><td>&quot;N534JB&quot;</td><td>&quot;JFK&quot;</td><td>&quot;BQN&quot;</td><td>&quot;23&quot;</td><td>&quot;00&quot;</td><td>15</td><td>14</td><td>28</td><td>221</td><td>208</td><td>189</td><td>1576</td><td>437</td><td>5</td><td>440</td><td>442</td><td>2</td><td>0</td><td>0</td><td>null</td><td>null</td><td>null</td><td>null</td><td>null</td><td>null</td><td>&quot;John F. Kenned…</td><td>&quot;New York&quot;</td><td>&quot;NY&quot;</td><td>&quot;USA&quot;</td><td>40.63975</td><td>-73.77893</td></tr></tbody></table></div>"
      ],
      "text/plain": [
       "shape: (5_819_079, 37)\n",
       "┌──────┬───────┬─────┬─────────────┬───┬───────┬─────────┬──────────┬────────────┐\n",
       "│ YEAR ┆ MONTH ┆ DAY ┆ DAY_OF_WEEK ┆ … ┆ STATE ┆ COUNTRY ┆ LATITUDE ┆ LONGITUDE  │\n",
       "│ ---  ┆ ---   ┆ --- ┆ ---         ┆   ┆ ---   ┆ ---     ┆ ---      ┆ ---        │\n",
       "│ i64  ┆ i64   ┆ i64 ┆ i64         ┆   ┆ str   ┆ str     ┆ f64      ┆ f64        │\n",
       "╞══════╪═══════╪═════╪═════════════╪═══╪═══════╪═════════╪══════════╪════════════╡\n",
       "│ 2015 ┆ 1     ┆ 1   ┆ 4           ┆ … ┆ AK    ┆ USA     ┆ 61.17432 ┆ -149.99619 │\n",
       "│ 2015 ┆ 1     ┆ 1   ┆ 4           ┆ … ┆ CA    ┆ USA     ┆ 33.94254 ┆ -118.40807 │\n",
       "│ 2015 ┆ 1     ┆ 1   ┆ 4           ┆ … ┆ CA    ┆ USA     ┆ 37.619   ┆ -122.37484 │\n",
       "│ 2015 ┆ 1     ┆ 1   ┆ 4           ┆ … ┆ CA    ┆ USA     ┆ 33.94254 ┆ -118.40807 │\n",
       "│ …    ┆ …     ┆ …   ┆ …           ┆ … ┆ …     ┆ …       ┆ …        ┆ …          │\n",
       "│ 2015 ┆ 12    ┆ 31  ┆ 4           ┆ … ┆ NY    ┆ USA     ┆ 40.63975 ┆ -73.77893  │\n",
       "│ 2015 ┆ 12    ┆ 31  ┆ 4           ┆ … ┆ NY    ┆ USA     ┆ 40.63975 ┆ -73.77893  │\n",
       "│ 2015 ┆ 12    ┆ 31  ┆ 4           ┆ … ┆ FL    ┆ USA     ┆ 28.42889 ┆ -81.31603  │\n",
       "│ 2015 ┆ 12    ┆ 31  ┆ 4           ┆ … ┆ NY    ┆ USA     ┆ 40.63975 ┆ -73.77893  │\n",
       "└──────┴───────┴─────┴─────────────┴───┴───────┴─────────┴──────────┴────────────┘"
      ]
     },
     "execution_count": 9,
     "metadata": {},
     "output_type": "execute_result"
    }
   ],
   "source": [
    "result_df_ = result_df.join(airport_data.collect(),how='left',left_on='ORIGIN_AIRPORT',right_on='IATA_CODE')\n",
    "result_df_"
   ]
  },
  {
   "cell_type": "code",
   "execution_count": 10,
   "id": "85091c62",
   "metadata": {},
   "outputs": [],
   "source": [
    "# import polars as pl\n",
    "\n",
    "# # Sample DataFrame\n",
    "# data = {'YEAR': [2022, 2022, 2023],\n",
    "#         'MONTH': [1, 2, 3],\n",
    "#         'DAY': [10, 15, 20]}\n",
    "\n",
    "# result_ = pl.DataFrame(data)\n",
    "\n",
    "# # Concatenate columns 'YEAR', 'MONTH', and 'DAY' into a new column 'Date'\n",
    "# result_ = result_.with_columns(\n",
    "#     Date=result_['YEAR'].cast(pl.String) + '-' +\n",
    "#          result_['MONTH'].cast(pl.String) + '-' +\n",
    "#          result_['DAY'].cast(pl.String)\n",
    "# )\n",
    "\n",
    "# print(result_)\n"
   ]
  },
  {
   "cell_type": "code",
   "execution_count": 10,
   "id": "8c566c25",
   "metadata": {
    "scrolled": true
   },
   "outputs": [
    {
     "data": {
      "text/html": [
       "<div><style>\n",
       ".dataframe > thead > tr,\n",
       ".dataframe > tbody > tr {\n",
       "  text-align: right;\n",
       "  white-space: pre-wrap;\n",
       "}\n",
       "</style>\n",
       "<small>shape: (5_819_079, 38)</small><table border=\"1\" class=\"dataframe\"><thead><tr><th>YEAR</th><th>MONTH</th><th>DAY</th><th>DAY_OF_WEEK</th><th>AIRLINE</th><th>FLIGHT_NUMBER</th><th>TAIL_NUMBER</th><th>ORIGIN_AIRPORT</th><th>DESTINATION_AIRPORT</th><th>SCHEDULED_DEPARTURE</th><th>DEPARTURE_TIME</th><th>DEPARTURE_DELAY</th><th>TAXI_OUT</th><th>WHEELS_OFF</th><th>SCHEDULED_TIME</th><th>ELAPSED_TIME</th><th>AIR_TIME</th><th>DISTANCE</th><th>WHEELS_ON</th><th>TAXI_IN</th><th>SCHEDULED_ARRIVAL</th><th>ARRIVAL_TIME</th><th>ARRIVAL_DELAY</th><th>DIVERTED</th><th>CANCELLED</th><th>CANCELLATION_REASON</th><th>AIR_SYSTEM_DELAY</th><th>SECURITY_DELAY</th><th>AIRLINE_DELAY</th><th>LATE_AIRCRAFT_DELAY</th><th>WEATHER_DELAY</th><th>AIRPORT</th><th>CITY</th><th>STATE</th><th>COUNTRY</th><th>LATITUDE</th><th>LONGITUDE</th><th>Date</th></tr><tr><td>i64</td><td>i64</td><td>i64</td><td>i64</td><td>str</td><td>i64</td><td>str</td><td>str</td><td>str</td><td>str</td><td>str</td><td>i64</td><td>i64</td><td>i64</td><td>i64</td><td>i64</td><td>i64</td><td>i64</td><td>i64</td><td>i64</td><td>i64</td><td>i64</td><td>i64</td><td>i64</td><td>i64</td><td>str</td><td>i64</td><td>i64</td><td>i64</td><td>i64</td><td>i64</td><td>str</td><td>str</td><td>str</td><td>str</td><td>f64</td><td>f64</td><td>str</td></tr></thead><tbody><tr><td>2015</td><td>1</td><td>1</td><td>4</td><td>&quot;AS&quot;</td><td>98</td><td>&quot;N407AS&quot;</td><td>&quot;ANC&quot;</td><td>&quot;SEA&quot;</td><td>&quot;00&quot;</td><td>&quot;23&quot;</td><td>-11</td><td>21</td><td>15</td><td>205</td><td>194</td><td>169</td><td>1448</td><td>404</td><td>4</td><td>430</td><td>408</td><td>-22</td><td>0</td><td>0</td><td>null</td><td>null</td><td>null</td><td>null</td><td>null</td><td>null</td><td>&quot;Ted Stevens An…</td><td>&quot;Anchorage&quot;</td><td>&quot;AK&quot;</td><td>&quot;USA&quot;</td><td>61.17432</td><td>-149.99619</td><td>&quot;2015-1-1&quot;</td></tr><tr><td>2015</td><td>1</td><td>1</td><td>4</td><td>&quot;AA&quot;</td><td>2336</td><td>&quot;N3KUAA&quot;</td><td>&quot;LAX&quot;</td><td>&quot;PBI&quot;</td><td>&quot;00&quot;</td><td>&quot;00&quot;</td><td>-8</td><td>12</td><td>14</td><td>280</td><td>279</td><td>263</td><td>2330</td><td>737</td><td>4</td><td>750</td><td>741</td><td>-9</td><td>0</td><td>0</td><td>null</td><td>null</td><td>null</td><td>null</td><td>null</td><td>null</td><td>&quot;Los Angeles In…</td><td>&quot;Los Angeles&quot;</td><td>&quot;CA&quot;</td><td>&quot;USA&quot;</td><td>33.94254</td><td>-118.40807</td><td>&quot;2015-1-1&quot;</td></tr><tr><td>2015</td><td>1</td><td>1</td><td>4</td><td>&quot;US&quot;</td><td>840</td><td>&quot;N171US&quot;</td><td>&quot;SFO&quot;</td><td>&quot;CLT&quot;</td><td>&quot;00&quot;</td><td>&quot;00&quot;</td><td>-2</td><td>16</td><td>34</td><td>286</td><td>293</td><td>266</td><td>2296</td><td>800</td><td>11</td><td>806</td><td>811</td><td>5</td><td>0</td><td>0</td><td>null</td><td>null</td><td>null</td><td>null</td><td>null</td><td>null</td><td>&quot;San Francisco …</td><td>&quot;San Francisco&quot;</td><td>&quot;CA&quot;</td><td>&quot;USA&quot;</td><td>37.619</td><td>-122.37484</td><td>&quot;2015-1-1&quot;</td></tr><tr><td>2015</td><td>1</td><td>1</td><td>4</td><td>&quot;AA&quot;</td><td>258</td><td>&quot;N3HYAA&quot;</td><td>&quot;LAX&quot;</td><td>&quot;MIA&quot;</td><td>&quot;00&quot;</td><td>&quot;00&quot;</td><td>-5</td><td>15</td><td>30</td><td>285</td><td>281</td><td>258</td><td>2342</td><td>748</td><td>8</td><td>805</td><td>756</td><td>-9</td><td>0</td><td>0</td><td>null</td><td>null</td><td>null</td><td>null</td><td>null</td><td>null</td><td>&quot;Los Angeles In…</td><td>&quot;Los Angeles&quot;</td><td>&quot;CA&quot;</td><td>&quot;USA&quot;</td><td>33.94254</td><td>-118.40807</td><td>&quot;2015-1-1&quot;</td></tr><tr><td>2015</td><td>1</td><td>1</td><td>4</td><td>&quot;AS&quot;</td><td>135</td><td>&quot;N527AS&quot;</td><td>&quot;SEA&quot;</td><td>&quot;ANC&quot;</td><td>&quot;00&quot;</td><td>&quot;00&quot;</td><td>-1</td><td>11</td><td>35</td><td>235</td><td>215</td><td>199</td><td>1448</td><td>254</td><td>5</td><td>320</td><td>259</td><td>-21</td><td>0</td><td>0</td><td>null</td><td>null</td><td>null</td><td>null</td><td>null</td><td>null</td><td>&quot;Seattle-Tacoma…</td><td>&quot;Seattle&quot;</td><td>&quot;WA&quot;</td><td>&quot;USA&quot;</td><td>47.44898</td><td>-122.30931</td><td>&quot;2015-1-1&quot;</td></tr><tr><td>2015</td><td>1</td><td>1</td><td>4</td><td>&quot;DL&quot;</td><td>806</td><td>&quot;N3730B&quot;</td><td>&quot;SFO&quot;</td><td>&quot;MSP&quot;</td><td>&quot;00&quot;</td><td>&quot;00&quot;</td><td>-5</td><td>18</td><td>38</td><td>217</td><td>230</td><td>206</td><td>1589</td><td>604</td><td>6</td><td>602</td><td>610</td><td>8</td><td>0</td><td>0</td><td>null</td><td>null</td><td>null</td><td>null</td><td>null</td><td>null</td><td>&quot;San Francisco …</td><td>&quot;San Francisco&quot;</td><td>&quot;CA&quot;</td><td>&quot;USA&quot;</td><td>37.619</td><td>-122.37484</td><td>&quot;2015-1-1&quot;</td></tr><tr><td>2015</td><td>1</td><td>1</td><td>4</td><td>&quot;NK&quot;</td><td>612</td><td>&quot;N635NK&quot;</td><td>&quot;LAS&quot;</td><td>&quot;MSP&quot;</td><td>&quot;00&quot;</td><td>&quot;00&quot;</td><td>-6</td><td>11</td><td>30</td><td>181</td><td>170</td><td>154</td><td>1299</td><td>504</td><td>5</td><td>526</td><td>509</td><td>-17</td><td>0</td><td>0</td><td>null</td><td>null</td><td>null</td><td>null</td><td>null</td><td>null</td><td>&quot;McCarran Inter…</td><td>&quot;Las Vegas&quot;</td><td>&quot;NV&quot;</td><td>&quot;USA&quot;</td><td>36.08036</td><td>-115.15233</td><td>&quot;2015-1-1&quot;</td></tr><tr><td>2015</td><td>1</td><td>1</td><td>4</td><td>&quot;US&quot;</td><td>2013</td><td>&quot;N584UW&quot;</td><td>&quot;LAX&quot;</td><td>&quot;CLT&quot;</td><td>&quot;00&quot;</td><td>&quot;00&quot;</td><td>14</td><td>13</td><td>57</td><td>273</td><td>249</td><td>228</td><td>2125</td><td>745</td><td>8</td><td>803</td><td>753</td><td>-10</td><td>0</td><td>0</td><td>null</td><td>null</td><td>null</td><td>null</td><td>null</td><td>null</td><td>&quot;Los Angeles In…</td><td>&quot;Los Angeles&quot;</td><td>&quot;CA&quot;</td><td>&quot;USA&quot;</td><td>33.94254</td><td>-118.40807</td><td>&quot;2015-1-1&quot;</td></tr><tr><td>2015</td><td>1</td><td>1</td><td>4</td><td>&quot;AA&quot;</td><td>1112</td><td>&quot;N3LAAA&quot;</td><td>&quot;SFO&quot;</td><td>&quot;DFW&quot;</td><td>&quot;00&quot;</td><td>&quot;00&quot;</td><td>-11</td><td>17</td><td>36</td><td>195</td><td>193</td><td>173</td><td>1464</td><td>529</td><td>3</td><td>545</td><td>532</td><td>-13</td><td>0</td><td>0</td><td>null</td><td>null</td><td>null</td><td>null</td><td>null</td><td>null</td><td>&quot;San Francisco …</td><td>&quot;San Francisco&quot;</td><td>&quot;CA&quot;</td><td>&quot;USA&quot;</td><td>37.619</td><td>-122.37484</td><td>&quot;2015-1-1&quot;</td></tr><tr><td>2015</td><td>1</td><td>1</td><td>4</td><td>&quot;DL&quot;</td><td>1173</td><td>&quot;N826DN&quot;</td><td>&quot;LAS&quot;</td><td>&quot;ATL&quot;</td><td>&quot;00&quot;</td><td>&quot;00&quot;</td><td>3</td><td>12</td><td>45</td><td>221</td><td>203</td><td>186</td><td>1747</td><td>651</td><td>5</td><td>711</td><td>656</td><td>-15</td><td>0</td><td>0</td><td>null</td><td>null</td><td>null</td><td>null</td><td>null</td><td>null</td><td>&quot;McCarran Inter…</td><td>&quot;Las Vegas&quot;</td><td>&quot;NV&quot;</td><td>&quot;USA&quot;</td><td>36.08036</td><td>-115.15233</td><td>&quot;2015-1-1&quot;</td></tr><tr><td>2015</td><td>1</td><td>1</td><td>4</td><td>&quot;DL&quot;</td><td>2336</td><td>&quot;N958DN&quot;</td><td>&quot;DEN&quot;</td><td>&quot;ATL&quot;</td><td>&quot;00&quot;</td><td>&quot;00&quot;</td><td>-6</td><td>12</td><td>36</td><td>173</td><td>149</td><td>133</td><td>1199</td><td>449</td><td>4</td><td>523</td><td>453</td><td>-30</td><td>0</td><td>0</td><td>null</td><td>null</td><td>null</td><td>null</td><td>null</td><td>null</td><td>&quot;Denver Interna…</td><td>&quot;Denver&quot;</td><td>&quot;CO&quot;</td><td>&quot;USA&quot;</td><td>39.85841</td><td>-104.667</td><td>&quot;2015-1-1&quot;</td></tr><tr><td>2015</td><td>1</td><td>1</td><td>4</td><td>&quot;AA&quot;</td><td>1674</td><td>&quot;N853AA&quot;</td><td>&quot;LAS&quot;</td><td>&quot;MIA&quot;</td><td>&quot;00&quot;</td><td>&quot;00&quot;</td><td>-8</td><td>21</td><td>48</td><td>268</td><td>266</td><td>238</td><td>2174</td><td>746</td><td>7</td><td>803</td><td>753</td><td>-10</td><td>0</td><td>0</td><td>null</td><td>null</td><td>null</td><td>null</td><td>null</td><td>null</td><td>&quot;McCarran Inter…</td><td>&quot;Las Vegas&quot;</td><td>&quot;NV&quot;</td><td>&quot;USA&quot;</td><td>36.08036</td><td>-115.15233</td><td>&quot;2015-1-1&quot;</td></tr><tr><td>&hellip;</td><td>&hellip;</td><td>&hellip;</td><td>&hellip;</td><td>&hellip;</td><td>&hellip;</td><td>&hellip;</td><td>&hellip;</td><td>&hellip;</td><td>&hellip;</td><td>&hellip;</td><td>&hellip;</td><td>&hellip;</td><td>&hellip;</td><td>&hellip;</td><td>&hellip;</td><td>&hellip;</td><td>&hellip;</td><td>&hellip;</td><td>&hellip;</td><td>&hellip;</td><td>&hellip;</td><td>&hellip;</td><td>&hellip;</td><td>&hellip;</td><td>&hellip;</td><td>&hellip;</td><td>&hellip;</td><td>&hellip;</td><td>&hellip;</td><td>&hellip;</td><td>&hellip;</td><td>&hellip;</td><td>&hellip;</td><td>&hellip;</td><td>&hellip;</td><td>&hellip;</td><td>&hellip;</td></tr><tr><td>2015</td><td>12</td><td>31</td><td>4</td><td>&quot;AA&quot;</td><td>2342</td><td>&quot;N3DLAA&quot;</td><td>&quot;DEN&quot;</td><td>&quot;MIA&quot;</td><td>&quot;23&quot;</td><td>&quot;23&quot;</td><td>-8</td><td>18</td><td>9</td><td>224</td><td>214</td><td>190</td><td>1709</td><td>519</td><td>6</td><td>543</td><td>525</td><td>-18</td><td>0</td><td>0</td><td>null</td><td>null</td><td>null</td><td>null</td><td>null</td><td>null</td><td>&quot;Denver Interna…</td><td>&quot;Denver&quot;</td><td>&quot;CO&quot;</td><td>&quot;USA&quot;</td><td>39.85841</td><td>-104.667</td><td>&quot;2015-12-31&quot;</td></tr><tr><td>2015</td><td>12</td><td>31</td><td>4</td><td>&quot;AA&quot;</td><td>219</td><td>&quot;N3LYAA&quot;</td><td>&quot;LAX&quot;</td><td>&quot;ORD&quot;</td><td>&quot;23&quot;</td><td>&quot;23&quot;</td><td>-1</td><td>23</td><td>21</td><td>244</td><td>226</td><td>198</td><td>1744</td><td>539</td><td>5</td><td>603</td><td>544</td><td>-19</td><td>0</td><td>0</td><td>null</td><td>null</td><td>null</td><td>null</td><td>null</td><td>null</td><td>&quot;Los Angeles In…</td><td>&quot;Los Angeles&quot;</td><td>&quot;CA&quot;</td><td>&quot;USA&quot;</td><td>33.94254</td><td>-118.40807</td><td>&quot;2015-12-31&quot;</td></tr><tr><td>2015</td><td>12</td><td>31</td><td>4</td><td>&quot;B6&quot;</td><td>1248</td><td>&quot;N948JB&quot;</td><td>&quot;LAS&quot;</td><td>&quot;JFK&quot;</td><td>&quot;23&quot;</td><td>&quot;23&quot;</td><td>159</td><td>34</td><td>312</td><td>282</td><td>282</td><td>243</td><td>2248</td><td>1015</td><td>5</td><td>741</td><td>1020</td><td>159</td><td>0</td><td>0</td><td>null</td><td>0</td><td>0</td><td>159</td><td>0</td><td>0</td><td>&quot;McCarran Inter…</td><td>&quot;Las Vegas&quot;</td><td>&quot;NV&quot;</td><td>&quot;USA&quot;</td><td>36.08036</td><td>-115.15233</td><td>&quot;2015-12-31&quot;</td></tr><tr><td>2015</td><td>12</td><td>31</td><td>4</td><td>&quot;B6&quot;</td><td>80</td><td>&quot;N584JB&quot;</td><td>&quot;RNO&quot;</td><td>&quot;JFK&quot;</td><td>&quot;23&quot;</td><td>&quot;23&quot;</td><td>0</td><td>12</td><td>11</td><td>306</td><td>285</td><td>268</td><td>2411</td><td>739</td><td>5</td><td>805</td><td>744</td><td>-21</td><td>0</td><td>0</td><td>null</td><td>null</td><td>null</td><td>null</td><td>null</td><td>null</td><td>&quot;Reno/Tahoe Int…</td><td>&quot;Reno&quot;</td><td>&quot;NV&quot;</td><td>&quot;USA&quot;</td><td>39.49858</td><td>-119.76806</td><td>&quot;2015-12-31&quot;</td></tr><tr><td>2015</td><td>12</td><td>31</td><td>4</td><td>&quot;B6&quot;</td><td>802</td><td>&quot;N589JB&quot;</td><td>&quot;SLC&quot;</td><td>&quot;MCO&quot;</td><td>&quot;23&quot;</td><td>&quot;00&quot;</td><td>16</td><td>14</td><td>29</td><td>249</td><td>250</td><td>211</td><td>1931</td><td>600</td><td>25</td><td>608</td><td>625</td><td>17</td><td>0</td><td>0</td><td>null</td><td>1</td><td>0</td><td>16</td><td>0</td><td>0</td><td>&quot;Salt Lake City…</td><td>&quot;Salt Lake City…</td><td>&quot;UT&quot;</td><td>&quot;USA&quot;</td><td>40.78839</td><td>-111.97777</td><td>&quot;2015-12-31&quot;</td></tr><tr><td>2015</td><td>12</td><td>31</td><td>4</td><td>&quot;B6&quot;</td><td>98</td><td>&quot;N607JB&quot;</td><td>&quot;DEN&quot;</td><td>&quot;JFK&quot;</td><td>&quot;23&quot;</td><td>&quot;00&quot;</td><td>7</td><td>13</td><td>19</td><td>211</td><td>193</td><td>173</td><td>1626</td><td>512</td><td>7</td><td>530</td><td>519</td><td>-11</td><td>0</td><td>0</td><td>null</td><td>null</td><td>null</td><td>null</td><td>null</td><td>null</td><td>&quot;Denver Interna…</td><td>&quot;Denver&quot;</td><td>&quot;CO&quot;</td><td>&quot;USA&quot;</td><td>39.85841</td><td>-104.667</td><td>&quot;2015-12-31&quot;</td></tr><tr><td>2015</td><td>12</td><td>31</td><td>4</td><td>&quot;B6&quot;</td><td>66</td><td>&quot;N655JB&quot;</td><td>&quot;ABQ&quot;</td><td>&quot;JFK&quot;</td><td>&quot;23&quot;</td><td>&quot;00&quot;</td><td>16</td><td>9</td><td>24</td><td>227</td><td>214</td><td>190</td><td>1826</td><td>534</td><td>15</td><td>546</td><td>549</td><td>3</td><td>0</td><td>0</td><td>null</td><td>null</td><td>null</td><td>null</td><td>null</td><td>null</td><td>&quot;Albuquerque In…</td><td>&quot;Albuquerque&quot;</td><td>&quot;NM&quot;</td><td>&quot;USA&quot;</td><td>35.04022</td><td>-106.60919</td><td>&quot;2015-12-31&quot;</td></tr><tr><td>2015</td><td>12</td><td>31</td><td>4</td><td>&quot;B6&quot;</td><td>688</td><td>&quot;N657JB&quot;</td><td>&quot;LAX&quot;</td><td>&quot;BOS&quot;</td><td>&quot;23&quot;</td><td>&quot;23&quot;</td><td>-4</td><td>22</td><td>17</td><td>320</td><td>298</td><td>272</td><td>2611</td><td>749</td><td>4</td><td>819</td><td>753</td><td>-26</td><td>0</td><td>0</td><td>null</td><td>null</td><td>null</td><td>null</td><td>null</td><td>null</td><td>&quot;Los Angeles In…</td><td>&quot;Los Angeles&quot;</td><td>&quot;CA&quot;</td><td>&quot;USA&quot;</td><td>33.94254</td><td>-118.40807</td><td>&quot;2015-12-31&quot;</td></tr><tr><td>2015</td><td>12</td><td>31</td><td>4</td><td>&quot;B6&quot;</td><td>745</td><td>&quot;N828JB&quot;</td><td>&quot;JFK&quot;</td><td>&quot;PSE&quot;</td><td>&quot;23&quot;</td><td>&quot;23&quot;</td><td>-4</td><td>17</td><td>12</td><td>227</td><td>215</td><td>195</td><td>1617</td><td>427</td><td>3</td><td>446</td><td>430</td><td>-16</td><td>0</td><td>0</td><td>null</td><td>null</td><td>null</td><td>null</td><td>null</td><td>null</td><td>&quot;John F. Kenned…</td><td>&quot;New York&quot;</td><td>&quot;NY&quot;</td><td>&quot;USA&quot;</td><td>40.63975</td><td>-73.77893</td><td>&quot;2015-12-31&quot;</td></tr><tr><td>2015</td><td>12</td><td>31</td><td>4</td><td>&quot;B6&quot;</td><td>1503</td><td>&quot;N913JB&quot;</td><td>&quot;JFK&quot;</td><td>&quot;SJU&quot;</td><td>&quot;23&quot;</td><td>&quot;23&quot;</td><td>-9</td><td>17</td><td>7</td><td>221</td><td>222</td><td>197</td><td>1598</td><td>424</td><td>8</td><td>440</td><td>432</td><td>-8</td><td>0</td><td>0</td><td>null</td><td>null</td><td>null</td><td>null</td><td>null</td><td>null</td><td>&quot;John F. Kenned…</td><td>&quot;New York&quot;</td><td>&quot;NY&quot;</td><td>&quot;USA&quot;</td><td>40.63975</td><td>-73.77893</td><td>&quot;2015-12-31&quot;</td></tr><tr><td>2015</td><td>12</td><td>31</td><td>4</td><td>&quot;B6&quot;</td><td>333</td><td>&quot;N527JB&quot;</td><td>&quot;MCO&quot;</td><td>&quot;SJU&quot;</td><td>&quot;23&quot;</td><td>&quot;23&quot;</td><td>-6</td><td>10</td><td>3</td><td>161</td><td>157</td><td>144</td><td>1189</td><td>327</td><td>3</td><td>340</td><td>330</td><td>-10</td><td>0</td><td>0</td><td>null</td><td>null</td><td>null</td><td>null</td><td>null</td><td>null</td><td>&quot;Orlando Intern…</td><td>&quot;Orlando&quot;</td><td>&quot;FL&quot;</td><td>&quot;USA&quot;</td><td>28.42889</td><td>-81.31603</td><td>&quot;2015-12-31&quot;</td></tr><tr><td>2015</td><td>12</td><td>31</td><td>4</td><td>&quot;B6&quot;</td><td>839</td><td>&quot;N534JB&quot;</td><td>&quot;JFK&quot;</td><td>&quot;BQN&quot;</td><td>&quot;23&quot;</td><td>&quot;00&quot;</td><td>15</td><td>14</td><td>28</td><td>221</td><td>208</td><td>189</td><td>1576</td><td>437</td><td>5</td><td>440</td><td>442</td><td>2</td><td>0</td><td>0</td><td>null</td><td>null</td><td>null</td><td>null</td><td>null</td><td>null</td><td>&quot;John F. Kenned…</td><td>&quot;New York&quot;</td><td>&quot;NY&quot;</td><td>&quot;USA&quot;</td><td>40.63975</td><td>-73.77893</td><td>&quot;2015-12-31&quot;</td></tr></tbody></table></div>"
      ],
      "text/plain": [
       "shape: (5_819_079, 38)\n",
       "┌──────┬───────┬─────┬─────────────┬───┬─────────┬──────────┬────────────┬────────────┐\n",
       "│ YEAR ┆ MONTH ┆ DAY ┆ DAY_OF_WEEK ┆ … ┆ COUNTRY ┆ LATITUDE ┆ LONGITUDE  ┆ Date       │\n",
       "│ ---  ┆ ---   ┆ --- ┆ ---         ┆   ┆ ---     ┆ ---      ┆ ---        ┆ ---        │\n",
       "│ i64  ┆ i64   ┆ i64 ┆ i64         ┆   ┆ str     ┆ f64      ┆ f64        ┆ str        │\n",
       "╞══════╪═══════╪═════╪═════════════╪═══╪═════════╪══════════╪════════════╪════════════╡\n",
       "│ 2015 ┆ 1     ┆ 1   ┆ 4           ┆ … ┆ USA     ┆ 61.17432 ┆ -149.99619 ┆ 2015-1-1   │\n",
       "│ 2015 ┆ 1     ┆ 1   ┆ 4           ┆ … ┆ USA     ┆ 33.94254 ┆ -118.40807 ┆ 2015-1-1   │\n",
       "│ 2015 ┆ 1     ┆ 1   ┆ 4           ┆ … ┆ USA     ┆ 37.619   ┆ -122.37484 ┆ 2015-1-1   │\n",
       "│ 2015 ┆ 1     ┆ 1   ┆ 4           ┆ … ┆ USA     ┆ 33.94254 ┆ -118.40807 ┆ 2015-1-1   │\n",
       "│ …    ┆ …     ┆ …   ┆ …           ┆ … ┆ …       ┆ …        ┆ …          ┆ …          │\n",
       "│ 2015 ┆ 12    ┆ 31  ┆ 4           ┆ … ┆ USA     ┆ 40.63975 ┆ -73.77893  ┆ 2015-12-31 │\n",
       "│ 2015 ┆ 12    ┆ 31  ┆ 4           ┆ … ┆ USA     ┆ 40.63975 ┆ -73.77893  ┆ 2015-12-31 │\n",
       "│ 2015 ┆ 12    ┆ 31  ┆ 4           ┆ … ┆ USA     ┆ 28.42889 ┆ -81.31603  ┆ 2015-12-31 │\n",
       "│ 2015 ┆ 12    ┆ 31  ┆ 4           ┆ … ┆ USA     ┆ 40.63975 ┆ -73.77893  ┆ 2015-12-31 │\n",
       "└──────┴───────┴─────┴─────────────┴───┴─────────┴──────────┴────────────┴────────────┘"
      ]
     },
     "execution_count": 10,
     "metadata": {},
     "output_type": "execute_result"
    }
   ],
   "source": [
    "result_df_1 = result_df_.with_columns(Date=result_df['YEAR']+'-'+result_df['MONTH']+'-'+result_df['DAY'])\n",
    "result_df_1"
   ]
  },
  {
   "cell_type": "code",
   "execution_count": 11,
   "id": "7bf8b6f8",
   "metadata": {
    "scrolled": true
   },
   "outputs": [
    {
     "data": {
      "text/html": [
       "<div><style>\n",
       ".dataframe > thead > tr,\n",
       ".dataframe > tbody > tr {\n",
       "  text-align: right;\n",
       "  white-space: pre-wrap;\n",
       "}\n",
       "</style>\n",
       "<small>shape: (5_819_079, 38)</small><table border=\"1\" class=\"dataframe\"><thead><tr><th>YEAR</th><th>MONTH</th><th>DAY</th><th>DAY_OF_WEEK</th><th>AIRLINE</th><th>FLIGHT_NUMBER</th><th>TAIL_NUMBER</th><th>ORIGIN_AIRPORT</th><th>DESTINATION_AIRPORT</th><th>SCHEDULED_DEPARTURE</th><th>DEPARTURE_TIME</th><th>DEPARTURE_DELAY</th><th>TAXI_OUT</th><th>WHEELS_OFF</th><th>SCHEDULED_TIME</th><th>ELAPSED_TIME</th><th>AIR_TIME</th><th>DISTANCE</th><th>WHEELS_ON</th><th>TAXI_IN</th><th>SCHEDULED_ARRIVAL</th><th>ARRIVAL_TIME</th><th>ARRIVAL_DELAY</th><th>DIVERTED</th><th>CANCELLED</th><th>CANCELLATION_REASON</th><th>AIR_SYSTEM_DELAY</th><th>SECURITY_DELAY</th><th>AIRLINE_DELAY</th><th>LATE_AIRCRAFT_DELAY</th><th>WEATHER_DELAY</th><th>AIRPORT</th><th>CITY</th><th>STATE</th><th>COUNTRY</th><th>LATITUDE</th><th>LONGITUDE</th><th>Date</th></tr><tr><td>i64</td><td>i64</td><td>i64</td><td>i64</td><td>str</td><td>i64</td><td>str</td><td>str</td><td>str</td><td>str</td><td>str</td><td>i64</td><td>i64</td><td>i64</td><td>i64</td><td>i64</td><td>i64</td><td>i64</td><td>i64</td><td>i64</td><td>i64</td><td>i64</td><td>i64</td><td>i64</td><td>i64</td><td>str</td><td>i64</td><td>i64</td><td>i64</td><td>i64</td><td>i64</td><td>str</td><td>str</td><td>str</td><td>str</td><td>f64</td><td>f64</td><td>date</td></tr></thead><tbody><tr><td>2015</td><td>1</td><td>1</td><td>4</td><td>&quot;AS&quot;</td><td>98</td><td>&quot;N407AS&quot;</td><td>&quot;ANC&quot;</td><td>&quot;SEA&quot;</td><td>&quot;00&quot;</td><td>&quot;23&quot;</td><td>-11</td><td>21</td><td>15</td><td>205</td><td>194</td><td>169</td><td>1448</td><td>404</td><td>4</td><td>430</td><td>408</td><td>-22</td><td>0</td><td>0</td><td>null</td><td>null</td><td>null</td><td>null</td><td>null</td><td>null</td><td>&quot;Ted Stevens An…</td><td>&quot;Anchorage&quot;</td><td>&quot;AK&quot;</td><td>&quot;USA&quot;</td><td>61.17432</td><td>-149.99619</td><td>2015-01-01</td></tr><tr><td>2015</td><td>1</td><td>1</td><td>4</td><td>&quot;AA&quot;</td><td>2336</td><td>&quot;N3KUAA&quot;</td><td>&quot;LAX&quot;</td><td>&quot;PBI&quot;</td><td>&quot;00&quot;</td><td>&quot;00&quot;</td><td>-8</td><td>12</td><td>14</td><td>280</td><td>279</td><td>263</td><td>2330</td><td>737</td><td>4</td><td>750</td><td>741</td><td>-9</td><td>0</td><td>0</td><td>null</td><td>null</td><td>null</td><td>null</td><td>null</td><td>null</td><td>&quot;Los Angeles In…</td><td>&quot;Los Angeles&quot;</td><td>&quot;CA&quot;</td><td>&quot;USA&quot;</td><td>33.94254</td><td>-118.40807</td><td>2015-01-01</td></tr><tr><td>2015</td><td>1</td><td>1</td><td>4</td><td>&quot;US&quot;</td><td>840</td><td>&quot;N171US&quot;</td><td>&quot;SFO&quot;</td><td>&quot;CLT&quot;</td><td>&quot;00&quot;</td><td>&quot;00&quot;</td><td>-2</td><td>16</td><td>34</td><td>286</td><td>293</td><td>266</td><td>2296</td><td>800</td><td>11</td><td>806</td><td>811</td><td>5</td><td>0</td><td>0</td><td>null</td><td>null</td><td>null</td><td>null</td><td>null</td><td>null</td><td>&quot;San Francisco …</td><td>&quot;San Francisco&quot;</td><td>&quot;CA&quot;</td><td>&quot;USA&quot;</td><td>37.619</td><td>-122.37484</td><td>2015-01-01</td></tr><tr><td>2015</td><td>1</td><td>1</td><td>4</td><td>&quot;AA&quot;</td><td>258</td><td>&quot;N3HYAA&quot;</td><td>&quot;LAX&quot;</td><td>&quot;MIA&quot;</td><td>&quot;00&quot;</td><td>&quot;00&quot;</td><td>-5</td><td>15</td><td>30</td><td>285</td><td>281</td><td>258</td><td>2342</td><td>748</td><td>8</td><td>805</td><td>756</td><td>-9</td><td>0</td><td>0</td><td>null</td><td>null</td><td>null</td><td>null</td><td>null</td><td>null</td><td>&quot;Los Angeles In…</td><td>&quot;Los Angeles&quot;</td><td>&quot;CA&quot;</td><td>&quot;USA&quot;</td><td>33.94254</td><td>-118.40807</td><td>2015-01-01</td></tr><tr><td>2015</td><td>1</td><td>1</td><td>4</td><td>&quot;AS&quot;</td><td>135</td><td>&quot;N527AS&quot;</td><td>&quot;SEA&quot;</td><td>&quot;ANC&quot;</td><td>&quot;00&quot;</td><td>&quot;00&quot;</td><td>-1</td><td>11</td><td>35</td><td>235</td><td>215</td><td>199</td><td>1448</td><td>254</td><td>5</td><td>320</td><td>259</td><td>-21</td><td>0</td><td>0</td><td>null</td><td>null</td><td>null</td><td>null</td><td>null</td><td>null</td><td>&quot;Seattle-Tacoma…</td><td>&quot;Seattle&quot;</td><td>&quot;WA&quot;</td><td>&quot;USA&quot;</td><td>47.44898</td><td>-122.30931</td><td>2015-01-01</td></tr><tr><td>2015</td><td>1</td><td>1</td><td>4</td><td>&quot;DL&quot;</td><td>806</td><td>&quot;N3730B&quot;</td><td>&quot;SFO&quot;</td><td>&quot;MSP&quot;</td><td>&quot;00&quot;</td><td>&quot;00&quot;</td><td>-5</td><td>18</td><td>38</td><td>217</td><td>230</td><td>206</td><td>1589</td><td>604</td><td>6</td><td>602</td><td>610</td><td>8</td><td>0</td><td>0</td><td>null</td><td>null</td><td>null</td><td>null</td><td>null</td><td>null</td><td>&quot;San Francisco …</td><td>&quot;San Francisco&quot;</td><td>&quot;CA&quot;</td><td>&quot;USA&quot;</td><td>37.619</td><td>-122.37484</td><td>2015-01-01</td></tr><tr><td>2015</td><td>1</td><td>1</td><td>4</td><td>&quot;NK&quot;</td><td>612</td><td>&quot;N635NK&quot;</td><td>&quot;LAS&quot;</td><td>&quot;MSP&quot;</td><td>&quot;00&quot;</td><td>&quot;00&quot;</td><td>-6</td><td>11</td><td>30</td><td>181</td><td>170</td><td>154</td><td>1299</td><td>504</td><td>5</td><td>526</td><td>509</td><td>-17</td><td>0</td><td>0</td><td>null</td><td>null</td><td>null</td><td>null</td><td>null</td><td>null</td><td>&quot;McCarran Inter…</td><td>&quot;Las Vegas&quot;</td><td>&quot;NV&quot;</td><td>&quot;USA&quot;</td><td>36.08036</td><td>-115.15233</td><td>2015-01-01</td></tr><tr><td>2015</td><td>1</td><td>1</td><td>4</td><td>&quot;US&quot;</td><td>2013</td><td>&quot;N584UW&quot;</td><td>&quot;LAX&quot;</td><td>&quot;CLT&quot;</td><td>&quot;00&quot;</td><td>&quot;00&quot;</td><td>14</td><td>13</td><td>57</td><td>273</td><td>249</td><td>228</td><td>2125</td><td>745</td><td>8</td><td>803</td><td>753</td><td>-10</td><td>0</td><td>0</td><td>null</td><td>null</td><td>null</td><td>null</td><td>null</td><td>null</td><td>&quot;Los Angeles In…</td><td>&quot;Los Angeles&quot;</td><td>&quot;CA&quot;</td><td>&quot;USA&quot;</td><td>33.94254</td><td>-118.40807</td><td>2015-01-01</td></tr><tr><td>2015</td><td>1</td><td>1</td><td>4</td><td>&quot;AA&quot;</td><td>1112</td><td>&quot;N3LAAA&quot;</td><td>&quot;SFO&quot;</td><td>&quot;DFW&quot;</td><td>&quot;00&quot;</td><td>&quot;00&quot;</td><td>-11</td><td>17</td><td>36</td><td>195</td><td>193</td><td>173</td><td>1464</td><td>529</td><td>3</td><td>545</td><td>532</td><td>-13</td><td>0</td><td>0</td><td>null</td><td>null</td><td>null</td><td>null</td><td>null</td><td>null</td><td>&quot;San Francisco …</td><td>&quot;San Francisco&quot;</td><td>&quot;CA&quot;</td><td>&quot;USA&quot;</td><td>37.619</td><td>-122.37484</td><td>2015-01-01</td></tr><tr><td>2015</td><td>1</td><td>1</td><td>4</td><td>&quot;DL&quot;</td><td>1173</td><td>&quot;N826DN&quot;</td><td>&quot;LAS&quot;</td><td>&quot;ATL&quot;</td><td>&quot;00&quot;</td><td>&quot;00&quot;</td><td>3</td><td>12</td><td>45</td><td>221</td><td>203</td><td>186</td><td>1747</td><td>651</td><td>5</td><td>711</td><td>656</td><td>-15</td><td>0</td><td>0</td><td>null</td><td>null</td><td>null</td><td>null</td><td>null</td><td>null</td><td>&quot;McCarran Inter…</td><td>&quot;Las Vegas&quot;</td><td>&quot;NV&quot;</td><td>&quot;USA&quot;</td><td>36.08036</td><td>-115.15233</td><td>2015-01-01</td></tr><tr><td>2015</td><td>1</td><td>1</td><td>4</td><td>&quot;DL&quot;</td><td>2336</td><td>&quot;N958DN&quot;</td><td>&quot;DEN&quot;</td><td>&quot;ATL&quot;</td><td>&quot;00&quot;</td><td>&quot;00&quot;</td><td>-6</td><td>12</td><td>36</td><td>173</td><td>149</td><td>133</td><td>1199</td><td>449</td><td>4</td><td>523</td><td>453</td><td>-30</td><td>0</td><td>0</td><td>null</td><td>null</td><td>null</td><td>null</td><td>null</td><td>null</td><td>&quot;Denver Interna…</td><td>&quot;Denver&quot;</td><td>&quot;CO&quot;</td><td>&quot;USA&quot;</td><td>39.85841</td><td>-104.667</td><td>2015-01-01</td></tr><tr><td>2015</td><td>1</td><td>1</td><td>4</td><td>&quot;AA&quot;</td><td>1674</td><td>&quot;N853AA&quot;</td><td>&quot;LAS&quot;</td><td>&quot;MIA&quot;</td><td>&quot;00&quot;</td><td>&quot;00&quot;</td><td>-8</td><td>21</td><td>48</td><td>268</td><td>266</td><td>238</td><td>2174</td><td>746</td><td>7</td><td>803</td><td>753</td><td>-10</td><td>0</td><td>0</td><td>null</td><td>null</td><td>null</td><td>null</td><td>null</td><td>null</td><td>&quot;McCarran Inter…</td><td>&quot;Las Vegas&quot;</td><td>&quot;NV&quot;</td><td>&quot;USA&quot;</td><td>36.08036</td><td>-115.15233</td><td>2015-01-01</td></tr><tr><td>&hellip;</td><td>&hellip;</td><td>&hellip;</td><td>&hellip;</td><td>&hellip;</td><td>&hellip;</td><td>&hellip;</td><td>&hellip;</td><td>&hellip;</td><td>&hellip;</td><td>&hellip;</td><td>&hellip;</td><td>&hellip;</td><td>&hellip;</td><td>&hellip;</td><td>&hellip;</td><td>&hellip;</td><td>&hellip;</td><td>&hellip;</td><td>&hellip;</td><td>&hellip;</td><td>&hellip;</td><td>&hellip;</td><td>&hellip;</td><td>&hellip;</td><td>&hellip;</td><td>&hellip;</td><td>&hellip;</td><td>&hellip;</td><td>&hellip;</td><td>&hellip;</td><td>&hellip;</td><td>&hellip;</td><td>&hellip;</td><td>&hellip;</td><td>&hellip;</td><td>&hellip;</td><td>&hellip;</td></tr><tr><td>2015</td><td>12</td><td>31</td><td>4</td><td>&quot;AA&quot;</td><td>2342</td><td>&quot;N3DLAA&quot;</td><td>&quot;DEN&quot;</td><td>&quot;MIA&quot;</td><td>&quot;23&quot;</td><td>&quot;23&quot;</td><td>-8</td><td>18</td><td>9</td><td>224</td><td>214</td><td>190</td><td>1709</td><td>519</td><td>6</td><td>543</td><td>525</td><td>-18</td><td>0</td><td>0</td><td>null</td><td>null</td><td>null</td><td>null</td><td>null</td><td>null</td><td>&quot;Denver Interna…</td><td>&quot;Denver&quot;</td><td>&quot;CO&quot;</td><td>&quot;USA&quot;</td><td>39.85841</td><td>-104.667</td><td>2015-12-31</td></tr><tr><td>2015</td><td>12</td><td>31</td><td>4</td><td>&quot;AA&quot;</td><td>219</td><td>&quot;N3LYAA&quot;</td><td>&quot;LAX&quot;</td><td>&quot;ORD&quot;</td><td>&quot;23&quot;</td><td>&quot;23&quot;</td><td>-1</td><td>23</td><td>21</td><td>244</td><td>226</td><td>198</td><td>1744</td><td>539</td><td>5</td><td>603</td><td>544</td><td>-19</td><td>0</td><td>0</td><td>null</td><td>null</td><td>null</td><td>null</td><td>null</td><td>null</td><td>&quot;Los Angeles In…</td><td>&quot;Los Angeles&quot;</td><td>&quot;CA&quot;</td><td>&quot;USA&quot;</td><td>33.94254</td><td>-118.40807</td><td>2015-12-31</td></tr><tr><td>2015</td><td>12</td><td>31</td><td>4</td><td>&quot;B6&quot;</td><td>1248</td><td>&quot;N948JB&quot;</td><td>&quot;LAS&quot;</td><td>&quot;JFK&quot;</td><td>&quot;23&quot;</td><td>&quot;23&quot;</td><td>159</td><td>34</td><td>312</td><td>282</td><td>282</td><td>243</td><td>2248</td><td>1015</td><td>5</td><td>741</td><td>1020</td><td>159</td><td>0</td><td>0</td><td>null</td><td>0</td><td>0</td><td>159</td><td>0</td><td>0</td><td>&quot;McCarran Inter…</td><td>&quot;Las Vegas&quot;</td><td>&quot;NV&quot;</td><td>&quot;USA&quot;</td><td>36.08036</td><td>-115.15233</td><td>2015-12-31</td></tr><tr><td>2015</td><td>12</td><td>31</td><td>4</td><td>&quot;B6&quot;</td><td>80</td><td>&quot;N584JB&quot;</td><td>&quot;RNO&quot;</td><td>&quot;JFK&quot;</td><td>&quot;23&quot;</td><td>&quot;23&quot;</td><td>0</td><td>12</td><td>11</td><td>306</td><td>285</td><td>268</td><td>2411</td><td>739</td><td>5</td><td>805</td><td>744</td><td>-21</td><td>0</td><td>0</td><td>null</td><td>null</td><td>null</td><td>null</td><td>null</td><td>null</td><td>&quot;Reno/Tahoe Int…</td><td>&quot;Reno&quot;</td><td>&quot;NV&quot;</td><td>&quot;USA&quot;</td><td>39.49858</td><td>-119.76806</td><td>2015-12-31</td></tr><tr><td>2015</td><td>12</td><td>31</td><td>4</td><td>&quot;B6&quot;</td><td>802</td><td>&quot;N589JB&quot;</td><td>&quot;SLC&quot;</td><td>&quot;MCO&quot;</td><td>&quot;23&quot;</td><td>&quot;00&quot;</td><td>16</td><td>14</td><td>29</td><td>249</td><td>250</td><td>211</td><td>1931</td><td>600</td><td>25</td><td>608</td><td>625</td><td>17</td><td>0</td><td>0</td><td>null</td><td>1</td><td>0</td><td>16</td><td>0</td><td>0</td><td>&quot;Salt Lake City…</td><td>&quot;Salt Lake City…</td><td>&quot;UT&quot;</td><td>&quot;USA&quot;</td><td>40.78839</td><td>-111.97777</td><td>2015-12-31</td></tr><tr><td>2015</td><td>12</td><td>31</td><td>4</td><td>&quot;B6&quot;</td><td>98</td><td>&quot;N607JB&quot;</td><td>&quot;DEN&quot;</td><td>&quot;JFK&quot;</td><td>&quot;23&quot;</td><td>&quot;00&quot;</td><td>7</td><td>13</td><td>19</td><td>211</td><td>193</td><td>173</td><td>1626</td><td>512</td><td>7</td><td>530</td><td>519</td><td>-11</td><td>0</td><td>0</td><td>null</td><td>null</td><td>null</td><td>null</td><td>null</td><td>null</td><td>&quot;Denver Interna…</td><td>&quot;Denver&quot;</td><td>&quot;CO&quot;</td><td>&quot;USA&quot;</td><td>39.85841</td><td>-104.667</td><td>2015-12-31</td></tr><tr><td>2015</td><td>12</td><td>31</td><td>4</td><td>&quot;B6&quot;</td><td>66</td><td>&quot;N655JB&quot;</td><td>&quot;ABQ&quot;</td><td>&quot;JFK&quot;</td><td>&quot;23&quot;</td><td>&quot;00&quot;</td><td>16</td><td>9</td><td>24</td><td>227</td><td>214</td><td>190</td><td>1826</td><td>534</td><td>15</td><td>546</td><td>549</td><td>3</td><td>0</td><td>0</td><td>null</td><td>null</td><td>null</td><td>null</td><td>null</td><td>null</td><td>&quot;Albuquerque In…</td><td>&quot;Albuquerque&quot;</td><td>&quot;NM&quot;</td><td>&quot;USA&quot;</td><td>35.04022</td><td>-106.60919</td><td>2015-12-31</td></tr><tr><td>2015</td><td>12</td><td>31</td><td>4</td><td>&quot;B6&quot;</td><td>688</td><td>&quot;N657JB&quot;</td><td>&quot;LAX&quot;</td><td>&quot;BOS&quot;</td><td>&quot;23&quot;</td><td>&quot;23&quot;</td><td>-4</td><td>22</td><td>17</td><td>320</td><td>298</td><td>272</td><td>2611</td><td>749</td><td>4</td><td>819</td><td>753</td><td>-26</td><td>0</td><td>0</td><td>null</td><td>null</td><td>null</td><td>null</td><td>null</td><td>null</td><td>&quot;Los Angeles In…</td><td>&quot;Los Angeles&quot;</td><td>&quot;CA&quot;</td><td>&quot;USA&quot;</td><td>33.94254</td><td>-118.40807</td><td>2015-12-31</td></tr><tr><td>2015</td><td>12</td><td>31</td><td>4</td><td>&quot;B6&quot;</td><td>745</td><td>&quot;N828JB&quot;</td><td>&quot;JFK&quot;</td><td>&quot;PSE&quot;</td><td>&quot;23&quot;</td><td>&quot;23&quot;</td><td>-4</td><td>17</td><td>12</td><td>227</td><td>215</td><td>195</td><td>1617</td><td>427</td><td>3</td><td>446</td><td>430</td><td>-16</td><td>0</td><td>0</td><td>null</td><td>null</td><td>null</td><td>null</td><td>null</td><td>null</td><td>&quot;John F. Kenned…</td><td>&quot;New York&quot;</td><td>&quot;NY&quot;</td><td>&quot;USA&quot;</td><td>40.63975</td><td>-73.77893</td><td>2015-12-31</td></tr><tr><td>2015</td><td>12</td><td>31</td><td>4</td><td>&quot;B6&quot;</td><td>1503</td><td>&quot;N913JB&quot;</td><td>&quot;JFK&quot;</td><td>&quot;SJU&quot;</td><td>&quot;23&quot;</td><td>&quot;23&quot;</td><td>-9</td><td>17</td><td>7</td><td>221</td><td>222</td><td>197</td><td>1598</td><td>424</td><td>8</td><td>440</td><td>432</td><td>-8</td><td>0</td><td>0</td><td>null</td><td>null</td><td>null</td><td>null</td><td>null</td><td>null</td><td>&quot;John F. Kenned…</td><td>&quot;New York&quot;</td><td>&quot;NY&quot;</td><td>&quot;USA&quot;</td><td>40.63975</td><td>-73.77893</td><td>2015-12-31</td></tr><tr><td>2015</td><td>12</td><td>31</td><td>4</td><td>&quot;B6&quot;</td><td>333</td><td>&quot;N527JB&quot;</td><td>&quot;MCO&quot;</td><td>&quot;SJU&quot;</td><td>&quot;23&quot;</td><td>&quot;23&quot;</td><td>-6</td><td>10</td><td>3</td><td>161</td><td>157</td><td>144</td><td>1189</td><td>327</td><td>3</td><td>340</td><td>330</td><td>-10</td><td>0</td><td>0</td><td>null</td><td>null</td><td>null</td><td>null</td><td>null</td><td>null</td><td>&quot;Orlando Intern…</td><td>&quot;Orlando&quot;</td><td>&quot;FL&quot;</td><td>&quot;USA&quot;</td><td>28.42889</td><td>-81.31603</td><td>2015-12-31</td></tr><tr><td>2015</td><td>12</td><td>31</td><td>4</td><td>&quot;B6&quot;</td><td>839</td><td>&quot;N534JB&quot;</td><td>&quot;JFK&quot;</td><td>&quot;BQN&quot;</td><td>&quot;23&quot;</td><td>&quot;00&quot;</td><td>15</td><td>14</td><td>28</td><td>221</td><td>208</td><td>189</td><td>1576</td><td>437</td><td>5</td><td>440</td><td>442</td><td>2</td><td>0</td><td>0</td><td>null</td><td>null</td><td>null</td><td>null</td><td>null</td><td>null</td><td>&quot;John F. Kenned…</td><td>&quot;New York&quot;</td><td>&quot;NY&quot;</td><td>&quot;USA&quot;</td><td>40.63975</td><td>-73.77893</td><td>2015-12-31</td></tr></tbody></table></div>"
      ],
      "text/plain": [
       "shape: (5_819_079, 38)\n",
       "┌──────┬───────┬─────┬─────────────┬───┬─────────┬──────────┬────────────┬────────────┐\n",
       "│ YEAR ┆ MONTH ┆ DAY ┆ DAY_OF_WEEK ┆ … ┆ COUNTRY ┆ LATITUDE ┆ LONGITUDE  ┆ Date       │\n",
       "│ ---  ┆ ---   ┆ --- ┆ ---         ┆   ┆ ---     ┆ ---      ┆ ---        ┆ ---        │\n",
       "│ i64  ┆ i64   ┆ i64 ┆ i64         ┆   ┆ str     ┆ f64      ┆ f64        ┆ date       │\n",
       "╞══════╪═══════╪═════╪═════════════╪═══╪═════════╪══════════╪════════════╪════════════╡\n",
       "│ 2015 ┆ 1     ┆ 1   ┆ 4           ┆ … ┆ USA     ┆ 61.17432 ┆ -149.99619 ┆ 2015-01-01 │\n",
       "│ 2015 ┆ 1     ┆ 1   ┆ 4           ┆ … ┆ USA     ┆ 33.94254 ┆ -118.40807 ┆ 2015-01-01 │\n",
       "│ 2015 ┆ 1     ┆ 1   ┆ 4           ┆ … ┆ USA     ┆ 37.619   ┆ -122.37484 ┆ 2015-01-01 │\n",
       "│ 2015 ┆ 1     ┆ 1   ┆ 4           ┆ … ┆ USA     ┆ 33.94254 ┆ -118.40807 ┆ 2015-01-01 │\n",
       "│ …    ┆ …     ┆ …   ┆ …           ┆ … ┆ …       ┆ …        ┆ …          ┆ …          │\n",
       "│ 2015 ┆ 12    ┆ 31  ┆ 4           ┆ … ┆ USA     ┆ 40.63975 ┆ -73.77893  ┆ 2015-12-31 │\n",
       "│ 2015 ┆ 12    ┆ 31  ┆ 4           ┆ … ┆ USA     ┆ 40.63975 ┆ -73.77893  ┆ 2015-12-31 │\n",
       "│ 2015 ┆ 12    ┆ 31  ┆ 4           ┆ … ┆ USA     ┆ 28.42889 ┆ -81.31603  ┆ 2015-12-31 │\n",
       "│ 2015 ┆ 12    ┆ 31  ┆ 4           ┆ … ┆ USA     ┆ 40.63975 ┆ -73.77893  ┆ 2015-12-31 │\n",
       "└──────┴───────┴─────┴─────────────┴───┴─────────┴──────────┴────────────┴────────────┘"
      ]
     },
     "execution_count": 11,
     "metadata": {},
     "output_type": "execute_result"
    }
   ],
   "source": [
    "result_df_2 = result_df_1.with_columns(pl.col(\"Date\").str.to_date(\"%Y-%m-%d\"))\n",
    "result_df_2"
   ]
  },
  {
   "cell_type": "markdown",
   "id": "a584bf33",
   "metadata": {},
   "source": [
    "## Univariate Analysis "
   ]
  },
  {
   "cell_type": "code",
   "execution_count": 12,
   "id": "24487f40",
   "metadata": {},
   "outputs": [],
   "source": [
    "data = result_df_2"
   ]
  },
  {
   "cell_type": "code",
   "execution_count": 13,
   "id": "acef2ba4",
   "metadata": {},
   "outputs": [],
   "source": [
    "numerical_cols.append('LATITUDE')\n",
    "numerical_cols.append('LONGITUDE')"
   ]
  },
  {
   "cell_type": "code",
   "execution_count": 151,
   "id": "ef19e152",
   "metadata": {},
   "outputs": [
    {
     "data": {
      "text/html": [
       "<div><style>\n",
       ".dataframe > thead > tr,\n",
       ".dataframe > tbody > tr {\n",
       "  text-align: right;\n",
       "  white-space: pre-wrap;\n",
       "}\n",
       "</style>\n",
       "<small>shape: (628, 2)</small><table border=\"1\" class=\"dataframe\"><thead><tr><th>ORIGIN_AIRPORT</th><th>count</th></tr><tr><td>str</td><td>u32</td></tr></thead><tbody><tr><td>&quot;VPS&quot;</td><td>4868</td></tr><tr><td>&quot;TUS&quot;</td><td>15117</td></tr><tr><td>&quot;BMI&quot;</td><td>2730</td></tr><tr><td>&quot;HOU&quot;</td><td>52042</td></tr><tr><td>&quot;EGE&quot;</td><td>1241</td></tr><tr><td>&quot;14814&quot;</td><td>556</td></tr><tr><td>&quot;10561&quot;</td><td>183</td></tr><tr><td>&quot;ILG&quot;</td><td>100</td></tr><tr><td>&quot;GPT&quot;</td><td>3605</td></tr><tr><td>&quot;12891&quot;</td><td>124</td></tr><tr><td>&quot;SBA&quot;</td><td>6017</td></tr><tr><td>&quot;SRQ&quot;</td><td>3370</td></tr><tr><td>&hellip;</td><td>&hellip;</td></tr><tr><td>&quot;14633&quot;</td><td>185</td></tr><tr><td>&quot;11013&quot;</td><td>57</td></tr><tr><td>&quot;ADK&quot;</td><td>96</td></tr><tr><td>&quot;JAX&quot;</td><td>18038</td></tr><tr><td>&quot;10185&quot;</td><td>282</td></tr><tr><td>&quot;CVG&quot;</td><td>20031</td></tr><tr><td>&quot;12519&quot;</td><td>75</td></tr><tr><td>&quot;BFL&quot;</td><td>2637</td></tr><tr><td>&quot;TXK&quot;</td><td>978</td></tr><tr><td>&quot;11637&quot;</td><td>527</td></tr><tr><td>&quot;11884&quot;</td><td>828</td></tr><tr><td>&quot;DAB&quot;</td><td>1494</td></tr></tbody></table></div>"
      ],
      "text/plain": [
       "shape: (628, 2)\n",
       "┌────────────────┬───────┐\n",
       "│ ORIGIN_AIRPORT ┆ count │\n",
       "│ ---            ┆ ---   │\n",
       "│ str            ┆ u32   │\n",
       "╞════════════════╪═══════╡\n",
       "│ VPS            ┆ 4868  │\n",
       "│ TUS            ┆ 15117 │\n",
       "│ BMI            ┆ 2730  │\n",
       "│ HOU            ┆ 52042 │\n",
       "│ …              ┆ …     │\n",
       "│ TXK            ┆ 978   │\n",
       "│ 11637          ┆ 527   │\n",
       "│ 11884          ┆ 828   │\n",
       "│ DAB            ┆ 1494  │\n",
       "└────────────────┴───────┘"
      ]
     },
     "execution_count": 151,
     "metadata": {},
     "output_type": "execute_result"
    }
   ],
   "source": [
    "result_df['ORIGIN_AIRPORT'].value_counts()"
   ]
  },
  {
   "cell_type": "code",
   "execution_count": 32,
   "id": "0395b90d",
   "metadata": {},
   "outputs": [
    {
     "data": {
      "text/html": [
       "<div><style>\n",
       ".dataframe > thead > tr,\n",
       ".dataframe > tbody > tr {\n",
       "  text-align: right;\n",
       "  white-space: pre-wrap;\n",
       "}\n",
       "</style>\n",
       "<small>shape: (9, 29)</small><table border=\"1\" class=\"dataframe\"><thead><tr><th>describe</th><th>YEAR</th><th>MONTH</th><th>DAY</th><th>DAY_OF_WEEK</th><th>FLIGHT_NUMBER</th><th>SCHEDULED_DEPARTURE</th><th>DEPARTURE_TIME</th><th>DEPARTURE_DELAY</th><th>TAXI_OUT</th><th>WHEELS_OFF</th><th>SCHEDULED_TIME</th><th>ELAPSED_TIME</th><th>AIR_TIME</th><th>DISTANCE</th><th>WHEELS_ON</th><th>TAXI_IN</th><th>SCHEDULED_ARRIVAL</th><th>ARRIVAL_TIME</th><th>ARRIVAL_DELAY</th><th>DIVERTED</th><th>CANCELLED</th><th>AIR_SYSTEM_DELAY</th><th>SECURITY_DELAY</th><th>AIRLINE_DELAY</th><th>LATE_AIRCRAFT_DELAY</th><th>WEATHER_DELAY</th><th>LATITUDE</th><th>LONGITUDE</th></tr><tr><td>str</td><td>f64</td><td>f64</td><td>f64</td><td>f64</td><td>f64</td><td>str</td><td>str</td><td>f64</td><td>f64</td><td>f64</td><td>f64</td><td>f64</td><td>f64</td><td>f64</td><td>f64</td><td>f64</td><td>f64</td><td>f64</td><td>f64</td><td>f64</td><td>f64</td><td>f64</td><td>f64</td><td>f64</td><td>f64</td><td>f64</td><td>f64</td><td>f64</td></tr></thead><tbody><tr><td>&quot;count&quot;</td><td>5.819079e6</td><td>5.819079e6</td><td>5.819079e6</td><td>5.819079e6</td><td>5.819079e6</td><td>&quot;5819079&quot;</td><td>&quot;5819079&quot;</td><td>5.819079e6</td><td>5.819079e6</td><td>5.819079e6</td><td>5.819079e6</td><td>5.819079e6</td><td>5.819079e6</td><td>5.819079e6</td><td>5.819079e6</td><td>5.819079e6</td><td>5.819079e6</td><td>5.819079e6</td><td>5.819079e6</td><td>5.819079e6</td><td>5.819079e6</td><td>5.819079e6</td><td>5.819079e6</td><td>5.819079e6</td><td>5.819079e6</td><td>5.819079e6</td><td>5.328309e6</td><td>5.328309e6</td></tr><tr><td>&quot;null_count&quot;</td><td>0.0</td><td>0.0</td><td>0.0</td><td>0.0</td><td>0.0</td><td>&quot;0&quot;</td><td>&quot;0&quot;</td><td>0.0</td><td>0.0</td><td>0.0</td><td>0.0</td><td>0.0</td><td>0.0</td><td>0.0</td><td>0.0</td><td>0.0</td><td>0.0</td><td>0.0</td><td>0.0</td><td>0.0</td><td>0.0</td><td>0.0</td><td>0.0</td><td>0.0</td><td>0.0</td><td>0.0</td><td>490770.0</td><td>490770.0</td></tr><tr><td>&quot;mean&quot;</td><td>2015.0</td><td>6.524085</td><td>15.704594</td><td>3.926941</td><td>2173.092742</td><td>null</td><td>null</td><td>9.231431</td><td>15.825724</td><td>1336.402608</td><td>141.685745</td><td>134.532365</td><td>111.462029</td><td>822.356495</td><td>1448.074877</td><td>7.316768</td><td>1493.808249</td><td>1453.017606</td><td>4.327482</td><td>0.00261</td><td>0.015446</td><td>2.463579</td><td>0.013917</td><td>3.466692</td><td>4.28967</td><td>0.53277</td><td>36.638064</td><td>-95.491233</td></tr><tr><td>&quot;std&quot;</td><td>0.0</td><td>3.405137</td><td>8.783425</td><td>1.988845</td><td>1757.063999</td><td>null</td><td>null</td><td>36.822816</td><td>9.045025</td><td>521.510113</td><td>75.210681</td><td>75.767087</td><td>73.154215</td><td>607.784287</td><td>549.746305</td><td>5.670329</td><td>507.164696</td><td>553.81946</td><td>38.919559</td><td>0.05102</td><td>0.12332</td><td>13.055845</td><td>0.916786</td><td>21.854996</td><td>20.574213</td><td>8.807465</td><td>5.999338</td><td>18.156368</td></tr><tr><td>&quot;min&quot;</td><td>2015.0</td><td>1.0</td><td>1.0</td><td>1.0</td><td>1.0</td><td>null</td><td>null</td><td>-82.0</td><td>0.0</td><td>0.0</td><td>0.0</td><td>0.0</td><td>0.0</td><td>21.0</td><td>0.0</td><td>0.0</td><td>1.0</td><td>0.0</td><td>-87.0</td><td>0.0</td><td>0.0</td><td>0.0</td><td>0.0</td><td>0.0</td><td>0.0</td><td>0.0</td><td>13.48345</td><td>-176.64603</td></tr><tr><td>&quot;25%&quot;</td><td>2015.0</td><td>4.0</td><td>8.0</td><td>2.0</td><td>730.0</td><td>null</td><td>null</td><td>-5.0</td><td>11.0</td><td>924.0</td><td>85.0</td><td>81.0</td><td>59.0</td><td>373.0</td><td>1042.0</td><td>4.0</td><td>1110.0</td><td>1046.0</td><td>-13.0</td><td>0.0</td><td>0.0</td><td>0.0</td><td>0.0</td><td>0.0</td><td>0.0</td><td>0.0</td><td>32.89595</td><td>-111.97777</td></tr><tr><td>&quot;50%&quot;</td><td>2015.0</td><td>7.0</td><td>16.0</td><td>4.0</td><td>1690.0</td><td>null</td><td>null</td><td>-1.0</td><td>14.0</td><td>1335.0</td><td>123.0</td><td>117.0</td><td>93.0</td><td>647.0</td><td>1500.0</td><td>6.0</td><td>1520.0</td><td>1504.0</td><td>-5.0</td><td>0.0</td><td>0.0</td><td>0.0</td><td>0.0</td><td>0.0</td><td>0.0</td><td>0.0</td><td>37.36186</td><td>-90.25803</td></tr><tr><td>&quot;75%&quot;</td><td>2015.0</td><td>9.0</td><td>23.0</td><td>6.0</td><td>3230.0</td><td>null</td><td>null</td><td>7.0</td><td>19.0</td><td>1750.0</td><td>173.0</td><td>167.0</td><td>143.0</td><td>1062.0</td><td>1908.0</td><td>9.0</td><td>1918.0</td><td>1913.0</td><td>7.0</td><td>0.0</td><td>0.0</td><td>0.0</td><td>0.0</td><td>0.0</td><td>0.0</td><td>0.0</td><td>40.78839</td><td>-81.68786</td></tr><tr><td>&quot;max&quot;</td><td>2015.0</td><td>12.0</td><td>31.0</td><td>7.0</td><td>9855.0</td><td>null</td><td>null</td><td>1988.0</td><td>225.0</td><td>2400.0</td><td>718.0</td><td>766.0</td><td>690.0</td><td>4983.0</td><td>2400.0</td><td>248.0</td><td>2400.0</td><td>2400.0</td><td>1971.0</td><td>1.0</td><td>1.0</td><td>1134.0</td><td>573.0</td><td>1971.0</td><td>1331.0</td><td>1211.0</td><td>71.28545</td><td>-64.79856</td></tr></tbody></table></div>"
      ],
      "text/plain": [
       "shape: (9, 29)\n",
       "┌────────────┬────────────┬────────────┬────────────┬───┬────────────────────┬───────────────┬────────────┬────────────┐\n",
       "│ describe   ┆ YEAR       ┆ MONTH      ┆ DAY        ┆ … ┆ LATE_AIRCRAFT_DELA ┆ WEATHER_DELAY ┆ LATITUDE   ┆ LONGITUDE  │\n",
       "│ ---        ┆ ---        ┆ ---        ┆ ---        ┆   ┆ Y                  ┆ ---           ┆ ---        ┆ ---        │\n",
       "│ str        ┆ f64        ┆ f64        ┆ f64        ┆   ┆ ---                ┆ f64           ┆ f64        ┆ f64        │\n",
       "│            ┆            ┆            ┆            ┆   ┆ f64                ┆               ┆            ┆            │\n",
       "╞════════════╪════════════╪════════════╪════════════╪═══╪════════════════════╪═══════════════╪════════════╪════════════╡\n",
       "│ count      ┆ 5.819079e6 ┆ 5.819079e6 ┆ 5.819079e6 ┆ … ┆ 5.819079e6         ┆ 5.819079e6    ┆ 5.328309e6 ┆ 5.328309e6 │\n",
       "│ null_count ┆ 0.0        ┆ 0.0        ┆ 0.0        ┆ … ┆ 0.0                ┆ 0.0           ┆ 490770.0   ┆ 490770.0   │\n",
       "│ mean       ┆ 2015.0     ┆ 6.524085   ┆ 15.704594  ┆ … ┆ 4.28967            ┆ 0.53277       ┆ 36.638064  ┆ -95.491233 │\n",
       "│ std        ┆ 0.0        ┆ 3.405137   ┆ 8.783425   ┆ … ┆ 20.574213          ┆ 8.807465      ┆ 5.999338   ┆ 18.156368  │\n",
       "│ min        ┆ 2015.0     ┆ 1.0        ┆ 1.0        ┆ … ┆ 0.0                ┆ 0.0           ┆ 13.48345   ┆ -176.64603 │\n",
       "│ 25%        ┆ 2015.0     ┆ 4.0        ┆ 8.0        ┆ … ┆ 0.0                ┆ 0.0           ┆ 32.89595   ┆ -111.97777 │\n",
       "│ 50%        ┆ 2015.0     ┆ 7.0        ┆ 16.0       ┆ … ┆ 0.0                ┆ 0.0           ┆ 37.36186   ┆ -90.25803  │\n",
       "│ 75%        ┆ 2015.0     ┆ 9.0        ┆ 23.0       ┆ … ┆ 0.0                ┆ 0.0           ┆ 40.78839   ┆ -81.68786  │\n",
       "│ max        ┆ 2015.0     ┆ 12.0       ┆ 31.0       ┆ … ┆ 1331.0             ┆ 1211.0        ┆ 71.28545   ┆ -64.79856  │\n",
       "└────────────┴────────────┴────────────┴────────────┴───┴────────────────────┴───────────────┴────────────┴────────────┘"
      ]
     },
     "execution_count": 32,
     "metadata": {},
     "output_type": "execute_result"
    }
   ],
   "source": [
    "data[numerical_cols].describe()"
   ]
  },
  {
   "cell_type": "code",
   "execution_count": 40,
   "id": "d663a801",
   "metadata": {},
   "outputs": [
    {
     "data": {
      "text/plain": [
       "<AxesSubplot:ylabel='Count'>"
      ]
     },
     "execution_count": 40,
     "metadata": {},
     "output_type": "execute_result"
    },
    {
     "data": {
      "image/png": "[encoded data removed]",
      "text/plain": [
       "<Figure size 432x288 with 1 Axes>"
      ]
     },
     "metadata": {
      "needs_background": "light"
     },
     "output_type": "display_data"
    }
   ],
   "source": [
    "sns.histplot(data[\"FLIGHT_NUMBER\"].to_numpy())"
   ]
  },
  {
   "cell_type": "markdown",
   "id": "7635745e",
   "metadata": {},
   "source": [
    "distribution is right skewed"
   ]
  },
  {
   "cell_type": "code",
   "execution_count": 33,
   "id": "bac5ffe6",
   "metadata": {},
   "outputs": [
    {
     "data": {
      "text/plain": [
       "<AxesSubplot:ylabel='Count'>"
      ]
     },
     "execution_count": 33,
     "metadata": {},
     "output_type": "execute_result"
    },
    {
     "data": {
      "image/png": "[encoded data removed]",
      "text/plain": [
       "<Figure size 432x288 with 1 Axes>"
      ]
     },
     "metadata": {
      "needs_background": "light"
     },
     "output_type": "display_data"
    }
   ],
   "source": [
    "sns.histplot(data[\"LONGITUDE\"].to_numpy())"
   ]
  },
  {
   "cell_type": "code",
   "execution_count": 34,
   "id": "6a5a424d",
   "metadata": {},
   "outputs": [
    {
     "data": {
      "text/plain": [
       "<AxesSubplot:ylabel='Count'>"
      ]
     },
     "execution_count": 34,
     "metadata": {},
     "output_type": "execute_result"
    },
    {
     "data": {
      "image/png": "[encoded data removed]",
      "text/plain": [
       "<Figure size 432x288 with 1 Axes>"
      ]
     },
     "metadata": {
      "needs_background": "light"
     },
     "output_type": "display_data"
    }
   ],
   "source": [
    "sns.histplot(data[\"LATITUDE\"].to_numpy())"
   ]
  },
  {
   "cell_type": "code",
   "execution_count": 36,
   "id": "e96dca2a",
   "metadata": {},
   "outputs": [
    {
     "data": {
      "text/plain": [
       "<AxesSubplot:ylabel='Count'>"
      ]
     },
     "execution_count": 36,
     "metadata": {},
     "output_type": "execute_result"
    },
    {
     "data": {
      "image/png": "[encoded data removed]",
      "text/plain": [
       "<Figure size 432x288 with 1 Axes>"
      ]
     },
     "metadata": {
      "needs_background": "light"
     },
     "output_type": "display_data"
    }
   ],
   "source": [
    "sns.histplot(np.log(data[\"LATITUDE\"].to_numpy()))"
   ]
  },
  {
   "cell_type": "code",
   "execution_count": 39,
   "id": "4b6f2f2d",
   "metadata": {},
   "outputs": [
    {
     "data": {
      "text/html": [
       "<div><style>\n",
       ".dataframe > thead > tr,\n",
       ".dataframe > tbody > tr {\n",
       "  text-align: right;\n",
       "  white-space: pre-wrap;\n",
       "}\n",
       "</style>\n",
       "<small>shape: (2, 2)</small><table border=\"1\" class=\"dataframe\"><thead><tr><th>COUNTRY</th><th>count</th></tr><tr><td>str</td><td>u32</td></tr></thead><tbody><tr><td>null</td><td>486165</td></tr><tr><td>&quot;USA&quot;</td><td>5332914</td></tr></tbody></table></div>"
      ],
      "text/plain": [
       "shape: (2, 2)\n",
       "┌─────────┬─────────┐\n",
       "│ COUNTRY ┆ count   │\n",
       "│ ---     ┆ ---     │\n",
       "│ str     ┆ u32     │\n",
       "╞═════════╪═════════╡\n",
       "│ null    ┆ 486165  │\n",
       "│ USA     ┆ 5332914 │\n",
       "└─────────┴─────────┘"
      ]
     },
     "execution_count": 39,
     "metadata": {},
     "output_type": "execute_result"
    }
   ],
   "source": [
    "data['COUNTRY'].value_counts()"
   ]
  },
  {
   "cell_type": "markdown",
   "id": "288e59ef",
   "metadata": {},
   "source": [
    "This was a USA data, null columns are for those not in USA"
   ]
  },
  {
   "cell_type": "code",
   "execution_count": 14,
   "id": "a9403cf6",
   "metadata": {},
   "outputs": [],
   "source": [
    "data_ = data.with_columns(pl.col('COUNTRY').fill_null(\"NOT_USA\"))"
   ]
  },
  {
   "cell_type": "code",
   "execution_count": 153,
   "id": "570d0eed",
   "metadata": {},
   "outputs": [
    {
     "data": {
      "text/html": [
       "<div><style>\n",
       ".dataframe > thead > tr,\n",
       ".dataframe > tbody > tr {\n",
       "  text-align: right;\n",
       "  white-space: pre-wrap;\n",
       "}\n",
       "</style>\n",
       "<small>shape: (2, 2)</small><table border=\"1\" class=\"dataframe\"><thead><tr><th>COUNTRY</th><th>count</th></tr><tr><td>str</td><td>u32</td></tr></thead><tbody><tr><td>&quot;NOT_USA&quot;</td><td>486165</td></tr><tr><td>&quot;USA&quot;</td><td>5332914</td></tr></tbody></table></div>"
      ],
      "text/plain": [
       "shape: (2, 2)\n",
       "┌─────────┬─────────┐\n",
       "│ COUNTRY ┆ count   │\n",
       "│ ---     ┆ ---     │\n",
       "│ str     ┆ u32     │\n",
       "╞═════════╪═════════╡\n",
       "│ NOT_USA ┆ 486165  │\n",
       "│ USA     ┆ 5332914 │\n",
       "└─────────┴─────────┘"
      ]
     },
     "execution_count": 153,
     "metadata": {},
     "output_type": "execute_result"
    }
   ],
   "source": [
    "data_['COUNTRY'].value_counts()"
   ]
  },
  {
   "cell_type": "code",
   "execution_count": 54,
   "id": "29a84cad",
   "metadata": {},
   "outputs": [
    {
     "data": {
      "text/html": [
       "<div><style>\n",
       ".dataframe > thead > tr,\n",
       ".dataframe > tbody > tr {\n",
       "  text-align: right;\n",
       "  white-space: pre-wrap;\n",
       "}\n",
       "</style>\n",
       "<small>shape: (55, 2)</small><table border=\"1\" class=\"dataframe\"><thead><tr><th>STATE</th><th>count</th></tr><tr><td>str</td><td>u32</td></tr></thead><tbody><tr><td>&quot;CA&quot;</td><td>647911</td></tr><tr><td>&quot;TX&quot;</td><td>631124</td></tr><tr><td>null</td><td>486165</td></tr><tr><td>&quot;FL&quot;</td><td>415586</td></tr><tr><td>&quot;IL&quot;</td><td>381644</td></tr><tr><td>&quot;GA&quot;</td><td>360496</td></tr><tr><td>&quot;NY&quot;</td><td>246235</td></tr><tr><td>&quot;CO&quot;</td><td>215451</td></tr><tr><td>&quot;AZ&quot;</td><td>165469</td></tr><tr><td>&quot;NC&quot;</td><td>146906</td></tr><tr><td>&quot;NV&quot;</td><td>146723</td></tr><tr><td>&quot;VA&quot;</td><td>138577</td></tr><tr><td>&hellip;</td><td>&hellip;</td></tr><tr><td>&quot;RI&quot;</td><td>11058</td></tr><tr><td>&quot;KS&quot;</td><td>10966</td></tr><tr><td>&quot;SD&quot;</td><td>9267</td></tr><tr><td>&quot;WY&quot;</td><td>8218</td></tr><tr><td>&quot;NH&quot;</td><td>6292</td></tr><tr><td>&quot;VI&quot;</td><td>5287</td></tr><tr><td>&quot;ME&quot;</td><td>5047</td></tr><tr><td>&quot;VT&quot;</td><td>2978</td></tr><tr><td>&quot;WV&quot;</td><td>2385</td></tr><tr><td>&quot;GU&quot;</td><td>334</td></tr><tr><td>&quot;AS&quot;</td><td>107</td></tr><tr><td>&quot;DE&quot;</td><td>100</td></tr></tbody></table></div>"
      ],
      "text/plain": [
       "shape: (55, 2)\n",
       "┌───────┬────────┐\n",
       "│ STATE ┆ count  │\n",
       "│ ---   ┆ ---    │\n",
       "│ str   ┆ u32    │\n",
       "╞═══════╪════════╡\n",
       "│ CA    ┆ 647911 │\n",
       "│ TX    ┆ 631124 │\n",
       "│ null  ┆ 486165 │\n",
       "│ FL    ┆ 415586 │\n",
       "│ …     ┆ …      │\n",
       "│ WV    ┆ 2385   │\n",
       "│ GU    ┆ 334    │\n",
       "│ AS    ┆ 107    │\n",
       "│ DE    ┆ 100    │\n",
       "└───────┴────────┘"
      ]
     },
     "execution_count": 54,
     "metadata": {},
     "output_type": "execute_result"
    }
   ],
   "source": [
    "data_['STATE'].value_counts(sort=True)"
   ]
  },
  {
   "cell_type": "code",
   "execution_count": 55,
   "id": "9d29a26b",
   "metadata": {},
   "outputs": [
    {
     "data": {
      "image/png": "[encoded data removed]",
      "text/plain": [
       "<Figure size 936x720 with 1 Axes>"
      ]
     },
     "metadata": {
      "needs_background": "light"
     },
     "output_type": "display_data"
    }
   ],
   "source": [
    "plt.figure(figsize=(13,10))\n",
    "\n",
    "sns.barplot(y=data_['STATE'].value_counts(sort=True)['STATE'].to_numpy(),x=data_['STATE'].value_counts(sort=True)['count'].to_numpy(),color=\"grey\")\n",
    "\n",
    "plt.title(\"Category Counts in Trending Data\")\n",
    "plt.xlabel(\"Counts\")\n",
    "plt.show()"
   ]
  },
  {
   "cell_type": "code",
   "execution_count": 33,
   "id": "24d77d9b",
   "metadata": {},
   "outputs": [
    {
     "data": {
      "text/plain": [
       "['AIRLINE',\n",
       " 'TAIL_NUMBER',\n",
       " 'ORIGIN_AIRPORT',\n",
       " 'DESTINATION_AIRPORT',\n",
       " 'CANCELLATION_REASON']"
      ]
     },
     "execution_count": 33,
     "metadata": {},
     "output_type": "execute_result"
    }
   ],
   "source": [
    "#categorical lookup\n",
    "categorical_cols"
   ]
  },
  {
   "cell_type": "code",
   "execution_count": 30,
   "id": "9c7fd992",
   "metadata": {},
   "outputs": [
    {
     "data": {
      "text/html": [
       "<div><style>\n",
       ".dataframe > thead > tr,\n",
       ".dataframe > tbody > tr {\n",
       "  text-align: right;\n",
       "  white-space: pre-wrap;\n",
       "}\n",
       "</style>\n",
       "<small>shape: (14, 2)</small><table border=\"1\" class=\"dataframe\"><thead><tr><th>AIRLINE</th><th>count</th></tr><tr><td>str</td><td>u32</td></tr></thead><tbody><tr><td>&quot;WN&quot;</td><td>1261855</td></tr><tr><td>&quot;DL&quot;</td><td>875881</td></tr><tr><td>&quot;AA&quot;</td><td>725984</td></tr><tr><td>&quot;OO&quot;</td><td>588353</td></tr><tr><td>&quot;EV&quot;</td><td>571977</td></tr><tr><td>&quot;UA&quot;</td><td>515723</td></tr><tr><td>&quot;MQ&quot;</td><td>294632</td></tr><tr><td>&quot;B6&quot;</td><td>267048</td></tr><tr><td>&quot;US&quot;</td><td>198715</td></tr><tr><td>&quot;AS&quot;</td><td>172521</td></tr><tr><td>&quot;NK&quot;</td><td>117379</td></tr><tr><td>&quot;F9&quot;</td><td>90836</td></tr><tr><td>&quot;HA&quot;</td><td>76272</td></tr><tr><td>&quot;VX&quot;</td><td>61903</td></tr></tbody></table></div>"
      ],
      "text/plain": [
       "shape: (14, 2)\n",
       "┌─────────┬─────────┐\n",
       "│ AIRLINE ┆ count   │\n",
       "│ ---     ┆ ---     │\n",
       "│ str     ┆ u32     │\n",
       "╞═════════╪═════════╡\n",
       "│ WN      ┆ 1261855 │\n",
       "│ DL      ┆ 875881  │\n",
       "│ AA      ┆ 725984  │\n",
       "│ OO      ┆ 588353  │\n",
       "│ …       ┆ …       │\n",
       "│ NK      ┆ 117379  │\n",
       "│ F9      ┆ 90836   │\n",
       "│ HA      ┆ 76272   │\n",
       "│ VX      ┆ 61903   │\n",
       "└─────────┴─────────┘"
      ]
     },
     "execution_count": 30,
     "metadata": {},
     "output_type": "execute_result"
    }
   ],
   "source": [
    "airline_categories = data['AIRLINE'].value_counts(sort=True)\n",
    "airline_categories"
   ]
  },
  {
   "cell_type": "code",
   "execution_count": 29,
   "id": "7db869a1",
   "metadata": {},
   "outputs": [
    {
     "data": {},
     "metadata": {},
     "output_type": "display_data"
    },
    {
     "data": {
      "application/vnd.holoviews_exec.v0+json": "",
      "text/html": [
       "<div id='1248'>\n",
       "\n",
       "\n",
       "\n",
       "\n",
       "\n",
       "  <div class=\"bk-root\" id=\"b468c4ae-3fdd-4f79-8e6e-94c2c6cd66da\" data-root-id=\"1248\"></div>\n",
       "</div>\n",
       "<script type=\"application/javascript\">(function(root) {\n",
       "  function embed_document(root) {\n",
       "    var docs_json = {\"02bfd93f-100e-41d5-a3c2-18a92c93be92\":{\"defs\":[{\"extends\":null,\"module\":null,\"name\":\"ReactiveHTML1\",\"overrides\":[],\"properties\":[]},{\"extends\":null,\"module\":null,\"name\":\"FlexBox1\",\"overrides\":[],\"properties\":[{\"default\":\"flex-start\",\"kind\":null,\"name\":\"align_content\"},{\"default\":\"flex-start\",\"kind\":null,\"name\":\"align_items\"},{\"default\":\"row\",\"kind\":null,\"name\":\"flex_direction\"},{\"default\":\"wrap\",\"kind\":null,\"name\":\"flex_wrap\"},{\"default\":\"flex-start\",\"kind\":null,\"name\":\"justify_content\"}]},{\"extends\":null,\"module\":null,\"name\":\"GridStack1\",\"overrides\":[],\"properties\":[{\"default\":\"warn\",\"kind\":null,\"name\":\"mode\"},{\"default\":null,\"kind\":null,\"name\":\"ncols\"},{\"default\":null,\"kind\":null,\"name\":\"nrows\"},{\"default\":true,\"kind\":null,\"name\":\"allow_resize\"},{\"default\":true,\"kind\":null,\"name\":\"allow_drag\"},{\"default\":[],\"kind\":null,\"name\":\"state\"}]},{\"extends\":null,\"module\":null,\"name\":\"click1\",\"overrides\":[],\"properties\":[{\"default\":\"\",\"kind\":null,\"name\":\"terminal_output\"},{\"default\":\"\",\"kind\":null,\"name\":\"debug_name\"},{\"default\":0,\"kind\":null,\"name\":\"clears\"}]},{\"extends\":null,\"module\":null,\"name\":\"TemplateActions1\",\"overrides\":[],\"properties\":[{\"default\":0,\"kind\":null,\"name\":\"open_modal\"},{\"default\":0,\"kind\":null,\"name\":\"close_modal\"}]},{\"extends\":null,\"module\":null,\"name\":\"MaterialTemplateActions1\",\"overrides\":[],\"properties\":[{\"default\":0,\"kind\":null,\"name\":\"open_modal\"},{\"default\":0,\"kind\":null,\"name\":\"close_modal\"}]}],\"roots\":{\"references\":[{\"attributes\":{\"below\":[{\"id\":\"1262\"}],\"center\":[{\"id\":\"1265\"},{\"id\":\"1268\"}],\"height\":300,\"left\":[{\"id\":\"1266\"}],\"margin\":[5,5,5,5],\"min_border_bottom\":10,\"min_border_left\":10,\"min_border_right\":10,\"min_border_top\":10,\"renderers\":[{\"id\":\"1288\"}],\"sizing_mode\":\"fixed\",\"title\":{\"id\":\"1254\"},\"toolbar\":{\"id\":\"1275\"},\"width\":700,\"x_range\":{\"id\":\"1250\"},\"x_scale\":{\"id\":\"1258\"},\"y_range\":{\"id\":\"1251\"},\"y_scale\":{\"id\":\"1260\"}},\"id\":\"1253\",\"subtype\":\"Figure\",\"type\":\"Plot\"},{\"attributes\":{},\"id\":\"1258\",\"type\":\"LinearScale\"},{\"attributes\":{},\"id\":\"1283\",\"type\":\"Selection\"},{\"attributes\":{\"bottom_units\":\"screen\",\"coordinates\":null,\"fill_alpha\":0.5,\"fill_color\":\"lightgrey\",\"group\":null,\"left_units\":\"screen\",\"level\":\"overlay\",\"line_alpha\":1.0,\"line_color\":\"black\",\"line_dash\":[4,4],\"line_width\":2,\"right_units\":\"screen\",\"syncable\":false,\"top_units\":\"screen\"},\"id\":\"1274\",\"type\":\"BoxAnnotation\"},{\"attributes\":{\"line_color\":\"#30a2da\",\"line_width\":2,\"x\":{\"field\":\"index\"},\"y\":{\"field\":\"AIRLINE\"}},\"id\":\"1285\",\"type\":\"Line\"},{\"attributes\":{},\"id\":\"1260\",\"type\":\"CategoricalScale\"},{\"attributes\":{},\"id\":\"1295\",\"type\":\"CategoricalTickFormatter\"},{\"attributes\":{\"margin\":[5,5,5,5],\"name\":\"HSpacer02503\",\"sizing_mode\":\"stretch_width\"},\"id\":\"1317\",\"type\":\"Spacer\"},{\"attributes\":{\"coordinates\":null,\"group\":null,\"text_color\":\"black\",\"text_font_size\":\"12pt\"},\"id\":\"1254\",\"type\":\"Title\"},{\"attributes\":{\"source\":{\"id\":\"1282\"}},\"id\":\"1289\",\"type\":\"CDSView\"},{\"attributes\":{},\"id\":\"1293\",\"type\":\"AllLabels\"},{\"attributes\":{},\"id\":\"1271\",\"type\":\"WheelZoomTool\"},{\"attributes\":{},\"id\":\"1296\",\"type\":\"AllLabels\"},{\"attributes\":{\"end\":13.0,\"reset_end\":13.0,\"reset_start\":0.0,\"tags\":[[[\"index\",\"index\",null]]]},\"id\":\"1250\",\"type\":\"Range1d\"},{\"attributes\":{},\"id\":\"1270\",\"type\":\"PanTool\"},{\"attributes\":{\"data\":{\"AIRLINE\":[\"VX\",\"HA\",\"F9\",\"NK\",\"AS\",\"US\",\"B6\",\"MQ\",\"UA\",\"EV\",\"OO\",\"AA\",\"DL\",\"WN\"],\"index\":[0,1,2,3,4,5,6,7,8,9,10,11,12,13]},\"selected\":{\"id\":\"1283\"},\"selection_policy\":{\"id\":\"1304\"}},\"id\":\"1282\",\"type\":\"ColumnDataSource\"},{\"attributes\":{\"callback\":null,\"renderers\":[{\"id\":\"1288\"}],\"tags\":[\"hv_created\"],\"tooltips\":[[\"index\",\"@{index}\"],[\"AIRLINE\",\"@{AIRLINE}\"]]},\"id\":\"1252\",\"type\":\"HoverTool\"},{\"attributes\":{\"axis_label\":\"AIRLINE\",\"coordinates\":null,\"formatter\":{\"id\":\"1295\"},\"group\":null,\"major_label_policy\":{\"id\":\"1296\"},\"ticker\":{\"id\":\"1267\"}},\"id\":\"1266\",\"type\":\"CategoricalAxis\"},{\"attributes\":{\"margin\":[5,5,5,5],\"name\":\"HSpacer02502\",\"sizing_mode\":\"stretch_width\"},\"id\":\"1249\",\"type\":\"Spacer\"},{\"attributes\":{\"factors\":[\"VX\",\"HA\",\"F9\",\"NK\",\"AS\",\"US\",\"B6\",\"MQ\",\"UA\",\"EV\",\"OO\",\"AA\",\"DL\",\"WN\"],\"tags\":[[[\"AIRLINE\",\"AIRLINE\",null]]]},\"id\":\"1251\",\"type\":\"FactorRange\"},{\"attributes\":{\"line_alpha\":0.2,\"line_color\":\"#30a2da\",\"line_width\":2,\"x\":{\"field\":\"index\"},\"y\":{\"field\":\"AIRLINE\"}},\"id\":\"1287\",\"type\":\"Line\"},{\"attributes\":{},\"id\":\"1273\",\"type\":\"ResetTool\"},{\"attributes\":{},\"id\":\"1267\",\"type\":\"CategoricalTicker\"},{\"attributes\":{\"line_color\":\"#30a2da\",\"line_width\":2,\"x\":{\"field\":\"index\"},\"y\":{\"field\":\"AIRLINE\"}},\"id\":\"1290\",\"type\":\"Line\"},{\"attributes\":{\"coordinates\":null,\"data_source\":{\"id\":\"1282\"},\"glyph\":{\"id\":\"1285\"},\"group\":null,\"hover_glyph\":null,\"muted_glyph\":{\"id\":\"1287\"},\"nonselection_glyph\":{\"id\":\"1286\"},\"selection_glyph\":{\"id\":\"1290\"},\"view\":{\"id\":\"1289\"}},\"id\":\"1288\",\"type\":\"GlyphRenderer\"},{\"attributes\":{\"children\":[{\"id\":\"1249\"},{\"id\":\"1253\"},{\"id\":\"1317\"}],\"margin\":[0,0,0,0],\"name\":\"Row02498\",\"tags\":[\"embedded\"]},\"id\":\"1248\",\"type\":\"Row\"},{\"attributes\":{},\"id\":\"1269\",\"type\":\"SaveTool\"},{\"attributes\":{\"axis\":{\"id\":\"1262\"},\"coordinates\":null,\"grid_line_color\":null,\"group\":null,\"ticker\":null},\"id\":\"1265\",\"type\":\"Grid\"},{\"attributes\":{\"axis\":{\"id\":\"1266\"},\"coordinates\":null,\"dimension\":1,\"grid_line_color\":null,\"group\":null,\"ticker\":null},\"id\":\"1268\",\"type\":\"Grid\"},{\"attributes\":{\"overlay\":{\"id\":\"1274\"}},\"id\":\"1272\",\"type\":\"BoxZoomTool\"},{\"attributes\":{},\"id\":\"1292\",\"type\":\"BasicTickFormatter\"},{\"attributes\":{},\"id\":\"1263\",\"type\":\"BasicTicker\"},{\"attributes\":{\"line_alpha\":0.1,\"line_color\":\"#30a2da\",\"line_width\":2,\"x\":{\"field\":\"index\"},\"y\":{\"field\":\"AIRLINE\"}},\"id\":\"1286\",\"type\":\"Line\"},{\"attributes\":{},\"id\":\"1304\",\"type\":\"UnionRenderers\"},{\"attributes\":{\"tools\":[{\"id\":\"1252\"},{\"id\":\"1269\"},{\"id\":\"1270\"},{\"id\":\"1271\"},{\"id\":\"1272\"},{\"id\":\"1273\"}]},\"id\":\"1275\",\"type\":\"Toolbar\"},{\"attributes\":{\"axis_label\":\"\",\"coordinates\":null,\"formatter\":{\"id\":\"1292\"},\"group\":null,\"major_label_policy\":{\"id\":\"1293\"},\"ticker\":{\"id\":\"1263\"}},\"id\":\"1262\",\"type\":\"LinearAxis\"}],\"root_ids\":[\"1248\"]},\"title\":\"Bokeh Application\",\"version\":\"2.4.2\"}};\n",
       "    var render_items = [{\"docid\":\"02bfd93f-100e-41d5-a3c2-18a92c93be92\",\"root_ids\":[\"1248\"],\"roots\":{\"1248\":\"b468c4ae-3fdd-4f79-8e6e-94c2c6cd66da\"}}];\n",
       "    root.Bokeh.embed.embed_items_notebook(docs_json, render_items);\n",
       "  }\n",
       "  if (root.Bokeh !== undefined && root.Bokeh.Panel !== undefined) {\n",
       "    embed_document(root);\n",
       "  } else {\n",
       "    var attempts = 0;\n",
       "    var timer = setInterval(function(root) {\n",
       "      if (root.Bokeh !== undefined && root.Bokeh.Panel !== undefined) {\n",
       "        clearInterval(timer);\n",
       "        embed_document(root);\n",
       "      } else if (document.readyState == \"complete\") {\n",
       "        attempts++;\n",
       "        if (attempts > 200) {\n",
       "          clearInterval(timer);\n",
       "          console.log(\"Bokeh: ERROR: Unable to run BokehJS code because BokehJS library is missing\");\n",
       "        }\n",
       "      }\n",
       "    }, 25, root)\n",
       "  }\n",
       "})(window);</script>"
      ],
      "text/plain": [
       ":Curve   [index]   (AIRLINE)"
      ]
     },
     "execution_count": 29,
     "metadata": {
      "application/vnd.holoviews_exec.v0+json": {
       "id": "1248"
      }
     },
     "output_type": "execute_result"
    }
   ],
   "source": [
    "data['AIRLINE'].value_counts().sort(by='count').plot()"
   ]
  },
  {
   "cell_type": "code",
   "execution_count": 36,
   "id": "688015b5",
   "metadata": {},
   "outputs": [
    {
     "data": {
      "image/png": "[encoded data removed]",
      "text/plain": [
       "<Figure size 936x720 with 1 Axes>"
      ]
     },
     "metadata": {
      "needs_background": "light"
     },
     "output_type": "display_data"
    }
   ],
   "source": [
    "plt.figure(figsize=(13,10))\n",
    "\n",
    "sns.barplot(y=airline_categories['AIRLINE'].to_numpy(),x=airline_categories['count'].to_numpy(),color=\"green\")\n",
    "\n",
    "plt.title(\"Category Counts in Trending Data\")\n",
    "plt.xlabel(\"Counts\")\n",
    "plt.show()"
   ]
  },
  {
   "cell_type": "markdown",
   "id": "10ca9730",
   "metadata": {},
   "source": [
    "the airline WN is in majority in this dataset"
   ]
  },
  {
   "cell_type": "code",
   "execution_count": 58,
   "id": "2fadb87f",
   "metadata": {},
   "outputs": [
    {
     "data": {
      "text/plain": [
       "['YEAR',\n",
       " 'MONTH',\n",
       " 'DAY',\n",
       " 'DAY_OF_WEEK',\n",
       " 'FLIGHT_NUMBER',\n",
       " 'SCHEDULED_DEPARTURE',\n",
       " 'DEPARTURE_TIME',\n",
       " 'DEPARTURE_DELAY',\n",
       " 'TAXI_OUT',\n",
       " 'WHEELS_OFF',\n",
       " 'SCHEDULED_TIME',\n",
       " 'ELAPSED_TIME',\n",
       " 'AIR_TIME',\n",
       " 'DISTANCE',\n",
       " 'WHEELS_ON',\n",
       " 'TAXI_IN',\n",
       " 'SCHEDULED_ARRIVAL',\n",
       " 'ARRIVAL_TIME',\n",
       " 'ARRIVAL_DELAY',\n",
       " 'DIVERTED',\n",
       " 'CANCELLED',\n",
       " 'AIR_SYSTEM_DELAY',\n",
       " 'SECURITY_DELAY',\n",
       " 'AIRLINE_DELAY',\n",
       " 'LATE_AIRCRAFT_DELAY',\n",
       " 'WEATHER_DELAY',\n",
       " 'LATITUDE',\n",
       " 'LONGITUDE']"
      ]
     },
     "execution_count": 58,
     "metadata": {},
     "output_type": "execute_result"
    }
   ],
   "source": [
    "numerical_cols"
   ]
  },
  {
   "cell_type": "code",
   "execution_count": 61,
   "id": "e8fa7df3",
   "metadata": {},
   "outputs": [],
   "source": [
    "for col in TIME_COLUMNS:\n",
    "    numerical_cols.remove(col)"
   ]
  },
  {
   "cell_type": "code",
   "execution_count": 62,
   "id": "8a98645a",
   "metadata": {},
   "outputs": [
    {
     "data": {
      "text/plain": [
       "['YEAR',\n",
       " 'MONTH',\n",
       " 'DAY',\n",
       " 'DAY_OF_WEEK',\n",
       " 'FLIGHT_NUMBER',\n",
       " 'DIVERTED',\n",
       " 'CANCELLED',\n",
       " 'LATITUDE',\n",
       " 'LONGITUDE']"
      ]
     },
     "execution_count": 62,
     "metadata": {},
     "output_type": "execute_result"
    }
   ],
   "source": [
    "numerical_cols"
   ]
  },
  {
   "cell_type": "code",
   "execution_count": 68,
   "id": "212bd744",
   "metadata": {},
   "outputs": [],
   "source": [
    "#outliers\n",
    "\n",
    "def outliers(df,cols):\n",
    "    \n",
    "    for col in cols:\n",
    "        plt.figure()\n",
    "        sns.boxplot(df[col].to_numpy())\n",
    "        plt.title(col)"
   ]
  },
  {
   "cell_type": "code",
   "execution_count": 69,
   "id": "cc7d70a7",
   "metadata": {
    "scrolled": false
   },
   "outputs": [
    {
     "data": {
      "image/png": "[encoded data removed]",
      "text/plain": [
       "<Figure size 432x288 with 1 Axes>"
      ]
     },
     "metadata": {
      "needs_background": "light"
     },
     "output_type": "display_data"
    },
    {
     "data": {
      "image/png": "[encoded data removed]",
      "text/plain": [
       "<Figure size 432x288 with 1 Axes>"
      ]
     },
     "metadata": {
      "needs_background": "light"
     },
     "output_type": "display_data"
    },
    {
     "data": {
      "image/png": "[encoded data removed]",
      "text/plain": [
       "<Figure size 432x288 with 1 Axes>"
      ]
     },
     "metadata": {
      "needs_background": "light"
     },
     "output_type": "display_data"
    },
    {
     "data": {
      "image/png": "[encoded data removed]",
      "text/plain": [
       "<Figure size 432x288 with 1 Axes>"
      ]
     },
     "metadata": {
      "needs_background": "light"
     },
     "output_type": "display_data"
    },
    {
     "data": {
      "image/png": "[encoded data removed]",
      "text/plain": [
       "<Figure size 432x288 with 1 Axes>"
      ]
     },
     "metadata": {
      "needs_background": "light"
     },
     "output_type": "display_data"
    },
    {
     "data": {
      "image/png": "[encoded data removed]",
      "text/plain": [
       "<Figure size 432x288 with 1 Axes>"
      ]
     },
     "metadata": {
      "needs_background": "light"
     },
     "output_type": "display_data"
    },
    {
     "data": {
      "image/png": "[encoded data removed]",
      "text/plain": [
       "<Figure size 432x288 with 1 Axes>"
      ]
     },
     "metadata": {
      "needs_background": "light"
     },
     "output_type": "display_data"
    },
    {
     "data": {
      "image/png": "[encoded data removed]",
      "text/plain": [
       "<Figure size 432x288 with 1 Axes>"
      ]
     },
     "metadata": {
      "needs_background": "light"
     },
     "output_type": "display_data"
    },
    {
     "data": {
      "image/png": "[encoded data removed]",
      "text/plain": [
       "<Figure size 432x288 with 1 Axes>"
      ]
     },
     "metadata": {
      "needs_background": "light"
     },
     "output_type": "display_data"
    }
   ],
   "source": [
    "outliers(data_,numerical_cols)"
   ]
  },
  {
   "cell_type": "markdown",
   "id": "3b8dcf84",
   "metadata": {},
   "source": [
    "## Bivariate Analysis "
   ]
  },
  {
   "cell_type": "code",
   "execution_count": 23,
   "id": "abbcabaa",
   "metadata": {},
   "outputs": [
    {
     "data": {
      "text/html": [
       "<div><style>\n",
       ".dataframe > thead > tr,\n",
       ".dataframe > tbody > tr {\n",
       "  text-align: right;\n",
       "  white-space: pre-wrap;\n",
       "}\n",
       "</style>\n",
       "<small>shape: (14, 3)</small><table border=\"1\" class=\"dataframe\"><thead><tr><th>AIRLINE</th><th>count</th><th>flights/cancelled</th></tr><tr><td>str</td><td>u32</td><td>f64</td></tr></thead><tbody><tr><td>&quot;MQ&quot;</td><td>294632</td><td>19.609451</td></tr><tr><td>&quot;EV&quot;</td><td>571977</td><td>37.553476</td></tr><tr><td>&quot;US&quot;</td><td>198715</td><td>48.860339</td></tr><tr><td>&quot;NK&quot;</td><td>117379</td><td>58.572355</td></tr><tr><td>&quot;OO&quot;</td><td>588353</td><td>59.071586</td></tr><tr><td>&quot;B6&quot;</td><td>267048</td><td>62.45276</td></tr><tr><td>&quot;AA&quot;</td><td>725984</td><td>66.48814</td></tr><tr><td>&quot;UA&quot;</td><td>515723</td><td>78.460825</td></tr><tr><td>&quot;WN&quot;</td><td>1261855</td><td>78.654553</td></tr><tr><td>&quot;VX&quot;</td><td>61903</td><td>115.923221</td></tr><tr><td>&quot;F9&quot;</td><td>90836</td><td>154.482993</td></tr><tr><td>&quot;DL&quot;</td><td>875881</td><td>229.048379</td></tr><tr><td>&quot;AS&quot;</td><td>172521</td><td>257.878924</td></tr><tr><td>&quot;HA&quot;</td><td>76272</td><td>446.035088</td></tr></tbody></table></div>"
      ],
      "text/plain": [
       "shape: (14, 3)\n",
       "┌─────────┬────────┬───────────────────┐\n",
       "│ AIRLINE ┆ count  ┆ flights/cancelled │\n",
       "│ ---     ┆ ---    ┆ ---               │\n",
       "│ str     ┆ u32    ┆ f64               │\n",
       "╞═════════╪════════╪═══════════════════╡\n",
       "│ MQ      ┆ 294632 ┆ 19.609451         │\n",
       "│ EV      ┆ 571977 ┆ 37.553476         │\n",
       "│ US      ┆ 198715 ┆ 48.860339         │\n",
       "│ NK      ┆ 117379 ┆ 58.572355         │\n",
       "│ …       ┆ …      ┆ …                 │\n",
       "│ F9      ┆ 90836  ┆ 154.482993        │\n",
       "│ DL      ┆ 875881 ┆ 229.048379        │\n",
       "│ AS      ┆ 172521 ┆ 257.878924        │\n",
       "│ HA      ┆ 76272  ┆ 446.035088        │\n",
       "└─────────┴────────┴───────────────────┘"
      ]
     },
     "execution_count": 23,
     "metadata": {},
     "output_type": "execute_result"
    }
   ],
   "source": [
    "airline_groupby = data_.groupby('AIRLINE').agg(pl.count(),(pl.count()/pl.col('CANCELLED').sum()).alias('flights/cancelled')).sort(by='flights/cancelled')\n",
    "airline_groupby"
   ]
  },
  {
   "cell_type": "code",
   "execution_count": 40,
   "id": "4e6370f8",
   "metadata": {},
   "outputs": [
    {
     "data": {
      "text/html": [
       "<div><style>\n",
       ".dataframe > thead > tr,\n",
       ".dataframe > tbody > tr {\n",
       "  text-align: right;\n",
       "  white-space: pre-wrap;\n",
       "}\n",
       "</style>\n",
       "<small>shape: (14, 3)</small><table border=\"1\" class=\"dataframe\"><thead><tr><th>AIRLINE</th><th>count</th><th>flights/cancelled</th></tr><tr><td>str</td><td>u32</td><td>f64</td></tr></thead><tbody><tr><td>&quot;VX&quot;</td><td>61903</td><td>115.923221</td></tr><tr><td>&quot;HA&quot;</td><td>76272</td><td>446.035088</td></tr><tr><td>&quot;F9&quot;</td><td>90836</td><td>154.482993</td></tr><tr><td>&quot;NK&quot;</td><td>117379</td><td>58.572355</td></tr><tr><td>&quot;AS&quot;</td><td>172521</td><td>257.878924</td></tr><tr><td>&quot;US&quot;</td><td>198715</td><td>48.860339</td></tr><tr><td>&quot;B6&quot;</td><td>267048</td><td>62.45276</td></tr><tr><td>&quot;MQ&quot;</td><td>294632</td><td>19.609451</td></tr><tr><td>&quot;UA&quot;</td><td>515723</td><td>78.460825</td></tr><tr><td>&quot;EV&quot;</td><td>571977</td><td>37.553476</td></tr><tr><td>&quot;OO&quot;</td><td>588353</td><td>59.071586</td></tr><tr><td>&quot;AA&quot;</td><td>725984</td><td>66.48814</td></tr><tr><td>&quot;DL&quot;</td><td>875881</td><td>229.048379</td></tr><tr><td>&quot;WN&quot;</td><td>1261855</td><td>78.654553</td></tr></tbody></table></div>"
      ],
      "text/plain": [
       "shape: (14, 3)\n",
       "┌─────────┬─────────┬───────────────────┐\n",
       "│ AIRLINE ┆ count   ┆ flights/cancelled │\n",
       "│ ---     ┆ ---     ┆ ---               │\n",
       "│ str     ┆ u32     ┆ f64               │\n",
       "╞═════════╪═════════╪═══════════════════╡\n",
       "│ VX      ┆ 61903   ┆ 115.923221        │\n",
       "│ HA      ┆ 76272   ┆ 446.035088        │\n",
       "│ F9      ┆ 90836   ┆ 154.482993        │\n",
       "│ NK      ┆ 117379  ┆ 58.572355         │\n",
       "│ …       ┆ …       ┆ …                 │\n",
       "│ OO      ┆ 588353  ┆ 59.071586         │\n",
       "│ AA      ┆ 725984  ┆ 66.48814          │\n",
       "│ DL      ┆ 875881  ┆ 229.048379        │\n",
       "│ WN      ┆ 1261855 ┆ 78.654553         │\n",
       "└─────────┴─────────┴───────────────────┘"
      ]
     },
     "execution_count": 40,
     "metadata": {},
     "output_type": "execute_result"
    }
   ],
   "source": [
    "airline_groupby_ = data_.groupby('AIRLINE').agg(pl.count(),(pl.count()/pl.col('CANCELLED').sum()).alias('flights/cancelled')).sort(by='count')\n",
    "airline_groupby_"
   ]
  },
  {
   "cell_type": "code",
   "execution_count": 48,
   "id": "cef0a243",
   "metadata": {},
   "outputs": [
    {
     "data": {
      "text/plain": [
       "Text(0.04, 0.5, 'flights per cancellation')"
      ]
     },
     "execution_count": 48,
     "metadata": {},
     "output_type": "execute_result"
    },
    {
     "data": {
      "image/png": "[encoded data removed]",
      "text/plain": [
       "<Figure size 1080x720 with 2 Axes>"
      ]
     },
     "metadata": {
      "needs_background": "light"
     },
     "output_type": "display_data"
    }
   ],
   "source": [
    "fig,ax= plt.subplots(1,2,figsize=(15,10))\n",
    "sns.barplot(x=airline_groupby['AIRLINE'].to_numpy(),y=airline_groupby['flights/cancelled'],ax=ax[0])\n",
    "sns.barplot(x=airline_groupby_['AIRLINE'].to_numpy(),y=airline_groupby_['count'],ax=ax[1])\n",
    "fig.text(0.5, 0.04, 'airlines', ha='center',fontsize=15)\n",
    "fig.text(0.04, 0.5, 'flights per cancellation', va='center', rotation='vertical',fontsize=15)"
   ]
  },
  {
   "cell_type": "markdown",
   "id": "687681bf",
   "metadata": {},
   "source": [
    "From analysis we can get insights that the Airline HA produces the best number of flights per cancellation, and we could advice people to board more HA airlines to avoid cancelled flights"
   ]
  },
  {
   "cell_type": "code",
   "execution_count": 59,
   "id": "caf29eb9",
   "metadata": {},
   "outputs": [
    {
     "data": {
      "text/html": [
       "<div><style>\n",
       ".dataframe > thead > tr,\n",
       ".dataframe > tbody > tr {\n",
       "  text-align: right;\n",
       "  white-space: pre-wrap;\n",
       "}\n",
       "</style>\n",
       "<small>shape: (5, 2)</small><table border=\"1\" class=\"dataframe\"><thead><tr><th>CANCELLATION_REASON</th><th>count</th></tr><tr><td>str</td><td>u32</td></tr></thead><tbody><tr><td>&quot;0&quot;</td><td>5729195</td></tr><tr><td>&quot;B&quot;</td><td>48851</td></tr><tr><td>&quot;A&quot;</td><td>25262</td></tr><tr><td>&quot;D&quot;</td><td>22</td></tr><tr><td>&quot;C&quot;</td><td>15749</td></tr></tbody></table></div>"
      ],
      "text/plain": [
       "shape: (5, 2)\n",
       "┌─────────────────────┬─────────┐\n",
       "│ CANCELLATION_REASON ┆ count   │\n",
       "│ ---                 ┆ ---     │\n",
       "│ str                 ┆ u32     │\n",
       "╞═════════════════════╪═════════╡\n",
       "│ 0                   ┆ 5729195 │\n",
       "│ B                   ┆ 48851   │\n",
       "│ A                   ┆ 25262   │\n",
       "│ D                   ┆ 22      │\n",
       "│ C                   ┆ 15749   │\n",
       "└─────────────────────┴─────────┘"
      ]
     },
     "execution_count": 59,
     "metadata": {},
     "output_type": "execute_result"
    }
   ],
   "source": [
    "cancellation_reason = data_['CANCELLATION_REASON'].value_counts()\n",
    "cancellation_reason"
   ]
  },
  {
   "cell_type": "code",
   "execution_count": 64,
   "id": "c646ba79",
   "metadata": {},
   "outputs": [],
   "source": [
    "cancellation_reason= cancellation_reason.filter(pl.col('CANCELLATION_REASON')!='0').sort(by='count')"
   ]
  },
  {
   "cell_type": "code",
   "execution_count": 88,
   "id": "f6131918",
   "metadata": {},
   "outputs": [
    {
     "data": {
      "image/png": "[encoded data removed]",
      "text/plain": [
       "<Figure size 720x576 with 1 Axes>"
      ]
     },
     "metadata": {},
     "output_type": "display_data"
    }
   ],
   "source": [
    "plt.figure(figsize=(10,8))\n",
    "plt.pie(cancellation_reason['count'].to_numpy(),labels=cancellation_reason['CANCELLATION_REASON'].to_numpy(),\n",
    "        explode=(0,0,0.02,0.03),autopct='%1.1f%%',shadow=True,startangle=90)\n",
    "plt.show()"
   ]
  },
  {
   "cell_type": "markdown",
   "id": "185335e7",
   "metadata": {},
   "source": [
    "Reason B seems to be the most reason for cancelled flights, whatever the reason, it is important the airline operators work on it"
   ]
  },
  {
   "cell_type": "code",
   "execution_count": 15,
   "id": "ea9f2f3b",
   "metadata": {},
   "outputs": [
    {
     "data": {
      "text/html": [
       "<div><style>\n",
       ".dataframe > thead > tr,\n",
       ".dataframe > tbody > tr {\n",
       "  text-align: right;\n",
       "  white-space: pre-wrap;\n",
       "}\n",
       "</style>\n",
       "<small>shape: (5_819_079, 39)</small><table border=\"1\" class=\"dataframe\"><thead><tr><th>YEAR</th><th>MONTH</th><th>DAY</th><th>DAY_OF_WEEK</th><th>AIRLINE</th><th>FLIGHT_NUMBER</th><th>TAIL_NUMBER</th><th>ORIGIN_AIRPORT</th><th>DESTINATION_AIRPORT</th><th>SCHEDULED_DEPARTURE</th><th>DEPARTURE_TIME</th><th>DEPARTURE_DELAY</th><th>TAXI_OUT</th><th>WHEELS_OFF</th><th>SCHEDULED_TIME</th><th>ELAPSED_TIME</th><th>AIR_TIME</th><th>DISTANCE</th><th>WHEELS_ON</th><th>TAXI_IN</th><th>SCHEDULED_ARRIVAL</th><th>ARRIVAL_TIME</th><th>ARRIVAL_DELAY</th><th>DIVERTED</th><th>CANCELLED</th><th>CANCELLATION_REASON</th><th>AIR_SYSTEM_DELAY</th><th>SECURITY_DELAY</th><th>AIRLINE_DELAY</th><th>LATE_AIRCRAFT_DELAY</th><th>WEATHER_DELAY</th><th>AIRPORT</th><th>CITY</th><th>STATE</th><th>COUNTRY</th><th>LATITUDE</th><th>LONGITUDE</th><th>Date</th><th>ROUTE</th></tr><tr><td>i64</td><td>i64</td><td>i64</td><td>i64</td><td>str</td><td>i64</td><td>str</td><td>str</td><td>str</td><td>str</td><td>str</td><td>i64</td><td>i64</td><td>i64</td><td>i64</td><td>i64</td><td>i64</td><td>i64</td><td>i64</td><td>i64</td><td>i64</td><td>i64</td><td>i64</td><td>i64</td><td>i64</td><td>str</td><td>i64</td><td>i64</td><td>i64</td><td>i64</td><td>i64</td><td>str</td><td>str</td><td>str</td><td>str</td><td>f64</td><td>f64</td><td>date</td><td>str</td></tr></thead><tbody><tr><td>2015</td><td>1</td><td>1</td><td>4</td><td>&quot;AS&quot;</td><td>98</td><td>&quot;N407AS&quot;</td><td>&quot;ANC&quot;</td><td>&quot;SEA&quot;</td><td>&quot;00&quot;</td><td>&quot;23&quot;</td><td>-11</td><td>21</td><td>15</td><td>205</td><td>194</td><td>169</td><td>1448</td><td>404</td><td>4</td><td>430</td><td>408</td><td>-22</td><td>0</td><td>0</td><td>null</td><td>null</td><td>null</td><td>null</td><td>null</td><td>null</td><td>&quot;Ted Stevens An…</td><td>&quot;Anchorage&quot;</td><td>&quot;AK&quot;</td><td>&quot;USA&quot;</td><td>61.17432</td><td>-149.99619</td><td>2015-01-01</td><td>&quot;ANC_SEA&quot;</td></tr><tr><td>2015</td><td>1</td><td>1</td><td>4</td><td>&quot;AA&quot;</td><td>2336</td><td>&quot;N3KUAA&quot;</td><td>&quot;LAX&quot;</td><td>&quot;PBI&quot;</td><td>&quot;00&quot;</td><td>&quot;00&quot;</td><td>-8</td><td>12</td><td>14</td><td>280</td><td>279</td><td>263</td><td>2330</td><td>737</td><td>4</td><td>750</td><td>741</td><td>-9</td><td>0</td><td>0</td><td>null</td><td>null</td><td>null</td><td>null</td><td>null</td><td>null</td><td>&quot;Los Angeles In…</td><td>&quot;Los Angeles&quot;</td><td>&quot;CA&quot;</td><td>&quot;USA&quot;</td><td>33.94254</td><td>-118.40807</td><td>2015-01-01</td><td>&quot;LAX_PBI&quot;</td></tr><tr><td>2015</td><td>1</td><td>1</td><td>4</td><td>&quot;US&quot;</td><td>840</td><td>&quot;N171US&quot;</td><td>&quot;SFO&quot;</td><td>&quot;CLT&quot;</td><td>&quot;00&quot;</td><td>&quot;00&quot;</td><td>-2</td><td>16</td><td>34</td><td>286</td><td>293</td><td>266</td><td>2296</td><td>800</td><td>11</td><td>806</td><td>811</td><td>5</td><td>0</td><td>0</td><td>null</td><td>null</td><td>null</td><td>null</td><td>null</td><td>null</td><td>&quot;San Francisco …</td><td>&quot;San Francisco&quot;</td><td>&quot;CA&quot;</td><td>&quot;USA&quot;</td><td>37.619</td><td>-122.37484</td><td>2015-01-01</td><td>&quot;SFO_CLT&quot;</td></tr><tr><td>2015</td><td>1</td><td>1</td><td>4</td><td>&quot;AA&quot;</td><td>258</td><td>&quot;N3HYAA&quot;</td><td>&quot;LAX&quot;</td><td>&quot;MIA&quot;</td><td>&quot;00&quot;</td><td>&quot;00&quot;</td><td>-5</td><td>15</td><td>30</td><td>285</td><td>281</td><td>258</td><td>2342</td><td>748</td><td>8</td><td>805</td><td>756</td><td>-9</td><td>0</td><td>0</td><td>null</td><td>null</td><td>null</td><td>null</td><td>null</td><td>null</td><td>&quot;Los Angeles In…</td><td>&quot;Los Angeles&quot;</td><td>&quot;CA&quot;</td><td>&quot;USA&quot;</td><td>33.94254</td><td>-118.40807</td><td>2015-01-01</td><td>&quot;LAX_MIA&quot;</td></tr><tr><td>2015</td><td>1</td><td>1</td><td>4</td><td>&quot;AS&quot;</td><td>135</td><td>&quot;N527AS&quot;</td><td>&quot;SEA&quot;</td><td>&quot;ANC&quot;</td><td>&quot;00&quot;</td><td>&quot;00&quot;</td><td>-1</td><td>11</td><td>35</td><td>235</td><td>215</td><td>199</td><td>1448</td><td>254</td><td>5</td><td>320</td><td>259</td><td>-21</td><td>0</td><td>0</td><td>null</td><td>null</td><td>null</td><td>null</td><td>null</td><td>null</td><td>&quot;Seattle-Tacoma…</td><td>&quot;Seattle&quot;</td><td>&quot;WA&quot;</td><td>&quot;USA&quot;</td><td>47.44898</td><td>-122.30931</td><td>2015-01-01</td><td>&quot;SEA_ANC&quot;</td></tr><tr><td>2015</td><td>1</td><td>1</td><td>4</td><td>&quot;DL&quot;</td><td>806</td><td>&quot;N3730B&quot;</td><td>&quot;SFO&quot;</td><td>&quot;MSP&quot;</td><td>&quot;00&quot;</td><td>&quot;00&quot;</td><td>-5</td><td>18</td><td>38</td><td>217</td><td>230</td><td>206</td><td>1589</td><td>604</td><td>6</td><td>602</td><td>610</td><td>8</td><td>0</td><td>0</td><td>null</td><td>null</td><td>null</td><td>null</td><td>null</td><td>null</td><td>&quot;San Francisco …</td><td>&quot;San Francisco&quot;</td><td>&quot;CA&quot;</td><td>&quot;USA&quot;</td><td>37.619</td><td>-122.37484</td><td>2015-01-01</td><td>&quot;SFO_MSP&quot;</td></tr><tr><td>2015</td><td>1</td><td>1</td><td>4</td><td>&quot;NK&quot;</td><td>612</td><td>&quot;N635NK&quot;</td><td>&quot;LAS&quot;</td><td>&quot;MSP&quot;</td><td>&quot;00&quot;</td><td>&quot;00&quot;</td><td>-6</td><td>11</td><td>30</td><td>181</td><td>170</td><td>154</td><td>1299</td><td>504</td><td>5</td><td>526</td><td>509</td><td>-17</td><td>0</td><td>0</td><td>null</td><td>null</td><td>null</td><td>null</td><td>null</td><td>null</td><td>&quot;McCarran Inter…</td><td>&quot;Las Vegas&quot;</td><td>&quot;NV&quot;</td><td>&quot;USA&quot;</td><td>36.08036</td><td>-115.15233</td><td>2015-01-01</td><td>&quot;LAS_MSP&quot;</td></tr><tr><td>2015</td><td>1</td><td>1</td><td>4</td><td>&quot;US&quot;</td><td>2013</td><td>&quot;N584UW&quot;</td><td>&quot;LAX&quot;</td><td>&quot;CLT&quot;</td><td>&quot;00&quot;</td><td>&quot;00&quot;</td><td>14</td><td>13</td><td>57</td><td>273</td><td>249</td><td>228</td><td>2125</td><td>745</td><td>8</td><td>803</td><td>753</td><td>-10</td><td>0</td><td>0</td><td>null</td><td>null</td><td>null</td><td>null</td><td>null</td><td>null</td><td>&quot;Los Angeles In…</td><td>&quot;Los Angeles&quot;</td><td>&quot;CA&quot;</td><td>&quot;USA&quot;</td><td>33.94254</td><td>-118.40807</td><td>2015-01-01</td><td>&quot;LAX_CLT&quot;</td></tr><tr><td>2015</td><td>1</td><td>1</td><td>4</td><td>&quot;AA&quot;</td><td>1112</td><td>&quot;N3LAAA&quot;</td><td>&quot;SFO&quot;</td><td>&quot;DFW&quot;</td><td>&quot;00&quot;</td><td>&quot;00&quot;</td><td>-11</td><td>17</td><td>36</td><td>195</td><td>193</td><td>173</td><td>1464</td><td>529</td><td>3</td><td>545</td><td>532</td><td>-13</td><td>0</td><td>0</td><td>null</td><td>null</td><td>null</td><td>null</td><td>null</td><td>null</td><td>&quot;San Francisco …</td><td>&quot;San Francisco&quot;</td><td>&quot;CA&quot;</td><td>&quot;USA&quot;</td><td>37.619</td><td>-122.37484</td><td>2015-01-01</td><td>&quot;SFO_DFW&quot;</td></tr><tr><td>2015</td><td>1</td><td>1</td><td>4</td><td>&quot;DL&quot;</td><td>1173</td><td>&quot;N826DN&quot;</td><td>&quot;LAS&quot;</td><td>&quot;ATL&quot;</td><td>&quot;00&quot;</td><td>&quot;00&quot;</td><td>3</td><td>12</td><td>45</td><td>221</td><td>203</td><td>186</td><td>1747</td><td>651</td><td>5</td><td>711</td><td>656</td><td>-15</td><td>0</td><td>0</td><td>null</td><td>null</td><td>null</td><td>null</td><td>null</td><td>null</td><td>&quot;McCarran Inter…</td><td>&quot;Las Vegas&quot;</td><td>&quot;NV&quot;</td><td>&quot;USA&quot;</td><td>36.08036</td><td>-115.15233</td><td>2015-01-01</td><td>&quot;LAS_ATL&quot;</td></tr><tr><td>2015</td><td>1</td><td>1</td><td>4</td><td>&quot;DL&quot;</td><td>2336</td><td>&quot;N958DN&quot;</td><td>&quot;DEN&quot;</td><td>&quot;ATL&quot;</td><td>&quot;00&quot;</td><td>&quot;00&quot;</td><td>-6</td><td>12</td><td>36</td><td>173</td><td>149</td><td>133</td><td>1199</td><td>449</td><td>4</td><td>523</td><td>453</td><td>-30</td><td>0</td><td>0</td><td>null</td><td>null</td><td>null</td><td>null</td><td>null</td><td>null</td><td>&quot;Denver Interna…</td><td>&quot;Denver&quot;</td><td>&quot;CO&quot;</td><td>&quot;USA&quot;</td><td>39.85841</td><td>-104.667</td><td>2015-01-01</td><td>&quot;DEN_ATL&quot;</td></tr><tr><td>2015</td><td>1</td><td>1</td><td>4</td><td>&quot;AA&quot;</td><td>1674</td><td>&quot;N853AA&quot;</td><td>&quot;LAS&quot;</td><td>&quot;MIA&quot;</td><td>&quot;00&quot;</td><td>&quot;00&quot;</td><td>-8</td><td>21</td><td>48</td><td>268</td><td>266</td><td>238</td><td>2174</td><td>746</td><td>7</td><td>803</td><td>753</td><td>-10</td><td>0</td><td>0</td><td>null</td><td>null</td><td>null</td><td>null</td><td>null</td><td>null</td><td>&quot;McCarran Inter…</td><td>&quot;Las Vegas&quot;</td><td>&quot;NV&quot;</td><td>&quot;USA&quot;</td><td>36.08036</td><td>-115.15233</td><td>2015-01-01</td><td>&quot;LAS_MIA&quot;</td></tr><tr><td>&hellip;</td><td>&hellip;</td><td>&hellip;</td><td>&hellip;</td><td>&hellip;</td><td>&hellip;</td><td>&hellip;</td><td>&hellip;</td><td>&hellip;</td><td>&hellip;</td><td>&hellip;</td><td>&hellip;</td><td>&hellip;</td><td>&hellip;</td><td>&hellip;</td><td>&hellip;</td><td>&hellip;</td><td>&hellip;</td><td>&hellip;</td><td>&hellip;</td><td>&hellip;</td><td>&hellip;</td><td>&hellip;</td><td>&hellip;</td><td>&hellip;</td><td>&hellip;</td><td>&hellip;</td><td>&hellip;</td><td>&hellip;</td><td>&hellip;</td><td>&hellip;</td><td>&hellip;</td><td>&hellip;</td><td>&hellip;</td><td>&hellip;</td><td>&hellip;</td><td>&hellip;</td><td>&hellip;</td><td>&hellip;</td></tr><tr><td>2015</td><td>12</td><td>31</td><td>4</td><td>&quot;AA&quot;</td><td>2342</td><td>&quot;N3DLAA&quot;</td><td>&quot;DEN&quot;</td><td>&quot;MIA&quot;</td><td>&quot;23&quot;</td><td>&quot;23&quot;</td><td>-8</td><td>18</td><td>9</td><td>224</td><td>214</td><td>190</td><td>1709</td><td>519</td><td>6</td><td>543</td><td>525</td><td>-18</td><td>0</td><td>0</td><td>null</td><td>null</td><td>null</td><td>null</td><td>null</td><td>null</td><td>&quot;Denver Interna…</td><td>&quot;Denver&quot;</td><td>&quot;CO&quot;</td><td>&quot;USA&quot;</td><td>39.85841</td><td>-104.667</td><td>2015-12-31</td><td>&quot;DEN_MIA&quot;</td></tr><tr><td>2015</td><td>12</td><td>31</td><td>4</td><td>&quot;AA&quot;</td><td>219</td><td>&quot;N3LYAA&quot;</td><td>&quot;LAX&quot;</td><td>&quot;ORD&quot;</td><td>&quot;23&quot;</td><td>&quot;23&quot;</td><td>-1</td><td>23</td><td>21</td><td>244</td><td>226</td><td>198</td><td>1744</td><td>539</td><td>5</td><td>603</td><td>544</td><td>-19</td><td>0</td><td>0</td><td>null</td><td>null</td><td>null</td><td>null</td><td>null</td><td>null</td><td>&quot;Los Angeles In…</td><td>&quot;Los Angeles&quot;</td><td>&quot;CA&quot;</td><td>&quot;USA&quot;</td><td>33.94254</td><td>-118.40807</td><td>2015-12-31</td><td>&quot;LAX_ORD&quot;</td></tr><tr><td>2015</td><td>12</td><td>31</td><td>4</td><td>&quot;B6&quot;</td><td>1248</td><td>&quot;N948JB&quot;</td><td>&quot;LAS&quot;</td><td>&quot;JFK&quot;</td><td>&quot;23&quot;</td><td>&quot;23&quot;</td><td>159</td><td>34</td><td>312</td><td>282</td><td>282</td><td>243</td><td>2248</td><td>1015</td><td>5</td><td>741</td><td>1020</td><td>159</td><td>0</td><td>0</td><td>null</td><td>0</td><td>0</td><td>159</td><td>0</td><td>0</td><td>&quot;McCarran Inter…</td><td>&quot;Las Vegas&quot;</td><td>&quot;NV&quot;</td><td>&quot;USA&quot;</td><td>36.08036</td><td>-115.15233</td><td>2015-12-31</td><td>&quot;LAS_JFK&quot;</td></tr><tr><td>2015</td><td>12</td><td>31</td><td>4</td><td>&quot;B6&quot;</td><td>80</td><td>&quot;N584JB&quot;</td><td>&quot;RNO&quot;</td><td>&quot;JFK&quot;</td><td>&quot;23&quot;</td><td>&quot;23&quot;</td><td>0</td><td>12</td><td>11</td><td>306</td><td>285</td><td>268</td><td>2411</td><td>739</td><td>5</td><td>805</td><td>744</td><td>-21</td><td>0</td><td>0</td><td>null</td><td>null</td><td>null</td><td>null</td><td>null</td><td>null</td><td>&quot;Reno/Tahoe Int…</td><td>&quot;Reno&quot;</td><td>&quot;NV&quot;</td><td>&quot;USA&quot;</td><td>39.49858</td><td>-119.76806</td><td>2015-12-31</td><td>&quot;RNO_JFK&quot;</td></tr><tr><td>2015</td><td>12</td><td>31</td><td>4</td><td>&quot;B6&quot;</td><td>802</td><td>&quot;N589JB&quot;</td><td>&quot;SLC&quot;</td><td>&quot;MCO&quot;</td><td>&quot;23&quot;</td><td>&quot;00&quot;</td><td>16</td><td>14</td><td>29</td><td>249</td><td>250</td><td>211</td><td>1931</td><td>600</td><td>25</td><td>608</td><td>625</td><td>17</td><td>0</td><td>0</td><td>null</td><td>1</td><td>0</td><td>16</td><td>0</td><td>0</td><td>&quot;Salt Lake City…</td><td>&quot;Salt Lake City…</td><td>&quot;UT&quot;</td><td>&quot;USA&quot;</td><td>40.78839</td><td>-111.97777</td><td>2015-12-31</td><td>&quot;SLC_MCO&quot;</td></tr><tr><td>2015</td><td>12</td><td>31</td><td>4</td><td>&quot;B6&quot;</td><td>98</td><td>&quot;N607JB&quot;</td><td>&quot;DEN&quot;</td><td>&quot;JFK&quot;</td><td>&quot;23&quot;</td><td>&quot;00&quot;</td><td>7</td><td>13</td><td>19</td><td>211</td><td>193</td><td>173</td><td>1626</td><td>512</td><td>7</td><td>530</td><td>519</td><td>-11</td><td>0</td><td>0</td><td>null</td><td>null</td><td>null</td><td>null</td><td>null</td><td>null</td><td>&quot;Denver Interna…</td><td>&quot;Denver&quot;</td><td>&quot;CO&quot;</td><td>&quot;USA&quot;</td><td>39.85841</td><td>-104.667</td><td>2015-12-31</td><td>&quot;DEN_JFK&quot;</td></tr><tr><td>2015</td><td>12</td><td>31</td><td>4</td><td>&quot;B6&quot;</td><td>66</td><td>&quot;N655JB&quot;</td><td>&quot;ABQ&quot;</td><td>&quot;JFK&quot;</td><td>&quot;23&quot;</td><td>&quot;00&quot;</td><td>16</td><td>9</td><td>24</td><td>227</td><td>214</td><td>190</td><td>1826</td><td>534</td><td>15</td><td>546</td><td>549</td><td>3</td><td>0</td><td>0</td><td>null</td><td>null</td><td>null</td><td>null</td><td>null</td><td>null</td><td>&quot;Albuquerque In…</td><td>&quot;Albuquerque&quot;</td><td>&quot;NM&quot;</td><td>&quot;USA&quot;</td><td>35.04022</td><td>-106.60919</td><td>2015-12-31</td><td>&quot;ABQ_JFK&quot;</td></tr><tr><td>2015</td><td>12</td><td>31</td><td>4</td><td>&quot;B6&quot;</td><td>688</td><td>&quot;N657JB&quot;</td><td>&quot;LAX&quot;</td><td>&quot;BOS&quot;</td><td>&quot;23&quot;</td><td>&quot;23&quot;</td><td>-4</td><td>22</td><td>17</td><td>320</td><td>298</td><td>272</td><td>2611</td><td>749</td><td>4</td><td>819</td><td>753</td><td>-26</td><td>0</td><td>0</td><td>null</td><td>null</td><td>null</td><td>null</td><td>null</td><td>null</td><td>&quot;Los Angeles In…</td><td>&quot;Los Angeles&quot;</td><td>&quot;CA&quot;</td><td>&quot;USA&quot;</td><td>33.94254</td><td>-118.40807</td><td>2015-12-31</td><td>&quot;LAX_BOS&quot;</td></tr><tr><td>2015</td><td>12</td><td>31</td><td>4</td><td>&quot;B6&quot;</td><td>745</td><td>&quot;N828JB&quot;</td><td>&quot;JFK&quot;</td><td>&quot;PSE&quot;</td><td>&quot;23&quot;</td><td>&quot;23&quot;</td><td>-4</td><td>17</td><td>12</td><td>227</td><td>215</td><td>195</td><td>1617</td><td>427</td><td>3</td><td>446</td><td>430</td><td>-16</td><td>0</td><td>0</td><td>null</td><td>null</td><td>null</td><td>null</td><td>null</td><td>null</td><td>&quot;John F. Kenned…</td><td>&quot;New York&quot;</td><td>&quot;NY&quot;</td><td>&quot;USA&quot;</td><td>40.63975</td><td>-73.77893</td><td>2015-12-31</td><td>&quot;JFK_PSE&quot;</td></tr><tr><td>2015</td><td>12</td><td>31</td><td>4</td><td>&quot;B6&quot;</td><td>1503</td><td>&quot;N913JB&quot;</td><td>&quot;JFK&quot;</td><td>&quot;SJU&quot;</td><td>&quot;23&quot;</td><td>&quot;23&quot;</td><td>-9</td><td>17</td><td>7</td><td>221</td><td>222</td><td>197</td><td>1598</td><td>424</td><td>8</td><td>440</td><td>432</td><td>-8</td><td>0</td><td>0</td><td>null</td><td>null</td><td>null</td><td>null</td><td>null</td><td>null</td><td>&quot;John F. Kenned…</td><td>&quot;New York&quot;</td><td>&quot;NY&quot;</td><td>&quot;USA&quot;</td><td>40.63975</td><td>-73.77893</td><td>2015-12-31</td><td>&quot;JFK_SJU&quot;</td></tr><tr><td>2015</td><td>12</td><td>31</td><td>4</td><td>&quot;B6&quot;</td><td>333</td><td>&quot;N527JB&quot;</td><td>&quot;MCO&quot;</td><td>&quot;SJU&quot;</td><td>&quot;23&quot;</td><td>&quot;23&quot;</td><td>-6</td><td>10</td><td>3</td><td>161</td><td>157</td><td>144</td><td>1189</td><td>327</td><td>3</td><td>340</td><td>330</td><td>-10</td><td>0</td><td>0</td><td>null</td><td>null</td><td>null</td><td>null</td><td>null</td><td>null</td><td>&quot;Orlando Intern…</td><td>&quot;Orlando&quot;</td><td>&quot;FL&quot;</td><td>&quot;USA&quot;</td><td>28.42889</td><td>-81.31603</td><td>2015-12-31</td><td>&quot;MCO_SJU&quot;</td></tr><tr><td>2015</td><td>12</td><td>31</td><td>4</td><td>&quot;B6&quot;</td><td>839</td><td>&quot;N534JB&quot;</td><td>&quot;JFK&quot;</td><td>&quot;BQN&quot;</td><td>&quot;23&quot;</td><td>&quot;00&quot;</td><td>15</td><td>14</td><td>28</td><td>221</td><td>208</td><td>189</td><td>1576</td><td>437</td><td>5</td><td>440</td><td>442</td><td>2</td><td>0</td><td>0</td><td>null</td><td>null</td><td>null</td><td>null</td><td>null</td><td>null</td><td>&quot;John F. Kenned…</td><td>&quot;New York&quot;</td><td>&quot;NY&quot;</td><td>&quot;USA&quot;</td><td>40.63975</td><td>-73.77893</td><td>2015-12-31</td><td>&quot;JFK_BQN&quot;</td></tr></tbody></table></div>"
      ],
      "text/plain": [
       "shape: (5_819_079, 39)\n",
       "┌──────┬───────┬─────┬─────────────┬───┬──────────┬────────────┬────────────┬─────────┐\n",
       "│ YEAR ┆ MONTH ┆ DAY ┆ DAY_OF_WEEK ┆ … ┆ LATITUDE ┆ LONGITUDE  ┆ Date       ┆ ROUTE   │\n",
       "│ ---  ┆ ---   ┆ --- ┆ ---         ┆   ┆ ---      ┆ ---        ┆ ---        ┆ ---     │\n",
       "│ i64  ┆ i64   ┆ i64 ┆ i64         ┆   ┆ f64      ┆ f64        ┆ date       ┆ str     │\n",
       "╞══════╪═══════╪═════╪═════════════╪═══╪══════════╪════════════╪════════════╪═════════╡\n",
       "│ 2015 ┆ 1     ┆ 1   ┆ 4           ┆ … ┆ 61.17432 ┆ -149.99619 ┆ 2015-01-01 ┆ ANC_SEA │\n",
       "│ 2015 ┆ 1     ┆ 1   ┆ 4           ┆ … ┆ 33.94254 ┆ -118.40807 ┆ 2015-01-01 ┆ LAX_PBI │\n",
       "│ 2015 ┆ 1     ┆ 1   ┆ 4           ┆ … ┆ 37.619   ┆ -122.37484 ┆ 2015-01-01 ┆ SFO_CLT │\n",
       "│ 2015 ┆ 1     ┆ 1   ┆ 4           ┆ … ┆ 33.94254 ┆ -118.40807 ┆ 2015-01-01 ┆ LAX_MIA │\n",
       "│ …    ┆ …     ┆ …   ┆ …           ┆ … ┆ …        ┆ …          ┆ …          ┆ …       │\n",
       "│ 2015 ┆ 12    ┆ 31  ┆ 4           ┆ … ┆ 40.63975 ┆ -73.77893  ┆ 2015-12-31 ┆ JFK_PSE │\n",
       "│ 2015 ┆ 12    ┆ 31  ┆ 4           ┆ … ┆ 40.63975 ┆ -73.77893  ┆ 2015-12-31 ┆ JFK_SJU │\n",
       "│ 2015 ┆ 12    ┆ 31  ┆ 4           ┆ … ┆ 28.42889 ┆ -81.31603  ┆ 2015-12-31 ┆ MCO_SJU │\n",
       "│ 2015 ┆ 12    ┆ 31  ┆ 4           ┆ … ┆ 40.63975 ┆ -73.77893  ┆ 2015-12-31 ┆ JFK_BQN │\n",
       "└──────┴───────┴─────┴─────────────┴───┴──────────┴────────────┴────────────┴─────────┘"
      ]
     },
     "execution_count": 15,
     "metadata": {},
     "output_type": "execute_result"
    }
   ],
   "source": [
    "data_1 = data_.with_columns(ROUTE = pl.col('ORIGIN_AIRPORT')+'_'+pl.col('DESTINATION_AIRPORT'))\n",
    "data_1"
   ]
  },
  {
   "cell_type": "code",
   "execution_count": 113,
   "id": "db2b5954",
   "metadata": {},
   "outputs": [
    {
     "data": {
      "text/html": [
       "<div><style>\n",
       ".dataframe > thead > tr,\n",
       ".dataframe > tbody > tr {\n",
       "  text-align: right;\n",
       "  white-space: pre-wrap;\n",
       "}\n",
       "</style>\n",
       "<small>shape: (1_694, 2)</small><table border=\"1\" class=\"dataframe\"><thead><tr><th>ROUTE</th><th>count</th></tr><tr><td>str</td><td>u32</td></tr></thead><tbody><tr><td>&quot;SFO_LAX&quot;</td><td>13744</td></tr><tr><td>&quot;LAX_SFO&quot;</td><td>13457</td></tr><tr><td>&quot;JFK_LAX&quot;</td><td>12016</td></tr><tr><td>&quot;LAX_JFK&quot;</td><td>12015</td></tr><tr><td>&quot;LAS_LAX&quot;</td><td>9715</td></tr><tr><td>&quot;LGA_ORD&quot;</td><td>9639</td></tr><tr><td>&quot;LAX_LAS&quot;</td><td>9594</td></tr><tr><td>&quot;ORD_LGA&quot;</td><td>9575</td></tr><tr><td>&quot;SFO_JFK&quot;</td><td>8440</td></tr><tr><td>&quot;JFK_SFO&quot;</td><td>8437</td></tr><tr><td>&quot;OGG_HNL&quot;</td><td>8313</td></tr><tr><td>&quot;HNL_OGG&quot;</td><td>8282</td></tr><tr><td>&hellip;</td><td>&hellip;</td></tr><tr><td>&quot;MKE_DFW&quot;</td><td>1010</td></tr><tr><td>&quot;PIT_DEN&quot;</td><td>1009</td></tr><tr><td>&quot;BWI_IAH&quot;</td><td>1005</td></tr><tr><td>&quot;DEN_FAT&quot;</td><td>1005</td></tr><tr><td>&quot;SLC_MSO&quot;</td><td>1004</td></tr><tr><td>&quot;MSO_SLC&quot;</td><td>1004</td></tr><tr><td>&quot;OAK_LGB&quot;</td><td>1002</td></tr><tr><td>&quot;MEM_EWR&quot;</td><td>1002</td></tr><tr><td>&quot;JFK_DCA&quot;</td><td>1002</td></tr><tr><td>&quot;LGB_OAK&quot;</td><td>1001</td></tr><tr><td>&quot;DEN_PIT&quot;</td><td>1001</td></tr><tr><td>&quot;DTW_FWA&quot;</td><td>1001</td></tr></tbody></table></div>"
      ],
      "text/plain": [
       "shape: (1_694, 2)\n",
       "┌─────────┬───────┐\n",
       "│ ROUTE   ┆ count │\n",
       "│ ---     ┆ ---   │\n",
       "│ str     ┆ u32   │\n",
       "╞═════════╪═══════╡\n",
       "│ SFO_LAX ┆ 13744 │\n",
       "│ LAX_SFO ┆ 13457 │\n",
       "│ JFK_LAX ┆ 12016 │\n",
       "│ LAX_JFK ┆ 12015 │\n",
       "│ …       ┆ …     │\n",
       "│ JFK_DCA ┆ 1002  │\n",
       "│ LGB_OAK ┆ 1001  │\n",
       "│ DEN_PIT ┆ 1001  │\n",
       "│ DTW_FWA ┆ 1001  │\n",
       "└─────────┴───────┘"
      ]
     },
     "execution_count": 113,
     "metadata": {},
     "output_type": "execute_result"
    }
   ],
   "source": [
    "data_1['ROUTE'].value_counts(sort=True).filter(pl.col('count')>1000)"
   ]
  },
  {
   "cell_type": "code",
   "execution_count": 16,
   "id": "d3ef177f",
   "metadata": {},
   "outputs": [
    {
     "data": {
      "text/html": [
       "<div><style>\n",
       ".dataframe > thead > tr,\n",
       ".dataframe > tbody > tr {\n",
       "  text-align: right;\n",
       "  white-space: pre-wrap;\n",
       "}\n",
       "</style>\n",
       "<small>shape: (853_127, 3)</small><table border=\"1\" class=\"dataframe\"><thead><tr><th>CANCELLED</th><th>ROUTE</th><th>count</th></tr><tr><td>i64</td><td>str</td><td>u32</td></tr></thead><tbody><tr><td>0</td><td>&quot;ANC_SEA&quot;</td><td>6383</td></tr><tr><td>0</td><td>&quot;SEA_ANC&quot;</td><td>6382</td></tr><tr><td>0</td><td>&quot;DEN_ATL&quot;</td><td>5082</td></tr><tr><td>0</td><td>&quot;ANC_SEA&quot;</td><td>6383</td></tr><tr><td>0</td><td>&quot;ANC_SEA&quot;</td><td>6383</td></tr><tr><td>1</td><td>&quot;ANC_SEA&quot;</td><td>6383</td></tr><tr><td>0</td><td>&quot;ANC_SEA&quot;</td><td>6383</td></tr><tr><td>0</td><td>&quot;ANC_SEA&quot;</td><td>6383</td></tr><tr><td>0</td><td>&quot;HNL_KOA&quot;</td><td>6390</td></tr><tr><td>0</td><td>&quot;ANC_SEA&quot;</td><td>6383</td></tr><tr><td>0</td><td>&quot;HNL_OGG&quot;</td><td>8282</td></tr><tr><td>0</td><td>&quot;SEA_PHX&quot;</td><td>5768</td></tr><tr><td>&hellip;</td><td>&hellip;</td><td>&hellip;</td></tr><tr><td>0</td><td>&quot;LAX_ORD&quot;</td><td>8256</td></tr><tr><td>0</td><td>&quot;JFK_BOS&quot;</td><td>5040</td></tr><tr><td>0</td><td>&quot;LAX_ATL&quot;</td><td>5673</td></tr><tr><td>0</td><td>&quot;HNL_LAX&quot;</td><td>5244</td></tr><tr><td>0</td><td>&quot;LAX_ATL&quot;</td><td>5673</td></tr><tr><td>0</td><td>&quot;LAX_JFK&quot;</td><td>12015</td></tr><tr><td>0</td><td>&quot;SFO_EWR&quot;</td><td>5025</td></tr><tr><td>0</td><td>&quot;DEN_ATL&quot;</td><td>5082</td></tr><tr><td>0</td><td>&quot;LAX_ORD&quot;</td><td>8256</td></tr><tr><td>0</td><td>&quot;SEA_ANC&quot;</td><td>6382</td></tr><tr><td>0</td><td>&quot;LAX_SEA&quot;</td><td>7732</td></tr><tr><td>0</td><td>&quot;LAX_ORD&quot;</td><td>8256</td></tr></tbody></table></div>"
      ],
      "text/plain": [
       "shape: (853_127, 3)\n",
       "┌───────────┬─────────┬───────┐\n",
       "│ CANCELLED ┆ ROUTE   ┆ count │\n",
       "│ ---       ┆ ---     ┆ ---   │\n",
       "│ i64       ┆ str     ┆ u32   │\n",
       "╞═══════════╪═════════╪═══════╡\n",
       "│ 0         ┆ ANC_SEA ┆ 6383  │\n",
       "│ 0         ┆ SEA_ANC ┆ 6382  │\n",
       "│ 0         ┆ DEN_ATL ┆ 5082  │\n",
       "│ 0         ┆ ANC_SEA ┆ 6383  │\n",
       "│ …         ┆ …       ┆ …     │\n",
       "│ 0         ┆ LAX_ORD ┆ 8256  │\n",
       "│ 0         ┆ SEA_ANC ┆ 6382  │\n",
       "│ 0         ┆ LAX_SEA ┆ 7732  │\n",
       "│ 0         ┆ LAX_ORD ┆ 8256  │\n",
       "└───────────┴─────────┴───────┘"
      ]
     },
     "execution_count": 16,
     "metadata": {},
     "output_type": "execute_result"
    }
   ],
   "source": [
    "popular_routes = data_1[['CANCELLED','ROUTE']].join(data_1['ROUTE'].value_counts(sort=True).filter(pl.col('count')>5000),how='left',on='ROUTE').drop_nulls()\n",
    "popular_routes"
   ]
  },
  {
   "cell_type": "code",
   "execution_count": 17,
   "id": "ad9a6301",
   "metadata": {},
   "outputs": [
    {
     "data": {
      "text/html": [
       "<div><style>\n",
       ".dataframe > thead > tr,\n",
       ".dataframe > tbody > tr {\n",
       "  text-align: right;\n",
       "  white-space: pre-wrap;\n",
       "}\n",
       "</style>\n",
       "<small>shape: (129, 3)</small><table border=\"1\" class=\"dataframe\"><thead><tr><th>ROUTE</th><th>count/cancel</th><th>count</th></tr><tr><td>str</td><td>f64</td><td>u32</td></tr></thead><tbody><tr><td>&quot;BOS_LGA&quot;</td><td>0.06243</td><td>7096</td></tr><tr><td>&quot;LGA_BOS&quot;</td><td>0.062113</td><td>7100</td></tr><tr><td>&quot;LGA_ORD&quot;</td><td>0.045129</td><td>9639</td></tr><tr><td>&quot;ORD_LGA&quot;</td><td>0.042611</td><td>9575</td></tr><tr><td>&quot;LAX_OAK&quot;</td><td>0.036101</td><td>6288</td></tr><tr><td>&quot;OAK_LAX&quot;</td><td>0.035982</td><td>6281</td></tr><tr><td>&quot;DCA_BOS&quot;</td><td>0.035259</td><td>7686</td></tr><tr><td>&quot;BOS_DCA&quot;</td><td>0.034604</td><td>7687</td></tr><tr><td>&quot;HOU_DAL&quot;</td><td>0.034466</td><td>6296</td></tr><tr><td>&quot;DCA_ORD&quot;</td><td>0.03259</td><td>5922</td></tr><tr><td>&quot;BOS_PHL&quot;</td><td>0.032373</td><td>5313</td></tr><tr><td>&quot;DAL_HOU&quot;</td><td>0.030821</td><td>6262</td></tr><tr><td>&hellip;</td><td>&hellip;</td><td>&hellip;</td></tr><tr><td>&quot;HNL_OGG&quot;</td><td>0.003381</td><td>8282</td></tr><tr><td>&quot;DEN_ATL&quot;</td><td>0.003148</td><td>5082</td></tr><tr><td>&quot;SEA_ANC&quot;</td><td>0.003134</td><td>6382</td></tr><tr><td>&quot;JAX_ATL&quot;</td><td>0.002943</td><td>5096</td></tr><tr><td>&quot;ATL_JAX&quot;</td><td>0.002938</td><td>5106</td></tr><tr><td>&quot;KOA_HNL&quot;</td><td>0.002836</td><td>6347</td></tr><tr><td>&quot;SEA_LAS&quot;</td><td>0.002196</td><td>5009</td></tr><tr><td>&quot;SEA_LAX&quot;</td><td>0.002189</td><td>7765</td></tr><tr><td>&quot;PHX_SEA&quot;</td><td>0.001906</td><td>5770</td></tr><tr><td>&quot;LIH_HNL&quot;</td><td>0.001708</td><td>5855</td></tr><tr><td>&quot;HNL_KOA&quot;</td><td>0.001095</td><td>6390</td></tr><tr><td>&quot;HNL_LIH&quot;</td><td>0.000683</td><td>5856</td></tr></tbody></table></div>"
      ],
      "text/plain": [
       "shape: (129, 3)\n",
       "┌─────────┬──────────────┬───────┐\n",
       "│ ROUTE   ┆ count/cancel ┆ count │\n",
       "│ ---     ┆ ---          ┆ ---   │\n",
       "│ str     ┆ f64          ┆ u32   │\n",
       "╞═════════╪══════════════╪═══════╡\n",
       "│ BOS_LGA ┆ 0.06243      ┆ 7096  │\n",
       "│ LGA_BOS ┆ 0.062113     ┆ 7100  │\n",
       "│ LGA_ORD ┆ 0.045129     ┆ 9639  │\n",
       "│ ORD_LGA ┆ 0.042611     ┆ 9575  │\n",
       "│ …       ┆ …            ┆ …     │\n",
       "│ PHX_SEA ┆ 0.001906     ┆ 5770  │\n",
       "│ LIH_HNL ┆ 0.001708     ┆ 5855  │\n",
       "│ HNL_KOA ┆ 0.001095     ┆ 6390  │\n",
       "│ HNL_LIH ┆ 0.000683     ┆ 5856  │\n",
       "└─────────┴──────────────┴───────┘"
      ]
     },
     "execution_count": 17,
     "metadata": {},
     "output_type": "execute_result"
    }
   ],
   "source": [
    "popular_routes_ = popular_routes.groupby('ROUTE').agg((pl.col('CANCELLED').sum()/pl.count('ROUTE')).alias('count/cancel'),pl.count()).sort(by='count/cancel',descending=True)\n",
    "popular_routes_"
   ]
  },
  {
   "cell_type": "code",
   "execution_count": 45,
   "id": "a263b093",
   "metadata": {
    "scrolled": false
   },
   "outputs": [
    {
     "data": {
      "text/plain": [
       "<AxesSubplot:>"
      ]
     },
     "execution_count": 45,
     "metadata": {},
     "output_type": "execute_result"
    },
    {
     "data": {
      "image/png": "[encoded data removed]",
      "text/plain": [
       "<Figure size 720x576 with 1 Axes>"
      ]
     },
     "metadata": {
      "needs_background": "light"
     },
     "output_type": "display_data"
    }
   ],
   "source": [
    "plt.figure(figsize=(10,8))\n",
    "sns.barplot(x=popular_routes_['ROUTE'].to_numpy()[:10],y=popular_routes_['count/cancel'].to_numpy()[:10])"
   ]
  },
  {
   "cell_type": "markdown",
   "id": "2ee973d0",
   "metadata": {},
   "source": [
    "passengers who require flights in routes with high probability of cancellation from airlines might want to take flights going through other routes, cancellation could be due to multiple factors, weather conditions, insecurity, fuel wasted going through that distance compared to income the airline will make from the flight, either way, boarding a flight going through the straight path in these high prob routes will be risky for passengers who want to avoid cancellation"
   ]
  },
  {
   "cell_type": "code",
   "execution_count": null,
   "id": "a3704ece",
   "metadata": {},
   "outputs": [],
   "source": [
    "route_cancellation = data_1.groupby()"
   ]
  },
  {
   "cell_type": "code",
   "execution_count": 93,
   "id": "ad206884",
   "metadata": {
    "scrolled": true
   },
   "outputs": [
    {
     "data": {
      "text/plain": [
       "['AIRLINE', 'ORIGIN_AIRPORT', 'DESTINATION_AIRPORT']"
      ]
     },
     "execution_count": 93,
     "metadata": {},
     "output_type": "execute_result"
    }
   ],
   "source": [
    "#categorical_cols.remove('TAIL_NUMBER')\n",
    "# categorical_cols.remove('CANCELLATION_REASON')\n",
    "categorical_cols"
   ]
  },
  {
   "cell_type": "code",
   "execution_count": 96,
   "id": "21ea9c17",
   "metadata": {},
   "outputs": [
    {
     "data": {
      "image/png": "[encoded data removed]",
      "text/plain": [
       "<Figure size 864x720 with 6 Axes>"
      ]
     },
     "metadata": {
      "needs_background": "light"
     },
     "output_type": "display_data"
    }
   ],
   "source": [
    "fig,ax = plt.subplots(2,3,figsize=(12,10))\n",
    "\n",
    "sns.countplot(x=data_['AIRLINE'].to_numpy(),hue=data_['CANCELLED'].to_numpy(),ax=ax[0,0])\n",
    "sns.countplot(x=data_['AIRLINE'].to_numpy(),hue=data_['DIVERTED'].to_numpy(),ax=ax[1,0])\n",
    "\n",
    "sns.countplot(x=data_['ORIGIN_AIRPORT'].to_numpy(),hue=data_['CANCELLED'].to_numpy(),ax=ax[0,1])\n",
    "sns.countplot(x=data_['ORIGIN_AIRPORT'].to_numpy(),hue=data_['DIVERTED'].to_numpy(),ax=ax[1,1])\n",
    "\n",
    "sns.countplot(x=data_['DESTINATION_AIRPORT'].to_numpy(),hue=data_['CANCELLED'].to_numpy(),ax=ax[0,2])\n",
    "sns.countplot(x=data_['DESTINATION_AIRPORT'].to_numpy(),hue=data_['DIVERTED'].to_numpy(),ax=ax[1,2])\n",
    "\n",
    "plt.tight_layout()"
   ]
  },
  {
   "cell_type": "code",
   "execution_count": 138,
   "id": "24ef1e6f",
   "metadata": {},
   "outputs": [
    {
     "data": {
      "text/html": [
       "<div><style>\n",
       ".dataframe > thead > tr,\n",
       ".dataframe > tbody > tr {\n",
       "  text-align: right;\n",
       "  white-space: pre-wrap;\n",
       "}\n",
       "</style>\n",
       "<small>shape: (2, 2)</small><table border=\"1\" class=\"dataframe\"><thead><tr><th>CANCELLED</th><th>DISTANCE</th></tr><tr><td>i64</td><td>f64</td></tr></thead><tbody><tr><td>0</td><td>650.0</td></tr><tr><td>1</td><td>532.5</td></tr></tbody></table></div>"
      ],
      "text/plain": [
       "shape: (2, 2)\n",
       "┌───────────┬──────────┐\n",
       "│ CANCELLED ┆ DISTANCE │\n",
       "│ ---       ┆ ---      │\n",
       "│ i64       ┆ f64      │\n",
       "╞═══════════╪══════════╡\n",
       "│ 0         ┆ 650.0    │\n",
       "│ 1         ┆ 532.5    │\n",
       "└───────────┴──────────┘"
      ]
     },
     "execution_count": 138,
     "metadata": {},
     "output_type": "execute_result"
    }
   ],
   "source": [
    "data_1.groupby('CANCELLED').agg(pl.col('DISTANCE').median())"
   ]
  },
  {
   "cell_type": "code",
   "execution_count": 142,
   "id": "a7e73535",
   "metadata": {},
   "outputs": [
    {
     "data": {
      "text/plain": [
       "<AxesSubplot:>"
      ]
     },
     "execution_count": 142,
     "metadata": {},
     "output_type": "execute_result"
    },
    {
     "data": {
      "image/png": "[encoded data removed]",
      "text/plain": [
       "<Figure size 432x288 with 1 Axes>"
      ]
     },
     "metadata": {
      "needs_background": "light"
     },
     "output_type": "display_data"
    }
   ],
   "source": [
    "sns.boxplot(data_1['DISTANCE'].to_numpy())"
   ]
  },
  {
   "cell_type": "code",
   "execution_count": 144,
   "id": "79499c65",
   "metadata": {},
   "outputs": [
    {
     "ename": "KeyboardInterrupt",
     "evalue": "",
     "output_type": "error",
     "traceback": [
      "\u001b[1;31m---------------------------------------------------------------------------\u001b[0m",
      "\u001b[1;31mKeyboardInterrupt\u001b[0m                         Traceback (most recent call last)",
      "Input \u001b[1;32mIn [144]\u001b[0m, in \u001b[0;36m<cell line: 1>\u001b[1;34m()\u001b[0m\n\u001b[1;32m----> 1\u001b[0m \u001b[43msns\u001b[49m\u001b[38;5;241;43m.\u001b[39;49m\u001b[43mdistplot\u001b[49m\u001b[43m(\u001b[49m\u001b[43mdata_1\u001b[49m\u001b[43m[\u001b[49m\u001b[38;5;124;43m'\u001b[39;49m\u001b[38;5;124;43mDISTANCE\u001b[39;49m\u001b[38;5;124;43m'\u001b[39;49m\u001b[43m]\u001b[49m\u001b[38;5;241;43m.\u001b[39;49m\u001b[43mto_numpy\u001b[49m\u001b[43m(\u001b[49m\u001b[43m)\u001b[49m\u001b[43m)\u001b[49m\n",
      "File \u001b[1;32m~\\anaconda3\\lib\\site-packages\\seaborn\\distributions.py:2687\u001b[0m, in \u001b[0;36mdistplot\u001b[1;34m(a, bins, hist, kde, rug, fit, hist_kws, kde_kws, rug_kws, fit_kws, color, vertical, norm_hist, axlabel, label, ax, x)\u001b[0m\n\u001b[0;32m   2685\u001b[0m \u001b[38;5;28;01mif\u001b[39;00m kde:\n\u001b[0;32m   2686\u001b[0m     kde_color \u001b[38;5;241m=\u001b[39m kde_kws\u001b[38;5;241m.\u001b[39mpop(\u001b[38;5;124m\"\u001b[39m\u001b[38;5;124mcolor\u001b[39m\u001b[38;5;124m\"\u001b[39m, color)\n\u001b[1;32m-> 2687\u001b[0m     kdeplot(a, vertical\u001b[38;5;241m=\u001b[39mvertical, ax\u001b[38;5;241m=\u001b[39max, color\u001b[38;5;241m=\u001b[39mkde_color, \u001b[38;5;241m*\u001b[39m\u001b[38;5;241m*\u001b[39mkde_kws)\n\u001b[0;32m   2688\u001b[0m     \u001b[38;5;28;01mif\u001b[39;00m kde_color \u001b[38;5;241m!=\u001b[39m color:\n\u001b[0;32m   2689\u001b[0m         kde_kws[\u001b[38;5;124m\"\u001b[39m\u001b[38;5;124mcolor\u001b[39m\u001b[38;5;124m\"\u001b[39m] \u001b[38;5;241m=\u001b[39m kde_color\n",
      "File \u001b[1;32m~\\anaconda3\\lib\\site-packages\\seaborn\\_decorators.py:46\u001b[0m, in \u001b[0;36m_deprecate_positional_args.<locals>.inner_f\u001b[1;34m(*args, **kwargs)\u001b[0m\n\u001b[0;32m     36\u001b[0m     warnings\u001b[38;5;241m.\u001b[39mwarn(\n\u001b[0;32m     37\u001b[0m         \u001b[38;5;124m\"\u001b[39m\u001b[38;5;124mPass the following variable\u001b[39m\u001b[38;5;132;01m{}\u001b[39;00m\u001b[38;5;124m as \u001b[39m\u001b[38;5;132;01m{}\u001b[39;00m\u001b[38;5;124mkeyword arg\u001b[39m\u001b[38;5;132;01m{}\u001b[39;00m\u001b[38;5;124m: \u001b[39m\u001b[38;5;132;01m{}\u001b[39;00m\u001b[38;5;124m. \u001b[39m\u001b[38;5;124m\"\u001b[39m\n\u001b[0;32m     38\u001b[0m         \u001b[38;5;124m\"\u001b[39m\u001b[38;5;124mFrom version 0.12, the only valid positional argument \u001b[39m\u001b[38;5;124m\"\u001b[39m\n\u001b[1;32m   (...)\u001b[0m\n\u001b[0;32m     43\u001b[0m         \u001b[38;5;167;01mFutureWarning\u001b[39;00m\n\u001b[0;32m     44\u001b[0m     )\n\u001b[0;32m     45\u001b[0m kwargs\u001b[38;5;241m.\u001b[39mupdate({k: arg \u001b[38;5;28;01mfor\u001b[39;00m k, arg \u001b[38;5;129;01min\u001b[39;00m \u001b[38;5;28mzip\u001b[39m(sig\u001b[38;5;241m.\u001b[39mparameters, args)})\n\u001b[1;32m---> 46\u001b[0m \u001b[38;5;28;01mreturn\u001b[39;00m f(\u001b[38;5;241m*\u001b[39m\u001b[38;5;241m*\u001b[39mkwargs)\n",
      "File \u001b[1;32m~\\anaconda3\\lib\\site-packages\\seaborn\\distributions.py:1770\u001b[0m, in \u001b[0;36mkdeplot\u001b[1;34m(x, y, shade, vertical, kernel, bw, gridsize, cut, clip, legend, cumulative, shade_lowest, cbar, cbar_ax, cbar_kws, ax, weights, hue, palette, hue_order, hue_norm, multiple, common_norm, common_grid, levels, thresh, bw_method, bw_adjust, log_scale, color, fill, data, data2, warn_singular, **kwargs)\u001b[0m\n\u001b[0;32m   1767\u001b[0m     \u001b[38;5;28;01mif\u001b[39;00m color \u001b[38;5;129;01mis\u001b[39;00m \u001b[38;5;129;01mnot\u001b[39;00m \u001b[38;5;28;01mNone\u001b[39;00m:\n\u001b[0;32m   1768\u001b[0m         plot_kws[\u001b[38;5;124m\"\u001b[39m\u001b[38;5;124mcolor\u001b[39m\u001b[38;5;124m\"\u001b[39m] \u001b[38;5;241m=\u001b[39m color\n\u001b[1;32m-> 1770\u001b[0m     p\u001b[38;5;241m.\u001b[39mplot_univariate_density(\n\u001b[0;32m   1771\u001b[0m         multiple\u001b[38;5;241m=\u001b[39mmultiple,\n\u001b[0;32m   1772\u001b[0m         common_norm\u001b[38;5;241m=\u001b[39mcommon_norm,\n\u001b[0;32m   1773\u001b[0m         common_grid\u001b[38;5;241m=\u001b[39mcommon_grid,\n\u001b[0;32m   1774\u001b[0m         fill\u001b[38;5;241m=\u001b[39mfill,\n\u001b[0;32m   1775\u001b[0m         legend\u001b[38;5;241m=\u001b[39mlegend,\n\u001b[0;32m   1776\u001b[0m         warn_singular\u001b[38;5;241m=\u001b[39mwarn_singular,\n\u001b[0;32m   1777\u001b[0m         estimate_kws\u001b[38;5;241m=\u001b[39mestimate_kws,\n\u001b[0;32m   1778\u001b[0m         \u001b[38;5;241m*\u001b[39m\u001b[38;5;241m*\u001b[39mplot_kws,\n\u001b[0;32m   1779\u001b[0m     )\n\u001b[0;32m   1781\u001b[0m \u001b[38;5;28;01melse\u001b[39;00m:\n\u001b[0;32m   1783\u001b[0m     p\u001b[38;5;241m.\u001b[39mplot_bivariate_density(\n\u001b[0;32m   1784\u001b[0m         common_norm\u001b[38;5;241m=\u001b[39mcommon_norm,\n\u001b[0;32m   1785\u001b[0m         fill\u001b[38;5;241m=\u001b[39mfill,\n\u001b[1;32m   (...)\u001b[0m\n\u001b[0;32m   1795\u001b[0m         \u001b[38;5;241m*\u001b[39m\u001b[38;5;241m*\u001b[39mkwargs,\n\u001b[0;32m   1796\u001b[0m     )\n",
      "File \u001b[1;32m~\\anaconda3\\lib\\site-packages\\seaborn\\distributions.py:928\u001b[0m, in \u001b[0;36m_DistributionPlotter.plot_univariate_density\u001b[1;34m(self, multiple, common_norm, common_grid, warn_singular, fill, legend, estimate_kws, **plot_kws)\u001b[0m\n\u001b[0;32m    925\u001b[0m log_scale \u001b[38;5;241m=\u001b[39m \u001b[38;5;28mself\u001b[39m\u001b[38;5;241m.\u001b[39m_log_scaled(\u001b[38;5;28mself\u001b[39m\u001b[38;5;241m.\u001b[39mdata_variable)\n\u001b[0;32m    927\u001b[0m \u001b[38;5;66;03m# Do the computation\u001b[39;00m\n\u001b[1;32m--> 928\u001b[0m densities \u001b[38;5;241m=\u001b[39m \u001b[38;5;28;43mself\u001b[39;49m\u001b[38;5;241;43m.\u001b[39;49m\u001b[43m_compute_univariate_density\u001b[49m\u001b[43m(\u001b[49m\n\u001b[0;32m    929\u001b[0m \u001b[43m    \u001b[49m\u001b[38;5;28;43mself\u001b[39;49m\u001b[38;5;241;43m.\u001b[39;49m\u001b[43mdata_variable\u001b[49m\u001b[43m,\u001b[49m\n\u001b[0;32m    930\u001b[0m \u001b[43m    \u001b[49m\u001b[43mcommon_norm\u001b[49m\u001b[43m,\u001b[49m\n\u001b[0;32m    931\u001b[0m \u001b[43m    \u001b[49m\u001b[43mcommon_grid\u001b[49m\u001b[43m,\u001b[49m\n\u001b[0;32m    932\u001b[0m \u001b[43m    \u001b[49m\u001b[43mestimate_kws\u001b[49m\u001b[43m,\u001b[49m\n\u001b[0;32m    933\u001b[0m \u001b[43m    \u001b[49m\u001b[43mlog_scale\u001b[49m\u001b[43m,\u001b[49m\n\u001b[0;32m    934\u001b[0m \u001b[43m    \u001b[49m\u001b[43mwarn_singular\u001b[49m\u001b[43m,\u001b[49m\n\u001b[0;32m    935\u001b[0m \u001b[43m\u001b[49m\u001b[43m)\u001b[49m\n\u001b[0;32m    937\u001b[0m \u001b[38;5;66;03m# Adjust densities based on the `multiple` rule\u001b[39;00m\n\u001b[0;32m    938\u001b[0m densities, baselines \u001b[38;5;241m=\u001b[39m \u001b[38;5;28mself\u001b[39m\u001b[38;5;241m.\u001b[39m_resolve_multiple(densities, multiple)\n",
      "File \u001b[1;32m~\\anaconda3\\lib\\site-packages\\seaborn\\distributions.py:326\u001b[0m, in \u001b[0;36m_DistributionPlotter._compute_univariate_density\u001b[1;34m(self, data_variable, common_norm, common_grid, estimate_kws, log_scale, warn_singular)\u001b[0m\n\u001b[0;32m    323\u001b[0m     weights \u001b[38;5;241m=\u001b[39m \u001b[38;5;28;01mNone\u001b[39;00m\n\u001b[0;32m    325\u001b[0m \u001b[38;5;66;03m# Estimate the density of observations at this level\u001b[39;00m\n\u001b[1;32m--> 326\u001b[0m density, support \u001b[38;5;241m=\u001b[39m \u001b[43mestimator\u001b[49m\u001b[43m(\u001b[49m\u001b[43mobservations\u001b[49m\u001b[43m,\u001b[49m\u001b[43m \u001b[49m\u001b[43mweights\u001b[49m\u001b[38;5;241;43m=\u001b[39;49m\u001b[43mweights\u001b[49m\u001b[43m)\u001b[49m\n\u001b[0;32m    328\u001b[0m \u001b[38;5;28;01mif\u001b[39;00m log_scale:\n\u001b[0;32m    329\u001b[0m     support \u001b[38;5;241m=\u001b[39m np\u001b[38;5;241m.\u001b[39mpower(\u001b[38;5;241m10\u001b[39m, support)\n",
      "File \u001b[1;32m~\\anaconda3\\lib\\site-packages\\seaborn\\_statistics.py:187\u001b[0m, in \u001b[0;36mKDE.__call__\u001b[1;34m(self, x1, x2, weights)\u001b[0m\n\u001b[0;32m    185\u001b[0m \u001b[38;5;124;03m\"\"\"Fit and evaluate on univariate or bivariate data.\"\"\"\u001b[39;00m\n\u001b[0;32m    186\u001b[0m \u001b[38;5;28;01mif\u001b[39;00m x2 \u001b[38;5;129;01mis\u001b[39;00m \u001b[38;5;28;01mNone\u001b[39;00m:\n\u001b[1;32m--> 187\u001b[0m     \u001b[38;5;28;01mreturn\u001b[39;00m \u001b[38;5;28;43mself\u001b[39;49m\u001b[38;5;241;43m.\u001b[39;49m\u001b[43m_eval_univariate\u001b[49m\u001b[43m(\u001b[49m\u001b[43mx1\u001b[49m\u001b[43m,\u001b[49m\u001b[43m \u001b[49m\u001b[43mweights\u001b[49m\u001b[43m)\u001b[49m\n\u001b[0;32m    188\u001b[0m \u001b[38;5;28;01melse\u001b[39;00m:\n\u001b[0;32m    189\u001b[0m     \u001b[38;5;28;01mreturn\u001b[39;00m \u001b[38;5;28mself\u001b[39m\u001b[38;5;241m.\u001b[39m_eval_bivariate(x1, x2, weights)\n",
      "File \u001b[1;32m~\\anaconda3\\lib\\site-packages\\seaborn\\_statistics.py:156\u001b[0m, in \u001b[0;36mKDE._eval_univariate\u001b[1;34m(self, x, weights)\u001b[0m\n\u001b[0;32m    152\u001b[0m     density \u001b[38;5;241m=\u001b[39m np\u001b[38;5;241m.\u001b[39marray([\n\u001b[0;32m    153\u001b[0m         kde\u001b[38;5;241m.\u001b[39mintegrate_box_1d(s_0, s_i) \u001b[38;5;28;01mfor\u001b[39;00m s_i \u001b[38;5;129;01min\u001b[39;00m support\n\u001b[0;32m    154\u001b[0m     ])\n\u001b[0;32m    155\u001b[0m \u001b[38;5;28;01melse\u001b[39;00m:\n\u001b[1;32m--> 156\u001b[0m     density \u001b[38;5;241m=\u001b[39m \u001b[43mkde\u001b[49m\u001b[43m(\u001b[49m\u001b[43msupport\u001b[49m\u001b[43m)\u001b[49m\n\u001b[0;32m    158\u001b[0m \u001b[38;5;28;01mreturn\u001b[39;00m density, support\n",
      "File \u001b[1;32m~\\anaconda3\\lib\\site-packages\\scipy\\stats\\kde.py:254\u001b[0m, in \u001b[0;36mgaussian_kde.evaluate\u001b[1;34m(self, points)\u001b[0m\n\u001b[0;32m    250\u001b[0m     \u001b[38;5;28;01mraise\u001b[39;00m \u001b[38;5;167;01mTypeError\u001b[39;00m(\u001b[38;5;124m'\u001b[39m\u001b[38;5;132;01m%s\u001b[39;00m\u001b[38;5;124m has unexpected item size \u001b[39m\u001b[38;5;132;01m%d\u001b[39;00m\u001b[38;5;124m'\u001b[39m \u001b[38;5;241m%\u001b[39m\n\u001b[0;32m    251\u001b[0m                     (output_dtype, itemsize))\n\u001b[0;32m    252\u001b[0m result \u001b[38;5;241m=\u001b[39m gaussian_kernel_estimate[spec](\u001b[38;5;28mself\u001b[39m\u001b[38;5;241m.\u001b[39mdataset\u001b[38;5;241m.\u001b[39mT, \u001b[38;5;28mself\u001b[39m\u001b[38;5;241m.\u001b[39mweights[:, \u001b[38;5;28;01mNone\u001b[39;00m],\n\u001b[0;32m    253\u001b[0m                                         points\u001b[38;5;241m.\u001b[39mT, \u001b[38;5;28mself\u001b[39m\u001b[38;5;241m.\u001b[39minv_cov, output_dtype)\n\u001b[1;32m--> 254\u001b[0m \u001b[38;5;28;01mreturn\u001b[39;00m result[:, \u001b[38;5;241m0\u001b[39m]\n",
      "\u001b[1;31mKeyboardInterrupt\u001b[0m: "
     ]
    },
    {
     "data": {
      "image/png": "[encoded data removed]",
      "text/plain": [
       "<Figure size 432x288 with 1 Axes>"
      ]
     },
     "metadata": {
      "needs_background": "light"
     },
     "output_type": "display_data"
    }
   ],
   "source": [
    "sns.distplot(data_1['DISTANCE'].to_numpy())"
   ]
  },
  {
   "cell_type": "markdown",
   "id": "d54860ff",
   "metadata": {},
   "source": [
    "some outliers exist in DISTANCE column"
   ]
  },
  {
   "cell_type": "code",
   "execution_count": 18,
   "id": "5e8049a1",
   "metadata": {},
   "outputs": [
    {
     "data": {
      "text/html": [
       "<div><style>\n",
       ".dataframe > thead > tr,\n",
       ".dataframe > tbody > tr {\n",
       "  text-align: right;\n",
       "  white-space: pre-wrap;\n",
       "}\n",
       "</style>\n",
       "<small>shape: (5_819_079, 40)</small><table border=\"1\" class=\"dataframe\"><thead><tr><th>YEAR</th><th>MONTH</th><th>DAY</th><th>DAY_OF_WEEK</th><th>AIRLINE</th><th>FLIGHT_NUMBER</th><th>TAIL_NUMBER</th><th>ORIGIN_AIRPORT</th><th>DESTINATION_AIRPORT</th><th>SCHEDULED_DEPARTURE</th><th>DEPARTURE_TIME</th><th>DEPARTURE_DELAY</th><th>TAXI_OUT</th><th>WHEELS_OFF</th><th>SCHEDULED_TIME</th><th>ELAPSED_TIME</th><th>AIR_TIME</th><th>DISTANCE</th><th>WHEELS_ON</th><th>TAXI_IN</th><th>SCHEDULED_ARRIVAL</th><th>ARRIVAL_TIME</th><th>ARRIVAL_DELAY</th><th>DIVERTED</th><th>CANCELLED</th><th>CANCELLATION_REASON</th><th>AIR_SYSTEM_DELAY</th><th>SECURITY_DELAY</th><th>AIRLINE_DELAY</th><th>LATE_AIRCRAFT_DELAY</th><th>WEATHER_DELAY</th><th>AIRPORT</th><th>CITY</th><th>STATE</th><th>COUNTRY</th><th>LATITUDE</th><th>LONGITUDE</th><th>Date</th><th>ROUTE</th><th>z_score_distance</th></tr><tr><td>i64</td><td>i64</td><td>i64</td><td>i64</td><td>str</td><td>i64</td><td>str</td><td>str</td><td>str</td><td>str</td><td>str</td><td>i64</td><td>i64</td><td>i64</td><td>i64</td><td>i64</td><td>i64</td><td>i64</td><td>i64</td><td>i64</td><td>i64</td><td>i64</td><td>i64</td><td>i64</td><td>i64</td><td>str</td><td>i64</td><td>i64</td><td>i64</td><td>i64</td><td>i64</td><td>str</td><td>str</td><td>str</td><td>str</td><td>f64</td><td>f64</td><td>date</td><td>str</td><td>f64</td></tr></thead><tbody><tr><td>2015</td><td>1</td><td>1</td><td>4</td><td>&quot;AS&quot;</td><td>98</td><td>&quot;N407AS&quot;</td><td>&quot;ANC&quot;</td><td>&quot;SEA&quot;</td><td>&quot;00&quot;</td><td>&quot;23&quot;</td><td>-11</td><td>21</td><td>15</td><td>205</td><td>194</td><td>169</td><td>1448</td><td>404</td><td>4</td><td>430</td><td>408</td><td>-22</td><td>0</td><td>0</td><td>null</td><td>null</td><td>null</td><td>null</td><td>null</td><td>null</td><td>&quot;Ted Stevens An…</td><td>&quot;Anchorage&quot;</td><td>&quot;AK&quot;</td><td>&quot;USA&quot;</td><td>61.17432</td><td>-149.99619</td><td>2015-01-01</td><td>&quot;ANC_SEA&quot;</td><td>1.029384</td></tr><tr><td>2015</td><td>1</td><td>1</td><td>4</td><td>&quot;AA&quot;</td><td>2336</td><td>&quot;N3KUAA&quot;</td><td>&quot;LAX&quot;</td><td>&quot;PBI&quot;</td><td>&quot;00&quot;</td><td>&quot;00&quot;</td><td>-8</td><td>12</td><td>14</td><td>280</td><td>279</td><td>263</td><td>2330</td><td>737</td><td>4</td><td>750</td><td>741</td><td>-9</td><td>0</td><td>0</td><td>null</td><td>null</td><td>null</td><td>null</td><td>null</td><td>null</td><td>&quot;Los Angeles In…</td><td>&quot;Los Angeles&quot;</td><td>&quot;CA&quot;</td><td>&quot;USA&quot;</td><td>33.94254</td><td>-118.40807</td><td>2015-01-01</td><td>&quot;LAX_PBI&quot;</td><td>2.480557</td></tr><tr><td>2015</td><td>1</td><td>1</td><td>4</td><td>&quot;US&quot;</td><td>840</td><td>&quot;N171US&quot;</td><td>&quot;SFO&quot;</td><td>&quot;CLT&quot;</td><td>&quot;00&quot;</td><td>&quot;00&quot;</td><td>-2</td><td>16</td><td>34</td><td>286</td><td>293</td><td>266</td><td>2296</td><td>800</td><td>11</td><td>806</td><td>811</td><td>5</td><td>0</td><td>0</td><td>null</td><td>null</td><td>null</td><td>null</td><td>null</td><td>null</td><td>&quot;San Francisco …</td><td>&quot;San Francisco&quot;</td><td>&quot;CA&quot;</td><td>&quot;USA&quot;</td><td>37.619</td><td>-122.37484</td><td>2015-01-01</td><td>&quot;SFO_CLT&quot;</td><td>2.424616</td></tr><tr><td>2015</td><td>1</td><td>1</td><td>4</td><td>&quot;AA&quot;</td><td>258</td><td>&quot;N3HYAA&quot;</td><td>&quot;LAX&quot;</td><td>&quot;MIA&quot;</td><td>&quot;00&quot;</td><td>&quot;00&quot;</td><td>-5</td><td>15</td><td>30</td><td>285</td><td>281</td><td>258</td><td>2342</td><td>748</td><td>8</td><td>805</td><td>756</td><td>-9</td><td>0</td><td>0</td><td>null</td><td>null</td><td>null</td><td>null</td><td>null</td><td>null</td><td>&quot;Los Angeles In…</td><td>&quot;Los Angeles&quot;</td><td>&quot;CA&quot;</td><td>&quot;USA&quot;</td><td>33.94254</td><td>-118.40807</td><td>2015-01-01</td><td>&quot;LAX_MIA&quot;</td><td>2.500301</td></tr><tr><td>2015</td><td>1</td><td>1</td><td>4</td><td>&quot;AS&quot;</td><td>135</td><td>&quot;N527AS&quot;</td><td>&quot;SEA&quot;</td><td>&quot;ANC&quot;</td><td>&quot;00&quot;</td><td>&quot;00&quot;</td><td>-1</td><td>11</td><td>35</td><td>235</td><td>215</td><td>199</td><td>1448</td><td>254</td><td>5</td><td>320</td><td>259</td><td>-21</td><td>0</td><td>0</td><td>null</td><td>null</td><td>null</td><td>null</td><td>null</td><td>null</td><td>&quot;Seattle-Tacoma…</td><td>&quot;Seattle&quot;</td><td>&quot;WA&quot;</td><td>&quot;USA&quot;</td><td>47.44898</td><td>-122.30931</td><td>2015-01-01</td><td>&quot;SEA_ANC&quot;</td><td>1.029384</td></tr><tr><td>2015</td><td>1</td><td>1</td><td>4</td><td>&quot;DL&quot;</td><td>806</td><td>&quot;N3730B&quot;</td><td>&quot;SFO&quot;</td><td>&quot;MSP&quot;</td><td>&quot;00&quot;</td><td>&quot;00&quot;</td><td>-5</td><td>18</td><td>38</td><td>217</td><td>230</td><td>206</td><td>1589</td><td>604</td><td>6</td><td>602</td><td>610</td><td>8</td><td>0</td><td>0</td><td>null</td><td>null</td><td>null</td><td>null</td><td>null</td><td>null</td><td>&quot;San Francisco …</td><td>&quot;San Francisco&quot;</td><td>&quot;CA&quot;</td><td>&quot;USA&quot;</td><td>37.619</td><td>-122.37484</td><td>2015-01-01</td><td>&quot;SFO_MSP&quot;</td><td>1.261374</td></tr><tr><td>2015</td><td>1</td><td>1</td><td>4</td><td>&quot;NK&quot;</td><td>612</td><td>&quot;N635NK&quot;</td><td>&quot;LAS&quot;</td><td>&quot;MSP&quot;</td><td>&quot;00&quot;</td><td>&quot;00&quot;</td><td>-6</td><td>11</td><td>30</td><td>181</td><td>170</td><td>154</td><td>1299</td><td>504</td><td>5</td><td>526</td><td>509</td><td>-17</td><td>0</td><td>0</td><td>null</td><td>null</td><td>null</td><td>null</td><td>null</td><td>null</td><td>&quot;McCarran Inter…</td><td>&quot;Las Vegas&quot;</td><td>&quot;NV&quot;</td><td>&quot;USA&quot;</td><td>36.08036</td><td>-115.15233</td><td>2015-01-01</td><td>&quot;LAS_MSP&quot;</td><td>0.784231</td></tr><tr><td>2015</td><td>1</td><td>1</td><td>4</td><td>&quot;US&quot;</td><td>2013</td><td>&quot;N584UW&quot;</td><td>&quot;LAX&quot;</td><td>&quot;CLT&quot;</td><td>&quot;00&quot;</td><td>&quot;00&quot;</td><td>14</td><td>13</td><td>57</td><td>273</td><td>249</td><td>228</td><td>2125</td><td>745</td><td>8</td><td>803</td><td>753</td><td>-10</td><td>0</td><td>0</td><td>null</td><td>null</td><td>null</td><td>null</td><td>null</td><td>null</td><td>&quot;Los Angeles In…</td><td>&quot;Los Angeles&quot;</td><td>&quot;CA&quot;</td><td>&quot;USA&quot;</td><td>33.94254</td><td>-118.40807</td><td>2015-01-01</td><td>&quot;LAX_CLT&quot;</td><td>2.143266</td></tr><tr><td>2015</td><td>1</td><td>1</td><td>4</td><td>&quot;AA&quot;</td><td>1112</td><td>&quot;N3LAAA&quot;</td><td>&quot;SFO&quot;</td><td>&quot;DFW&quot;</td><td>&quot;00&quot;</td><td>&quot;00&quot;</td><td>-11</td><td>17</td><td>36</td><td>195</td><td>193</td><td>173</td><td>1464</td><td>529</td><td>3</td><td>545</td><td>532</td><td>-13</td><td>0</td><td>0</td><td>null</td><td>null</td><td>null</td><td>null</td><td>null</td><td>null</td><td>&quot;San Francisco …</td><td>&quot;San Francisco&quot;</td><td>&quot;CA&quot;</td><td>&quot;USA&quot;</td><td>37.619</td><td>-122.37484</td><td>2015-01-01</td><td>&quot;SFO_DFW&quot;</td><td>1.055709</td></tr><tr><td>2015</td><td>1</td><td>1</td><td>4</td><td>&quot;DL&quot;</td><td>1173</td><td>&quot;N826DN&quot;</td><td>&quot;LAS&quot;</td><td>&quot;ATL&quot;</td><td>&quot;00&quot;</td><td>&quot;00&quot;</td><td>3</td><td>12</td><td>45</td><td>221</td><td>203</td><td>186</td><td>1747</td><td>651</td><td>5</td><td>711</td><td>656</td><td>-15</td><td>0</td><td>0</td><td>null</td><td>null</td><td>null</td><td>null</td><td>null</td><td>null</td><td>&quot;McCarran Inter…</td><td>&quot;Las Vegas&quot;</td><td>&quot;NV&quot;</td><td>&quot;USA&quot;</td><td>36.08036</td><td>-115.15233</td><td>2015-01-01</td><td>&quot;LAS_ATL&quot;</td><td>1.521335</td></tr><tr><td>2015</td><td>1</td><td>1</td><td>4</td><td>&quot;DL&quot;</td><td>2336</td><td>&quot;N958DN&quot;</td><td>&quot;DEN&quot;</td><td>&quot;ATL&quot;</td><td>&quot;00&quot;</td><td>&quot;00&quot;</td><td>-6</td><td>12</td><td>36</td><td>173</td><td>149</td><td>133</td><td>1199</td><td>449</td><td>4</td><td>523</td><td>453</td><td>-30</td><td>0</td><td>0</td><td>null</td><td>null</td><td>null</td><td>null</td><td>null</td><td>null</td><td>&quot;Denver Interna…</td><td>&quot;Denver&quot;</td><td>&quot;CO&quot;</td><td>&quot;USA&quot;</td><td>39.85841</td><td>-104.667</td><td>2015-01-01</td><td>&quot;DEN_ATL&quot;</td><td>0.619699</td></tr><tr><td>2015</td><td>1</td><td>1</td><td>4</td><td>&quot;AA&quot;</td><td>1674</td><td>&quot;N853AA&quot;</td><td>&quot;LAS&quot;</td><td>&quot;MIA&quot;</td><td>&quot;00&quot;</td><td>&quot;00&quot;</td><td>-8</td><td>21</td><td>48</td><td>268</td><td>266</td><td>238</td><td>2174</td><td>746</td><td>7</td><td>803</td><td>753</td><td>-10</td><td>0</td><td>0</td><td>null</td><td>null</td><td>null</td><td>null</td><td>null</td><td>null</td><td>&quot;McCarran Inter…</td><td>&quot;Las Vegas&quot;</td><td>&quot;NV&quot;</td><td>&quot;USA&quot;</td><td>36.08036</td><td>-115.15233</td><td>2015-01-01</td><td>&quot;LAS_MIA&quot;</td><td>2.223887</td></tr><tr><td>&hellip;</td><td>&hellip;</td><td>&hellip;</td><td>&hellip;</td><td>&hellip;</td><td>&hellip;</td><td>&hellip;</td><td>&hellip;</td><td>&hellip;</td><td>&hellip;</td><td>&hellip;</td><td>&hellip;</td><td>&hellip;</td><td>&hellip;</td><td>&hellip;</td><td>&hellip;</td><td>&hellip;</td><td>&hellip;</td><td>&hellip;</td><td>&hellip;</td><td>&hellip;</td><td>&hellip;</td><td>&hellip;</td><td>&hellip;</td><td>&hellip;</td><td>&hellip;</td><td>&hellip;</td><td>&hellip;</td><td>&hellip;</td><td>&hellip;</td><td>&hellip;</td><td>&hellip;</td><td>&hellip;</td><td>&hellip;</td><td>&hellip;</td><td>&hellip;</td><td>&hellip;</td><td>&hellip;</td><td>&hellip;</td><td>&hellip;</td></tr><tr><td>2015</td><td>12</td><td>31</td><td>4</td><td>&quot;AA&quot;</td><td>2342</td><td>&quot;N3DLAA&quot;</td><td>&quot;DEN&quot;</td><td>&quot;MIA&quot;</td><td>&quot;23&quot;</td><td>&quot;23&quot;</td><td>-8</td><td>18</td><td>9</td><td>224</td><td>214</td><td>190</td><td>1709</td><td>519</td><td>6</td><td>543</td><td>525</td><td>-18</td><td>0</td><td>0</td><td>null</td><td>null</td><td>null</td><td>null</td><td>null</td><td>null</td><td>&quot;Denver Interna…</td><td>&quot;Denver&quot;</td><td>&quot;CO&quot;</td><td>&quot;USA&quot;</td><td>39.85841</td><td>-104.667</td><td>2015-12-31</td><td>&quot;DEN_MIA&quot;</td><td>1.458813</td></tr><tr><td>2015</td><td>12</td><td>31</td><td>4</td><td>&quot;AA&quot;</td><td>219</td><td>&quot;N3LYAA&quot;</td><td>&quot;LAX&quot;</td><td>&quot;ORD&quot;</td><td>&quot;23&quot;</td><td>&quot;23&quot;</td><td>-1</td><td>23</td><td>21</td><td>244</td><td>226</td><td>198</td><td>1744</td><td>539</td><td>5</td><td>603</td><td>544</td><td>-19</td><td>0</td><td>0</td><td>null</td><td>null</td><td>null</td><td>null</td><td>null</td><td>null</td><td>&quot;Los Angeles In…</td><td>&quot;Los Angeles&quot;</td><td>&quot;CA&quot;</td><td>&quot;USA&quot;</td><td>33.94254</td><td>-118.40807</td><td>2015-12-31</td><td>&quot;LAX_ORD&quot;</td><td>1.516399</td></tr><tr><td>2015</td><td>12</td><td>31</td><td>4</td><td>&quot;B6&quot;</td><td>1248</td><td>&quot;N948JB&quot;</td><td>&quot;LAS&quot;</td><td>&quot;JFK&quot;</td><td>&quot;23&quot;</td><td>&quot;23&quot;</td><td>159</td><td>34</td><td>312</td><td>282</td><td>282</td><td>243</td><td>2248</td><td>1015</td><td>5</td><td>741</td><td>1020</td><td>159</td><td>0</td><td>0</td><td>null</td><td>0</td><td>0</td><td>159</td><td>0</td><td>0</td><td>&quot;McCarran Inter…</td><td>&quot;Las Vegas&quot;</td><td>&quot;NV&quot;</td><td>&quot;USA&quot;</td><td>36.08036</td><td>-115.15233</td><td>2015-12-31</td><td>&quot;LAS_JFK&quot;</td><td>2.345641</td></tr><tr><td>2015</td><td>12</td><td>31</td><td>4</td><td>&quot;B6&quot;</td><td>80</td><td>&quot;N584JB&quot;</td><td>&quot;RNO&quot;</td><td>&quot;JFK&quot;</td><td>&quot;23&quot;</td><td>&quot;23&quot;</td><td>0</td><td>12</td><td>11</td><td>306</td><td>285</td><td>268</td><td>2411</td><td>739</td><td>5</td><td>805</td><td>744</td><td>-21</td><td>0</td><td>0</td><td>null</td><td>null</td><td>null</td><td>null</td><td>null</td><td>null</td><td>&quot;Reno/Tahoe Int…</td><td>&quot;Reno&quot;</td><td>&quot;NV&quot;</td><td>&quot;USA&quot;</td><td>39.49858</td><td>-119.76806</td><td>2015-12-31</td><td>&quot;RNO_JFK&quot;</td><td>2.613828</td></tr><tr><td>2015</td><td>12</td><td>31</td><td>4</td><td>&quot;B6&quot;</td><td>802</td><td>&quot;N589JB&quot;</td><td>&quot;SLC&quot;</td><td>&quot;MCO&quot;</td><td>&quot;23&quot;</td><td>&quot;00&quot;</td><td>16</td><td>14</td><td>29</td><td>249</td><td>250</td><td>211</td><td>1931</td><td>600</td><td>25</td><td>608</td><td>625</td><td>17</td><td>0</td><td>0</td><td>null</td><td>1</td><td>0</td><td>16</td><td>0</td><td>0</td><td>&quot;Salt Lake City…</td><td>&quot;Salt Lake City…</td><td>&quot;UT&quot;</td><td>&quot;USA&quot;</td><td>40.78839</td><td>-111.97777</td><td>2015-12-31</td><td>&quot;SLC_MCO&quot;</td><td>1.824074</td></tr><tr><td>2015</td><td>12</td><td>31</td><td>4</td><td>&quot;B6&quot;</td><td>98</td><td>&quot;N607JB&quot;</td><td>&quot;DEN&quot;</td><td>&quot;JFK&quot;</td><td>&quot;23&quot;</td><td>&quot;00&quot;</td><td>7</td><td>13</td><td>19</td><td>211</td><td>193</td><td>173</td><td>1626</td><td>512</td><td>7</td><td>530</td><td>519</td><td>-11</td><td>0</td><td>0</td><td>null</td><td>null</td><td>null</td><td>null</td><td>null</td><td>null</td><td>&quot;Denver Interna…</td><td>&quot;Denver&quot;</td><td>&quot;CO&quot;</td><td>&quot;USA&quot;</td><td>39.85841</td><td>-104.667</td><td>2015-12-31</td><td>&quot;DEN_JFK&quot;</td><td>1.322251</td></tr><tr><td>2015</td><td>12</td><td>31</td><td>4</td><td>&quot;B6&quot;</td><td>66</td><td>&quot;N655JB&quot;</td><td>&quot;ABQ&quot;</td><td>&quot;JFK&quot;</td><td>&quot;23&quot;</td><td>&quot;00&quot;</td><td>16</td><td>9</td><td>24</td><td>227</td><td>214</td><td>190</td><td>1826</td><td>534</td><td>15</td><td>546</td><td>549</td><td>3</td><td>0</td><td>0</td><td>null</td><td>null</td><td>null</td><td>null</td><td>null</td><td>null</td><td>&quot;Albuquerque In…</td><td>&quot;Albuquerque&quot;</td><td>&quot;NM&quot;</td><td>&quot;USA&quot;</td><td>35.04022</td><td>-106.60919</td><td>2015-12-31</td><td>&quot;ABQ_JFK&quot;</td><td>1.651315</td></tr><tr><td>2015</td><td>12</td><td>31</td><td>4</td><td>&quot;B6&quot;</td><td>688</td><td>&quot;N657JB&quot;</td><td>&quot;LAX&quot;</td><td>&quot;BOS&quot;</td><td>&quot;23&quot;</td><td>&quot;23&quot;</td><td>-4</td><td>22</td><td>17</td><td>320</td><td>298</td><td>272</td><td>2611</td><td>749</td><td>4</td><td>819</td><td>753</td><td>-26</td><td>0</td><td>0</td><td>null</td><td>null</td><td>null</td><td>null</td><td>null</td><td>null</td><td>&quot;Los Angeles In…</td><td>&quot;Los Angeles&quot;</td><td>&quot;CA&quot;</td><td>&quot;USA&quot;</td><td>33.94254</td><td>-118.40807</td><td>2015-12-31</td><td>&quot;LAX_BOS&quot;</td><td>2.942892</td></tr><tr><td>2015</td><td>12</td><td>31</td><td>4</td><td>&quot;B6&quot;</td><td>745</td><td>&quot;N828JB&quot;</td><td>&quot;JFK&quot;</td><td>&quot;PSE&quot;</td><td>&quot;23&quot;</td><td>&quot;23&quot;</td><td>-4</td><td>17</td><td>12</td><td>227</td><td>215</td><td>195</td><td>1617</td><td>427</td><td>3</td><td>446</td><td>430</td><td>-16</td><td>0</td><td>0</td><td>null</td><td>null</td><td>null</td><td>null</td><td>null</td><td>null</td><td>&quot;John F. Kenned…</td><td>&quot;New York&quot;</td><td>&quot;NY&quot;</td><td>&quot;USA&quot;</td><td>40.63975</td><td>-73.77893</td><td>2015-12-31</td><td>&quot;JFK_PSE&quot;</td><td>1.307443</td></tr><tr><td>2015</td><td>12</td><td>31</td><td>4</td><td>&quot;B6&quot;</td><td>1503</td><td>&quot;N913JB&quot;</td><td>&quot;JFK&quot;</td><td>&quot;SJU&quot;</td><td>&quot;23&quot;</td><td>&quot;23&quot;</td><td>-9</td><td>17</td><td>7</td><td>221</td><td>222</td><td>197</td><td>1598</td><td>424</td><td>8</td><td>440</td><td>432</td><td>-8</td><td>0</td><td>0</td><td>null</td><td>null</td><td>null</td><td>null</td><td>null</td><td>null</td><td>&quot;John F. Kenned…</td><td>&quot;New York&quot;</td><td>&quot;NY&quot;</td><td>&quot;USA&quot;</td><td>40.63975</td><td>-73.77893</td><td>2015-12-31</td><td>&quot;JFK_SJU&quot;</td><td>1.276182</td></tr><tr><td>2015</td><td>12</td><td>31</td><td>4</td><td>&quot;B6&quot;</td><td>333</td><td>&quot;N527JB&quot;</td><td>&quot;MCO&quot;</td><td>&quot;SJU&quot;</td><td>&quot;23&quot;</td><td>&quot;23&quot;</td><td>-6</td><td>10</td><td>3</td><td>161</td><td>157</td><td>144</td><td>1189</td><td>327</td><td>3</td><td>340</td><td>330</td><td>-10</td><td>0</td><td>0</td><td>null</td><td>null</td><td>null</td><td>null</td><td>null</td><td>null</td><td>&quot;Orlando Intern…</td><td>&quot;Orlando&quot;</td><td>&quot;FL&quot;</td><td>&quot;USA&quot;</td><td>28.42889</td><td>-81.31603</td><td>2015-12-31</td><td>&quot;MCO_SJU&quot;</td><td>0.603246</td></tr><tr><td>2015</td><td>12</td><td>31</td><td>4</td><td>&quot;B6&quot;</td><td>839</td><td>&quot;N534JB&quot;</td><td>&quot;JFK&quot;</td><td>&quot;BQN&quot;</td><td>&quot;23&quot;</td><td>&quot;00&quot;</td><td>15</td><td>14</td><td>28</td><td>221</td><td>208</td><td>189</td><td>1576</td><td>437</td><td>5</td><td>440</td><td>442</td><td>2</td><td>0</td><td>0</td><td>null</td><td>null</td><td>null</td><td>null</td><td>null</td><td>null</td><td>&quot;John F. Kenned…</td><td>&quot;New York&quot;</td><td>&quot;NY&quot;</td><td>&quot;USA&quot;</td><td>40.63975</td><td>-73.77893</td><td>2015-12-31</td><td>&quot;JFK_BQN&quot;</td><td>1.239985</td></tr></tbody></table></div>"
      ],
      "text/plain": [
       "shape: (5_819_079, 40)\n",
       "┌──────┬───────┬─────┬─────────────┬───┬────────────┬────────────┬─────────┬──────────────────┐\n",
       "│ YEAR ┆ MONTH ┆ DAY ┆ DAY_OF_WEEK ┆ … ┆ LONGITUDE  ┆ Date       ┆ ROUTE   ┆ z_score_distance │\n",
       "│ ---  ┆ ---   ┆ --- ┆ ---         ┆   ┆ ---        ┆ ---        ┆ ---     ┆ ---              │\n",
       "│ i64  ┆ i64   ┆ i64 ┆ i64         ┆   ┆ f64        ┆ date       ┆ str     ┆ f64              │\n",
       "╞══════╪═══════╪═════╪═════════════╪═══╪════════════╪════════════╪═════════╪══════════════════╡\n",
       "│ 2015 ┆ 1     ┆ 1   ┆ 4           ┆ … ┆ -149.99619 ┆ 2015-01-01 ┆ ANC_SEA ┆ 1.029384         │\n",
       "│ 2015 ┆ 1     ┆ 1   ┆ 4           ┆ … ┆ -118.40807 ┆ 2015-01-01 ┆ LAX_PBI ┆ 2.480557         │\n",
       "│ 2015 ┆ 1     ┆ 1   ┆ 4           ┆ … ┆ -122.37484 ┆ 2015-01-01 ┆ SFO_CLT ┆ 2.424616         │\n",
       "│ 2015 ┆ 1     ┆ 1   ┆ 4           ┆ … ┆ -118.40807 ┆ 2015-01-01 ┆ LAX_MIA ┆ 2.500301         │\n",
       "│ …    ┆ …     ┆ …   ┆ …           ┆ … ┆ …          ┆ …          ┆ …       ┆ …                │\n",
       "│ 2015 ┆ 12    ┆ 31  ┆ 4           ┆ … ┆ -73.77893  ┆ 2015-12-31 ┆ JFK_PSE ┆ 1.307443         │\n",
       "│ 2015 ┆ 12    ┆ 31  ┆ 4           ┆ … ┆ -73.77893  ┆ 2015-12-31 ┆ JFK_SJU ┆ 1.276182         │\n",
       "│ 2015 ┆ 12    ┆ 31  ┆ 4           ┆ … ┆ -81.31603  ┆ 2015-12-31 ┆ MCO_SJU ┆ 0.603246         │\n",
       "│ 2015 ┆ 12    ┆ 31  ┆ 4           ┆ … ┆ -73.77893  ┆ 2015-12-31 ┆ JFK_BQN ┆ 1.239985         │\n",
       "└──────┴───────┴─────┴─────────────┴───┴────────────┴────────────┴─────────┴──────────────────┘"
      ]
     },
     "execution_count": 18,
     "metadata": {},
     "output_type": "execute_result"
    }
   ],
   "source": [
    "data_2 = data_1.with_columns(z_score_distance = (pl.col('DISTANCE') - pl.col('DISTANCE').mean())/pl.col('DISTANCE').std())\n",
    "data_2"
   ]
  },
  {
   "cell_type": "code",
   "execution_count": 158,
   "id": "77e66fc8",
   "metadata": {},
   "outputs": [
    {
     "data": {
      "text/html": [
       "<div><style>\n",
       ".dataframe > thead > tr,\n",
       ".dataframe > tbody > tr {\n",
       "  text-align: right;\n",
       "  white-space: pre-wrap;\n",
       "}\n",
       "</style>\n",
       "<small>shape: (2, 2)</small><table border=\"1\" class=\"dataframe\"><thead><tr><th>CANCELLED</th><th>count</th></tr><tr><td>i64</td><td>u32</td></tr></thead><tbody><tr><td>1</td><td>129</td></tr><tr><td>0</td><td>13366</td></tr></tbody></table></div>"
      ],
      "text/plain": [
       "shape: (2, 2)\n",
       "┌───────────┬───────┐\n",
       "│ CANCELLED ┆ count │\n",
       "│ ---       ┆ ---   │\n",
       "│ i64       ┆ u32   │\n",
       "╞═══════════╪═══════╡\n",
       "│ 1         ┆ 129   │\n",
       "│ 0         ┆ 13366 │\n",
       "└───────────┴───────┘"
      ]
     },
     "execution_count": 158,
     "metadata": {},
     "output_type": "execute_result"
    }
   ],
   "source": [
    "data_dist_z = data_2.filter((pl.col('z_score_distance')>3.4) | (pl.col('z_score_distance')<-3))\n",
    "data_dist_z.groupby('CANCELLED').agg(pl.count())"
   ]
  },
  {
   "cell_type": "code",
   "execution_count": 151,
   "id": "fa34e107",
   "metadata": {},
   "outputs": [
    {
     "data": {
      "text/html": [
       "<div><style>\n",
       ".dataframe > thead > tr,\n",
       ".dataframe > tbody > tr {\n",
       "  text-align: right;\n",
       "  white-space: pre-wrap;\n",
       "}\n",
       "</style>\n",
       "<small>shape: (2, 2)</small><table border=\"1\" class=\"dataframe\"><thead><tr><th>CANCELLED</th><th>count</th></tr><tr><td>i64</td><td>u32</td></tr></thead><tbody><tr><td>0</td><td>5489664</td></tr><tr><td>1</td><td>87788</td></tr></tbody></table></div>"
      ],
      "text/plain": [
       "shape: (2, 2)\n",
       "┌───────────┬─────────┐\n",
       "│ CANCELLED ┆ count   │\n",
       "│ ---       ┆ ---     │\n",
       "│ i64       ┆ u32     │\n",
       "╞═══════════╪═════════╡\n",
       "│ 0         ┆ 5489664 │\n",
       "│ 1         ┆ 87788   │\n",
       "└───────────┴─────────┘"
      ]
     },
     "execution_count": 151,
     "metadata": {},
     "output_type": "execute_result"
    }
   ],
   "source": [
    "data_dist_z = data_2.filter(pl.col('z_score_distance')<2.5)\n",
    "data_dist_z.groupby('CANCELLED').agg(pl.count())"
   ]
  },
  {
   "cell_type": "code",
   "execution_count": 22,
   "id": "85d8d353",
   "metadata": {},
   "outputs": [
    {
     "data": {
      "text/html": [
       "<div><style>\n",
       ".dataframe > thead > tr,\n",
       ".dataframe > tbody > tr {\n",
       "  text-align: right;\n",
       "  white-space: pre-wrap;\n",
       "}\n",
       "</style>\n",
       "<small>shape: (1, 1)</small><table border=\"1\" class=\"dataframe\"><thead><tr><th>z_score_distance</th></tr><tr><td>u32</td></tr></thead><tbody><tr><td>5781737</td></tr></tbody></table></div>"
      ],
      "text/plain": [
       "shape: (1, 1)\n",
       "┌──────────────────┐\n",
       "│ z_score_distance │\n",
       "│ ---              │\n",
       "│ u32              │\n",
       "╞══════════════════╡\n",
       "│ 5781737          │\n",
       "└──────────────────┘"
      ]
     },
     "execution_count": 22,
     "metadata": {},
     "output_type": "execute_result"
    }
   ],
   "source": [
    "data_2.filter((pl.col('z_score_distance')<3)).select(pl.count('z_score_distance'))"
   ]
  },
  {
   "cell_type": "code",
   "execution_count": 23,
   "id": "7bee42c1",
   "metadata": {},
   "outputs": [
    {
     "data": {
      "text/html": [
       "<div><style>\n",
       ".dataframe > thead > tr,\n",
       ".dataframe > tbody > tr {\n",
       "  text-align: right;\n",
       "  white-space: pre-wrap;\n",
       "}\n",
       "</style>\n",
       "<small>shape: (1, 1)</small><table border=\"1\" class=\"dataframe\"><thead><tr><th>z_score_distance</th></tr><tr><td>u32</td></tr></thead><tbody><tr><td>37342</td></tr></tbody></table></div>"
      ],
      "text/plain": [
       "shape: (1, 1)\n",
       "┌──────────────────┐\n",
       "│ z_score_distance │\n",
       "│ ---              │\n",
       "│ u32              │\n",
       "╞══════════════════╡\n",
       "│ 37342            │\n",
       "└──────────────────┘"
      ]
     },
     "execution_count": 23,
     "metadata": {},
     "output_type": "execute_result"
    }
   ],
   "source": [
    "data_2.filter((pl.col('z_score_distance')>=3)).select(pl.count('z_score_distance'))"
   ]
  },
  {
   "cell_type": "code",
   "execution_count": 152,
   "id": "ad2d978f",
   "metadata": {},
   "outputs": [
    {
     "data": {
      "text/plain": [
       "(0.009651354182253479, 0.015991506948330535)"
      ]
     },
     "execution_count": 152,
     "metadata": {},
     "output_type": "execute_result"
    }
   ],
   "source": [
    "likelihood_of_cancellation = (129/13366, 87788/5489664)\n",
    "likelihood_of_cancellation"
   ]
  },
  {
   "cell_type": "markdown",
   "id": "f691c966",
   "metadata": {},
   "source": [
    "shorter trips have a greater probability of cancellation, this could be due to the fact they might not be generating enough revenue and greater traffic for shorter trips"
   ]
  },
  {
   "cell_type": "code",
   "execution_count": 240,
   "id": "c945d4ac",
   "metadata": {},
   "outputs": [
    {
     "data": {
      "text/html": [
       "<div><style>\n",
       ".dataframe > thead > tr,\n",
       ".dataframe > tbody > tr {\n",
       "  text-align: right;\n",
       "  white-space: pre-wrap;\n",
       "}\n",
       "</style>\n",
       "<small>shape: (308, 3)</small><table border=\"1\" class=\"dataframe\"><thead><tr><th>CITY</th><th>count/cancelled</th><th>count</th></tr><tr><td>str</td><td>f64</td><td>u32</td></tr></thead><tbody><tr><td>&quot;Ithaca&quot;</td><td>0.117647</td><td>34</td></tr><tr><td>&quot;Mammoth Lakes&quot;</td><td>0.102564</td><td>156</td></tr><tr><td>&quot;Hailey&quot;</td><td>0.09205</td><td>956</td></tr><tr><td>&quot;Devils Lake&quot;</td><td>0.087619</td><td>525</td></tr><tr><td>&quot;Crescent City&quot;</td><td>0.084211</td><td>190</td></tr><tr><td>&quot;Aspen&quot;</td><td>0.077485</td><td>3562</td></tr><tr><td>&quot;Muskegon&quot;</td><td>0.073463</td><td>667</td></tr><tr><td>&quot;Adak&quot;</td><td>0.072917</td><td>96</td></tr><tr><td>&quot;Jamestown&quot;</td><td>0.07266</td><td>812</td></tr><tr><td>&quot;St. Augustine&quot;</td><td>0.070968</td><td>155</td></tr><tr><td>&quot;Lawton&quot;</td><td>0.070624</td><td>1331</td></tr><tr><td>&quot;Toledo&quot;</td><td>0.067568</td><td>962</td></tr><tr><td>&hellip;</td><td>&hellip;</td><td>&hellip;</td></tr><tr><td>&quot;St George&quot;</td><td>0.003376</td><td>1777</td></tr><tr><td>&quot;Christiansted&quot;</td><td>0.003195</td><td>939</td></tr><tr><td>&quot;Pocatello&quot;</td><td>0.003058</td><td>654</td></tr><tr><td>&quot;Daytona Beach&quot;</td><td>0.002677</td><td>1494</td></tr><tr><td>&quot;Hilo&quot;</td><td>0.002097</td><td>5723</td></tr><tr><td>&quot;Cedar City&quot;</td><td>0.001745</td><td>573</td></tr><tr><td>&quot;Dillingham&quot;</td><td>0.0</td><td>77</td></tr><tr><td>&quot;Marthas Vineya…</td><td>0.0</td><td>205</td></tr><tr><td>&quot;Pago Pago&quot;</td><td>0.0</td><td>107</td></tr><tr><td>&quot;West Yellowsto…</td><td>0.0</td><td>208</td></tr><tr><td>&quot;King Salmon&quot;</td><td>0.0</td><td>63</td></tr><tr><td>&quot;Lewiston&quot;</td><td>0.0</td><td>588</td></tr></tbody></table></div>"
      ],
      "text/plain": [
       "shape: (308, 3)\n",
       "┌──────────────────┬─────────────────┬───────┐\n",
       "│ CITY             ┆ count/cancelled ┆ count │\n",
       "│ ---              ┆ ---             ┆ ---   │\n",
       "│ str              ┆ f64             ┆ u32   │\n",
       "╞══════════════════╪═════════════════╪═══════╡\n",
       "│ Ithaca           ┆ 0.117647        ┆ 34    │\n",
       "│ Mammoth Lakes    ┆ 0.102564        ┆ 156   │\n",
       "│ Hailey           ┆ 0.09205         ┆ 956   │\n",
       "│ Devils Lake      ┆ 0.087619        ┆ 525   │\n",
       "│ …                ┆ …               ┆ …     │\n",
       "│ Pago Pago        ┆ 0.0             ┆ 107   │\n",
       "│ West Yellowstone ┆ 0.0             ┆ 208   │\n",
       "│ King Salmon      ┆ 0.0             ┆ 63    │\n",
       "│ Lewiston         ┆ 0.0             ┆ 588   │\n",
       "└──────────────────┴─────────────────┴───────┘"
      ]
     },
     "execution_count": 240,
     "metadata": {},
     "output_type": "execute_result"
    }
   ],
   "source": [
    "data_2.groupby('CITY').agg((pl.col('CANCELLED').sum()/pl.count('CITY')).alias('count/cancelled'),pl.count(\"CITY\").alias('count')).sort(by='count/cancelled',descending=True).drop_nulls()"
   ]
  },
  {
   "cell_type": "markdown",
   "id": "b2a8aaaf",
   "metadata": {},
   "source": [
    "flights from/to Ithaca are cancelled the most, there is also low traffic of flights from/to there"
   ]
  },
  {
   "cell_type": "code",
   "execution_count": 227,
   "id": "75e0f8d2",
   "metadata": {},
   "outputs": [
    {
     "data": {
      "text/html": [
       "<div><style>\n",
       ".dataframe > thead > tr,\n",
       ".dataframe > tbody > tr {\n",
       "  text-align: right;\n",
       "  white-space: pre-wrap;\n",
       "}\n",
       "</style>\n",
       "<small>shape: (1, 2)</small><table border=\"1\" class=\"dataframe\"><thead><tr><th>AIRPORT</th><th>CITY</th></tr><tr><td>str</td><td>str</td></tr></thead><tbody><tr><td>&quot;Ithaca Tompkin…</td><td>&quot;Ithaca&quot;</td></tr></tbody></table></div>"
      ],
      "text/plain": [
       "shape: (1, 2)\n",
       "┌──────────────────────────────────┬────────┐\n",
       "│ AIRPORT                          ┆ CITY   │\n",
       "│ ---                              ┆ ---    │\n",
       "│ str                              ┆ str    │\n",
       "╞══════════════════════════════════╪════════╡\n",
       "│ Ithaca Tompkins Regional Airport ┆ Ithaca │\n",
       "└──────────────────────────────────┴────────┘"
      ]
     },
     "execution_count": 227,
     "metadata": {},
     "output_type": "execute_result"
    }
   ],
   "source": [
    "data_2.groupby(['AIRPORT','CITY']).agg().filter(pl.col('CITY')=='Ithaca')"
   ]
  },
  {
   "cell_type": "markdown",
   "id": "4957eb9a",
   "metadata": {},
   "source": [
    "From here we see there is only 1 airport in Ithaca, which makes sense"
   ]
  },
  {
   "cell_type": "code",
   "execution_count": 197,
   "id": "b24c7250",
   "metadata": {},
   "outputs": [
    {
     "data": {
      "text/html": [
       "<div><style>\n",
       ".dataframe > thead > tr,\n",
       ".dataframe > tbody > tr {\n",
       "  text-align: right;\n",
       "  white-space: pre-wrap;\n",
       "}\n",
       "</style>\n",
       "<small>shape: (1, 3)</small><table border=\"1\" class=\"dataframe\"><thead><tr><th>AIRPORT</th><th>CITY</th><th>count</th></tr><tr><td>str</td><td>str</td><td>u32</td></tr></thead><tbody><tr><td>&quot;Hartsfield-Jac…</td><td>&quot;Atlanta&quot;</td><td>346836</td></tr></tbody></table></div>"
      ],
      "text/plain": [
       "shape: (1, 3)\n",
       "┌───────────────────────────────────┬─────────┬────────┐\n",
       "│ AIRPORT                           ┆ CITY    ┆ count  │\n",
       "│ ---                               ┆ ---     ┆ ---    │\n",
       "│ str                               ┆ str     ┆ u32    │\n",
       "╞═══════════════════════════════════╪═════════╪════════╡\n",
       "│ Hartsfield-Jackson Atlanta Inter… ┆ Atlanta ┆ 346836 │\n",
       "└───────────────────────────────────┴─────────┴────────┘"
      ]
     },
     "execution_count": 197,
     "metadata": {},
     "output_type": "execute_result"
    }
   ],
   "source": [
    "data_2.groupby(['AIRPORT','CITY']).agg(pl.col(\"CITY\").count().alias('count')).sort(by='count',descending=True).filter(pl.col('CITY')=='Atlanta')"
   ]
  },
  {
   "cell_type": "code",
   "execution_count": 202,
   "id": "86d2da13",
   "metadata": {},
   "outputs": [
    {
     "data": {
      "text/html": [
       "<div><style>\n",
       ".dataframe > thead > tr,\n",
       ".dataframe > tbody > tr {\n",
       "  text-align: right;\n",
       "  white-space: pre-wrap;\n",
       "}\n",
       "</style>\n",
       "<small>shape: (323, 4)</small><table border=\"1\" class=\"dataframe\"><thead><tr><th>CITY</th><th>STATE</th><th>AIRPORT</th><th>CANCELLED</th></tr><tr><td>str</td><td>str</td><td>str</td><td>i64</td></tr></thead><tbody><tr><td>&quot;Chicago&quot;</td><td>&quot;IL&quot;</td><td>&quot;Chicago O&#x27;Hare…</td><td>8548</td></tr><tr><td>&quot;Dallas-Fort Wo…</td><td>&quot;TX&quot;</td><td>&quot;Dallas/Fort Wo…</td><td>6254</td></tr><tr><td>&quot;New York&quot;</td><td>&quot;NY&quot;</td><td>&quot;LaGuardia Airp…</td><td>4531</td></tr><tr><td>&quot;Newark&quot;</td><td>&quot;NJ&quot;</td><td>&quot;Newark Liberty…</td><td>3110</td></tr><tr><td>&quot;Boston&quot;</td><td>&quot;MA&quot;</td><td>&quot;Gen. Edward La…</td><td>2654</td></tr><tr><td>&quot;Atlanta&quot;</td><td>&quot;GA&quot;</td><td>&quot;Hartsfield-Jac…</td><td>2557</td></tr><tr><td>null</td><td>null</td><td>null</td><td>2454</td></tr><tr><td>&quot;Los Angeles&quot;</td><td>&quot;CA&quot;</td><td>&quot;Los Angeles In…</td><td>2164</td></tr><tr><td>&quot;San Francisco&quot;</td><td>&quot;CA&quot;</td><td>&quot;San Francisco …</td><td>2148</td></tr><tr><td>&quot;Houston&quot;</td><td>&quot;TX&quot;</td><td>&quot;George Bush In…</td><td>2130</td></tr><tr><td>&quot;Denver&quot;</td><td>&quot;CO&quot;</td><td>&quot;Denver Interna…</td><td>2123</td></tr><tr><td>&quot;Arlington&quot;</td><td>&quot;VA&quot;</td><td>&quot;Ronald Reagan …</td><td>2027</td></tr><tr><td>&hellip;</td><td>&hellip;</td><td>&hellip;</td><td>&hellip;</td></tr><tr><td>&quot;Pocatello&quot;</td><td>&quot;ID&quot;</td><td>&quot;Pocatello Regi…</td><td>2</td></tr><tr><td>&quot;Plattsburgh&quot;</td><td>&quot;NY&quot;</td><td>&quot;Plattsburgh In…</td><td>2</td></tr><tr><td>&quot;Moab&quot;</td><td>&quot;UT&quot;</td><td>&quot;Canyonlands Fi…</td><td>1</td></tr><tr><td>&quot;Gustavus&quot;</td><td>&quot;AK&quot;</td><td>&quot;Gustavus Airpo…</td><td>1</td></tr><tr><td>&quot;Cedar City&quot;</td><td>&quot;UT&quot;</td><td>&quot;Cedar City Reg…</td><td>1</td></tr><tr><td>&quot;Hyannis&quot;</td><td>&quot;MA&quot;</td><td>&quot;Barnstable Mun…</td><td>1</td></tr><tr><td>&quot;Pago Pago&quot;</td><td>&quot;AS&quot;</td><td>&quot;Pago Pago Inte…</td><td>0</td></tr><tr><td>&quot;Marthas Vineya…</td><td>&quot;MA&quot;</td><td>&quot;Martha&#x27;s Viney…</td><td>0</td></tr><tr><td>&quot;West Yellowsto…</td><td>&quot;MT&quot;</td><td>&quot;Westerly State…</td><td>0</td></tr><tr><td>&quot;Dillingham&quot;</td><td>&quot;AK&quot;</td><td>&quot;Dillingham Air…</td><td>0</td></tr><tr><td>&quot;Lewiston&quot;</td><td>&quot;ID&quot;</td><td>&quot;Lewiston-Nez P…</td><td>0</td></tr><tr><td>&quot;King Salmon&quot;</td><td>&quot;AK&quot;</td><td>&quot;King Salmon Ai…</td><td>0</td></tr></tbody></table></div>"
      ],
      "text/plain": [
       "shape: (323, 4)\n",
       "┌───────────────────┬───────┬───────────────────────────────────┬───────────┐\n",
       "│ CITY              ┆ STATE ┆ AIRPORT                           ┆ CANCELLED │\n",
       "│ ---               ┆ ---   ┆ ---                               ┆ ---       │\n",
       "│ str               ┆ str   ┆ str                               ┆ i64       │\n",
       "╞═══════════════════╪═══════╪═══════════════════════════════════╪═══════════╡\n",
       "│ Chicago           ┆ IL    ┆ Chicago O'Hare International Air… ┆ 8548      │\n",
       "│ Dallas-Fort Worth ┆ TX    ┆ Dallas/Fort Worth International … ┆ 6254      │\n",
       "│ New York          ┆ NY    ┆ LaGuardia Airport (Marine Air Te… ┆ 4531      │\n",
       "│ Newark            ┆ NJ    ┆ Newark Liberty International Air… ┆ 3110      │\n",
       "│ …                 ┆ …     ┆ …                                 ┆ …         │\n",
       "│ West Yellowstone  ┆ MT    ┆ Westerly State Airport            ┆ 0         │\n",
       "│ Dillingham        ┆ AK    ┆ Dillingham Airport                ┆ 0         │\n",
       "│ Lewiston          ┆ ID    ┆ Lewiston-Nez Perce County Airpor… ┆ 0         │\n",
       "│ King Salmon       ┆ AK    ┆ King Salmon Airport               ┆ 0         │\n",
       "└───────────────────┴───────┴───────────────────────────────────┴───────────┘"
      ]
     },
     "execution_count": 202,
     "metadata": {},
     "output_type": "execute_result"
    }
   ],
   "source": [
    "data_2.groupby(['CITY','STATE','AIRPORT']).agg(pl.col(\"CANCELLED\").sum()).sort(by='CANCELLED',descending=True)#.filter(pl.col('STATE')=='GA')"
   ]
  },
  {
   "cell_type": "code",
   "execution_count": 244,
   "id": "b1dba608",
   "metadata": {},
   "outputs": [
    {
     "data": {
      "text/html": [
       "<div><style>\n",
       ".dataframe > thead > tr,\n",
       ".dataframe > tbody > tr {\n",
       "  text-align: right;\n",
       "  white-space: pre-wrap;\n",
       "}\n",
       "</style>\n",
       "<small>shape: (54, 3)</small><table border=\"1\" class=\"dataframe\"><thead><tr><th>STATE</th><th>state/cancelled</th><th>count</th></tr><tr><td>str</td><td>f64</td><td>u32</td></tr></thead><tbody><tr><td>&quot;DE&quot;</td><td>0.05</td><td>100</td></tr><tr><td>&quot;IA&quot;</td><td>0.034576</td><td>17382</td></tr><tr><td>&quot;NY&quot;</td><td>0.031287</td><td>246235</td></tr><tr><td>&quot;AR&quot;</td><td>0.030061</td><td>22654</td></tr><tr><td>&quot;VT&quot;</td><td>0.029886</td><td>2978</td></tr><tr><td>&quot;NJ&quot;</td><td>0.029591</td><td>108174</td></tr><tr><td>&quot;IL&quot;</td><td>0.029072</td><td>381644</td></tr><tr><td>&quot;ME&quot;</td><td>0.027937</td><td>5047</td></tr><tr><td>&quot;KS&quot;</td><td>0.027631</td><td>10966</td></tr><tr><td>&quot;KY&quot;</td><td>0.025841</td><td>36880</td></tr><tr><td>&quot;VA&quot;</td><td>0.024925</td><td>138577</td></tr><tr><td>&quot;WV&quot;</td><td>0.024738</td><td>2385</td></tr><tr><td>&hellip;</td><td>&hellip;</td><td>&hellip;</td></tr><tr><td>&quot;GU&quot;</td><td>0.008982</td><td>334</td></tr><tr><td>&quot;MT&quot;</td><td>0.00889</td><td>14848</td></tr><tr><td>&quot;MN&quot;</td><td>0.008281</td><td>118701</td></tr><tr><td>&quot;PR&quot;</td><td>0.007963</td><td>26748</td></tr><tr><td>&quot;GA&quot;</td><td>0.007628</td><td>360496</td></tr><tr><td>&quot;NV&quot;</td><td>0.007381</td><td>146723</td></tr><tr><td>&quot;AZ&quot;</td><td>0.006823</td><td>165469</td></tr><tr><td>&quot;OR&quot;</td><td>0.006437</td><td>55620</td></tr><tr><td>&quot;HI&quot;</td><td>0.004343</td><td>91181</td></tr><tr><td>&quot;WA&quot;</td><td>0.004298</td><td>123548</td></tr><tr><td>&quot;UT&quot;</td><td>0.004091</td><td>99972</td></tr><tr><td>&quot;AS&quot;</td><td>0.0</td><td>107</td></tr></tbody></table></div>"
      ],
      "text/plain": [
       "shape: (54, 3)\n",
       "┌───────┬─────────────────┬────────┐\n",
       "│ STATE ┆ state/cancelled ┆ count  │\n",
       "│ ---   ┆ ---             ┆ ---    │\n",
       "│ str   ┆ f64             ┆ u32    │\n",
       "╞═══════╪═════════════════╪════════╡\n",
       "│ DE    ┆ 0.05            ┆ 100    │\n",
       "│ IA    ┆ 0.034576        ┆ 17382  │\n",
       "│ NY    ┆ 0.031287        ┆ 246235 │\n",
       "│ AR    ┆ 0.030061        ┆ 22654  │\n",
       "│ …     ┆ …               ┆ …      │\n",
       "│ HI    ┆ 0.004343        ┆ 91181  │\n",
       "│ WA    ┆ 0.004298        ┆ 123548 │\n",
       "│ UT    ┆ 0.004091        ┆ 99972  │\n",
       "│ AS    ┆ 0.0             ┆ 107    │\n",
       "└───────┴─────────────────┴────────┘"
      ]
     },
     "execution_count": 244,
     "metadata": {},
     "output_type": "execute_result"
    }
   ],
   "source": [
    "data_2.groupby(['STATE']).agg((pl.col(\"CANCELLED\").sum()/pl.col('STATE').count()).alias('state/cancelled'),pl.count('STATE').alias('count')).sort(by='state/cancelled',descending=True).drop_nulls()#.filter(pl.col('STATE')=='GA')"
   ]
  },
  {
   "cell_type": "code",
   "execution_count": 256,
   "id": "3afd408f",
   "metadata": {},
   "outputs": [
    {
     "data": {
      "text/html": [
       "<div><style>\n",
       ".dataframe > thead > tr,\n",
       ".dataframe > tbody > tr {\n",
       "  text-align: right;\n",
       "  white-space: pre-wrap;\n",
       "}\n",
       "</style>\n",
       "<small>shape: (3, 4)</small><table border=\"1\" class=\"dataframe\"><thead><tr><th>CITY</th><th>STATE</th><th>AIRPORT</th><th>CANCELLED</th></tr><tr><td>str</td><td>str</td><td>str</td><td>i64</td></tr></thead><tbody><tr><td>&quot;Newark&quot;</td><td>&quot;NJ&quot;</td><td>&quot;Newark Liberty…</td><td>3110</td></tr><tr><td>&quot;Trenton&quot;</td><td>&quot;NJ&quot;</td><td>&quot;Trenton Mercer…</td><td>51</td></tr><tr><td>&quot;Atlantic City&quot;</td><td>&quot;NJ&quot;</td><td>&quot;Atlantic City …</td><td>40</td></tr></tbody></table></div>"
      ],
      "text/plain": [
       "shape: (3, 4)\n",
       "┌───────────────┬───────┬───────────────────────────────────┬───────────┐\n",
       "│ CITY          ┆ STATE ┆ AIRPORT                           ┆ CANCELLED │\n",
       "│ ---           ┆ ---   ┆ ---                               ┆ ---       │\n",
       "│ str           ┆ str   ┆ str                               ┆ i64       │\n",
       "╞═══════════════╪═══════╪═══════════════════════════════════╪═══════════╡\n",
       "│ Newark        ┆ NJ    ┆ Newark Liberty International Air… ┆ 3110      │\n",
       "│ Trenton       ┆ NJ    ┆ Trenton Mercer Airport            ┆ 51        │\n",
       "│ Atlantic City ┆ NJ    ┆ Atlantic City International Airp… ┆ 40        │\n",
       "└───────────────┴───────┴───────────────────────────────────┴───────────┘"
      ]
     },
     "execution_count": 256,
     "metadata": {},
     "output_type": "execute_result"
    }
   ],
   "source": [
    "data_2.groupby(['CITY','STATE','AIRPORT']).agg(pl.col(\"CANCELLED\").sum()).sort(by='CANCELLED',descending=True).filter(pl.col('STATE')==\"NJ\")"
   ]
  },
  {
   "cell_type": "markdown",
   "id": "9e3eacce",
   "metadata": {},
   "source": [
    "With these few analysis we get two insights: states with high traffic of application for flights and few airports have more a number of cancelled flights, although this is found to not be the total causative factor as certain states such as NY(New York) which have good number of airports compared to others, still have high cancellation probability, although the number of traffic there is also high, it is believed the cancellation could be due to other factors"
   ]
  },
  {
   "cell_type": "code",
   "execution_count": 272,
   "id": "92230d18",
   "metadata": {},
   "outputs": [
    {
     "data": {
      "text/html": [
       "<div><style>\n",
       ".dataframe > thead > tr,\n",
       ".dataframe > tbody > tr {\n",
       "  text-align: right;\n",
       "  white-space: pre-wrap;\n",
       "}\n",
       "</style>\n",
       "<small>shape: (323, 3)</small><table border=\"1\" class=\"dataframe\"><thead><tr><th>STATE</th><th>AIRPORT</th><th>count</th></tr><tr><td>str</td><td>str</td><td>u32</td></tr></thead><tbody><tr><td>&quot;GA&quot;</td><td>&quot;Hartsfield-Jac…</td><td>346836</td></tr><tr><td>&quot;IL&quot;</td><td>&quot;Chicago O&#x27;Hare…</td><td>285884</td></tr><tr><td>&quot;TX&quot;</td><td>&quot;Dallas/Fort Wo…</td><td>239551</td></tr><tr><td>&quot;CO&quot;</td><td>&quot;Denver Interna…</td><td>196055</td></tr><tr><td>&quot;CA&quot;</td><td>&quot;Los Angeles In…</td><td>194673</td></tr><tr><td>&quot;CA&quot;</td><td>&quot;San Francisco …</td><td>148008</td></tr><tr><td>&quot;AZ&quot;</td><td>&quot;Phoenix Sky Ha…</td><td>146815</td></tr><tr><td>&quot;TX&quot;</td><td>&quot;George Bush In…</td><td>146622</td></tr><tr><td>&quot;NV&quot;</td><td>&quot;McCarran Inter…</td><td>133181</td></tr><tr><td>&quot;MN&quot;</td><td>&quot;Minneapolis-Sa…</td><td>112117</td></tr><tr><td>&quot;FL&quot;</td><td>&quot;Orlando Intern…</td><td>110982</td></tr><tr><td>&quot;WA&quot;</td><td>&quot;Seattle-Tacoma…</td><td>110899</td></tr><tr><td>&hellip;</td><td>&hellip;</td><td>&hellip;</td></tr><tr><td>&quot;CA&quot;</td><td>&quot;Mammoth Yosemi…</td><td>156</td></tr><tr><td>&quot;FL&quot;</td><td>&quot;Northeast Flor…</td><td>155</td></tr><tr><td>&quot;AS&quot;</td><td>&quot;Pago Pago Inte…</td><td>107</td></tr><tr><td>&quot;DE&quot;</td><td>&quot;Wilmington Air…</td><td>100</td></tr><tr><td>&quot;AK&quot;</td><td>&quot;Adak Airport&quot;</td><td>96</td></tr><tr><td>&quot;MN&quot;</td><td>&quot;St. Cloud Regi…</td><td>83</td></tr><tr><td>&quot;MA&quot;</td><td>&quot;Barnstable Mun…</td><td>83</td></tr><tr><td>&quot;AK&quot;</td><td>&quot;Dillingham Air…</td><td>77</td></tr><tr><td>&quot;AK&quot;</td><td>&quot;Gustavus Airpo…</td><td>77</td></tr><tr><td>&quot;AK&quot;</td><td>&quot;King Salmon Ai…</td><td>63</td></tr><tr><td>&quot;NY&quot;</td><td>&quot;Ithaca Tompkin…</td><td>34</td></tr><tr><td>null</td><td>null</td><td>0</td></tr></tbody></table></div>"
      ],
      "text/plain": [
       "shape: (323, 3)\n",
       "┌───────┬───────────────────────────────────┬────────┐\n",
       "│ STATE ┆ AIRPORT                           ┆ count  │\n",
       "│ ---   ┆ ---                               ┆ ---    │\n",
       "│ str   ┆ str                               ┆ u32    │\n",
       "╞═══════╪═══════════════════════════════════╪════════╡\n",
       "│ GA    ┆ Hartsfield-Jackson Atlanta Inter… ┆ 346836 │\n",
       "│ IL    ┆ Chicago O'Hare International Air… ┆ 285884 │\n",
       "│ TX    ┆ Dallas/Fort Worth International … ┆ 239551 │\n",
       "│ CO    ┆ Denver International Airport      ┆ 196055 │\n",
       "│ …     ┆ …                                 ┆ …      │\n",
       "│ AK    ┆ Gustavus Airport                  ┆ 77     │\n",
       "│ AK    ┆ King Salmon Airport               ┆ 63     │\n",
       "│ NY    ┆ Ithaca Tompkins Regional Airport  ┆ 34     │\n",
       "│ null  ┆ null                              ┆ 0      │\n",
       "└───────┴───────────────────────────────────┴────────┘"
      ]
     },
     "execution_count": 272,
     "metadata": {},
     "output_type": "execute_result"
    }
   ],
   "source": [
    "data_2.groupby(['STATE','AIRPORT']).agg((pl.count(\"STATE\").alias('count'))).sort(by='count',descending=True)#.filter(pl.col('STATE')==\"GA\")"
   ]
  },
  {
   "cell_type": "code",
   "execution_count": 210,
   "id": "71597e99",
   "metadata": {},
   "outputs": [
    {
     "data": {
      "text/html": [
       "<div><style>\n",
       ".dataframe > thead > tr,\n",
       ".dataframe > tbody > tr {\n",
       "  text-align: right;\n",
       "  white-space: pre-wrap;\n",
       "}\n",
       "</style>\n",
       "<small>shape: (55, 2)</small><table border=\"1\" class=\"dataframe\"><thead><tr><th>STATE</th><th>DIVERTED</th></tr><tr><td>str</td><td>i64</td></tr></thead><tbody><tr><td>&quot;TX&quot;</td><td>1780</td></tr><tr><td>&quot;CA&quot;</td><td>1480</td></tr><tr><td>&quot;FL&quot;</td><td>1379</td></tr><tr><td>&quot;IL&quot;</td><td>1070</td></tr><tr><td>null</td><td>833</td></tr><tr><td>&quot;GA&quot;</td><td>803</td></tr><tr><td>&quot;NY&quot;</td><td>615</td></tr><tr><td>&quot;CO&quot;</td><td>609</td></tr><tr><td>&quot;AZ&quot;</td><td>402</td></tr><tr><td>&quot;MA&quot;</td><td>395</td></tr><tr><td>&quot;VA&quot;</td><td>371</td></tr><tr><td>&quot;NV&quot;</td><td>335</td></tr><tr><td>&hellip;</td><td>&hellip;</td></tr><tr><td>&quot;SD&quot;</td><td>40</td></tr><tr><td>&quot;ID&quot;</td><td>35</td></tr><tr><td>&quot;RI&quot;</td><td>34</td></tr><tr><td>&quot;KS&quot;</td><td>30</td></tr><tr><td>&quot;NH&quot;</td><td>26</td></tr><tr><td>&quot;WY&quot;</td><td>23</td></tr><tr><td>&quot;ME&quot;</td><td>14</td></tr><tr><td>&quot;WV&quot;</td><td>11</td></tr><tr><td>&quot;VT&quot;</td><td>5</td></tr><tr><td>&quot;AS&quot;</td><td>1</td></tr><tr><td>&quot;GU&quot;</td><td>0</td></tr><tr><td>&quot;DE&quot;</td><td>0</td></tr></tbody></table></div>"
      ],
      "text/plain": [
       "shape: (55, 2)\n",
       "┌───────┬──────────┐\n",
       "│ STATE ┆ DIVERTED │\n",
       "│ ---   ┆ ---      │\n",
       "│ str   ┆ i64      │\n",
       "╞═══════╪══════════╡\n",
       "│ TX    ┆ 1780     │\n",
       "│ CA    ┆ 1480     │\n",
       "│ FL    ┆ 1379     │\n",
       "│ IL    ┆ 1070     │\n",
       "│ …     ┆ …        │\n",
       "│ VT    ┆ 5        │\n",
       "│ AS    ┆ 1        │\n",
       "│ GU    ┆ 0        │\n",
       "│ DE    ┆ 0        │\n",
       "└───────┴──────────┘"
      ]
     },
     "execution_count": 210,
     "metadata": {},
     "output_type": "execute_result"
    }
   ],
   "source": [
    "data_2.groupby(['STATE']).agg(pl.col(\"DIVERTED\").sum()).sort(by='DIVERTED',descending=True)#.filter(pl.col('STATE')=='GA')"
   ]
  },
  {
   "cell_type": "markdown",
   "id": "8c124300",
   "metadata": {},
   "source": [
    "States that have high demand and low number of airports have more flights diverted"
   ]
  },
  {
   "cell_type": "code",
   "execution_count": 213,
   "id": "0e3ddb04",
   "metadata": {},
   "outputs": [
    {
     "data": {
      "text/html": [
       "<div><style>\n",
       ".dataframe > thead > tr,\n",
       ".dataframe > tbody > tr {\n",
       "  text-align: right;\n",
       "  white-space: pre-wrap;\n",
       "}\n",
       "</style>\n",
       "<small>shape: (2, 2)</small><table border=\"1\" class=\"dataframe\"><thead><tr><th>DIVERTED</th><th>CANCELLED</th></tr><tr><td>i64</td><td>i64</td></tr></thead><tbody><tr><td>1</td><td>0</td></tr><tr><td>0</td><td>89884</td></tr></tbody></table></div>"
      ],
      "text/plain": [
       "shape: (2, 2)\n",
       "┌──────────┬───────────┐\n",
       "│ DIVERTED ┆ CANCELLED │\n",
       "│ ---      ┆ ---       │\n",
       "│ i64      ┆ i64       │\n",
       "╞══════════╪═══════════╡\n",
       "│ 1        ┆ 0         │\n",
       "│ 0        ┆ 89884     │\n",
       "└──────────┴───────────┘"
      ]
     },
     "execution_count": 213,
     "metadata": {},
     "output_type": "execute_result"
    }
   ],
   "source": [
    "data_2.groupby(['DIVERTED']).agg(pl.col(\"CANCELLED\").sum())#.sort(by='DIVERTED',descending=True)#.filter(pl.col('STATE')=='GA')"
   ]
  },
  {
   "cell_type": "code",
   "execution_count": 284,
   "id": "18ebc3b7",
   "metadata": {},
   "outputs": [
    {
     "data": {
      "text/html": [
       "<div><style>\n",
       ".dataframe > thead > tr,\n",
       ".dataframe > tbody > tr {\n",
       "  text-align: right;\n",
       "  white-space: pre-wrap;\n",
       "}\n",
       "</style>\n",
       "<small>shape: (55, 2)</small><table border=\"1\" class=\"dataframe\"><thead><tr><th>STATE</th><th>prob</th></tr><tr><td>str</td><td>f64</td></tr></thead><tbody><tr><td>null</td><td>inf</td></tr><tr><td>&quot;IL&quot;</td><td>1.292147</td></tr><tr><td>&quot;WV&quot;</td><td>1.078826</td></tr><tr><td>&quot;AR&quot;</td><td>0.971528</td></tr><tr><td>&quot;IA&quot;</td><td>0.966977</td></tr><tr><td>&quot;GA&quot;</td><td>0.878687</td></tr><tr><td>&quot;OK&quot;</td><td>0.847194</td></tr><tr><td>&quot;KS&quot;</td><td>0.80932</td></tr><tr><td>&quot;TX&quot;</td><td>0.770099</td></tr><tr><td>&quot;MD&quot;</td><td>0.729028</td></tr><tr><td>&quot;ND&quot;</td><td>0.700907</td></tr><tr><td>&quot;NY&quot;</td><td>0.690629</td></tr><tr><td>&hellip;</td><td>&hellip;</td></tr><tr><td>&quot;VT&quot;</td><td>0.25319</td></tr><tr><td>&quot;NV&quot;</td><td>0.232097</td></tr><tr><td>&quot;AZ&quot;</td><td>0.229094</td></tr><tr><td>&quot;SC&quot;</td><td>0.215412</td></tr><tr><td>&quot;WA&quot;</td><td>0.188566</td></tr><tr><td>&quot;CA&quot;</td><td>0.187657</td></tr><tr><td>&quot;VI&quot;</td><td>0.151315</td></tr><tr><td>&quot;OR&quot;</td><td>0.120892</td></tr><tr><td>&quot;HI&quot;</td><td>0.11078</td></tr><tr><td>&quot;PR&quot;</td><td>0.093689</td></tr><tr><td>&quot;GU&quot;</td><td>0.017964</td></tr><tr><td>&quot;AS&quot;</td><td>0.0</td></tr></tbody></table></div>"
      ],
      "text/plain": [
       "shape: (55, 2)\n",
       "┌───────┬──────────┐\n",
       "│ STATE ┆ prob     │\n",
       "│ ---   ┆ ---      │\n",
       "│ str   ┆ f64      │\n",
       "╞═══════╪══════════╡\n",
       "│ null  ┆ inf      │\n",
       "│ IL    ┆ 1.292147 │\n",
       "│ WV    ┆ 1.078826 │\n",
       "│ AR    ┆ 0.971528 │\n",
       "│ …     ┆ …        │\n",
       "│ HI    ┆ 0.11078  │\n",
       "│ PR    ┆ 0.093689 │\n",
       "│ GU    ┆ 0.017964 │\n",
       "│ AS    ┆ 0.0      │\n",
       "└───────┴──────────┘"
      ]
     },
     "execution_count": 284,
     "metadata": {},
     "output_type": "execute_result"
    }
   ],
   "source": [
    "data_2.groupby(['STATE']).agg((pl.col(\"WEATHER_DELAY\").sum()/pl.count('STATE')).alias('prob')).sort(by='prob',descending=True)#.filter(pl.col('STATE')=='GA')"
   ]
  },
  {
   "cell_type": "code",
   "execution_count": 135,
   "id": "04c7a37e",
   "metadata": {},
   "outputs": [
    {
     "data": {
      "text/plain": [
       "array([0, 0, 0, ..., 0, 0, 0], dtype=int64)"
      ]
     },
     "execution_count": 135,
     "metadata": {},
     "output_type": "execute_result"
    }
   ],
   "source": [
    "AIR_SYSTEM_DELAY\tSECURITY_DELAY\tAIRLINE_DELAY\tLATE_AIRCRAFT_DELAY"
   ]
  },
  {
   "cell_type": "code",
   "execution_count": 217,
   "id": "5ae9f660",
   "metadata": {},
   "outputs": [
    {
     "data": {
      "text/html": [
       "<div><style>\n",
       ".dataframe > thead > tr,\n",
       ".dataframe > tbody > tr {\n",
       "  text-align: right;\n",
       "  white-space: pre-wrap;\n",
       "}\n",
       "</style>\n",
       "<small>shape: (55, 2)</small><table border=\"1\" class=\"dataframe\"><thead><tr><th>STATE</th><th>LATE_AIRCRAFT_DELAY</th></tr><tr><td>str</td><td>i64</td></tr></thead><tbody><tr><td>&quot;CA&quot;</td><td>3291856</td></tr><tr><td>&quot;TX&quot;</td><td>2894787</td></tr><tr><td>&quot;FL&quot;</td><td>2039472</td></tr><tr><td>&quot;IL&quot;</td><td>2016978</td></tr><tr><td>&quot;NY&quot;</td><td>1328001</td></tr><tr><td>null</td><td>1194257</td></tr><tr><td>&quot;CO&quot;</td><td>1127959</td></tr><tr><td>&quot;GA&quot;</td><td>1114220</td></tr><tr><td>&quot;NV&quot;</td><td>754322</td></tr><tr><td>&quot;VA&quot;</td><td>618270</td></tr><tr><td>&quot;AZ&quot;</td><td>602303</td></tr><tr><td>&quot;NJ&quot;</td><td>563008</td></tr><tr><td>&hellip;</td><td>&hellip;</td></tr><tr><td>&quot;SD&quot;</td><td>47554</td></tr><tr><td>&quot;RI&quot;</td><td>44190</td></tr><tr><td>&quot;MT&quot;</td><td>42482</td></tr><tr><td>&quot;WY&quot;</td><td>35648</td></tr><tr><td>&quot;VI&quot;</td><td>34401</td></tr><tr><td>&quot;NH&quot;</td><td>21774</td></tr><tr><td>&quot;ME&quot;</td><td>20709</td></tr><tr><td>&quot;WV&quot;</td><td>15507</td></tr><tr><td>&quot;VT&quot;</td><td>15127</td></tr><tr><td>&quot;DE&quot;</td><td>1191</td></tr><tr><td>&quot;AS&quot;</td><td>822</td></tr><tr><td>&quot;GU&quot;</td><td>349</td></tr></tbody></table></div>"
      ],
      "text/plain": [
       "shape: (55, 2)\n",
       "┌───────┬─────────────────────┐\n",
       "│ STATE ┆ LATE_AIRCRAFT_DELAY │\n",
       "│ ---   ┆ ---                 │\n",
       "│ str   ┆ i64                 │\n",
       "╞═══════╪═════════════════════╡\n",
       "│ CA    ┆ 3291856             │\n",
       "│ TX    ┆ 2894787             │\n",
       "│ FL    ┆ 2039472             │\n",
       "│ IL    ┆ 2016978             │\n",
       "│ …     ┆ …                   │\n",
       "│ VT    ┆ 15127               │\n",
       "│ DE    ┆ 1191                │\n",
       "│ AS    ┆ 822                 │\n",
       "│ GU    ┆ 349                 │\n",
       "└───────┴─────────────────────┘"
      ]
     },
     "execution_count": 217,
     "metadata": {},
     "output_type": "execute_result"
    }
   ],
   "source": [
    "data_2.groupby(['STATE']).agg(pl.col(\"LATE_AIRCRAFT_DELAY\").sum()).sort(by='LATE_AIRCRAFT_DELAY',descending=True)#.filter(pl.col('STATE')=='GA')"
   ]
  },
  {
   "cell_type": "markdown",
   "id": "2db17db0",
   "metadata": {},
   "source": [
    "Here we get another causative factor: Bad weather conditions are also a factor for cancellation in these areas, we also see that NY(New York) is one of the states which have cancelled flights due to weather conditions, as stated before the cancellation of flights was not univariate"
   ]
  },
  {
   "cell_type": "markdown",
   "id": "9c4a3423",
   "metadata": {},
   "source": [
    "## Time Series Analysis "
   ]
  },
  {
   "cell_type": "code",
   "execution_count": 286,
   "id": "9ec848b7",
   "metadata": {},
   "outputs": [
    {
     "data": {
      "text/html": [
       "<div><style>\n",
       ".dataframe > thead > tr,\n",
       ".dataframe > tbody > tr {\n",
       "  text-align: right;\n",
       "  white-space: pre-wrap;\n",
       "}\n",
       "</style>\n",
       "<small>shape: (5_819_079, 40)</small><table border=\"1\" class=\"dataframe\"><thead><tr><th>YEAR</th><th>MONTH</th><th>DAY</th><th>DAY_OF_WEEK</th><th>AIRLINE</th><th>FLIGHT_NUMBER</th><th>TAIL_NUMBER</th><th>ORIGIN_AIRPORT</th><th>DESTINATION_AIRPORT</th><th>SCHEDULED_DEPARTURE</th><th>DEPARTURE_TIME</th><th>DEPARTURE_DELAY</th><th>TAXI_OUT</th><th>WHEELS_OFF</th><th>SCHEDULED_TIME</th><th>ELAPSED_TIME</th><th>AIR_TIME</th><th>DISTANCE</th><th>WHEELS_ON</th><th>TAXI_IN</th><th>SCHEDULED_ARRIVAL</th><th>ARRIVAL_TIME</th><th>ARRIVAL_DELAY</th><th>DIVERTED</th><th>CANCELLED</th><th>CANCELLATION_REASON</th><th>AIR_SYSTEM_DELAY</th><th>SECURITY_DELAY</th><th>AIRLINE_DELAY</th><th>LATE_AIRCRAFT_DELAY</th><th>WEATHER_DELAY</th><th>AIRPORT</th><th>CITY</th><th>STATE</th><th>COUNTRY</th><th>LATITUDE</th><th>LONGITUDE</th><th>Date</th><th>ROUTE</th><th>z_score_distance</th></tr><tr><td>i64</td><td>i64</td><td>i64</td><td>i64</td><td>str</td><td>i64</td><td>str</td><td>str</td><td>str</td><td>str</td><td>str</td><td>i64</td><td>i64</td><td>i64</td><td>i64</td><td>i64</td><td>i64</td><td>i64</td><td>i64</td><td>i64</td><td>i64</td><td>i64</td><td>i64</td><td>i64</td><td>i64</td><td>str</td><td>i64</td><td>i64</td><td>i64</td><td>i64</td><td>i64</td><td>str</td><td>str</td><td>str</td><td>str</td><td>f64</td><td>f64</td><td>date</td><td>str</td><td>f64</td></tr></thead><tbody><tr><td>2015</td><td>1</td><td>1</td><td>4</td><td>&quot;AS&quot;</td><td>98</td><td>&quot;N407AS&quot;</td><td>&quot;ANC&quot;</td><td>&quot;SEA&quot;</td><td>&quot;00:05&quot;</td><td>&quot;23:54&quot;</td><td>-11</td><td>21</td><td>15</td><td>205</td><td>194</td><td>169</td><td>1448</td><td>404</td><td>4</td><td>430</td><td>408</td><td>-22</td><td>0</td><td>0</td><td>&quot;0&quot;</td><td>0</td><td>0</td><td>0</td><td>0</td><td>0</td><td>&quot;Ted Stevens An…</td><td>&quot;Anchorage&quot;</td><td>&quot;AK&quot;</td><td>&quot;USA&quot;</td><td>61.17432</td><td>-149.99619</td><td>2015-01-01</td><td>&quot;ANC_SEA&quot;</td><td>1.029384</td></tr><tr><td>2015</td><td>1</td><td>1</td><td>4</td><td>&quot;AA&quot;</td><td>2336</td><td>&quot;N3KUAA&quot;</td><td>&quot;LAX&quot;</td><td>&quot;PBI&quot;</td><td>&quot;00:10&quot;</td><td>&quot;00:02&quot;</td><td>-8</td><td>12</td><td>14</td><td>280</td><td>279</td><td>263</td><td>2330</td><td>737</td><td>4</td><td>750</td><td>741</td><td>-9</td><td>0</td><td>0</td><td>&quot;0&quot;</td><td>0</td><td>0</td><td>0</td><td>0</td><td>0</td><td>&quot;Los Angeles In…</td><td>&quot;Los Angeles&quot;</td><td>&quot;CA&quot;</td><td>&quot;USA&quot;</td><td>33.94254</td><td>-118.40807</td><td>2015-01-01</td><td>&quot;LAX_PBI&quot;</td><td>2.480557</td></tr><tr><td>2015</td><td>1</td><td>1</td><td>4</td><td>&quot;US&quot;</td><td>840</td><td>&quot;N171US&quot;</td><td>&quot;SFO&quot;</td><td>&quot;CLT&quot;</td><td>&quot;00:20&quot;</td><td>&quot;00:18&quot;</td><td>-2</td><td>16</td><td>34</td><td>286</td><td>293</td><td>266</td><td>2296</td><td>800</td><td>11</td><td>806</td><td>811</td><td>5</td><td>0</td><td>0</td><td>&quot;0&quot;</td><td>0</td><td>0</td><td>0</td><td>0</td><td>0</td><td>&quot;San Francisco …</td><td>&quot;San Francisco&quot;</td><td>&quot;CA&quot;</td><td>&quot;USA&quot;</td><td>37.619</td><td>-122.37484</td><td>2015-01-01</td><td>&quot;SFO_CLT&quot;</td><td>2.424616</td></tr><tr><td>2015</td><td>1</td><td>1</td><td>4</td><td>&quot;AA&quot;</td><td>258</td><td>&quot;N3HYAA&quot;</td><td>&quot;LAX&quot;</td><td>&quot;MIA&quot;</td><td>&quot;00:20&quot;</td><td>&quot;00:15&quot;</td><td>-5</td><td>15</td><td>30</td><td>285</td><td>281</td><td>258</td><td>2342</td><td>748</td><td>8</td><td>805</td><td>756</td><td>-9</td><td>0</td><td>0</td><td>&quot;0&quot;</td><td>0</td><td>0</td><td>0</td><td>0</td><td>0</td><td>&quot;Los Angeles In…</td><td>&quot;Los Angeles&quot;</td><td>&quot;CA&quot;</td><td>&quot;USA&quot;</td><td>33.94254</td><td>-118.40807</td><td>2015-01-01</td><td>&quot;LAX_MIA&quot;</td><td>2.500301</td></tr><tr><td>2015</td><td>1</td><td>1</td><td>4</td><td>&quot;AS&quot;</td><td>135</td><td>&quot;N527AS&quot;</td><td>&quot;SEA&quot;</td><td>&quot;ANC&quot;</td><td>&quot;00:25&quot;</td><td>&quot;00:24&quot;</td><td>-1</td><td>11</td><td>35</td><td>235</td><td>215</td><td>199</td><td>1448</td><td>254</td><td>5</td><td>320</td><td>259</td><td>-21</td><td>0</td><td>0</td><td>&quot;0&quot;</td><td>0</td><td>0</td><td>0</td><td>0</td><td>0</td><td>&quot;Seattle-Tacoma…</td><td>&quot;Seattle&quot;</td><td>&quot;WA&quot;</td><td>&quot;USA&quot;</td><td>47.44898</td><td>-122.30931</td><td>2015-01-01</td><td>&quot;SEA_ANC&quot;</td><td>1.029384</td></tr><tr><td>2015</td><td>1</td><td>1</td><td>4</td><td>&quot;DL&quot;</td><td>806</td><td>&quot;N3730B&quot;</td><td>&quot;SFO&quot;</td><td>&quot;MSP&quot;</td><td>&quot;00:25&quot;</td><td>&quot;00:20&quot;</td><td>-5</td><td>18</td><td>38</td><td>217</td><td>230</td><td>206</td><td>1589</td><td>604</td><td>6</td><td>602</td><td>610</td><td>8</td><td>0</td><td>0</td><td>&quot;0&quot;</td><td>0</td><td>0</td><td>0</td><td>0</td><td>0</td><td>&quot;San Francisco …</td><td>&quot;San Francisco&quot;</td><td>&quot;CA&quot;</td><td>&quot;USA&quot;</td><td>37.619</td><td>-122.37484</td><td>2015-01-01</td><td>&quot;SFO_MSP&quot;</td><td>1.261374</td></tr><tr><td>2015</td><td>1</td><td>1</td><td>4</td><td>&quot;NK&quot;</td><td>612</td><td>&quot;N635NK&quot;</td><td>&quot;LAS&quot;</td><td>&quot;MSP&quot;</td><td>&quot;00:25&quot;</td><td>&quot;00:19&quot;</td><td>-6</td><td>11</td><td>30</td><td>181</td><td>170</td><td>154</td><td>1299</td><td>504</td><td>5</td><td>526</td><td>509</td><td>-17</td><td>0</td><td>0</td><td>&quot;0&quot;</td><td>0</td><td>0</td><td>0</td><td>0</td><td>0</td><td>&quot;McCarran Inter…</td><td>&quot;Las Vegas&quot;</td><td>&quot;NV&quot;</td><td>&quot;USA&quot;</td><td>36.08036</td><td>-115.15233</td><td>2015-01-01</td><td>&quot;LAS_MSP&quot;</td><td>0.784231</td></tr><tr><td>2015</td><td>1</td><td>1</td><td>4</td><td>&quot;US&quot;</td><td>2013</td><td>&quot;N584UW&quot;</td><td>&quot;LAX&quot;</td><td>&quot;CLT&quot;</td><td>&quot;00:30&quot;</td><td>&quot;00:44&quot;</td><td>14</td><td>13</td><td>57</td><td>273</td><td>249</td><td>228</td><td>2125</td><td>745</td><td>8</td><td>803</td><td>753</td><td>-10</td><td>0</td><td>0</td><td>&quot;0&quot;</td><td>0</td><td>0</td><td>0</td><td>0</td><td>0</td><td>&quot;Los Angeles In…</td><td>&quot;Los Angeles&quot;</td><td>&quot;CA&quot;</td><td>&quot;USA&quot;</td><td>33.94254</td><td>-118.40807</td><td>2015-01-01</td><td>&quot;LAX_CLT&quot;</td><td>2.143266</td></tr><tr><td>2015</td><td>1</td><td>1</td><td>4</td><td>&quot;AA&quot;</td><td>1112</td><td>&quot;N3LAAA&quot;</td><td>&quot;SFO&quot;</td><td>&quot;DFW&quot;</td><td>&quot;00:30&quot;</td><td>&quot;00:19&quot;</td><td>-11</td><td>17</td><td>36</td><td>195</td><td>193</td><td>173</td><td>1464</td><td>529</td><td>3</td><td>545</td><td>532</td><td>-13</td><td>0</td><td>0</td><td>&quot;0&quot;</td><td>0</td><td>0</td><td>0</td><td>0</td><td>0</td><td>&quot;San Francisco …</td><td>&quot;San Francisco&quot;</td><td>&quot;CA&quot;</td><td>&quot;USA&quot;</td><td>37.619</td><td>-122.37484</td><td>2015-01-01</td><td>&quot;SFO_DFW&quot;</td><td>1.055709</td></tr><tr><td>2015</td><td>1</td><td>1</td><td>4</td><td>&quot;DL&quot;</td><td>1173</td><td>&quot;N826DN&quot;</td><td>&quot;LAS&quot;</td><td>&quot;ATL&quot;</td><td>&quot;00:30&quot;</td><td>&quot;00:33&quot;</td><td>3</td><td>12</td><td>45</td><td>221</td><td>203</td><td>186</td><td>1747</td><td>651</td><td>5</td><td>711</td><td>656</td><td>-15</td><td>0</td><td>0</td><td>&quot;0&quot;</td><td>0</td><td>0</td><td>0</td><td>0</td><td>0</td><td>&quot;McCarran Inter…</td><td>&quot;Las Vegas&quot;</td><td>&quot;NV&quot;</td><td>&quot;USA&quot;</td><td>36.08036</td><td>-115.15233</td><td>2015-01-01</td><td>&quot;LAS_ATL&quot;</td><td>1.521335</td></tr><tr><td>2015</td><td>1</td><td>1</td><td>4</td><td>&quot;DL&quot;</td><td>2336</td><td>&quot;N958DN&quot;</td><td>&quot;DEN&quot;</td><td>&quot;ATL&quot;</td><td>&quot;00:30&quot;</td><td>&quot;00:24&quot;</td><td>-6</td><td>12</td><td>36</td><td>173</td><td>149</td><td>133</td><td>1199</td><td>449</td><td>4</td><td>523</td><td>453</td><td>-30</td><td>0</td><td>0</td><td>&quot;0&quot;</td><td>0</td><td>0</td><td>0</td><td>0</td><td>0</td><td>&quot;Denver Interna…</td><td>&quot;Denver&quot;</td><td>&quot;CO&quot;</td><td>&quot;USA&quot;</td><td>39.85841</td><td>-104.667</td><td>2015-01-01</td><td>&quot;DEN_ATL&quot;</td><td>0.619699</td></tr><tr><td>2015</td><td>1</td><td>1</td><td>4</td><td>&quot;AA&quot;</td><td>1674</td><td>&quot;N853AA&quot;</td><td>&quot;LAS&quot;</td><td>&quot;MIA&quot;</td><td>&quot;00:35&quot;</td><td>&quot;00:27&quot;</td><td>-8</td><td>21</td><td>48</td><td>268</td><td>266</td><td>238</td><td>2174</td><td>746</td><td>7</td><td>803</td><td>753</td><td>-10</td><td>0</td><td>0</td><td>&quot;0&quot;</td><td>0</td><td>0</td><td>0</td><td>0</td><td>0</td><td>&quot;McCarran Inter…</td><td>&quot;Las Vegas&quot;</td><td>&quot;NV&quot;</td><td>&quot;USA&quot;</td><td>36.08036</td><td>-115.15233</td><td>2015-01-01</td><td>&quot;LAS_MIA&quot;</td><td>2.223887</td></tr><tr><td>&hellip;</td><td>&hellip;</td><td>&hellip;</td><td>&hellip;</td><td>&hellip;</td><td>&hellip;</td><td>&hellip;</td><td>&hellip;</td><td>&hellip;</td><td>&hellip;</td><td>&hellip;</td><td>&hellip;</td><td>&hellip;</td><td>&hellip;</td><td>&hellip;</td><td>&hellip;</td><td>&hellip;</td><td>&hellip;</td><td>&hellip;</td><td>&hellip;</td><td>&hellip;</td><td>&hellip;</td><td>&hellip;</td><td>&hellip;</td><td>&hellip;</td><td>&hellip;</td><td>&hellip;</td><td>&hellip;</td><td>&hellip;</td><td>&hellip;</td><td>&hellip;</td><td>&hellip;</td><td>&hellip;</td><td>&hellip;</td><td>&hellip;</td><td>&hellip;</td><td>&hellip;</td><td>&hellip;</td><td>&hellip;</td><td>&hellip;</td></tr><tr><td>2015</td><td>12</td><td>31</td><td>4</td><td>&quot;AA&quot;</td><td>2342</td><td>&quot;N3DLAA&quot;</td><td>&quot;DEN&quot;</td><td>&quot;MIA&quot;</td><td>&quot;23:59&quot;</td><td>&quot;23:51&quot;</td><td>-8</td><td>18</td><td>9</td><td>224</td><td>214</td><td>190</td><td>1709</td><td>519</td><td>6</td><td>543</td><td>525</td><td>-18</td><td>0</td><td>0</td><td>&quot;0&quot;</td><td>0</td><td>0</td><td>0</td><td>0</td><td>0</td><td>&quot;Denver Interna…</td><td>&quot;Denver&quot;</td><td>&quot;CO&quot;</td><td>&quot;USA&quot;</td><td>39.85841</td><td>-104.667</td><td>2015-12-31</td><td>&quot;DEN_MIA&quot;</td><td>1.458813</td></tr><tr><td>2015</td><td>12</td><td>31</td><td>4</td><td>&quot;AA&quot;</td><td>219</td><td>&quot;N3LYAA&quot;</td><td>&quot;LAX&quot;</td><td>&quot;ORD&quot;</td><td>&quot;23:59&quot;</td><td>&quot;23:58&quot;</td><td>-1</td><td>23</td><td>21</td><td>244</td><td>226</td><td>198</td><td>1744</td><td>539</td><td>5</td><td>603</td><td>544</td><td>-19</td><td>0</td><td>0</td><td>&quot;0&quot;</td><td>0</td><td>0</td><td>0</td><td>0</td><td>0</td><td>&quot;Los Angeles In…</td><td>&quot;Los Angeles&quot;</td><td>&quot;CA&quot;</td><td>&quot;USA&quot;</td><td>33.94254</td><td>-118.40807</td><td>2015-12-31</td><td>&quot;LAX_ORD&quot;</td><td>1.516399</td></tr><tr><td>2015</td><td>12</td><td>31</td><td>4</td><td>&quot;B6&quot;</td><td>1248</td><td>&quot;N948JB&quot;</td><td>&quot;LAS&quot;</td><td>&quot;JFK&quot;</td><td>&quot;23:59&quot;</td><td>&quot;23:8&quot;</td><td>159</td><td>34</td><td>312</td><td>282</td><td>282</td><td>243</td><td>2248</td><td>1015</td><td>5</td><td>741</td><td>1020</td><td>159</td><td>0</td><td>0</td><td>&quot;0&quot;</td><td>0</td><td>0</td><td>159</td><td>0</td><td>0</td><td>&quot;McCarran Inter…</td><td>&quot;Las Vegas&quot;</td><td>&quot;NV&quot;</td><td>&quot;USA&quot;</td><td>36.08036</td><td>-115.15233</td><td>2015-12-31</td><td>&quot;LAS_JFK&quot;</td><td>2.345641</td></tr><tr><td>2015</td><td>12</td><td>31</td><td>4</td><td>&quot;B6&quot;</td><td>80</td><td>&quot;N584JB&quot;</td><td>&quot;RNO&quot;</td><td>&quot;JFK&quot;</td><td>&quot;23:59&quot;</td><td>&quot;23:59&quot;</td><td>0</td><td>12</td><td>11</td><td>306</td><td>285</td><td>268</td><td>2411</td><td>739</td><td>5</td><td>805</td><td>744</td><td>-21</td><td>0</td><td>0</td><td>&quot;0&quot;</td><td>0</td><td>0</td><td>0</td><td>0</td><td>0</td><td>&quot;Reno/Tahoe Int…</td><td>&quot;Reno&quot;</td><td>&quot;NV&quot;</td><td>&quot;USA&quot;</td><td>39.49858</td><td>-119.76806</td><td>2015-12-31</td><td>&quot;RNO_JFK&quot;</td><td>2.613828</td></tr><tr><td>2015</td><td>12</td><td>31</td><td>4</td><td>&quot;B6&quot;</td><td>802</td><td>&quot;N589JB&quot;</td><td>&quot;SLC&quot;</td><td>&quot;MCO&quot;</td><td>&quot;23:59&quot;</td><td>&quot;00:15&quot;</td><td>16</td><td>14</td><td>29</td><td>249</td><td>250</td><td>211</td><td>1931</td><td>600</td><td>25</td><td>608</td><td>625</td><td>17</td><td>0</td><td>0</td><td>&quot;0&quot;</td><td>1</td><td>0</td><td>16</td><td>0</td><td>0</td><td>&quot;Salt Lake City…</td><td>&quot;Salt Lake City…</td><td>&quot;UT&quot;</td><td>&quot;USA&quot;</td><td>40.78839</td><td>-111.97777</td><td>2015-12-31</td><td>&quot;SLC_MCO&quot;</td><td>1.824074</td></tr><tr><td>2015</td><td>12</td><td>31</td><td>4</td><td>&quot;B6&quot;</td><td>98</td><td>&quot;N607JB&quot;</td><td>&quot;DEN&quot;</td><td>&quot;JFK&quot;</td><td>&quot;23:59&quot;</td><td>&quot;00:06&quot;</td><td>7</td><td>13</td><td>19</td><td>211</td><td>193</td><td>173</td><td>1626</td><td>512</td><td>7</td><td>530</td><td>519</td><td>-11</td><td>0</td><td>0</td><td>&quot;0&quot;</td><td>0</td><td>0</td><td>0</td><td>0</td><td>0</td><td>&quot;Denver Interna…</td><td>&quot;Denver&quot;</td><td>&quot;CO&quot;</td><td>&quot;USA&quot;</td><td>39.85841</td><td>-104.667</td><td>2015-12-31</td><td>&quot;DEN_JFK&quot;</td><td>1.322251</td></tr><tr><td>2015</td><td>12</td><td>31</td><td>4</td><td>&quot;B6&quot;</td><td>66</td><td>&quot;N655JB&quot;</td><td>&quot;ABQ&quot;</td><td>&quot;JFK&quot;</td><td>&quot;23:59&quot;</td><td>&quot;00:15&quot;</td><td>16</td><td>9</td><td>24</td><td>227</td><td>214</td><td>190</td><td>1826</td><td>534</td><td>15</td><td>546</td><td>549</td><td>3</td><td>0</td><td>0</td><td>&quot;0&quot;</td><td>0</td><td>0</td><td>0</td><td>0</td><td>0</td><td>&quot;Albuquerque In…</td><td>&quot;Albuquerque&quot;</td><td>&quot;NM&quot;</td><td>&quot;USA&quot;</td><td>35.04022</td><td>-106.60919</td><td>2015-12-31</td><td>&quot;ABQ_JFK&quot;</td><td>1.651315</td></tr><tr><td>2015</td><td>12</td><td>31</td><td>4</td><td>&quot;B6&quot;</td><td>688</td><td>&quot;N657JB&quot;</td><td>&quot;LAX&quot;</td><td>&quot;BOS&quot;</td><td>&quot;23:59&quot;</td><td>&quot;23:55&quot;</td><td>-4</td><td>22</td><td>17</td><td>320</td><td>298</td><td>272</td><td>2611</td><td>749</td><td>4</td><td>819</td><td>753</td><td>-26</td><td>0</td><td>0</td><td>&quot;0&quot;</td><td>0</td><td>0</td><td>0</td><td>0</td><td>0</td><td>&quot;Los Angeles In…</td><td>&quot;Los Angeles&quot;</td><td>&quot;CA&quot;</td><td>&quot;USA&quot;</td><td>33.94254</td><td>-118.40807</td><td>2015-12-31</td><td>&quot;LAX_BOS&quot;</td><td>2.942892</td></tr><tr><td>2015</td><td>12</td><td>31</td><td>4</td><td>&quot;B6&quot;</td><td>745</td><td>&quot;N828JB&quot;</td><td>&quot;JFK&quot;</td><td>&quot;PSE&quot;</td><td>&quot;23:59&quot;</td><td>&quot;23:55&quot;</td><td>-4</td><td>17</td><td>12</td><td>227</td><td>215</td><td>195</td><td>1617</td><td>427</td><td>3</td><td>446</td><td>430</td><td>-16</td><td>0</td><td>0</td><td>&quot;0&quot;</td><td>0</td><td>0</td><td>0</td><td>0</td><td>0</td><td>&quot;John F. Kenned…</td><td>&quot;New York&quot;</td><td>&quot;NY&quot;</td><td>&quot;USA&quot;</td><td>40.63975</td><td>-73.77893</td><td>2015-12-31</td><td>&quot;JFK_PSE&quot;</td><td>1.307443</td></tr><tr><td>2015</td><td>12</td><td>31</td><td>4</td><td>&quot;B6&quot;</td><td>1503</td><td>&quot;N913JB&quot;</td><td>&quot;JFK&quot;</td><td>&quot;SJU&quot;</td><td>&quot;23:59&quot;</td><td>&quot;23:50&quot;</td><td>-9</td><td>17</td><td>7</td><td>221</td><td>222</td><td>197</td><td>1598</td><td>424</td><td>8</td><td>440</td><td>432</td><td>-8</td><td>0</td><td>0</td><td>&quot;0&quot;</td><td>0</td><td>0</td><td>0</td><td>0</td><td>0</td><td>&quot;John F. Kenned…</td><td>&quot;New York&quot;</td><td>&quot;NY&quot;</td><td>&quot;USA&quot;</td><td>40.63975</td><td>-73.77893</td><td>2015-12-31</td><td>&quot;JFK_SJU&quot;</td><td>1.276182</td></tr><tr><td>2015</td><td>12</td><td>31</td><td>4</td><td>&quot;B6&quot;</td><td>333</td><td>&quot;N527JB&quot;</td><td>&quot;MCO&quot;</td><td>&quot;SJU&quot;</td><td>&quot;23:59&quot;</td><td>&quot;23:53&quot;</td><td>-6</td><td>10</td><td>3</td><td>161</td><td>157</td><td>144</td><td>1189</td><td>327</td><td>3</td><td>340</td><td>330</td><td>-10</td><td>0</td><td>0</td><td>&quot;0&quot;</td><td>0</td><td>0</td><td>0</td><td>0</td><td>0</td><td>&quot;Orlando Intern…</td><td>&quot;Orlando&quot;</td><td>&quot;FL&quot;</td><td>&quot;USA&quot;</td><td>28.42889</td><td>-81.31603</td><td>2015-12-31</td><td>&quot;MCO_SJU&quot;</td><td>0.603246</td></tr><tr><td>2015</td><td>12</td><td>31</td><td>4</td><td>&quot;B6&quot;</td><td>839</td><td>&quot;N534JB&quot;</td><td>&quot;JFK&quot;</td><td>&quot;BQN&quot;</td><td>&quot;23:59&quot;</td><td>&quot;00:14&quot;</td><td>15</td><td>14</td><td>28</td><td>221</td><td>208</td><td>189</td><td>1576</td><td>437</td><td>5</td><td>440</td><td>442</td><td>2</td><td>0</td><td>0</td><td>&quot;0&quot;</td><td>0</td><td>0</td><td>0</td><td>0</td><td>0</td><td>&quot;John F. Kenned…</td><td>&quot;New York&quot;</td><td>&quot;NY&quot;</td><td>&quot;USA&quot;</td><td>40.63975</td><td>-73.77893</td><td>2015-12-31</td><td>&quot;JFK_BQN&quot;</td><td>1.239985</td></tr></tbody></table></div>"
      ],
      "text/plain": [
       "shape: (5_819_079, 40)\n",
       "┌──────┬───────┬─────┬─────────────┬───┬────────────┬────────────┬─────────┬──────────────────┐\n",
       "│ YEAR ┆ MONTH ┆ DAY ┆ DAY_OF_WEEK ┆ … ┆ LONGITUDE  ┆ Date       ┆ ROUTE   ┆ z_score_distance │\n",
       "│ ---  ┆ ---   ┆ --- ┆ ---         ┆   ┆ ---        ┆ ---        ┆ ---     ┆ ---              │\n",
       "│ i64  ┆ i64   ┆ i64 ┆ i64         ┆   ┆ f64        ┆ date       ┆ str     ┆ f64              │\n",
       "╞══════╪═══════╪═════╪═════════════╪═══╪════════════╪════════════╪═════════╪══════════════════╡\n",
       "│ 2015 ┆ 1     ┆ 1   ┆ 4           ┆ … ┆ -149.99619 ┆ 2015-01-01 ┆ ANC_SEA ┆ 1.029384         │\n",
       "│ 2015 ┆ 1     ┆ 1   ┆ 4           ┆ … ┆ -118.40807 ┆ 2015-01-01 ┆ LAX_PBI ┆ 2.480557         │\n",
       "│ 2015 ┆ 1     ┆ 1   ┆ 4           ┆ … ┆ -122.37484 ┆ 2015-01-01 ┆ SFO_CLT ┆ 2.424616         │\n",
       "│ 2015 ┆ 1     ┆ 1   ┆ 4           ┆ … ┆ -118.40807 ┆ 2015-01-01 ┆ LAX_MIA ┆ 2.500301         │\n",
       "│ …    ┆ …     ┆ …   ┆ …           ┆ … ┆ …          ┆ …          ┆ …       ┆ …                │\n",
       "│ 2015 ┆ 12    ┆ 31  ┆ 4           ┆ … ┆ -73.77893  ┆ 2015-12-31 ┆ JFK_PSE ┆ 1.307443         │\n",
       "│ 2015 ┆ 12    ┆ 31  ┆ 4           ┆ … ┆ -73.77893  ┆ 2015-12-31 ┆ JFK_SJU ┆ 1.276182         │\n",
       "│ 2015 ┆ 12    ┆ 31  ┆ 4           ┆ … ┆ -81.31603  ┆ 2015-12-31 ┆ MCO_SJU ┆ 0.603246         │\n",
       "│ 2015 ┆ 12    ┆ 31  ┆ 4           ┆ … ┆ -73.77893  ┆ 2015-12-31 ┆ JFK_BQN ┆ 1.239985         │\n",
       "└──────┴───────┴─────┴─────────────┴───┴────────────┴────────────┴─────────┴──────────────────┘"
      ]
     },
     "execution_count": 286,
     "metadata": {},
     "output_type": "execute_result"
    }
   ],
   "source": [
    "data_time = data_2\n",
    "data_time"
   ]
  },
  {
   "cell_type": "code",
   "execution_count": 291,
   "id": "c25c89ce",
   "metadata": {},
   "outputs": [
    {
     "data": {
      "text/html": [
       "<div>\n",
       "<style scoped>\n",
       "    .dataframe tbody tr th:only-of-type {\n",
       "        vertical-align: middle;\n",
       "    }\n",
       "\n",
       "    .dataframe tbody tr th {\n",
       "        vertical-align: top;\n",
       "    }\n",
       "\n",
       "    .dataframe thead th {\n",
       "        text-align: right;\n",
       "    }\n",
       "</style>\n",
       "<table border=\"1\" class=\"dataframe\">\n",
       "  <thead>\n",
       "    <tr style=\"text-align: right;\">\n",
       "      <th></th>\n",
       "      <th>CANCELLED</th>\n",
       "    </tr>\n",
       "    <tr>\n",
       "      <th>Date</th>\n",
       "      <th></th>\n",
       "    </tr>\n",
       "  </thead>\n",
       "  <tbody>\n",
       "    <tr>\n",
       "      <th>2015-01-01</th>\n",
       "      <td>0</td>\n",
       "    </tr>\n",
       "    <tr>\n",
       "      <th>2015-01-01</th>\n",
       "      <td>0</td>\n",
       "    </tr>\n",
       "    <tr>\n",
       "      <th>2015-01-01</th>\n",
       "      <td>0</td>\n",
       "    </tr>\n",
       "    <tr>\n",
       "      <th>2015-01-01</th>\n",
       "      <td>0</td>\n",
       "    </tr>\n",
       "    <tr>\n",
       "      <th>2015-01-01</th>\n",
       "      <td>0</td>\n",
       "    </tr>\n",
       "    <tr>\n",
       "      <th>...</th>\n",
       "      <td>...</td>\n",
       "    </tr>\n",
       "    <tr>\n",
       "      <th>2015-12-31</th>\n",
       "      <td>0</td>\n",
       "    </tr>\n",
       "    <tr>\n",
       "      <th>2015-12-31</th>\n",
       "      <td>0</td>\n",
       "    </tr>\n",
       "    <tr>\n",
       "      <th>2015-12-31</th>\n",
       "      <td>0</td>\n",
       "    </tr>\n",
       "    <tr>\n",
       "      <th>2015-12-31</th>\n",
       "      <td>0</td>\n",
       "    </tr>\n",
       "    <tr>\n",
       "      <th>2015-12-31</th>\n",
       "      <td>0</td>\n",
       "    </tr>\n",
       "  </tbody>\n",
       "</table>\n",
       "<p>5819079 rows × 1 columns</p>\n",
       "</div>"
      ],
      "text/plain": [
       "            CANCELLED\n",
       "Date                 \n",
       "2015-01-01          0\n",
       "2015-01-01          0\n",
       "2015-01-01          0\n",
       "2015-01-01          0\n",
       "2015-01-01          0\n",
       "...               ...\n",
       "2015-12-31          0\n",
       "2015-12-31          0\n",
       "2015-12-31          0\n",
       "2015-12-31          0\n",
       "2015-12-31          0\n",
       "\n",
       "[5819079 rows x 1 columns]"
      ]
     },
     "execution_count": 291,
     "metadata": {},
     "output_type": "execute_result"
    }
   ],
   "source": [
    "data_plot = data_time[['Date','CANCELLED']].to_pandas()\n",
    "data_plot.set_index('Date',inplace=True)\n",
    "data_plot"
   ]
  },
  {
   "cell_type": "code",
   "execution_count": 406,
   "id": "46539957",
   "metadata": {},
   "outputs": [
    {
     "data": {
      "text/plain": [
       "<AxesSubplot:xlabel='Date'>"
      ]
     },
     "execution_count": 406,
     "metadata": {},
     "output_type": "execute_result"
    },
    {
     "data": {
      "image/png": "[encoded data removed]",
      "text/plain": [
       "<Figure size 1080x792 with 1 Axes>"
      ]
     },
     "metadata": {
      "needs_background": "light"
     },
     "output_type": "display_data"
    }
   ],
   "source": [
    "data_plot = data_time.groupby(['Date']).agg(pl.col('CANCELLED').sum().alias('cancelled')).to_pandas().set_index('Date')\n",
    "data_plot.plot(figsize=(15,11))"
   ]
  },
  {
   "cell_type": "markdown",
   "id": "4b8a9c97",
   "metadata": {},
   "source": [
    "Flights in the first quarter of the year are cancelled the most, these could be due to weather conditions as discovered before and also high number of flight applications during these periods"
   ]
  },
  {
   "cell_type": "code",
   "execution_count": 425,
   "id": "cf2affcf",
   "metadata": {},
   "outputs": [
    {
     "data": {
      "text/html": [
       "<div><style>\n",
       ".dataframe > thead > tr,\n",
       ".dataframe > tbody > tr {\n",
       "  text-align: right;\n",
       "  white-space: pre-wrap;\n",
       "}\n",
       "</style>\n",
       "<small>shape: (5_819_079, 40)</small><table border=\"1\" class=\"dataframe\"><thead><tr><th>YEAR</th><th>MONTH</th><th>DAY</th><th>DAY_OF_WEEK</th><th>AIRLINE</th><th>FLIGHT_NUMBER</th><th>TAIL_NUMBER</th><th>ORIGIN_AIRPORT</th><th>DESTINATION_AIRPORT</th><th>SCHEDULED_DEPARTURE</th><th>DEPARTURE_TIME</th><th>DEPARTURE_DELAY</th><th>TAXI_OUT</th><th>WHEELS_OFF</th><th>SCHEDULED_TIME</th><th>ELAPSED_TIME</th><th>AIR_TIME</th><th>DISTANCE</th><th>WHEELS_ON</th><th>TAXI_IN</th><th>SCHEDULED_ARRIVAL</th><th>ARRIVAL_TIME</th><th>ARRIVAL_DELAY</th><th>DIVERTED</th><th>CANCELLED</th><th>CANCELLATION_REASON</th><th>AIR_SYSTEM_DELAY</th><th>SECURITY_DELAY</th><th>AIRLINE_DELAY</th><th>LATE_AIRCRAFT_DELAY</th><th>WEATHER_DELAY</th><th>AIRPORT</th><th>CITY</th><th>STATE</th><th>COUNTRY</th><th>LATITUDE</th><th>LONGITUDE</th><th>Date</th><th>ROUTE</th><th>z_score_distance</th></tr><tr><td>i64</td><td>i64</td><td>i64</td><td>i64</td><td>str</td><td>i64</td><td>str</td><td>str</td><td>str</td><td>str</td><td>str</td><td>i64</td><td>i64</td><td>i64</td><td>i64</td><td>i64</td><td>i64</td><td>i64</td><td>i64</td><td>i64</td><td>i64</td><td>i64</td><td>i64</td><td>i64</td><td>i64</td><td>str</td><td>i64</td><td>i64</td><td>i64</td><td>i64</td><td>i64</td><td>str</td><td>str</td><td>str</td><td>str</td><td>f64</td><td>f64</td><td>date</td><td>str</td><td>f64</td></tr></thead><tbody><tr><td>2015</td><td>1</td><td>1</td><td>4</td><td>&quot;AS&quot;</td><td>98</td><td>&quot;N407AS&quot;</td><td>&quot;ANC&quot;</td><td>&quot;SEA&quot;</td><td>&quot;00&quot;</td><td>&quot;23:54&quot;</td><td>-11</td><td>21</td><td>15</td><td>205</td><td>194</td><td>169</td><td>1448</td><td>404</td><td>4</td><td>430</td><td>408</td><td>-22</td><td>0</td><td>0</td><td>&quot;0&quot;</td><td>0</td><td>0</td><td>0</td><td>0</td><td>0</td><td>&quot;Ted Stevens An…</td><td>&quot;Anchorage&quot;</td><td>&quot;AK&quot;</td><td>&quot;USA&quot;</td><td>61.17432</td><td>-149.99619</td><td>2015-01-01</td><td>&quot;ANC_SEA&quot;</td><td>1.029384</td></tr><tr><td>2015</td><td>1</td><td>1</td><td>4</td><td>&quot;AA&quot;</td><td>2336</td><td>&quot;N3KUAA&quot;</td><td>&quot;LAX&quot;</td><td>&quot;PBI&quot;</td><td>&quot;00&quot;</td><td>&quot;00:02&quot;</td><td>-8</td><td>12</td><td>14</td><td>280</td><td>279</td><td>263</td><td>2330</td><td>737</td><td>4</td><td>750</td><td>741</td><td>-9</td><td>0</td><td>0</td><td>&quot;0&quot;</td><td>0</td><td>0</td><td>0</td><td>0</td><td>0</td><td>&quot;Los Angeles In…</td><td>&quot;Los Angeles&quot;</td><td>&quot;CA&quot;</td><td>&quot;USA&quot;</td><td>33.94254</td><td>-118.40807</td><td>2015-01-01</td><td>&quot;LAX_PBI&quot;</td><td>2.480557</td></tr><tr><td>2015</td><td>1</td><td>1</td><td>4</td><td>&quot;US&quot;</td><td>840</td><td>&quot;N171US&quot;</td><td>&quot;SFO&quot;</td><td>&quot;CLT&quot;</td><td>&quot;00&quot;</td><td>&quot;00:18&quot;</td><td>-2</td><td>16</td><td>34</td><td>286</td><td>293</td><td>266</td><td>2296</td><td>800</td><td>11</td><td>806</td><td>811</td><td>5</td><td>0</td><td>0</td><td>&quot;0&quot;</td><td>0</td><td>0</td><td>0</td><td>0</td><td>0</td><td>&quot;San Francisco …</td><td>&quot;San Francisco&quot;</td><td>&quot;CA&quot;</td><td>&quot;USA&quot;</td><td>37.619</td><td>-122.37484</td><td>2015-01-01</td><td>&quot;SFO_CLT&quot;</td><td>2.424616</td></tr><tr><td>2015</td><td>1</td><td>1</td><td>4</td><td>&quot;AA&quot;</td><td>258</td><td>&quot;N3HYAA&quot;</td><td>&quot;LAX&quot;</td><td>&quot;MIA&quot;</td><td>&quot;00&quot;</td><td>&quot;00:15&quot;</td><td>-5</td><td>15</td><td>30</td><td>285</td><td>281</td><td>258</td><td>2342</td><td>748</td><td>8</td><td>805</td><td>756</td><td>-9</td><td>0</td><td>0</td><td>&quot;0&quot;</td><td>0</td><td>0</td><td>0</td><td>0</td><td>0</td><td>&quot;Los Angeles In…</td><td>&quot;Los Angeles&quot;</td><td>&quot;CA&quot;</td><td>&quot;USA&quot;</td><td>33.94254</td><td>-118.40807</td><td>2015-01-01</td><td>&quot;LAX_MIA&quot;</td><td>2.500301</td></tr><tr><td>2015</td><td>1</td><td>1</td><td>4</td><td>&quot;AS&quot;</td><td>135</td><td>&quot;N527AS&quot;</td><td>&quot;SEA&quot;</td><td>&quot;ANC&quot;</td><td>&quot;00&quot;</td><td>&quot;00:24&quot;</td><td>-1</td><td>11</td><td>35</td><td>235</td><td>215</td><td>199</td><td>1448</td><td>254</td><td>5</td><td>320</td><td>259</td><td>-21</td><td>0</td><td>0</td><td>&quot;0&quot;</td><td>0</td><td>0</td><td>0</td><td>0</td><td>0</td><td>&quot;Seattle-Tacoma…</td><td>&quot;Seattle&quot;</td><td>&quot;WA&quot;</td><td>&quot;USA&quot;</td><td>47.44898</td><td>-122.30931</td><td>2015-01-01</td><td>&quot;SEA_ANC&quot;</td><td>1.029384</td></tr><tr><td>2015</td><td>1</td><td>1</td><td>4</td><td>&quot;DL&quot;</td><td>806</td><td>&quot;N3730B&quot;</td><td>&quot;SFO&quot;</td><td>&quot;MSP&quot;</td><td>&quot;00&quot;</td><td>&quot;00:20&quot;</td><td>-5</td><td>18</td><td>38</td><td>217</td><td>230</td><td>206</td><td>1589</td><td>604</td><td>6</td><td>602</td><td>610</td><td>8</td><td>0</td><td>0</td><td>&quot;0&quot;</td><td>0</td><td>0</td><td>0</td><td>0</td><td>0</td><td>&quot;San Francisco …</td><td>&quot;San Francisco&quot;</td><td>&quot;CA&quot;</td><td>&quot;USA&quot;</td><td>37.619</td><td>-122.37484</td><td>2015-01-01</td><td>&quot;SFO_MSP&quot;</td><td>1.261374</td></tr><tr><td>2015</td><td>1</td><td>1</td><td>4</td><td>&quot;NK&quot;</td><td>612</td><td>&quot;N635NK&quot;</td><td>&quot;LAS&quot;</td><td>&quot;MSP&quot;</td><td>&quot;00&quot;</td><td>&quot;00:19&quot;</td><td>-6</td><td>11</td><td>30</td><td>181</td><td>170</td><td>154</td><td>1299</td><td>504</td><td>5</td><td>526</td><td>509</td><td>-17</td><td>0</td><td>0</td><td>&quot;0&quot;</td><td>0</td><td>0</td><td>0</td><td>0</td><td>0</td><td>&quot;McCarran Inter…</td><td>&quot;Las Vegas&quot;</td><td>&quot;NV&quot;</td><td>&quot;USA&quot;</td><td>36.08036</td><td>-115.15233</td><td>2015-01-01</td><td>&quot;LAS_MSP&quot;</td><td>0.784231</td></tr><tr><td>2015</td><td>1</td><td>1</td><td>4</td><td>&quot;US&quot;</td><td>2013</td><td>&quot;N584UW&quot;</td><td>&quot;LAX&quot;</td><td>&quot;CLT&quot;</td><td>&quot;00&quot;</td><td>&quot;00:44&quot;</td><td>14</td><td>13</td><td>57</td><td>273</td><td>249</td><td>228</td><td>2125</td><td>745</td><td>8</td><td>803</td><td>753</td><td>-10</td><td>0</td><td>0</td><td>&quot;0&quot;</td><td>0</td><td>0</td><td>0</td><td>0</td><td>0</td><td>&quot;Los Angeles In…</td><td>&quot;Los Angeles&quot;</td><td>&quot;CA&quot;</td><td>&quot;USA&quot;</td><td>33.94254</td><td>-118.40807</td><td>2015-01-01</td><td>&quot;LAX_CLT&quot;</td><td>2.143266</td></tr><tr><td>2015</td><td>1</td><td>1</td><td>4</td><td>&quot;AA&quot;</td><td>1112</td><td>&quot;N3LAAA&quot;</td><td>&quot;SFO&quot;</td><td>&quot;DFW&quot;</td><td>&quot;00&quot;</td><td>&quot;00:19&quot;</td><td>-11</td><td>17</td><td>36</td><td>195</td><td>193</td><td>173</td><td>1464</td><td>529</td><td>3</td><td>545</td><td>532</td><td>-13</td><td>0</td><td>0</td><td>&quot;0&quot;</td><td>0</td><td>0</td><td>0</td><td>0</td><td>0</td><td>&quot;San Francisco …</td><td>&quot;San Francisco&quot;</td><td>&quot;CA&quot;</td><td>&quot;USA&quot;</td><td>37.619</td><td>-122.37484</td><td>2015-01-01</td><td>&quot;SFO_DFW&quot;</td><td>1.055709</td></tr><tr><td>2015</td><td>1</td><td>1</td><td>4</td><td>&quot;DL&quot;</td><td>1173</td><td>&quot;N826DN&quot;</td><td>&quot;LAS&quot;</td><td>&quot;ATL&quot;</td><td>&quot;00&quot;</td><td>&quot;00:33&quot;</td><td>3</td><td>12</td><td>45</td><td>221</td><td>203</td><td>186</td><td>1747</td><td>651</td><td>5</td><td>711</td><td>656</td><td>-15</td><td>0</td><td>0</td><td>&quot;0&quot;</td><td>0</td><td>0</td><td>0</td><td>0</td><td>0</td><td>&quot;McCarran Inter…</td><td>&quot;Las Vegas&quot;</td><td>&quot;NV&quot;</td><td>&quot;USA&quot;</td><td>36.08036</td><td>-115.15233</td><td>2015-01-01</td><td>&quot;LAS_ATL&quot;</td><td>1.521335</td></tr><tr><td>2015</td><td>1</td><td>1</td><td>4</td><td>&quot;DL&quot;</td><td>2336</td><td>&quot;N958DN&quot;</td><td>&quot;DEN&quot;</td><td>&quot;ATL&quot;</td><td>&quot;00&quot;</td><td>&quot;00:24&quot;</td><td>-6</td><td>12</td><td>36</td><td>173</td><td>149</td><td>133</td><td>1199</td><td>449</td><td>4</td><td>523</td><td>453</td><td>-30</td><td>0</td><td>0</td><td>&quot;0&quot;</td><td>0</td><td>0</td><td>0</td><td>0</td><td>0</td><td>&quot;Denver Interna…</td><td>&quot;Denver&quot;</td><td>&quot;CO&quot;</td><td>&quot;USA&quot;</td><td>39.85841</td><td>-104.667</td><td>2015-01-01</td><td>&quot;DEN_ATL&quot;</td><td>0.619699</td></tr><tr><td>2015</td><td>1</td><td>1</td><td>4</td><td>&quot;AA&quot;</td><td>1674</td><td>&quot;N853AA&quot;</td><td>&quot;LAS&quot;</td><td>&quot;MIA&quot;</td><td>&quot;00&quot;</td><td>&quot;00:27&quot;</td><td>-8</td><td>21</td><td>48</td><td>268</td><td>266</td><td>238</td><td>2174</td><td>746</td><td>7</td><td>803</td><td>753</td><td>-10</td><td>0</td><td>0</td><td>&quot;0&quot;</td><td>0</td><td>0</td><td>0</td><td>0</td><td>0</td><td>&quot;McCarran Inter…</td><td>&quot;Las Vegas&quot;</td><td>&quot;NV&quot;</td><td>&quot;USA&quot;</td><td>36.08036</td><td>-115.15233</td><td>2015-01-01</td><td>&quot;LAS_MIA&quot;</td><td>2.223887</td></tr><tr><td>&hellip;</td><td>&hellip;</td><td>&hellip;</td><td>&hellip;</td><td>&hellip;</td><td>&hellip;</td><td>&hellip;</td><td>&hellip;</td><td>&hellip;</td><td>&hellip;</td><td>&hellip;</td><td>&hellip;</td><td>&hellip;</td><td>&hellip;</td><td>&hellip;</td><td>&hellip;</td><td>&hellip;</td><td>&hellip;</td><td>&hellip;</td><td>&hellip;</td><td>&hellip;</td><td>&hellip;</td><td>&hellip;</td><td>&hellip;</td><td>&hellip;</td><td>&hellip;</td><td>&hellip;</td><td>&hellip;</td><td>&hellip;</td><td>&hellip;</td><td>&hellip;</td><td>&hellip;</td><td>&hellip;</td><td>&hellip;</td><td>&hellip;</td><td>&hellip;</td><td>&hellip;</td><td>&hellip;</td><td>&hellip;</td><td>&hellip;</td></tr><tr><td>2015</td><td>12</td><td>31</td><td>4</td><td>&quot;AA&quot;</td><td>2342</td><td>&quot;N3DLAA&quot;</td><td>&quot;DEN&quot;</td><td>&quot;MIA&quot;</td><td>&quot;23&quot;</td><td>&quot;23:51&quot;</td><td>-8</td><td>18</td><td>9</td><td>224</td><td>214</td><td>190</td><td>1709</td><td>519</td><td>6</td><td>543</td><td>525</td><td>-18</td><td>0</td><td>0</td><td>&quot;0&quot;</td><td>0</td><td>0</td><td>0</td><td>0</td><td>0</td><td>&quot;Denver Interna…</td><td>&quot;Denver&quot;</td><td>&quot;CO&quot;</td><td>&quot;USA&quot;</td><td>39.85841</td><td>-104.667</td><td>2015-12-31</td><td>&quot;DEN_MIA&quot;</td><td>1.458813</td></tr><tr><td>2015</td><td>12</td><td>31</td><td>4</td><td>&quot;AA&quot;</td><td>219</td><td>&quot;N3LYAA&quot;</td><td>&quot;LAX&quot;</td><td>&quot;ORD&quot;</td><td>&quot;23&quot;</td><td>&quot;23:58&quot;</td><td>-1</td><td>23</td><td>21</td><td>244</td><td>226</td><td>198</td><td>1744</td><td>539</td><td>5</td><td>603</td><td>544</td><td>-19</td><td>0</td><td>0</td><td>&quot;0&quot;</td><td>0</td><td>0</td><td>0</td><td>0</td><td>0</td><td>&quot;Los Angeles In…</td><td>&quot;Los Angeles&quot;</td><td>&quot;CA&quot;</td><td>&quot;USA&quot;</td><td>33.94254</td><td>-118.40807</td><td>2015-12-31</td><td>&quot;LAX_ORD&quot;</td><td>1.516399</td></tr><tr><td>2015</td><td>12</td><td>31</td><td>4</td><td>&quot;B6&quot;</td><td>1248</td><td>&quot;N948JB&quot;</td><td>&quot;LAS&quot;</td><td>&quot;JFK&quot;</td><td>&quot;23&quot;</td><td>&quot;23:8&quot;</td><td>159</td><td>34</td><td>312</td><td>282</td><td>282</td><td>243</td><td>2248</td><td>1015</td><td>5</td><td>741</td><td>1020</td><td>159</td><td>0</td><td>0</td><td>&quot;0&quot;</td><td>0</td><td>0</td><td>159</td><td>0</td><td>0</td><td>&quot;McCarran Inter…</td><td>&quot;Las Vegas&quot;</td><td>&quot;NV&quot;</td><td>&quot;USA&quot;</td><td>36.08036</td><td>-115.15233</td><td>2015-12-31</td><td>&quot;LAS_JFK&quot;</td><td>2.345641</td></tr><tr><td>2015</td><td>12</td><td>31</td><td>4</td><td>&quot;B6&quot;</td><td>80</td><td>&quot;N584JB&quot;</td><td>&quot;RNO&quot;</td><td>&quot;JFK&quot;</td><td>&quot;23&quot;</td><td>&quot;23:59&quot;</td><td>0</td><td>12</td><td>11</td><td>306</td><td>285</td><td>268</td><td>2411</td><td>739</td><td>5</td><td>805</td><td>744</td><td>-21</td><td>0</td><td>0</td><td>&quot;0&quot;</td><td>0</td><td>0</td><td>0</td><td>0</td><td>0</td><td>&quot;Reno/Tahoe Int…</td><td>&quot;Reno&quot;</td><td>&quot;NV&quot;</td><td>&quot;USA&quot;</td><td>39.49858</td><td>-119.76806</td><td>2015-12-31</td><td>&quot;RNO_JFK&quot;</td><td>2.613828</td></tr><tr><td>2015</td><td>12</td><td>31</td><td>4</td><td>&quot;B6&quot;</td><td>802</td><td>&quot;N589JB&quot;</td><td>&quot;SLC&quot;</td><td>&quot;MCO&quot;</td><td>&quot;23&quot;</td><td>&quot;00:15&quot;</td><td>16</td><td>14</td><td>29</td><td>249</td><td>250</td><td>211</td><td>1931</td><td>600</td><td>25</td><td>608</td><td>625</td><td>17</td><td>0</td><td>0</td><td>&quot;0&quot;</td><td>1</td><td>0</td><td>16</td><td>0</td><td>0</td><td>&quot;Salt Lake City…</td><td>&quot;Salt Lake City…</td><td>&quot;UT&quot;</td><td>&quot;USA&quot;</td><td>40.78839</td><td>-111.97777</td><td>2015-12-31</td><td>&quot;SLC_MCO&quot;</td><td>1.824074</td></tr><tr><td>2015</td><td>12</td><td>31</td><td>4</td><td>&quot;B6&quot;</td><td>98</td><td>&quot;N607JB&quot;</td><td>&quot;DEN&quot;</td><td>&quot;JFK&quot;</td><td>&quot;23&quot;</td><td>&quot;00:06&quot;</td><td>7</td><td>13</td><td>19</td><td>211</td><td>193</td><td>173</td><td>1626</td><td>512</td><td>7</td><td>530</td><td>519</td><td>-11</td><td>0</td><td>0</td><td>&quot;0&quot;</td><td>0</td><td>0</td><td>0</td><td>0</td><td>0</td><td>&quot;Denver Interna…</td><td>&quot;Denver&quot;</td><td>&quot;CO&quot;</td><td>&quot;USA&quot;</td><td>39.85841</td><td>-104.667</td><td>2015-12-31</td><td>&quot;DEN_JFK&quot;</td><td>1.322251</td></tr><tr><td>2015</td><td>12</td><td>31</td><td>4</td><td>&quot;B6&quot;</td><td>66</td><td>&quot;N655JB&quot;</td><td>&quot;ABQ&quot;</td><td>&quot;JFK&quot;</td><td>&quot;23&quot;</td><td>&quot;00:15&quot;</td><td>16</td><td>9</td><td>24</td><td>227</td><td>214</td><td>190</td><td>1826</td><td>534</td><td>15</td><td>546</td><td>549</td><td>3</td><td>0</td><td>0</td><td>&quot;0&quot;</td><td>0</td><td>0</td><td>0</td><td>0</td><td>0</td><td>&quot;Albuquerque In…</td><td>&quot;Albuquerque&quot;</td><td>&quot;NM&quot;</td><td>&quot;USA&quot;</td><td>35.04022</td><td>-106.60919</td><td>2015-12-31</td><td>&quot;ABQ_JFK&quot;</td><td>1.651315</td></tr><tr><td>2015</td><td>12</td><td>31</td><td>4</td><td>&quot;B6&quot;</td><td>688</td><td>&quot;N657JB&quot;</td><td>&quot;LAX&quot;</td><td>&quot;BOS&quot;</td><td>&quot;23&quot;</td><td>&quot;23:55&quot;</td><td>-4</td><td>22</td><td>17</td><td>320</td><td>298</td><td>272</td><td>2611</td><td>749</td><td>4</td><td>819</td><td>753</td><td>-26</td><td>0</td><td>0</td><td>&quot;0&quot;</td><td>0</td><td>0</td><td>0</td><td>0</td><td>0</td><td>&quot;Los Angeles In…</td><td>&quot;Los Angeles&quot;</td><td>&quot;CA&quot;</td><td>&quot;USA&quot;</td><td>33.94254</td><td>-118.40807</td><td>2015-12-31</td><td>&quot;LAX_BOS&quot;</td><td>2.942892</td></tr><tr><td>2015</td><td>12</td><td>31</td><td>4</td><td>&quot;B6&quot;</td><td>745</td><td>&quot;N828JB&quot;</td><td>&quot;JFK&quot;</td><td>&quot;PSE&quot;</td><td>&quot;23&quot;</td><td>&quot;23:55&quot;</td><td>-4</td><td>17</td><td>12</td><td>227</td><td>215</td><td>195</td><td>1617</td><td>427</td><td>3</td><td>446</td><td>430</td><td>-16</td><td>0</td><td>0</td><td>&quot;0&quot;</td><td>0</td><td>0</td><td>0</td><td>0</td><td>0</td><td>&quot;John F. Kenned…</td><td>&quot;New York&quot;</td><td>&quot;NY&quot;</td><td>&quot;USA&quot;</td><td>40.63975</td><td>-73.77893</td><td>2015-12-31</td><td>&quot;JFK_PSE&quot;</td><td>1.307443</td></tr><tr><td>2015</td><td>12</td><td>31</td><td>4</td><td>&quot;B6&quot;</td><td>1503</td><td>&quot;N913JB&quot;</td><td>&quot;JFK&quot;</td><td>&quot;SJU&quot;</td><td>&quot;23&quot;</td><td>&quot;23:50&quot;</td><td>-9</td><td>17</td><td>7</td><td>221</td><td>222</td><td>197</td><td>1598</td><td>424</td><td>8</td><td>440</td><td>432</td><td>-8</td><td>0</td><td>0</td><td>&quot;0&quot;</td><td>0</td><td>0</td><td>0</td><td>0</td><td>0</td><td>&quot;John F. Kenned…</td><td>&quot;New York&quot;</td><td>&quot;NY&quot;</td><td>&quot;USA&quot;</td><td>40.63975</td><td>-73.77893</td><td>2015-12-31</td><td>&quot;JFK_SJU&quot;</td><td>1.276182</td></tr><tr><td>2015</td><td>12</td><td>31</td><td>4</td><td>&quot;B6&quot;</td><td>333</td><td>&quot;N527JB&quot;</td><td>&quot;MCO&quot;</td><td>&quot;SJU&quot;</td><td>&quot;23&quot;</td><td>&quot;23:53&quot;</td><td>-6</td><td>10</td><td>3</td><td>161</td><td>157</td><td>144</td><td>1189</td><td>327</td><td>3</td><td>340</td><td>330</td><td>-10</td><td>0</td><td>0</td><td>&quot;0&quot;</td><td>0</td><td>0</td><td>0</td><td>0</td><td>0</td><td>&quot;Orlando Intern…</td><td>&quot;Orlando&quot;</td><td>&quot;FL&quot;</td><td>&quot;USA&quot;</td><td>28.42889</td><td>-81.31603</td><td>2015-12-31</td><td>&quot;MCO_SJU&quot;</td><td>0.603246</td></tr><tr><td>2015</td><td>12</td><td>31</td><td>4</td><td>&quot;B6&quot;</td><td>839</td><td>&quot;N534JB&quot;</td><td>&quot;JFK&quot;</td><td>&quot;BQN&quot;</td><td>&quot;23&quot;</td><td>&quot;00:14&quot;</td><td>15</td><td>14</td><td>28</td><td>221</td><td>208</td><td>189</td><td>1576</td><td>437</td><td>5</td><td>440</td><td>442</td><td>2</td><td>0</td><td>0</td><td>&quot;0&quot;</td><td>0</td><td>0</td><td>0</td><td>0</td><td>0</td><td>&quot;John F. Kenned…</td><td>&quot;New York&quot;</td><td>&quot;NY&quot;</td><td>&quot;USA&quot;</td><td>40.63975</td><td>-73.77893</td><td>2015-12-31</td><td>&quot;JFK_BQN&quot;</td><td>1.239985</td></tr></tbody></table></div>"
      ],
      "text/plain": [
       "shape: (5_819_079, 40)\n",
       "┌──────┬───────┬─────┬─────────────┬───┬────────────┬────────────┬─────────┬──────────────────┐\n",
       "│ YEAR ┆ MONTH ┆ DAY ┆ DAY_OF_WEEK ┆ … ┆ LONGITUDE  ┆ Date       ┆ ROUTE   ┆ z_score_distance │\n",
       "│ ---  ┆ ---   ┆ --- ┆ ---         ┆   ┆ ---        ┆ ---        ┆ ---     ┆ ---              │\n",
       "│ i64  ┆ i64   ┆ i64 ┆ i64         ┆   ┆ f64        ┆ date       ┆ str     ┆ f64              │\n",
       "╞══════╪═══════╪═════╪═════════════╪═══╪════════════╪════════════╪═════════╪══════════════════╡\n",
       "│ 2015 ┆ 1     ┆ 1   ┆ 4           ┆ … ┆ -149.99619 ┆ 2015-01-01 ┆ ANC_SEA ┆ 1.029384         │\n",
       "│ 2015 ┆ 1     ┆ 1   ┆ 4           ┆ … ┆ -118.40807 ┆ 2015-01-01 ┆ LAX_PBI ┆ 2.480557         │\n",
       "│ 2015 ┆ 1     ┆ 1   ┆ 4           ┆ … ┆ -122.37484 ┆ 2015-01-01 ┆ SFO_CLT ┆ 2.424616         │\n",
       "│ 2015 ┆ 1     ┆ 1   ┆ 4           ┆ … ┆ -118.40807 ┆ 2015-01-01 ┆ LAX_MIA ┆ 2.500301         │\n",
       "│ …    ┆ …     ┆ …   ┆ …           ┆ … ┆ …          ┆ …          ┆ …       ┆ …                │\n",
       "│ 2015 ┆ 12    ┆ 31  ┆ 4           ┆ … ┆ -73.77893  ┆ 2015-12-31 ┆ JFK_PSE ┆ 1.307443         │\n",
       "│ 2015 ┆ 12    ┆ 31  ┆ 4           ┆ … ┆ -73.77893  ┆ 2015-12-31 ┆ JFK_SJU ┆ 1.276182         │\n",
       "│ 2015 ┆ 12    ┆ 31  ┆ 4           ┆ … ┆ -81.31603  ┆ 2015-12-31 ┆ MCO_SJU ┆ 0.603246         │\n",
       "│ 2015 ┆ 12    ┆ 31  ┆ 4           ┆ … ┆ -73.77893  ┆ 2015-12-31 ┆ JFK_BQN ┆ 1.239985         │\n",
       "└──────┴───────┴─────┴─────────────┴───┴────────────┴────────────┴─────────┴──────────────────┘"
      ]
     },
     "execution_count": 425,
     "metadata": {},
     "output_type": "execute_result"
    }
   ],
   "source": [
    "data_time =data_time.with_columns(SCHEDULED_DEPARTURE = result_df['SCHEDULED_DEPARTURE'])\n",
    "data_time"
   ]
  },
  {
   "cell_type": "code",
   "execution_count": null,
   "id": "f9e32963",
   "metadata": {},
   "outputs": [],
   "source": [
    "data_time = data_time.with_columns(SCHEDULED_DEPARTURE=pl.col('SCHEDULED_DEPARTURE').cast(pl.Int64))\n",
    "data_time"
   ]
  },
  {
   "cell_type": "code",
   "execution_count": 429,
   "id": "5eb37867",
   "metadata": {},
   "outputs": [],
   "source": [
    "# date_plot1 = data_time.with_columns(pl.col('SCHEDULED_DEPARTURE').str.to_time('%H:%M',strict=False))[['SCHEDULED_DEPARTURE','CANCELLED']]\n",
    "# date_plot1\n",
    "\n",
    "date_plot1 = data_time"
   ]
  },
  {
   "cell_type": "code",
   "execution_count": 430,
   "id": "70140f45",
   "metadata": {},
   "outputs": [],
   "source": [
    "date_plot1_= date_plot1.groupby('SCHEDULED_DEPARTURE').agg(pl.col('CANCELLED').sum().alias('cancel')).sort(by='cancel',descending=True).to_pandas()#.set_index('SCHEDULED_DEPARTURE')"
   ]
  },
  {
   "cell_type": "code",
   "execution_count": 431,
   "id": "adda82a5",
   "metadata": {},
   "outputs": [
    {
     "data": {
      "text/html": [
       "<div>\n",
       "<style scoped>\n",
       "    .dataframe tbody tr th:only-of-type {\n",
       "        vertical-align: middle;\n",
       "    }\n",
       "\n",
       "    .dataframe tbody tr th {\n",
       "        vertical-align: top;\n",
       "    }\n",
       "\n",
       "    .dataframe thead th {\n",
       "        text-align: right;\n",
       "    }\n",
       "</style>\n",
       "<table border=\"1\" class=\"dataframe\">\n",
       "  <thead>\n",
       "    <tr style=\"text-align: right;\">\n",
       "      <th></th>\n",
       "      <th>SCHEDULED_DEPARTURE</th>\n",
       "      <th>cancel</th>\n",
       "    </tr>\n",
       "  </thead>\n",
       "  <tbody>\n",
       "    <tr>\n",
       "      <th>0</th>\n",
       "      <td>17</td>\n",
       "      <td>6786</td>\n",
       "    </tr>\n",
       "    <tr>\n",
       "      <th>1</th>\n",
       "      <td>18</td>\n",
       "      <td>6497</td>\n",
       "    </tr>\n",
       "    <tr>\n",
       "      <th>2</th>\n",
       "      <td>19</td>\n",
       "      <td>6129</td>\n",
       "    </tr>\n",
       "    <tr>\n",
       "      <th>3</th>\n",
       "      <td>16</td>\n",
       "      <td>5638</td>\n",
       "    </tr>\n",
       "    <tr>\n",
       "      <th>4</th>\n",
       "      <td>15</td>\n",
       "      <td>5273</td>\n",
       "    </tr>\n",
       "    <tr>\n",
       "      <th>5</th>\n",
       "      <td>20</td>\n",
       "      <td>5270</td>\n",
       "    </tr>\n",
       "    <tr>\n",
       "      <th>6</th>\n",
       "      <td>14</td>\n",
       "      <td>4848</td>\n",
       "    </tr>\n",
       "    <tr>\n",
       "      <th>7</th>\n",
       "      <td>12</td>\n",
       "      <td>4784</td>\n",
       "    </tr>\n",
       "    <tr>\n",
       "      <th>8</th>\n",
       "      <td>10</td>\n",
       "      <td>4762</td>\n",
       "    </tr>\n",
       "    <tr>\n",
       "      <th>9</th>\n",
       "      <td>13</td>\n",
       "      <td>4750</td>\n",
       "    </tr>\n",
       "    <tr>\n",
       "      <th>10</th>\n",
       "      <td>11</td>\n",
       "      <td>4543</td>\n",
       "    </tr>\n",
       "    <tr>\n",
       "      <th>11</th>\n",
       "      <td>21</td>\n",
       "      <td>3683</td>\n",
       "    </tr>\n",
       "    <tr>\n",
       "      <th>12</th>\n",
       "      <td>36</td>\n",
       "      <td>2895</td>\n",
       "    </tr>\n",
       "    <tr>\n",
       "      <th>13</th>\n",
       "      <td>22</td>\n",
       "      <td>2034</td>\n",
       "    </tr>\n",
       "    <tr>\n",
       "      <th>14</th>\n",
       "      <td>46</td>\n",
       "      <td>1645</td>\n",
       "    </tr>\n",
       "    <tr>\n",
       "      <th>15</th>\n",
       "      <td>56</td>\n",
       "      <td>1194</td>\n",
       "    </tr>\n",
       "    <tr>\n",
       "      <th>16</th>\n",
       "      <td>39</td>\n",
       "      <td>1086</td>\n",
       "    </tr>\n",
       "    <tr>\n",
       "      <th>17</th>\n",
       "      <td>66</td>\n",
       "      <td>1086</td>\n",
       "    </tr>\n",
       "    <tr>\n",
       "      <th>18</th>\n",
       "      <td>59</td>\n",
       "      <td>984</td>\n",
       "    </tr>\n",
       "    <tr>\n",
       "      <th>19</th>\n",
       "      <td>37</td>\n",
       "      <td>895</td>\n",
       "    </tr>\n",
       "    <tr>\n",
       "      <th>20</th>\n",
       "      <td>49</td>\n",
       "      <td>886</td>\n",
       "    </tr>\n",
       "    <tr>\n",
       "      <th>21</th>\n",
       "      <td>38</td>\n",
       "      <td>881</td>\n",
       "    </tr>\n",
       "    <tr>\n",
       "      <th>22</th>\n",
       "      <td>57</td>\n",
       "      <td>828</td>\n",
       "    </tr>\n",
       "    <tr>\n",
       "      <th>23</th>\n",
       "      <td>40</td>\n",
       "      <td>801</td>\n",
       "    </tr>\n",
       "    <tr>\n",
       "      <th>24</th>\n",
       "      <td>61</td>\n",
       "      <td>794</td>\n",
       "    </tr>\n",
       "    <tr>\n",
       "      <th>25</th>\n",
       "      <td>60</td>\n",
       "      <td>771</td>\n",
       "    </tr>\n",
       "    <tr>\n",
       "      <th>26</th>\n",
       "      <td>41</td>\n",
       "      <td>764</td>\n",
       "    </tr>\n",
       "    <tr>\n",
       "      <th>27</th>\n",
       "      <td>58</td>\n",
       "      <td>754</td>\n",
       "    </tr>\n",
       "    <tr>\n",
       "      <th>28</th>\n",
       "      <td>47</td>\n",
       "      <td>722</td>\n",
       "    </tr>\n",
       "    <tr>\n",
       "      <th>29</th>\n",
       "      <td>67</td>\n",
       "      <td>707</td>\n",
       "    </tr>\n",
       "    <tr>\n",
       "      <th>30</th>\n",
       "      <td>71</td>\n",
       "      <td>701</td>\n",
       "    </tr>\n",
       "    <tr>\n",
       "      <th>31</th>\n",
       "      <td>51</td>\n",
       "      <td>686</td>\n",
       "    </tr>\n",
       "    <tr>\n",
       "      <th>32</th>\n",
       "      <td>48</td>\n",
       "      <td>675</td>\n",
       "    </tr>\n",
       "    <tr>\n",
       "      <th>33</th>\n",
       "      <td>70</td>\n",
       "      <td>650</td>\n",
       "    </tr>\n",
       "    <tr>\n",
       "      <th>34</th>\n",
       "      <td>69</td>\n",
       "      <td>633</td>\n",
       "    </tr>\n",
       "    <tr>\n",
       "      <th>35</th>\n",
       "      <td>50</td>\n",
       "      <td>629</td>\n",
       "    </tr>\n",
       "    <tr>\n",
       "      <th>36</th>\n",
       "      <td>68</td>\n",
       "      <td>562</td>\n",
       "    </tr>\n",
       "    <tr>\n",
       "      <th>37</th>\n",
       "      <td>30</td>\n",
       "      <td>512</td>\n",
       "    </tr>\n",
       "    <tr>\n",
       "      <th>38</th>\n",
       "      <td>31</td>\n",
       "      <td>510</td>\n",
       "    </tr>\n",
       "    <tr>\n",
       "      <th>39</th>\n",
       "      <td>23</td>\n",
       "      <td>452</td>\n",
       "    </tr>\n",
       "    <tr>\n",
       "      <th>40</th>\n",
       "      <td>29</td>\n",
       "      <td>443</td>\n",
       "    </tr>\n",
       "    <tr>\n",
       "      <th>41</th>\n",
       "      <td>26</td>\n",
       "      <td>246</td>\n",
       "    </tr>\n",
       "    <tr>\n",
       "      <th>42</th>\n",
       "      <td>28</td>\n",
       "      <td>206</td>\n",
       "    </tr>\n",
       "    <tr>\n",
       "      <th>43</th>\n",
       "      <td>27</td>\n",
       "      <td>150</td>\n",
       "    </tr>\n",
       "    <tr>\n",
       "      <th>44</th>\n",
       "      <td>0</td>\n",
       "      <td>125</td>\n",
       "    </tr>\n",
       "    <tr>\n",
       "      <th>45</th>\n",
       "      <td>9</td>\n",
       "      <td>6</td>\n",
       "    </tr>\n",
       "    <tr>\n",
       "      <th>46</th>\n",
       "      <td>1</td>\n",
       "      <td>4</td>\n",
       "    </tr>\n",
       "    <tr>\n",
       "      <th>47</th>\n",
       "      <td>6</td>\n",
       "      <td>2</td>\n",
       "    </tr>\n",
       "    <tr>\n",
       "      <th>48</th>\n",
       "      <td>7</td>\n",
       "      <td>2</td>\n",
       "    </tr>\n",
       "    <tr>\n",
       "      <th>49</th>\n",
       "      <td>8</td>\n",
       "      <td>0</td>\n",
       "    </tr>\n",
       "  </tbody>\n",
       "</table>\n",
       "</div>"
      ],
      "text/plain": [
       "    SCHEDULED_DEPARTURE  cancel\n",
       "0                    17    6786\n",
       "1                    18    6497\n",
       "2                    19    6129\n",
       "3                    16    5638\n",
       "4                    15    5273\n",
       "5                    20    5270\n",
       "6                    14    4848\n",
       "7                    12    4784\n",
       "8                    10    4762\n",
       "9                    13    4750\n",
       "10                   11    4543\n",
       "11                   21    3683\n",
       "12                   36    2895\n",
       "13                   22    2034\n",
       "14                   46    1645\n",
       "15                   56    1194\n",
       "16                   39    1086\n",
       "17                   66    1086\n",
       "18                   59     984\n",
       "19                   37     895\n",
       "20                   49     886\n",
       "21                   38     881\n",
       "22                   57     828\n",
       "23                   40     801\n",
       "24                   61     794\n",
       "25                   60     771\n",
       "26                   41     764\n",
       "27                   58     754\n",
       "28                   47     722\n",
       "29                   67     707\n",
       "30                   71     701\n",
       "31                   51     686\n",
       "32                   48     675\n",
       "33                   70     650\n",
       "34                   69     633\n",
       "35                   50     629\n",
       "36                   68     562\n",
       "37                   30     512\n",
       "38                   31     510\n",
       "39                   23     452\n",
       "40                   29     443\n",
       "41                   26     246\n",
       "42                   28     206\n",
       "43                   27     150\n",
       "44                    0     125\n",
       "45                    9       6\n",
       "46                    1       4\n",
       "47                    6       2\n",
       "48                    7       2\n",
       "49                    8       0"
      ]
     },
     "execution_count": 431,
     "metadata": {},
     "output_type": "execute_result"
    }
   ],
   "source": [
    "date_plot1_"
   ]
  },
  {
   "cell_type": "code",
   "execution_count": 437,
   "id": "113b5401",
   "metadata": {},
   "outputs": [
    {
     "data": {
      "image/png": "[encoded data removed]",
      "text/plain": [
       "<Figure size 720x576 with 1 Axes>"
      ]
     },
     "metadata": {
      "needs_background": "light"
     },
     "output_type": "display_data"
    }
   ],
   "source": [
    "plt.figure(figsize=(10,8))\n",
    "plt.scatter(x=date_plot1_['SCHEDULED_DEPARTURE'],y=date_plot1_['cancel'])\n",
    "plt.xticks(np.arange(0,70,5))\n",
    "plt.show()"
   ]
  },
  {
   "cell_type": "markdown",
   "id": "502c09f4",
   "metadata": {},
   "source": [
    "scheduled flights at times in late afternoon to late evenings had higher number of cancellations"
   ]
  },
  {
   "cell_type": "code",
   "execution_count": 357,
   "id": "49ed7c53",
   "metadata": {},
   "outputs": [
    {
     "data": {
      "text/plain": [
       "<AxesSubplot:title={'center':'Time Plot without Date'}, xlabel='Time', ylabel='cancelled'>"
      ]
     },
     "execution_count": 357,
     "metadata": {},
     "output_type": "execute_result"
    },
    {
     "data": {
      "image/png": "[encoded data removed]",
      "text/plain": [
       "<Figure size 1080x792 with 1 Axes>"
      ]
     },
     "metadata": {
      "needs_background": "light"
     },
     "output_type": "display_data"
    }
   ],
   "source": [
    "# Plot the time column using hvplot\n",
    "date_plot1_.plot(xlabel='Time', ylabel='cancelled', title='Time Plot without Date',figsize=(15,11))"
   ]
  },
  {
   "cell_type": "code",
   "execution_count": 365,
   "id": "9cf6c8e3",
   "metadata": {},
   "outputs": [
    {
     "data": {
      "text/plain": [
       "0      23:00:00\n",
       "1      13:48:00\n",
       "2      11:17:00\n",
       "3      11:53:00\n",
       "4      15:15:00\n",
       "         ...   \n",
       "925    10:55:00\n",
       "926    19:25:00\n",
       "927    00:09:00\n",
       "928    16:12:00\n",
       "929    14:41:00\n",
       "Name: SCHEDULED_DEPARTURE, Length: 930, dtype: object"
      ]
     },
     "execution_count": 365,
     "metadata": {},
     "output_type": "execute_result"
    }
   ],
   "source": [
    "date_plot1_['SCHEDULED_DEPARTURE']"
   ]
  },
  {
   "cell_type": "code",
   "execution_count": 375,
   "id": "438912e1",
   "metadata": {},
   "outputs": [],
   "source": [
    "date_plot1_.dropna(inplace=True)"
   ]
  },
  {
   "cell_type": "code",
   "execution_count": 376,
   "id": "dcfdb863",
   "metadata": {},
   "outputs": [],
   "source": [
    "from datetime import datetime, date, time\n",
    "\n",
    "# Assuming today's date for the example\n",
    "today_date = date.today()\n",
    "\n",
    "# Assuming date_plot1_ is your DataFrame with a column 'SCHEDULED_DEPARTURE'\n",
    "date_plot1_['SCHEDULED_DEPARTURE'] = date_plot1_['SCHEDULED_DEPARTURE'].apply(lambda x: datetime.combine(today_date, x))\n",
    "\n",
    "# Now 'SCHEDULED_DEPARTURE' column is converted to datetime format\n"
   ]
  },
  {
   "cell_type": "code",
   "execution_count": 381,
   "id": "d33eac62",
   "metadata": {},
   "outputs": [
    {
     "data": {
      "text/html": [
       "<div>\n",
       "<style scoped>\n",
       "    .dataframe tbody tr th:only-of-type {\n",
       "        vertical-align: middle;\n",
       "    }\n",
       "\n",
       "    .dataframe tbody tr th {\n",
       "        vertical-align: top;\n",
       "    }\n",
       "\n",
       "    .dataframe thead th {\n",
       "        text-align: right;\n",
       "    }\n",
       "</style>\n",
       "<table border=\"1\" class=\"dataframe\">\n",
       "  <thead>\n",
       "    <tr style=\"text-align: right;\">\n",
       "      <th></th>\n",
       "      <th>cancel</th>\n",
       "    </tr>\n",
       "    <tr>\n",
       "      <th>SCHEDULED_DEPARTURE</th>\n",
       "      <th></th>\n",
       "    </tr>\n",
       "  </thead>\n",
       "  <tbody>\n",
       "    <tr>\n",
       "      <th>2024-01-12 23:00:00</th>\n",
       "      <td>41</td>\n",
       "    </tr>\n",
       "    <tr>\n",
       "      <th>2024-01-12 13:48:00</th>\n",
       "      <td>34</td>\n",
       "    </tr>\n",
       "    <tr>\n",
       "      <th>2024-01-12 11:17:00</th>\n",
       "      <td>20</td>\n",
       "    </tr>\n",
       "    <tr>\n",
       "      <th>2024-01-12 11:53:00</th>\n",
       "      <td>21</td>\n",
       "    </tr>\n",
       "    <tr>\n",
       "      <th>2024-01-12 15:15:00</th>\n",
       "      <td>231</td>\n",
       "    </tr>\n",
       "    <tr>\n",
       "      <th>...</th>\n",
       "      <td>...</td>\n",
       "    </tr>\n",
       "    <tr>\n",
       "      <th>2024-01-12 10:55:00</th>\n",
       "      <td>240</td>\n",
       "    </tr>\n",
       "    <tr>\n",
       "      <th>2024-01-12 19:25:00</th>\n",
       "      <td>273</td>\n",
       "    </tr>\n",
       "    <tr>\n",
       "      <th>2024-01-12 00:09:00</th>\n",
       "      <td>0</td>\n",
       "    </tr>\n",
       "    <tr>\n",
       "      <th>2024-01-12 16:12:00</th>\n",
       "      <td>36</td>\n",
       "    </tr>\n",
       "    <tr>\n",
       "      <th>2024-01-12 14:41:00</th>\n",
       "      <td>50</td>\n",
       "    </tr>\n",
       "  </tbody>\n",
       "</table>\n",
       "<p>929 rows × 1 columns</p>\n",
       "</div>"
      ],
      "text/plain": [
       "                     cancel\n",
       "SCHEDULED_DEPARTURE        \n",
       "2024-01-12 23:00:00      41\n",
       "2024-01-12 13:48:00      34\n",
       "2024-01-12 11:17:00      20\n",
       "2024-01-12 11:53:00      21\n",
       "2024-01-12 15:15:00     231\n",
       "...                     ...\n",
       "2024-01-12 10:55:00     240\n",
       "2024-01-12 19:25:00     273\n",
       "2024-01-12 00:09:00       0\n",
       "2024-01-12 16:12:00      36\n",
       "2024-01-12 14:41:00      50\n",
       "\n",
       "[929 rows x 1 columns]"
      ]
     },
     "execution_count": 381,
     "metadata": {},
     "output_type": "execute_result"
    }
   ],
   "source": [
    "date_plot2  = date_plot1_.set_index('SCHEDULED_DEPARTURE')\n",
    "date_plot2"
   ]
  },
  {
   "cell_type": "code",
   "execution_count": 407,
   "id": "8bc53c51",
   "metadata": {},
   "outputs": [
    {
     "data": {
      "text/plain": [
       "<AxesSubplot:xlabel='SCHEDULED_DEPARTURE'>"
      ]
     },
     "execution_count": 407,
     "metadata": {},
     "output_type": "execute_result"
    },
    {
     "data": {
      "image/png": "[encoded data removed]",
      "text/plain": [
       "<Figure size 720x576 with 1 Axes>"
      ]
     },
     "metadata": {
      "needs_background": "light"
     },
     "output_type": "display_data"
    }
   ],
   "source": [
    "date_plot2.resample('H').sum().plot(figsize=(10,8))"
   ]
  },
  {
   "cell_type": "markdown",
   "id": "a40400bb",
   "metadata": {},
   "source": [
    "As noted before flights during hours from afternoon to late evenings have higher recorded number of cancellations, these could be due to the high traffic of flights in that period, airline operators might want to make available more planes and staffs during these periods to reduce the number"
   ]
  },
  {
   "cell_type": "code",
   "execution_count": null,
   "id": "1b7ec6ea",
   "metadata": {},
   "outputs": [],
   "source": [
    "df.select(pl.col('SCHEDULED_DEPARTURE').cast(pl.String).apply(lambda x: 4-len(x)))"
   ]
  },
  {
   "cell_type": "code",
   "execution_count": 303,
   "id": "61e8cfbb",
   "metadata": {},
   "outputs": [
    {
     "data": {
      "text/html": [
       "<div><style>\n",
       ".dataframe > thead > tr,\n",
       ".dataframe > tbody > tr {\n",
       "  text-align: right;\n",
       "  white-space: pre-wrap;\n",
       "}\n",
       "</style>\n",
       "<small>shape: (5_819_079, 19)</small><table border=\"1\" class=\"dataframe\"><thead><tr><th>SCHEDULED_DEPARTURE</th><th>DEPARTURE_TIME</th><th>DEPARTURE_DELAY</th><th>TAXI_OUT</th><th>WHEELS_OFF</th><th>SCHEDULED_TIME</th><th>ELAPSED_TIME</th><th>AIR_TIME</th><th>DISTANCE</th><th>WHEELS_ON</th><th>TAXI_IN</th><th>SCHEDULED_ARRIVAL</th><th>ARRIVAL_TIME</th><th>ARRIVAL_DELAY</th><th>AIR_SYSTEM_DELAY</th><th>SECURITY_DELAY</th><th>AIRLINE_DELAY</th><th>LATE_AIRCRAFT_DELAY</th><th>WEATHER_DELAY</th></tr><tr><td>i64</td><td>i64</td><td>i64</td><td>i64</td><td>i64</td><td>i64</td><td>i64</td><td>i64</td><td>i64</td><td>i64</td><td>i64</td><td>i64</td><td>i64</td><td>i64</td><td>i64</td><td>i64</td><td>i64</td><td>i64</td><td>i64</td></tr></thead><tbody><tr><td>5</td><td>2354</td><td>-11</td><td>21</td><td>15</td><td>205</td><td>194</td><td>169</td><td>1448</td><td>404</td><td>4</td><td>430</td><td>408</td><td>-22</td><td>0</td><td>0</td><td>0</td><td>0</td><td>0</td></tr><tr><td>10</td><td>2</td><td>-8</td><td>12</td><td>14</td><td>280</td><td>279</td><td>263</td><td>2330</td><td>737</td><td>4</td><td>750</td><td>741</td><td>-9</td><td>0</td><td>0</td><td>0</td><td>0</td><td>0</td></tr><tr><td>20</td><td>18</td><td>-2</td><td>16</td><td>34</td><td>286</td><td>293</td><td>266</td><td>2296</td><td>800</td><td>11</td><td>806</td><td>811</td><td>5</td><td>0</td><td>0</td><td>0</td><td>0</td><td>0</td></tr><tr><td>20</td><td>15</td><td>-5</td><td>15</td><td>30</td><td>285</td><td>281</td><td>258</td><td>2342</td><td>748</td><td>8</td><td>805</td><td>756</td><td>-9</td><td>0</td><td>0</td><td>0</td><td>0</td><td>0</td></tr><tr><td>25</td><td>24</td><td>-1</td><td>11</td><td>35</td><td>235</td><td>215</td><td>199</td><td>1448</td><td>254</td><td>5</td><td>320</td><td>259</td><td>-21</td><td>0</td><td>0</td><td>0</td><td>0</td><td>0</td></tr><tr><td>25</td><td>20</td><td>-5</td><td>18</td><td>38</td><td>217</td><td>230</td><td>206</td><td>1589</td><td>604</td><td>6</td><td>602</td><td>610</td><td>8</td><td>0</td><td>0</td><td>0</td><td>0</td><td>0</td></tr><tr><td>25</td><td>19</td><td>-6</td><td>11</td><td>30</td><td>181</td><td>170</td><td>154</td><td>1299</td><td>504</td><td>5</td><td>526</td><td>509</td><td>-17</td><td>0</td><td>0</td><td>0</td><td>0</td><td>0</td></tr><tr><td>30</td><td>44</td><td>14</td><td>13</td><td>57</td><td>273</td><td>249</td><td>228</td><td>2125</td><td>745</td><td>8</td><td>803</td><td>753</td><td>-10</td><td>0</td><td>0</td><td>0</td><td>0</td><td>0</td></tr><tr><td>30</td><td>19</td><td>-11</td><td>17</td><td>36</td><td>195</td><td>193</td><td>173</td><td>1464</td><td>529</td><td>3</td><td>545</td><td>532</td><td>-13</td><td>0</td><td>0</td><td>0</td><td>0</td><td>0</td></tr><tr><td>30</td><td>33</td><td>3</td><td>12</td><td>45</td><td>221</td><td>203</td><td>186</td><td>1747</td><td>651</td><td>5</td><td>711</td><td>656</td><td>-15</td><td>0</td><td>0</td><td>0</td><td>0</td><td>0</td></tr><tr><td>30</td><td>24</td><td>-6</td><td>12</td><td>36</td><td>173</td><td>149</td><td>133</td><td>1199</td><td>449</td><td>4</td><td>523</td><td>453</td><td>-30</td><td>0</td><td>0</td><td>0</td><td>0</td><td>0</td></tr><tr><td>35</td><td>27</td><td>-8</td><td>21</td><td>48</td><td>268</td><td>266</td><td>238</td><td>2174</td><td>746</td><td>7</td><td>803</td><td>753</td><td>-10</td><td>0</td><td>0</td><td>0</td><td>0</td><td>0</td></tr><tr><td>&hellip;</td><td>&hellip;</td><td>&hellip;</td><td>&hellip;</td><td>&hellip;</td><td>&hellip;</td><td>&hellip;</td><td>&hellip;</td><td>&hellip;</td><td>&hellip;</td><td>&hellip;</td><td>&hellip;</td><td>&hellip;</td><td>&hellip;</td><td>&hellip;</td><td>&hellip;</td><td>&hellip;</td><td>&hellip;</td><td>&hellip;</td></tr><tr><td>2359</td><td>2351</td><td>-8</td><td>18</td><td>9</td><td>224</td><td>214</td><td>190</td><td>1709</td><td>519</td><td>6</td><td>543</td><td>525</td><td>-18</td><td>0</td><td>0</td><td>0</td><td>0</td><td>0</td></tr><tr><td>2359</td><td>2358</td><td>-1</td><td>23</td><td>21</td><td>244</td><td>226</td><td>198</td><td>1744</td><td>539</td><td>5</td><td>603</td><td>544</td><td>-19</td><td>0</td><td>0</td><td>0</td><td>0</td><td>0</td></tr><tr><td>2359</td><td>238</td><td>159</td><td>34</td><td>312</td><td>282</td><td>282</td><td>243</td><td>2248</td><td>1015</td><td>5</td><td>741</td><td>1020</td><td>159</td><td>0</td><td>0</td><td>159</td><td>0</td><td>0</td></tr><tr><td>2359</td><td>2359</td><td>0</td><td>12</td><td>11</td><td>306</td><td>285</td><td>268</td><td>2411</td><td>739</td><td>5</td><td>805</td><td>744</td><td>-21</td><td>0</td><td>0</td><td>0</td><td>0</td><td>0</td></tr><tr><td>2359</td><td>15</td><td>16</td><td>14</td><td>29</td><td>249</td><td>250</td><td>211</td><td>1931</td><td>600</td><td>25</td><td>608</td><td>625</td><td>17</td><td>1</td><td>0</td><td>16</td><td>0</td><td>0</td></tr><tr><td>2359</td><td>6</td><td>7</td><td>13</td><td>19</td><td>211</td><td>193</td><td>173</td><td>1626</td><td>512</td><td>7</td><td>530</td><td>519</td><td>-11</td><td>0</td><td>0</td><td>0</td><td>0</td><td>0</td></tr><tr><td>2359</td><td>15</td><td>16</td><td>9</td><td>24</td><td>227</td><td>214</td><td>190</td><td>1826</td><td>534</td><td>15</td><td>546</td><td>549</td><td>3</td><td>0</td><td>0</td><td>0</td><td>0</td><td>0</td></tr><tr><td>2359</td><td>2355</td><td>-4</td><td>22</td><td>17</td><td>320</td><td>298</td><td>272</td><td>2611</td><td>749</td><td>4</td><td>819</td><td>753</td><td>-26</td><td>0</td><td>0</td><td>0</td><td>0</td><td>0</td></tr><tr><td>2359</td><td>2355</td><td>-4</td><td>17</td><td>12</td><td>227</td><td>215</td><td>195</td><td>1617</td><td>427</td><td>3</td><td>446</td><td>430</td><td>-16</td><td>0</td><td>0</td><td>0</td><td>0</td><td>0</td></tr><tr><td>2359</td><td>2350</td><td>-9</td><td>17</td><td>7</td><td>221</td><td>222</td><td>197</td><td>1598</td><td>424</td><td>8</td><td>440</td><td>432</td><td>-8</td><td>0</td><td>0</td><td>0</td><td>0</td><td>0</td></tr><tr><td>2359</td><td>2353</td><td>-6</td><td>10</td><td>3</td><td>161</td><td>157</td><td>144</td><td>1189</td><td>327</td><td>3</td><td>340</td><td>330</td><td>-10</td><td>0</td><td>0</td><td>0</td><td>0</td><td>0</td></tr><tr><td>2359</td><td>14</td><td>15</td><td>14</td><td>28</td><td>221</td><td>208</td><td>189</td><td>1576</td><td>437</td><td>5</td><td>440</td><td>442</td><td>2</td><td>0</td><td>0</td><td>0</td><td>0</td><td>0</td></tr></tbody></table></div>"
      ],
      "text/plain": [
       "shape: (5_819_079, 19)\n",
       "┌──────────────┬──────────────┬──────────────┬──────────┬───┬──────────────┬──────────────┬──────────────┬─────────────┐\n",
       "│ SCHEDULED_DE ┆ DEPARTURE_TI ┆ DEPARTURE_DE ┆ TAXI_OUT ┆ … ┆ SECURITY_DEL ┆ AIRLINE_DELA ┆ LATE_AIRCRAF ┆ WEATHER_DEL │\n",
       "│ PARTURE      ┆ ME           ┆ LAY          ┆ ---      ┆   ┆ AY           ┆ Y            ┆ T_DELAY      ┆ AY          │\n",
       "│ ---          ┆ ---          ┆ ---          ┆ i64      ┆   ┆ ---          ┆ ---          ┆ ---          ┆ ---         │\n",
       "│ i64          ┆ i64          ┆ i64          ┆          ┆   ┆ i64          ┆ i64          ┆ i64          ┆ i64         │\n",
       "╞══════════════╪══════════════╪══════════════╪══════════╪═══╪══════════════╪══════════════╪══════════════╪═════════════╡\n",
       "│ 5            ┆ 2354         ┆ -11          ┆ 21       ┆ … ┆ 0            ┆ 0            ┆ 0            ┆ 0           │\n",
       "│ 10           ┆ 2            ┆ -8           ┆ 12       ┆ … ┆ 0            ┆ 0            ┆ 0            ┆ 0           │\n",
       "│ 20           ┆ 18           ┆ -2           ┆ 16       ┆ … ┆ 0            ┆ 0            ┆ 0            ┆ 0           │\n",
       "│ 20           ┆ 15           ┆ -5           ┆ 15       ┆ … ┆ 0            ┆ 0            ┆ 0            ┆ 0           │\n",
       "│ …            ┆ …            ┆ …            ┆ …        ┆ … ┆ …            ┆ …            ┆ …            ┆ …           │\n",
       "│ 2359         ┆ 2355         ┆ -4           ┆ 17       ┆ … ┆ 0            ┆ 0            ┆ 0            ┆ 0           │\n",
       "│ 2359         ┆ 2350         ┆ -9           ┆ 17       ┆ … ┆ 0            ┆ 0            ┆ 0            ┆ 0           │\n",
       "│ 2359         ┆ 2353         ┆ -6           ┆ 10       ┆ … ┆ 0            ┆ 0            ┆ 0            ┆ 0           │\n",
       "│ 2359         ┆ 14           ┆ 15           ┆ 14       ┆ … ┆ 0            ┆ 0            ┆ 0            ┆ 0           │\n",
       "└──────────────┴──────────────┴──────────────┴──────────┴───┴──────────────┴──────────────┴──────────────┴─────────────┘"
      ]
     },
     "execution_count": 303,
     "metadata": {},
     "output_type": "execute_result"
    }
   ],
   "source": [
    "flight_df_.select(pl.col(TIME_COLUMNS).map_elements(lambda x: time_casting(x,))"
   ]
  },
  {
   "cell_type": "code",
   "execution_count": 444,
   "id": "1efca585",
   "metadata": {},
   "outputs": [
    {
     "data": {
      "text/html": [
       "<div><style>\n",
       ".dataframe > thead > tr,\n",
       ".dataframe > tbody > tr {\n",
       "  text-align: right;\n",
       "  white-space: pre-wrap;\n",
       "}\n",
       "</style>\n",
       "<small>shape: (5_819_079, 41)</small><table border=\"1\" class=\"dataframe\"><thead><tr><th>YEAR</th><th>MONTH</th><th>DAY</th><th>DAY_OF_WEEK</th><th>AIRLINE</th><th>FLIGHT_NUMBER</th><th>TAIL_NUMBER</th><th>ORIGIN_AIRPORT</th><th>DESTINATION_AIRPORT</th><th>SCHEDULED_DEPARTURE</th><th>DEPARTURE_TIME</th><th>DEPARTURE_DELAY</th><th>TAXI_OUT</th><th>WHEELS_OFF</th><th>SCHEDULED_TIME</th><th>ELAPSED_TIME</th><th>AIR_TIME</th><th>DISTANCE</th><th>WHEELS_ON</th><th>TAXI_IN</th><th>SCHEDULED_ARRIVAL</th><th>ARRIVAL_TIME</th><th>ARRIVAL_DELAY</th><th>DIVERTED</th><th>CANCELLED</th><th>CANCELLATION_REASON</th><th>AIR_SYSTEM_DELAY</th><th>SECURITY_DELAY</th><th>AIRLINE_DELAY</th><th>LATE_AIRCRAFT_DELAY</th><th>WEATHER_DELAY</th><th>AIRPORT</th><th>CITY</th><th>STATE</th><th>COUNTRY</th><th>LATITUDE</th><th>LONGITUDE</th><th>Date</th><th>ROUTE</th><th>z_score_distance</th><th>airtimeH</th></tr><tr><td>i64</td><td>i64</td><td>i64</td><td>i64</td><td>str</td><td>i64</td><td>str</td><td>str</td><td>str</td><td>str</td><td>str</td><td>i64</td><td>i64</td><td>i64</td><td>i64</td><td>i64</td><td>i64</td><td>i64</td><td>i64</td><td>i64</td><td>i64</td><td>i64</td><td>i64</td><td>i64</td><td>i64</td><td>str</td><td>i64</td><td>i64</td><td>i64</td><td>i64</td><td>i64</td><td>str</td><td>str</td><td>str</td><td>str</td><td>f64</td><td>f64</td><td>date</td><td>str</td><td>f64</td><td>f64</td></tr></thead><tbody><tr><td>2015</td><td>1</td><td>1</td><td>4</td><td>&quot;AS&quot;</td><td>98</td><td>&quot;N407AS&quot;</td><td>&quot;ANC&quot;</td><td>&quot;SEA&quot;</td><td>&quot;00:05&quot;</td><td>&quot;23:54&quot;</td><td>-11</td><td>21</td><td>15</td><td>205</td><td>194</td><td>169</td><td>1448</td><td>404</td><td>4</td><td>430</td><td>408</td><td>-22</td><td>0</td><td>0</td><td>&quot;0&quot;</td><td>0</td><td>0</td><td>0</td><td>0</td><td>0</td><td>&quot;Ted Stevens An…</td><td>&quot;Anchorage&quot;</td><td>&quot;AK&quot;</td><td>&quot;USA&quot;</td><td>61.17432</td><td>-149.99619</td><td>2015-01-01</td><td>&quot;ANC_SEA&quot;</td><td>1.029384</td><td>2.816667</td></tr><tr><td>2015</td><td>1</td><td>1</td><td>4</td><td>&quot;AA&quot;</td><td>2336</td><td>&quot;N3KUAA&quot;</td><td>&quot;LAX&quot;</td><td>&quot;PBI&quot;</td><td>&quot;00:10&quot;</td><td>&quot;00:02&quot;</td><td>-8</td><td>12</td><td>14</td><td>280</td><td>279</td><td>263</td><td>2330</td><td>737</td><td>4</td><td>750</td><td>741</td><td>-9</td><td>0</td><td>0</td><td>&quot;0&quot;</td><td>0</td><td>0</td><td>0</td><td>0</td><td>0</td><td>&quot;Los Angeles In…</td><td>&quot;Los Angeles&quot;</td><td>&quot;CA&quot;</td><td>&quot;USA&quot;</td><td>33.94254</td><td>-118.40807</td><td>2015-01-01</td><td>&quot;LAX_PBI&quot;</td><td>2.480557</td><td>4.383333</td></tr><tr><td>2015</td><td>1</td><td>1</td><td>4</td><td>&quot;US&quot;</td><td>840</td><td>&quot;N171US&quot;</td><td>&quot;SFO&quot;</td><td>&quot;CLT&quot;</td><td>&quot;00:20&quot;</td><td>&quot;00:18&quot;</td><td>-2</td><td>16</td><td>34</td><td>286</td><td>293</td><td>266</td><td>2296</td><td>800</td><td>11</td><td>806</td><td>811</td><td>5</td><td>0</td><td>0</td><td>&quot;0&quot;</td><td>0</td><td>0</td><td>0</td><td>0</td><td>0</td><td>&quot;San Francisco …</td><td>&quot;San Francisco&quot;</td><td>&quot;CA&quot;</td><td>&quot;USA&quot;</td><td>37.619</td><td>-122.37484</td><td>2015-01-01</td><td>&quot;SFO_CLT&quot;</td><td>2.424616</td><td>4.433333</td></tr><tr><td>2015</td><td>1</td><td>1</td><td>4</td><td>&quot;AA&quot;</td><td>258</td><td>&quot;N3HYAA&quot;</td><td>&quot;LAX&quot;</td><td>&quot;MIA&quot;</td><td>&quot;00:20&quot;</td><td>&quot;00:15&quot;</td><td>-5</td><td>15</td><td>30</td><td>285</td><td>281</td><td>258</td><td>2342</td><td>748</td><td>8</td><td>805</td><td>756</td><td>-9</td><td>0</td><td>0</td><td>&quot;0&quot;</td><td>0</td><td>0</td><td>0</td><td>0</td><td>0</td><td>&quot;Los Angeles In…</td><td>&quot;Los Angeles&quot;</td><td>&quot;CA&quot;</td><td>&quot;USA&quot;</td><td>33.94254</td><td>-118.40807</td><td>2015-01-01</td><td>&quot;LAX_MIA&quot;</td><td>2.500301</td><td>4.3</td></tr><tr><td>2015</td><td>1</td><td>1</td><td>4</td><td>&quot;AS&quot;</td><td>135</td><td>&quot;N527AS&quot;</td><td>&quot;SEA&quot;</td><td>&quot;ANC&quot;</td><td>&quot;00:25&quot;</td><td>&quot;00:24&quot;</td><td>-1</td><td>11</td><td>35</td><td>235</td><td>215</td><td>199</td><td>1448</td><td>254</td><td>5</td><td>320</td><td>259</td><td>-21</td><td>0</td><td>0</td><td>&quot;0&quot;</td><td>0</td><td>0</td><td>0</td><td>0</td><td>0</td><td>&quot;Seattle-Tacoma…</td><td>&quot;Seattle&quot;</td><td>&quot;WA&quot;</td><td>&quot;USA&quot;</td><td>47.44898</td><td>-122.30931</td><td>2015-01-01</td><td>&quot;SEA_ANC&quot;</td><td>1.029384</td><td>3.316667</td></tr><tr><td>2015</td><td>1</td><td>1</td><td>4</td><td>&quot;DL&quot;</td><td>806</td><td>&quot;N3730B&quot;</td><td>&quot;SFO&quot;</td><td>&quot;MSP&quot;</td><td>&quot;00:25&quot;</td><td>&quot;00:20&quot;</td><td>-5</td><td>18</td><td>38</td><td>217</td><td>230</td><td>206</td><td>1589</td><td>604</td><td>6</td><td>602</td><td>610</td><td>8</td><td>0</td><td>0</td><td>&quot;0&quot;</td><td>0</td><td>0</td><td>0</td><td>0</td><td>0</td><td>&quot;San Francisco …</td><td>&quot;San Francisco&quot;</td><td>&quot;CA&quot;</td><td>&quot;USA&quot;</td><td>37.619</td><td>-122.37484</td><td>2015-01-01</td><td>&quot;SFO_MSP&quot;</td><td>1.261374</td><td>3.433333</td></tr><tr><td>2015</td><td>1</td><td>1</td><td>4</td><td>&quot;NK&quot;</td><td>612</td><td>&quot;N635NK&quot;</td><td>&quot;LAS&quot;</td><td>&quot;MSP&quot;</td><td>&quot;00:25&quot;</td><td>&quot;00:19&quot;</td><td>-6</td><td>11</td><td>30</td><td>181</td><td>170</td><td>154</td><td>1299</td><td>504</td><td>5</td><td>526</td><td>509</td><td>-17</td><td>0</td><td>0</td><td>&quot;0&quot;</td><td>0</td><td>0</td><td>0</td><td>0</td><td>0</td><td>&quot;McCarran Inter…</td><td>&quot;Las Vegas&quot;</td><td>&quot;NV&quot;</td><td>&quot;USA&quot;</td><td>36.08036</td><td>-115.15233</td><td>2015-01-01</td><td>&quot;LAS_MSP&quot;</td><td>0.784231</td><td>2.566667</td></tr><tr><td>2015</td><td>1</td><td>1</td><td>4</td><td>&quot;US&quot;</td><td>2013</td><td>&quot;N584UW&quot;</td><td>&quot;LAX&quot;</td><td>&quot;CLT&quot;</td><td>&quot;00:30&quot;</td><td>&quot;00:44&quot;</td><td>14</td><td>13</td><td>57</td><td>273</td><td>249</td><td>228</td><td>2125</td><td>745</td><td>8</td><td>803</td><td>753</td><td>-10</td><td>0</td><td>0</td><td>&quot;0&quot;</td><td>0</td><td>0</td><td>0</td><td>0</td><td>0</td><td>&quot;Los Angeles In…</td><td>&quot;Los Angeles&quot;</td><td>&quot;CA&quot;</td><td>&quot;USA&quot;</td><td>33.94254</td><td>-118.40807</td><td>2015-01-01</td><td>&quot;LAX_CLT&quot;</td><td>2.143266</td><td>3.8</td></tr><tr><td>2015</td><td>1</td><td>1</td><td>4</td><td>&quot;AA&quot;</td><td>1112</td><td>&quot;N3LAAA&quot;</td><td>&quot;SFO&quot;</td><td>&quot;DFW&quot;</td><td>&quot;00:30&quot;</td><td>&quot;00:19&quot;</td><td>-11</td><td>17</td><td>36</td><td>195</td><td>193</td><td>173</td><td>1464</td><td>529</td><td>3</td><td>545</td><td>532</td><td>-13</td><td>0</td><td>0</td><td>&quot;0&quot;</td><td>0</td><td>0</td><td>0</td><td>0</td><td>0</td><td>&quot;San Francisco …</td><td>&quot;San Francisco&quot;</td><td>&quot;CA&quot;</td><td>&quot;USA&quot;</td><td>37.619</td><td>-122.37484</td><td>2015-01-01</td><td>&quot;SFO_DFW&quot;</td><td>1.055709</td><td>2.883333</td></tr><tr><td>2015</td><td>1</td><td>1</td><td>4</td><td>&quot;DL&quot;</td><td>1173</td><td>&quot;N826DN&quot;</td><td>&quot;LAS&quot;</td><td>&quot;ATL&quot;</td><td>&quot;00:30&quot;</td><td>&quot;00:33&quot;</td><td>3</td><td>12</td><td>45</td><td>221</td><td>203</td><td>186</td><td>1747</td><td>651</td><td>5</td><td>711</td><td>656</td><td>-15</td><td>0</td><td>0</td><td>&quot;0&quot;</td><td>0</td><td>0</td><td>0</td><td>0</td><td>0</td><td>&quot;McCarran Inter…</td><td>&quot;Las Vegas&quot;</td><td>&quot;NV&quot;</td><td>&quot;USA&quot;</td><td>36.08036</td><td>-115.15233</td><td>2015-01-01</td><td>&quot;LAS_ATL&quot;</td><td>1.521335</td><td>3.1</td></tr><tr><td>2015</td><td>1</td><td>1</td><td>4</td><td>&quot;DL&quot;</td><td>2336</td><td>&quot;N958DN&quot;</td><td>&quot;DEN&quot;</td><td>&quot;ATL&quot;</td><td>&quot;00:30&quot;</td><td>&quot;00:24&quot;</td><td>-6</td><td>12</td><td>36</td><td>173</td><td>149</td><td>133</td><td>1199</td><td>449</td><td>4</td><td>523</td><td>453</td><td>-30</td><td>0</td><td>0</td><td>&quot;0&quot;</td><td>0</td><td>0</td><td>0</td><td>0</td><td>0</td><td>&quot;Denver Interna…</td><td>&quot;Denver&quot;</td><td>&quot;CO&quot;</td><td>&quot;USA&quot;</td><td>39.85841</td><td>-104.667</td><td>2015-01-01</td><td>&quot;DEN_ATL&quot;</td><td>0.619699</td><td>2.216667</td></tr><tr><td>2015</td><td>1</td><td>1</td><td>4</td><td>&quot;AA&quot;</td><td>1674</td><td>&quot;N853AA&quot;</td><td>&quot;LAS&quot;</td><td>&quot;MIA&quot;</td><td>&quot;00:35&quot;</td><td>&quot;00:27&quot;</td><td>-8</td><td>21</td><td>48</td><td>268</td><td>266</td><td>238</td><td>2174</td><td>746</td><td>7</td><td>803</td><td>753</td><td>-10</td><td>0</td><td>0</td><td>&quot;0&quot;</td><td>0</td><td>0</td><td>0</td><td>0</td><td>0</td><td>&quot;McCarran Inter…</td><td>&quot;Las Vegas&quot;</td><td>&quot;NV&quot;</td><td>&quot;USA&quot;</td><td>36.08036</td><td>-115.15233</td><td>2015-01-01</td><td>&quot;LAS_MIA&quot;</td><td>2.223887</td><td>3.966667</td></tr><tr><td>&hellip;</td><td>&hellip;</td><td>&hellip;</td><td>&hellip;</td><td>&hellip;</td><td>&hellip;</td><td>&hellip;</td><td>&hellip;</td><td>&hellip;</td><td>&hellip;</td><td>&hellip;</td><td>&hellip;</td><td>&hellip;</td><td>&hellip;</td><td>&hellip;</td><td>&hellip;</td><td>&hellip;</td><td>&hellip;</td><td>&hellip;</td><td>&hellip;</td><td>&hellip;</td><td>&hellip;</td><td>&hellip;</td><td>&hellip;</td><td>&hellip;</td><td>&hellip;</td><td>&hellip;</td><td>&hellip;</td><td>&hellip;</td><td>&hellip;</td><td>&hellip;</td><td>&hellip;</td><td>&hellip;</td><td>&hellip;</td><td>&hellip;</td><td>&hellip;</td><td>&hellip;</td><td>&hellip;</td><td>&hellip;</td><td>&hellip;</td><td>&hellip;</td></tr><tr><td>2015</td><td>12</td><td>31</td><td>4</td><td>&quot;AA&quot;</td><td>2342</td><td>&quot;N3DLAA&quot;</td><td>&quot;DEN&quot;</td><td>&quot;MIA&quot;</td><td>&quot;23:59&quot;</td><td>&quot;23:51&quot;</td><td>-8</td><td>18</td><td>9</td><td>224</td><td>214</td><td>190</td><td>1709</td><td>519</td><td>6</td><td>543</td><td>525</td><td>-18</td><td>0</td><td>0</td><td>&quot;0&quot;</td><td>0</td><td>0</td><td>0</td><td>0</td><td>0</td><td>&quot;Denver Interna…</td><td>&quot;Denver&quot;</td><td>&quot;CO&quot;</td><td>&quot;USA&quot;</td><td>39.85841</td><td>-104.667</td><td>2015-12-31</td><td>&quot;DEN_MIA&quot;</td><td>1.458813</td><td>3.166667</td></tr><tr><td>2015</td><td>12</td><td>31</td><td>4</td><td>&quot;AA&quot;</td><td>219</td><td>&quot;N3LYAA&quot;</td><td>&quot;LAX&quot;</td><td>&quot;ORD&quot;</td><td>&quot;23:59&quot;</td><td>&quot;23:58&quot;</td><td>-1</td><td>23</td><td>21</td><td>244</td><td>226</td><td>198</td><td>1744</td><td>539</td><td>5</td><td>603</td><td>544</td><td>-19</td><td>0</td><td>0</td><td>&quot;0&quot;</td><td>0</td><td>0</td><td>0</td><td>0</td><td>0</td><td>&quot;Los Angeles In…</td><td>&quot;Los Angeles&quot;</td><td>&quot;CA&quot;</td><td>&quot;USA&quot;</td><td>33.94254</td><td>-118.40807</td><td>2015-12-31</td><td>&quot;LAX_ORD&quot;</td><td>1.516399</td><td>3.3</td></tr><tr><td>2015</td><td>12</td><td>31</td><td>4</td><td>&quot;B6&quot;</td><td>1248</td><td>&quot;N948JB&quot;</td><td>&quot;LAS&quot;</td><td>&quot;JFK&quot;</td><td>&quot;23:59&quot;</td><td>&quot;23:8&quot;</td><td>159</td><td>34</td><td>312</td><td>282</td><td>282</td><td>243</td><td>2248</td><td>1015</td><td>5</td><td>741</td><td>1020</td><td>159</td><td>0</td><td>0</td><td>&quot;0&quot;</td><td>0</td><td>0</td><td>159</td><td>0</td><td>0</td><td>&quot;McCarran Inter…</td><td>&quot;Las Vegas&quot;</td><td>&quot;NV&quot;</td><td>&quot;USA&quot;</td><td>36.08036</td><td>-115.15233</td><td>2015-12-31</td><td>&quot;LAS_JFK&quot;</td><td>2.345641</td><td>4.05</td></tr><tr><td>2015</td><td>12</td><td>31</td><td>4</td><td>&quot;B6&quot;</td><td>80</td><td>&quot;N584JB&quot;</td><td>&quot;RNO&quot;</td><td>&quot;JFK&quot;</td><td>&quot;23:59&quot;</td><td>&quot;23:59&quot;</td><td>0</td><td>12</td><td>11</td><td>306</td><td>285</td><td>268</td><td>2411</td><td>739</td><td>5</td><td>805</td><td>744</td><td>-21</td><td>0</td><td>0</td><td>&quot;0&quot;</td><td>0</td><td>0</td><td>0</td><td>0</td><td>0</td><td>&quot;Reno/Tahoe Int…</td><td>&quot;Reno&quot;</td><td>&quot;NV&quot;</td><td>&quot;USA&quot;</td><td>39.49858</td><td>-119.76806</td><td>2015-12-31</td><td>&quot;RNO_JFK&quot;</td><td>2.613828</td><td>4.466667</td></tr><tr><td>2015</td><td>12</td><td>31</td><td>4</td><td>&quot;B6&quot;</td><td>802</td><td>&quot;N589JB&quot;</td><td>&quot;SLC&quot;</td><td>&quot;MCO&quot;</td><td>&quot;23:59&quot;</td><td>&quot;00:15&quot;</td><td>16</td><td>14</td><td>29</td><td>249</td><td>250</td><td>211</td><td>1931</td><td>600</td><td>25</td><td>608</td><td>625</td><td>17</td><td>0</td><td>0</td><td>&quot;0&quot;</td><td>1</td><td>0</td><td>16</td><td>0</td><td>0</td><td>&quot;Salt Lake City…</td><td>&quot;Salt Lake City…</td><td>&quot;UT&quot;</td><td>&quot;USA&quot;</td><td>40.78839</td><td>-111.97777</td><td>2015-12-31</td><td>&quot;SLC_MCO&quot;</td><td>1.824074</td><td>3.516667</td></tr><tr><td>2015</td><td>12</td><td>31</td><td>4</td><td>&quot;B6&quot;</td><td>98</td><td>&quot;N607JB&quot;</td><td>&quot;DEN&quot;</td><td>&quot;JFK&quot;</td><td>&quot;23:59&quot;</td><td>&quot;00:06&quot;</td><td>7</td><td>13</td><td>19</td><td>211</td><td>193</td><td>173</td><td>1626</td><td>512</td><td>7</td><td>530</td><td>519</td><td>-11</td><td>0</td><td>0</td><td>&quot;0&quot;</td><td>0</td><td>0</td><td>0</td><td>0</td><td>0</td><td>&quot;Denver Interna…</td><td>&quot;Denver&quot;</td><td>&quot;CO&quot;</td><td>&quot;USA&quot;</td><td>39.85841</td><td>-104.667</td><td>2015-12-31</td><td>&quot;DEN_JFK&quot;</td><td>1.322251</td><td>2.883333</td></tr><tr><td>2015</td><td>12</td><td>31</td><td>4</td><td>&quot;B6&quot;</td><td>66</td><td>&quot;N655JB&quot;</td><td>&quot;ABQ&quot;</td><td>&quot;JFK&quot;</td><td>&quot;23:59&quot;</td><td>&quot;00:15&quot;</td><td>16</td><td>9</td><td>24</td><td>227</td><td>214</td><td>190</td><td>1826</td><td>534</td><td>15</td><td>546</td><td>549</td><td>3</td><td>0</td><td>0</td><td>&quot;0&quot;</td><td>0</td><td>0</td><td>0</td><td>0</td><td>0</td><td>&quot;Albuquerque In…</td><td>&quot;Albuquerque&quot;</td><td>&quot;NM&quot;</td><td>&quot;USA&quot;</td><td>35.04022</td><td>-106.60919</td><td>2015-12-31</td><td>&quot;ABQ_JFK&quot;</td><td>1.651315</td><td>3.166667</td></tr><tr><td>2015</td><td>12</td><td>31</td><td>4</td><td>&quot;B6&quot;</td><td>688</td><td>&quot;N657JB&quot;</td><td>&quot;LAX&quot;</td><td>&quot;BOS&quot;</td><td>&quot;23:59&quot;</td><td>&quot;23:55&quot;</td><td>-4</td><td>22</td><td>17</td><td>320</td><td>298</td><td>272</td><td>2611</td><td>749</td><td>4</td><td>819</td><td>753</td><td>-26</td><td>0</td><td>0</td><td>&quot;0&quot;</td><td>0</td><td>0</td><td>0</td><td>0</td><td>0</td><td>&quot;Los Angeles In…</td><td>&quot;Los Angeles&quot;</td><td>&quot;CA&quot;</td><td>&quot;USA&quot;</td><td>33.94254</td><td>-118.40807</td><td>2015-12-31</td><td>&quot;LAX_BOS&quot;</td><td>2.942892</td><td>4.533333</td></tr><tr><td>2015</td><td>12</td><td>31</td><td>4</td><td>&quot;B6&quot;</td><td>745</td><td>&quot;N828JB&quot;</td><td>&quot;JFK&quot;</td><td>&quot;PSE&quot;</td><td>&quot;23:59&quot;</td><td>&quot;23:55&quot;</td><td>-4</td><td>17</td><td>12</td><td>227</td><td>215</td><td>195</td><td>1617</td><td>427</td><td>3</td><td>446</td><td>430</td><td>-16</td><td>0</td><td>0</td><td>&quot;0&quot;</td><td>0</td><td>0</td><td>0</td><td>0</td><td>0</td><td>&quot;John F. Kenned…</td><td>&quot;New York&quot;</td><td>&quot;NY&quot;</td><td>&quot;USA&quot;</td><td>40.63975</td><td>-73.77893</td><td>2015-12-31</td><td>&quot;JFK_PSE&quot;</td><td>1.307443</td><td>3.25</td></tr><tr><td>2015</td><td>12</td><td>31</td><td>4</td><td>&quot;B6&quot;</td><td>1503</td><td>&quot;N913JB&quot;</td><td>&quot;JFK&quot;</td><td>&quot;SJU&quot;</td><td>&quot;23:59&quot;</td><td>&quot;23:50&quot;</td><td>-9</td><td>17</td><td>7</td><td>221</td><td>222</td><td>197</td><td>1598</td><td>424</td><td>8</td><td>440</td><td>432</td><td>-8</td><td>0</td><td>0</td><td>&quot;0&quot;</td><td>0</td><td>0</td><td>0</td><td>0</td><td>0</td><td>&quot;John F. Kenned…</td><td>&quot;New York&quot;</td><td>&quot;NY&quot;</td><td>&quot;USA&quot;</td><td>40.63975</td><td>-73.77893</td><td>2015-12-31</td><td>&quot;JFK_SJU&quot;</td><td>1.276182</td><td>3.283333</td></tr><tr><td>2015</td><td>12</td><td>31</td><td>4</td><td>&quot;B6&quot;</td><td>333</td><td>&quot;N527JB&quot;</td><td>&quot;MCO&quot;</td><td>&quot;SJU&quot;</td><td>&quot;23:59&quot;</td><td>&quot;23:53&quot;</td><td>-6</td><td>10</td><td>3</td><td>161</td><td>157</td><td>144</td><td>1189</td><td>327</td><td>3</td><td>340</td><td>330</td><td>-10</td><td>0</td><td>0</td><td>&quot;0&quot;</td><td>0</td><td>0</td><td>0</td><td>0</td><td>0</td><td>&quot;Orlando Intern…</td><td>&quot;Orlando&quot;</td><td>&quot;FL&quot;</td><td>&quot;USA&quot;</td><td>28.42889</td><td>-81.31603</td><td>2015-12-31</td><td>&quot;MCO_SJU&quot;</td><td>0.603246</td><td>2.4</td></tr><tr><td>2015</td><td>12</td><td>31</td><td>4</td><td>&quot;B6&quot;</td><td>839</td><td>&quot;N534JB&quot;</td><td>&quot;JFK&quot;</td><td>&quot;BQN&quot;</td><td>&quot;23:59&quot;</td><td>&quot;00:14&quot;</td><td>15</td><td>14</td><td>28</td><td>221</td><td>208</td><td>189</td><td>1576</td><td>437</td><td>5</td><td>440</td><td>442</td><td>2</td><td>0</td><td>0</td><td>&quot;0&quot;</td><td>0</td><td>0</td><td>0</td><td>0</td><td>0</td><td>&quot;John F. Kenned…</td><td>&quot;New York&quot;</td><td>&quot;NY&quot;</td><td>&quot;USA&quot;</td><td>40.63975</td><td>-73.77893</td><td>2015-12-31</td><td>&quot;JFK_BQN&quot;</td><td>1.239985</td><td>3.15</td></tr></tbody></table></div>"
      ],
      "text/plain": [
       "shape: (5_819_079, 41)\n",
       "┌──────┬───────┬─────┬─────────────┬───┬────────────┬─────────┬──────────────────┬──────────┐\n",
       "│ YEAR ┆ MONTH ┆ DAY ┆ DAY_OF_WEEK ┆ … ┆ Date       ┆ ROUTE   ┆ z_score_distance ┆ airtimeH │\n",
       "│ ---  ┆ ---   ┆ --- ┆ ---         ┆   ┆ ---        ┆ ---     ┆ ---              ┆ ---      │\n",
       "│ i64  ┆ i64   ┆ i64 ┆ i64         ┆   ┆ date       ┆ str     ┆ f64              ┆ f64      │\n",
       "╞══════╪═══════╪═════╪═════════════╪═══╪════════════╪═════════╪══════════════════╪══════════╡\n",
       "│ 2015 ┆ 1     ┆ 1   ┆ 4           ┆ … ┆ 2015-01-01 ┆ ANC_SEA ┆ 1.029384         ┆ 2.816667 │\n",
       "│ 2015 ┆ 1     ┆ 1   ┆ 4           ┆ … ┆ 2015-01-01 ┆ LAX_PBI ┆ 2.480557         ┆ 4.383333 │\n",
       "│ 2015 ┆ 1     ┆ 1   ┆ 4           ┆ … ┆ 2015-01-01 ┆ SFO_CLT ┆ 2.424616         ┆ 4.433333 │\n",
       "│ 2015 ┆ 1     ┆ 1   ┆ 4           ┆ … ┆ 2015-01-01 ┆ LAX_MIA ┆ 2.500301         ┆ 4.3      │\n",
       "│ …    ┆ …     ┆ …   ┆ …           ┆ … ┆ …          ┆ …       ┆ …                ┆ …        │\n",
       "│ 2015 ┆ 12    ┆ 31  ┆ 4           ┆ … ┆ 2015-12-31 ┆ JFK_PSE ┆ 1.307443         ┆ 3.25     │\n",
       "│ 2015 ┆ 12    ┆ 31  ┆ 4           ┆ … ┆ 2015-12-31 ┆ JFK_SJU ┆ 1.276182         ┆ 3.283333 │\n",
       "│ 2015 ┆ 12    ┆ 31  ┆ 4           ┆ … ┆ 2015-12-31 ┆ MCO_SJU ┆ 0.603246         ┆ 2.4      │\n",
       "│ 2015 ┆ 12    ┆ 31  ┆ 4           ┆ … ┆ 2015-12-31 ┆ JFK_BQN ┆ 1.239985         ┆ 3.15     │\n",
       "└──────┴───────┴─────┴─────────────┴───┴────────────┴─────────┴──────────────────┴──────────┘"
      ]
     },
     "execution_count": 444,
     "metadata": {},
     "output_type": "execute_result"
    }
   ],
   "source": [
    "data_2 = data_2.with_columns(airtimeH = pl.col('AIR_TIME')/60)\n",
    "data_2"
   ]
  },
  {
   "cell_type": "code",
   "execution_count": 445,
   "id": "84767b39",
   "metadata": {},
   "outputs": [
    {
     "data": {
      "text/html": [
       "<div><style>\n",
       ".dataframe > thead > tr,\n",
       ".dataframe > tbody > tr {\n",
       "  text-align: right;\n",
       "  white-space: pre-wrap;\n",
       "}\n",
       "</style>\n",
       "<small>shape: (5_819_079, 42)</small><table border=\"1\" class=\"dataframe\"><thead><tr><th>YEAR</th><th>MONTH</th><th>DAY</th><th>DAY_OF_WEEK</th><th>AIRLINE</th><th>FLIGHT_NUMBER</th><th>TAIL_NUMBER</th><th>ORIGIN_AIRPORT</th><th>DESTINATION_AIRPORT</th><th>SCHEDULED_DEPARTURE</th><th>DEPARTURE_TIME</th><th>DEPARTURE_DELAY</th><th>TAXI_OUT</th><th>WHEELS_OFF</th><th>SCHEDULED_TIME</th><th>ELAPSED_TIME</th><th>AIR_TIME</th><th>DISTANCE</th><th>WHEELS_ON</th><th>TAXI_IN</th><th>SCHEDULED_ARRIVAL</th><th>ARRIVAL_TIME</th><th>ARRIVAL_DELAY</th><th>DIVERTED</th><th>CANCELLED</th><th>CANCELLATION_REASON</th><th>AIR_SYSTEM_DELAY</th><th>SECURITY_DELAY</th><th>AIRLINE_DELAY</th><th>LATE_AIRCRAFT_DELAY</th><th>WEATHER_DELAY</th><th>AIRPORT</th><th>CITY</th><th>STATE</th><th>COUNTRY</th><th>LATITUDE</th><th>LONGITUDE</th><th>Date</th><th>ROUTE</th><th>z_score_distance</th><th>airtimeH</th><th>speedkmh</th></tr><tr><td>i64</td><td>i64</td><td>i64</td><td>i64</td><td>str</td><td>i64</td><td>str</td><td>str</td><td>str</td><td>str</td><td>str</td><td>i64</td><td>i64</td><td>i64</td><td>i64</td><td>i64</td><td>i64</td><td>i64</td><td>i64</td><td>i64</td><td>i64</td><td>i64</td><td>i64</td><td>i64</td><td>i64</td><td>str</td><td>i64</td><td>i64</td><td>i64</td><td>i64</td><td>i64</td><td>str</td><td>str</td><td>str</td><td>str</td><td>f64</td><td>f64</td><td>date</td><td>str</td><td>f64</td><td>f64</td><td>f64</td></tr></thead><tbody><tr><td>2015</td><td>1</td><td>1</td><td>4</td><td>&quot;AS&quot;</td><td>98</td><td>&quot;N407AS&quot;</td><td>&quot;ANC&quot;</td><td>&quot;SEA&quot;</td><td>&quot;00:05&quot;</td><td>&quot;23:54&quot;</td><td>-11</td><td>21</td><td>15</td><td>205</td><td>194</td><td>169</td><td>1448</td><td>404</td><td>4</td><td>430</td><td>408</td><td>-22</td><td>0</td><td>0</td><td>&quot;0&quot;</td><td>0</td><td>0</td><td>0</td><td>0</td><td>0</td><td>&quot;Ted Stevens An…</td><td>&quot;Anchorage&quot;</td><td>&quot;AK&quot;</td><td>&quot;USA&quot;</td><td>61.17432</td><td>-149.99619</td><td>2015-01-01</td><td>&quot;ANC_SEA&quot;</td><td>1.029384</td><td>2.816667</td><td>514.08284</td></tr><tr><td>2015</td><td>1</td><td>1</td><td>4</td><td>&quot;AA&quot;</td><td>2336</td><td>&quot;N3KUAA&quot;</td><td>&quot;LAX&quot;</td><td>&quot;PBI&quot;</td><td>&quot;00:10&quot;</td><td>&quot;00:02&quot;</td><td>-8</td><td>12</td><td>14</td><td>280</td><td>279</td><td>263</td><td>2330</td><td>737</td><td>4</td><td>750</td><td>741</td><td>-9</td><td>0</td><td>0</td><td>&quot;0&quot;</td><td>0</td><td>0</td><td>0</td><td>0</td><td>0</td><td>&quot;Los Angeles In…</td><td>&quot;Los Angeles&quot;</td><td>&quot;CA&quot;</td><td>&quot;USA&quot;</td><td>33.94254</td><td>-118.40807</td><td>2015-01-01</td><td>&quot;LAX_PBI&quot;</td><td>2.480557</td><td>4.383333</td><td>531.558935</td></tr><tr><td>2015</td><td>1</td><td>1</td><td>4</td><td>&quot;US&quot;</td><td>840</td><td>&quot;N171US&quot;</td><td>&quot;SFO&quot;</td><td>&quot;CLT&quot;</td><td>&quot;00:20&quot;</td><td>&quot;00:18&quot;</td><td>-2</td><td>16</td><td>34</td><td>286</td><td>293</td><td>266</td><td>2296</td><td>800</td><td>11</td><td>806</td><td>811</td><td>5</td><td>0</td><td>0</td><td>&quot;0&quot;</td><td>0</td><td>0</td><td>0</td><td>0</td><td>0</td><td>&quot;San Francisco …</td><td>&quot;San Francisco&quot;</td><td>&quot;CA&quot;</td><td>&quot;USA&quot;</td><td>37.619</td><td>-122.37484</td><td>2015-01-01</td><td>&quot;SFO_CLT&quot;</td><td>2.424616</td><td>4.433333</td><td>517.894737</td></tr><tr><td>2015</td><td>1</td><td>1</td><td>4</td><td>&quot;AA&quot;</td><td>258</td><td>&quot;N3HYAA&quot;</td><td>&quot;LAX&quot;</td><td>&quot;MIA&quot;</td><td>&quot;00:20&quot;</td><td>&quot;00:15&quot;</td><td>-5</td><td>15</td><td>30</td><td>285</td><td>281</td><td>258</td><td>2342</td><td>748</td><td>8</td><td>805</td><td>756</td><td>-9</td><td>0</td><td>0</td><td>&quot;0&quot;</td><td>0</td><td>0</td><td>0</td><td>0</td><td>0</td><td>&quot;Los Angeles In…</td><td>&quot;Los Angeles&quot;</td><td>&quot;CA&quot;</td><td>&quot;USA&quot;</td><td>33.94254</td><td>-118.40807</td><td>2015-01-01</td><td>&quot;LAX_MIA&quot;</td><td>2.500301</td><td>4.3</td><td>544.651163</td></tr><tr><td>2015</td><td>1</td><td>1</td><td>4</td><td>&quot;AS&quot;</td><td>135</td><td>&quot;N527AS&quot;</td><td>&quot;SEA&quot;</td><td>&quot;ANC&quot;</td><td>&quot;00:25&quot;</td><td>&quot;00:24&quot;</td><td>-1</td><td>11</td><td>35</td><td>235</td><td>215</td><td>199</td><td>1448</td><td>254</td><td>5</td><td>320</td><td>259</td><td>-21</td><td>0</td><td>0</td><td>&quot;0&quot;</td><td>0</td><td>0</td><td>0</td><td>0</td><td>0</td><td>&quot;Seattle-Tacoma…</td><td>&quot;Seattle&quot;</td><td>&quot;WA&quot;</td><td>&quot;USA&quot;</td><td>47.44898</td><td>-122.30931</td><td>2015-01-01</td><td>&quot;SEA_ANC&quot;</td><td>1.029384</td><td>3.316667</td><td>436.582915</td></tr><tr><td>2015</td><td>1</td><td>1</td><td>4</td><td>&quot;DL&quot;</td><td>806</td><td>&quot;N3730B&quot;</td><td>&quot;SFO&quot;</td><td>&quot;MSP&quot;</td><td>&quot;00:25&quot;</td><td>&quot;00:20&quot;</td><td>-5</td><td>18</td><td>38</td><td>217</td><td>230</td><td>206</td><td>1589</td><td>604</td><td>6</td><td>602</td><td>610</td><td>8</td><td>0</td><td>0</td><td>&quot;0&quot;</td><td>0</td><td>0</td><td>0</td><td>0</td><td>0</td><td>&quot;San Francisco …</td><td>&quot;San Francisco&quot;</td><td>&quot;CA&quot;</td><td>&quot;USA&quot;</td><td>37.619</td><td>-122.37484</td><td>2015-01-01</td><td>&quot;SFO_MSP&quot;</td><td>1.261374</td><td>3.433333</td><td>462.815534</td></tr><tr><td>2015</td><td>1</td><td>1</td><td>4</td><td>&quot;NK&quot;</td><td>612</td><td>&quot;N635NK&quot;</td><td>&quot;LAS&quot;</td><td>&quot;MSP&quot;</td><td>&quot;00:25&quot;</td><td>&quot;00:19&quot;</td><td>-6</td><td>11</td><td>30</td><td>181</td><td>170</td><td>154</td><td>1299</td><td>504</td><td>5</td><td>526</td><td>509</td><td>-17</td><td>0</td><td>0</td><td>&quot;0&quot;</td><td>0</td><td>0</td><td>0</td><td>0</td><td>0</td><td>&quot;McCarran Inter…</td><td>&quot;Las Vegas&quot;</td><td>&quot;NV&quot;</td><td>&quot;USA&quot;</td><td>36.08036</td><td>-115.15233</td><td>2015-01-01</td><td>&quot;LAS_MSP&quot;</td><td>0.784231</td><td>2.566667</td><td>506.103896</td></tr><tr><td>2015</td><td>1</td><td>1</td><td>4</td><td>&quot;US&quot;</td><td>2013</td><td>&quot;N584UW&quot;</td><td>&quot;LAX&quot;</td><td>&quot;CLT&quot;</td><td>&quot;00:30&quot;</td><td>&quot;00:44&quot;</td><td>14</td><td>13</td><td>57</td><td>273</td><td>249</td><td>228</td><td>2125</td><td>745</td><td>8</td><td>803</td><td>753</td><td>-10</td><td>0</td><td>0</td><td>&quot;0&quot;</td><td>0</td><td>0</td><td>0</td><td>0</td><td>0</td><td>&quot;Los Angeles In…</td><td>&quot;Los Angeles&quot;</td><td>&quot;CA&quot;</td><td>&quot;USA&quot;</td><td>33.94254</td><td>-118.40807</td><td>2015-01-01</td><td>&quot;LAX_CLT&quot;</td><td>2.143266</td><td>3.8</td><td>559.210526</td></tr><tr><td>2015</td><td>1</td><td>1</td><td>4</td><td>&quot;AA&quot;</td><td>1112</td><td>&quot;N3LAAA&quot;</td><td>&quot;SFO&quot;</td><td>&quot;DFW&quot;</td><td>&quot;00:30&quot;</td><td>&quot;00:19&quot;</td><td>-11</td><td>17</td><td>36</td><td>195</td><td>193</td><td>173</td><td>1464</td><td>529</td><td>3</td><td>545</td><td>532</td><td>-13</td><td>0</td><td>0</td><td>&quot;0&quot;</td><td>0</td><td>0</td><td>0</td><td>0</td><td>0</td><td>&quot;San Francisco …</td><td>&quot;San Francisco&quot;</td><td>&quot;CA&quot;</td><td>&quot;USA&quot;</td><td>37.619</td><td>-122.37484</td><td>2015-01-01</td><td>&quot;SFO_DFW&quot;</td><td>1.055709</td><td>2.883333</td><td>507.745665</td></tr><tr><td>2015</td><td>1</td><td>1</td><td>4</td><td>&quot;DL&quot;</td><td>1173</td><td>&quot;N826DN&quot;</td><td>&quot;LAS&quot;</td><td>&quot;ATL&quot;</td><td>&quot;00:30&quot;</td><td>&quot;00:33&quot;</td><td>3</td><td>12</td><td>45</td><td>221</td><td>203</td><td>186</td><td>1747</td><td>651</td><td>5</td><td>711</td><td>656</td><td>-15</td><td>0</td><td>0</td><td>&quot;0&quot;</td><td>0</td><td>0</td><td>0</td><td>0</td><td>0</td><td>&quot;McCarran Inter…</td><td>&quot;Las Vegas&quot;</td><td>&quot;NV&quot;</td><td>&quot;USA&quot;</td><td>36.08036</td><td>-115.15233</td><td>2015-01-01</td><td>&quot;LAS_ATL&quot;</td><td>1.521335</td><td>3.1</td><td>563.548387</td></tr><tr><td>2015</td><td>1</td><td>1</td><td>4</td><td>&quot;DL&quot;</td><td>2336</td><td>&quot;N958DN&quot;</td><td>&quot;DEN&quot;</td><td>&quot;ATL&quot;</td><td>&quot;00:30&quot;</td><td>&quot;00:24&quot;</td><td>-6</td><td>12</td><td>36</td><td>173</td><td>149</td><td>133</td><td>1199</td><td>449</td><td>4</td><td>523</td><td>453</td><td>-30</td><td>0</td><td>0</td><td>&quot;0&quot;</td><td>0</td><td>0</td><td>0</td><td>0</td><td>0</td><td>&quot;Denver Interna…</td><td>&quot;Denver&quot;</td><td>&quot;CO&quot;</td><td>&quot;USA&quot;</td><td>39.85841</td><td>-104.667</td><td>2015-01-01</td><td>&quot;DEN_ATL&quot;</td><td>0.619699</td><td>2.216667</td><td>540.902256</td></tr><tr><td>2015</td><td>1</td><td>1</td><td>4</td><td>&quot;AA&quot;</td><td>1674</td><td>&quot;N853AA&quot;</td><td>&quot;LAS&quot;</td><td>&quot;MIA&quot;</td><td>&quot;00:35&quot;</td><td>&quot;00:27&quot;</td><td>-8</td><td>21</td><td>48</td><td>268</td><td>266</td><td>238</td><td>2174</td><td>746</td><td>7</td><td>803</td><td>753</td><td>-10</td><td>0</td><td>0</td><td>&quot;0&quot;</td><td>0</td><td>0</td><td>0</td><td>0</td><td>0</td><td>&quot;McCarran Inter…</td><td>&quot;Las Vegas&quot;</td><td>&quot;NV&quot;</td><td>&quot;USA&quot;</td><td>36.08036</td><td>-115.15233</td><td>2015-01-01</td><td>&quot;LAS_MIA&quot;</td><td>2.223887</td><td>3.966667</td><td>548.067227</td></tr><tr><td>&hellip;</td><td>&hellip;</td><td>&hellip;</td><td>&hellip;</td><td>&hellip;</td><td>&hellip;</td><td>&hellip;</td><td>&hellip;</td><td>&hellip;</td><td>&hellip;</td><td>&hellip;</td><td>&hellip;</td><td>&hellip;</td><td>&hellip;</td><td>&hellip;</td><td>&hellip;</td><td>&hellip;</td><td>&hellip;</td><td>&hellip;</td><td>&hellip;</td><td>&hellip;</td><td>&hellip;</td><td>&hellip;</td><td>&hellip;</td><td>&hellip;</td><td>&hellip;</td><td>&hellip;</td><td>&hellip;</td><td>&hellip;</td><td>&hellip;</td><td>&hellip;</td><td>&hellip;</td><td>&hellip;</td><td>&hellip;</td><td>&hellip;</td><td>&hellip;</td><td>&hellip;</td><td>&hellip;</td><td>&hellip;</td><td>&hellip;</td><td>&hellip;</td><td>&hellip;</td></tr><tr><td>2015</td><td>12</td><td>31</td><td>4</td><td>&quot;AA&quot;</td><td>2342</td><td>&quot;N3DLAA&quot;</td><td>&quot;DEN&quot;</td><td>&quot;MIA&quot;</td><td>&quot;23:59&quot;</td><td>&quot;23:51&quot;</td><td>-8</td><td>18</td><td>9</td><td>224</td><td>214</td><td>190</td><td>1709</td><td>519</td><td>6</td><td>543</td><td>525</td><td>-18</td><td>0</td><td>0</td><td>&quot;0&quot;</td><td>0</td><td>0</td><td>0</td><td>0</td><td>0</td><td>&quot;Denver Interna…</td><td>&quot;Denver&quot;</td><td>&quot;CO&quot;</td><td>&quot;USA&quot;</td><td>39.85841</td><td>-104.667</td><td>2015-12-31</td><td>&quot;DEN_MIA&quot;</td><td>1.458813</td><td>3.166667</td><td>539.684211</td></tr><tr><td>2015</td><td>12</td><td>31</td><td>4</td><td>&quot;AA&quot;</td><td>219</td><td>&quot;N3LYAA&quot;</td><td>&quot;LAX&quot;</td><td>&quot;ORD&quot;</td><td>&quot;23:59&quot;</td><td>&quot;23:58&quot;</td><td>-1</td><td>23</td><td>21</td><td>244</td><td>226</td><td>198</td><td>1744</td><td>539</td><td>5</td><td>603</td><td>544</td><td>-19</td><td>0</td><td>0</td><td>&quot;0&quot;</td><td>0</td><td>0</td><td>0</td><td>0</td><td>0</td><td>&quot;Los Angeles In…</td><td>&quot;Los Angeles&quot;</td><td>&quot;CA&quot;</td><td>&quot;USA&quot;</td><td>33.94254</td><td>-118.40807</td><td>2015-12-31</td><td>&quot;LAX_ORD&quot;</td><td>1.516399</td><td>3.3</td><td>528.484848</td></tr><tr><td>2015</td><td>12</td><td>31</td><td>4</td><td>&quot;B6&quot;</td><td>1248</td><td>&quot;N948JB&quot;</td><td>&quot;LAS&quot;</td><td>&quot;JFK&quot;</td><td>&quot;23:59&quot;</td><td>&quot;23:8&quot;</td><td>159</td><td>34</td><td>312</td><td>282</td><td>282</td><td>243</td><td>2248</td><td>1015</td><td>5</td><td>741</td><td>1020</td><td>159</td><td>0</td><td>0</td><td>&quot;0&quot;</td><td>0</td><td>0</td><td>159</td><td>0</td><td>0</td><td>&quot;McCarran Inter…</td><td>&quot;Las Vegas&quot;</td><td>&quot;NV&quot;</td><td>&quot;USA&quot;</td><td>36.08036</td><td>-115.15233</td><td>2015-12-31</td><td>&quot;LAS_JFK&quot;</td><td>2.345641</td><td>4.05</td><td>555.061728</td></tr><tr><td>2015</td><td>12</td><td>31</td><td>4</td><td>&quot;B6&quot;</td><td>80</td><td>&quot;N584JB&quot;</td><td>&quot;RNO&quot;</td><td>&quot;JFK&quot;</td><td>&quot;23:59&quot;</td><td>&quot;23:59&quot;</td><td>0</td><td>12</td><td>11</td><td>306</td><td>285</td><td>268</td><td>2411</td><td>739</td><td>5</td><td>805</td><td>744</td><td>-21</td><td>0</td><td>0</td><td>&quot;0&quot;</td><td>0</td><td>0</td><td>0</td><td>0</td><td>0</td><td>&quot;Reno/Tahoe Int…</td><td>&quot;Reno&quot;</td><td>&quot;NV&quot;</td><td>&quot;USA&quot;</td><td>39.49858</td><td>-119.76806</td><td>2015-12-31</td><td>&quot;RNO_JFK&quot;</td><td>2.613828</td><td>4.466667</td><td>539.776119</td></tr><tr><td>2015</td><td>12</td><td>31</td><td>4</td><td>&quot;B6&quot;</td><td>802</td><td>&quot;N589JB&quot;</td><td>&quot;SLC&quot;</td><td>&quot;MCO&quot;</td><td>&quot;23:59&quot;</td><td>&quot;00:15&quot;</td><td>16</td><td>14</td><td>29</td><td>249</td><td>250</td><td>211</td><td>1931</td><td>600</td><td>25</td><td>608</td><td>625</td><td>17</td><td>0</td><td>0</td><td>&quot;0&quot;</td><td>1</td><td>0</td><td>16</td><td>0</td><td>0</td><td>&quot;Salt Lake City…</td><td>&quot;Salt Lake City…</td><td>&quot;UT&quot;</td><td>&quot;USA&quot;</td><td>40.78839</td><td>-111.97777</td><td>2015-12-31</td><td>&quot;SLC_MCO&quot;</td><td>1.824074</td><td>3.516667</td><td>549.099526</td></tr><tr><td>2015</td><td>12</td><td>31</td><td>4</td><td>&quot;B6&quot;</td><td>98</td><td>&quot;N607JB&quot;</td><td>&quot;DEN&quot;</td><td>&quot;JFK&quot;</td><td>&quot;23:59&quot;</td><td>&quot;00:06&quot;</td><td>7</td><td>13</td><td>19</td><td>211</td><td>193</td><td>173</td><td>1626</td><td>512</td><td>7</td><td>530</td><td>519</td><td>-11</td><td>0</td><td>0</td><td>&quot;0&quot;</td><td>0</td><td>0</td><td>0</td><td>0</td><td>0</td><td>&quot;Denver Interna…</td><td>&quot;Denver&quot;</td><td>&quot;CO&quot;</td><td>&quot;USA&quot;</td><td>39.85841</td><td>-104.667</td><td>2015-12-31</td><td>&quot;DEN_JFK&quot;</td><td>1.322251</td><td>2.883333</td><td>563.930636</td></tr><tr><td>2015</td><td>12</td><td>31</td><td>4</td><td>&quot;B6&quot;</td><td>66</td><td>&quot;N655JB&quot;</td><td>&quot;ABQ&quot;</td><td>&quot;JFK&quot;</td><td>&quot;23:59&quot;</td><td>&quot;00:15&quot;</td><td>16</td><td>9</td><td>24</td><td>227</td><td>214</td><td>190</td><td>1826</td><td>534</td><td>15</td><td>546</td><td>549</td><td>3</td><td>0</td><td>0</td><td>&quot;0&quot;</td><td>0</td><td>0</td><td>0</td><td>0</td><td>0</td><td>&quot;Albuquerque In…</td><td>&quot;Albuquerque&quot;</td><td>&quot;NM&quot;</td><td>&quot;USA&quot;</td><td>35.04022</td><td>-106.60919</td><td>2015-12-31</td><td>&quot;ABQ_JFK&quot;</td><td>1.651315</td><td>3.166667</td><td>576.631579</td></tr><tr><td>2015</td><td>12</td><td>31</td><td>4</td><td>&quot;B6&quot;</td><td>688</td><td>&quot;N657JB&quot;</td><td>&quot;LAX&quot;</td><td>&quot;BOS&quot;</td><td>&quot;23:59&quot;</td><td>&quot;23:55&quot;</td><td>-4</td><td>22</td><td>17</td><td>320</td><td>298</td><td>272</td><td>2611</td><td>749</td><td>4</td><td>819</td><td>753</td><td>-26</td><td>0</td><td>0</td><td>&quot;0&quot;</td><td>0</td><td>0</td><td>0</td><td>0</td><td>0</td><td>&quot;Los Angeles In…</td><td>&quot;Los Angeles&quot;</td><td>&quot;CA&quot;</td><td>&quot;USA&quot;</td><td>33.94254</td><td>-118.40807</td><td>2015-12-31</td><td>&quot;LAX_BOS&quot;</td><td>2.942892</td><td>4.533333</td><td>575.955882</td></tr><tr><td>2015</td><td>12</td><td>31</td><td>4</td><td>&quot;B6&quot;</td><td>745</td><td>&quot;N828JB&quot;</td><td>&quot;JFK&quot;</td><td>&quot;PSE&quot;</td><td>&quot;23:59&quot;</td><td>&quot;23:55&quot;</td><td>-4</td><td>17</td><td>12</td><td>227</td><td>215</td><td>195</td><td>1617</td><td>427</td><td>3</td><td>446</td><td>430</td><td>-16</td><td>0</td><td>0</td><td>&quot;0&quot;</td><td>0</td><td>0</td><td>0</td><td>0</td><td>0</td><td>&quot;John F. Kenned…</td><td>&quot;New York&quot;</td><td>&quot;NY&quot;</td><td>&quot;USA&quot;</td><td>40.63975</td><td>-73.77893</td><td>2015-12-31</td><td>&quot;JFK_PSE&quot;</td><td>1.307443</td><td>3.25</td><td>497.538462</td></tr><tr><td>2015</td><td>12</td><td>31</td><td>4</td><td>&quot;B6&quot;</td><td>1503</td><td>&quot;N913JB&quot;</td><td>&quot;JFK&quot;</td><td>&quot;SJU&quot;</td><td>&quot;23:59&quot;</td><td>&quot;23:50&quot;</td><td>-9</td><td>17</td><td>7</td><td>221</td><td>222</td><td>197</td><td>1598</td><td>424</td><td>8</td><td>440</td><td>432</td><td>-8</td><td>0</td><td>0</td><td>&quot;0&quot;</td><td>0</td><td>0</td><td>0</td><td>0</td><td>0</td><td>&quot;John F. Kenned…</td><td>&quot;New York&quot;</td><td>&quot;NY&quot;</td><td>&quot;USA&quot;</td><td>40.63975</td><td>-73.77893</td><td>2015-12-31</td><td>&quot;JFK_SJU&quot;</td><td>1.276182</td><td>3.283333</td><td>486.700508</td></tr><tr><td>2015</td><td>12</td><td>31</td><td>4</td><td>&quot;B6&quot;</td><td>333</td><td>&quot;N527JB&quot;</td><td>&quot;MCO&quot;</td><td>&quot;SJU&quot;</td><td>&quot;23:59&quot;</td><td>&quot;23:53&quot;</td><td>-6</td><td>10</td><td>3</td><td>161</td><td>157</td><td>144</td><td>1189</td><td>327</td><td>3</td><td>340</td><td>330</td><td>-10</td><td>0</td><td>0</td><td>&quot;0&quot;</td><td>0</td><td>0</td><td>0</td><td>0</td><td>0</td><td>&quot;Orlando Intern…</td><td>&quot;Orlando&quot;</td><td>&quot;FL&quot;</td><td>&quot;USA&quot;</td><td>28.42889</td><td>-81.31603</td><td>2015-12-31</td><td>&quot;MCO_SJU&quot;</td><td>0.603246</td><td>2.4</td><td>495.416667</td></tr><tr><td>2015</td><td>12</td><td>31</td><td>4</td><td>&quot;B6&quot;</td><td>839</td><td>&quot;N534JB&quot;</td><td>&quot;JFK&quot;</td><td>&quot;BQN&quot;</td><td>&quot;23:59&quot;</td><td>&quot;00:14&quot;</td><td>15</td><td>14</td><td>28</td><td>221</td><td>208</td><td>189</td><td>1576</td><td>437</td><td>5</td><td>440</td><td>442</td><td>2</td><td>0</td><td>0</td><td>&quot;0&quot;</td><td>0</td><td>0</td><td>0</td><td>0</td><td>0</td><td>&quot;John F. Kenned…</td><td>&quot;New York&quot;</td><td>&quot;NY&quot;</td><td>&quot;USA&quot;</td><td>40.63975</td><td>-73.77893</td><td>2015-12-31</td><td>&quot;JFK_BQN&quot;</td><td>1.239985</td><td>3.15</td><td>500.31746</td></tr></tbody></table></div>"
      ],
      "text/plain": [
       "shape: (5_819_079, 42)\n",
       "┌──────┬───────┬─────┬─────────────┬───┬─────────┬──────────────────┬──────────┬────────────┐\n",
       "│ YEAR ┆ MONTH ┆ DAY ┆ DAY_OF_WEEK ┆ … ┆ ROUTE   ┆ z_score_distance ┆ airtimeH ┆ speedkmh   │\n",
       "│ ---  ┆ ---   ┆ --- ┆ ---         ┆   ┆ ---     ┆ ---              ┆ ---      ┆ ---        │\n",
       "│ i64  ┆ i64   ┆ i64 ┆ i64         ┆   ┆ str     ┆ f64              ┆ f64      ┆ f64        │\n",
       "╞══════╪═══════╪═════╪═════════════╪═══╪═════════╪══════════════════╪══════════╪════════════╡\n",
       "│ 2015 ┆ 1     ┆ 1   ┆ 4           ┆ … ┆ ANC_SEA ┆ 1.029384         ┆ 2.816667 ┆ 514.08284  │\n",
       "│ 2015 ┆ 1     ┆ 1   ┆ 4           ┆ … ┆ LAX_PBI ┆ 2.480557         ┆ 4.383333 ┆ 531.558935 │\n",
       "│ 2015 ┆ 1     ┆ 1   ┆ 4           ┆ … ┆ SFO_CLT ┆ 2.424616         ┆ 4.433333 ┆ 517.894737 │\n",
       "│ 2015 ┆ 1     ┆ 1   ┆ 4           ┆ … ┆ LAX_MIA ┆ 2.500301         ┆ 4.3      ┆ 544.651163 │\n",
       "│ …    ┆ …     ┆ …   ┆ …           ┆ … ┆ …       ┆ …                ┆ …        ┆ …          │\n",
       "│ 2015 ┆ 12    ┆ 31  ┆ 4           ┆ … ┆ JFK_PSE ┆ 1.307443         ┆ 3.25     ┆ 497.538462 │\n",
       "│ 2015 ┆ 12    ┆ 31  ┆ 4           ┆ … ┆ JFK_SJU ┆ 1.276182         ┆ 3.283333 ┆ 486.700508 │\n",
       "│ 2015 ┆ 12    ┆ 31  ┆ 4           ┆ … ┆ MCO_SJU ┆ 0.603246         ┆ 2.4      ┆ 495.416667 │\n",
       "│ 2015 ┆ 12    ┆ 31  ┆ 4           ┆ … ┆ JFK_BQN ┆ 1.239985         ┆ 3.15     ┆ 500.31746  │\n",
       "└──────┴───────┴─────┴─────────────┴───┴─────────┴──────────────────┴──────────┴────────────┘"
      ]
     },
     "execution_count": 445,
     "metadata": {},
     "output_type": "execute_result"
    }
   ],
   "source": [
    "data_3 = data_2.with_columns(speedkmh = pl.col('DISTANCE')/pl.col('airtimeH'))\n",
    "data_3"
   ]
  }
 ],
 "metadata": {
  "kernelspec": {
   "display_name": "Python 3 (ipykernel)",
   "language": "python",
   "name": "python3"
  },
  "language_info": {
   "codemirror_mode": {
    "name": "ipython",
    "version": 3
   },
   "file_extension": ".py",
   "mimetype": "text/x-python",
   "name": "python",
   "nbconvert_exporter": "python",
   "pygments_lexer": "ipython3",
   "version": "3.9.12"
  }
 },
 "nbformat": 4,
 "nbformat_minor": 5
}
